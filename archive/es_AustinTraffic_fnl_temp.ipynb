{
 "cells": [
  {
   "cell_type": "markdown",
   "metadata": {},
   "source": [
    "# AustinTrafficPy\n",
    "\n",
    "## Team5_And_Dime (MWSa)\n",
    "\n",
    "* Andry Dominguez\n",
    "* Tony Jones\n",
    "* Brian Stoller\n",
    "* Ali Apil\n",
    "* Eric Staveley\n",
    "\n",
    "Tasks managed at:  \n",
    "https://trello.com/b/MadPBixY/trafficpy-team5\n",
    "\n",
    "### Hypothesis\n",
    "Day of the week or hours of daylight (mood) have a significant influence on vehicle accident rates.\n",
    "\n",
    "\n",
    "### Null Hypothesis\n",
    "The only significant contributing factor to vehicle accident rate is congestion.\n",
    "\n",
    "#### Data Sources:\n",
    "* data.austintexas.gov  (Real Time Traffic Incident Data)  <narrowed down timeframe to 2018>\n",
    "* Could not find *free* historial weather data for 2018\n"
   ]
  },
  {
   "cell_type": "code",
   "execution_count": 1,
   "metadata": {},
   "outputs": [],
   "source": [
    "# !pip install plotly"
   ]
  },
  {
   "cell_type": "code",
   "execution_count": 2,
   "metadata": {
    "scrolled": true
   },
   "outputs": [],
   "source": [
    "# Dependencies and Setup\n",
    "import matplotlib.pyplot as plt\n",
    "import plotly as py\n",
    "import pandas as pd\n",
    "import numpy as np\n",
    "import requests\n",
    "import time\n",
    "import json\n",
    "import datetime\n",
    "import gmaps\n",
    "\n",
    "\n",
    "# import API keys as needed, incl Google developer\n",
    "from api_keys import gkey\n",
    "\n",
    "# Access maps with unique API key\n",
    "gmaps.configure(api_key=gkey)\n",
    "\n",
    "# Incorporated citipy to determine city based on latitude and longitude\n",
    "#from citipy import citipy\n",
    "\n",
    "# Output File (CSV)\n",
    "output_data_file = \"output_data/aus_traffic.csv\"\n",
    "\n",
    "#get current time\n",
    "now = datetime.datetime.now()\n"
   ]
  },
  {
   "cell_type": "markdown",
   "metadata": {},
   "source": [
    "#  Incidents ETL Starts Here"
   ]
  },
  {
   "cell_type": "code",
   "execution_count": 3,
   "metadata": {},
   "outputs": [
    {
     "name": "stdout",
     "output_type": "stream",
     "text": [
      "Raw data incident record count: 98324\n"
     ]
    },
    {
     "data": {
      "text/html": [
       "<div>\n",
       "<style scoped>\n",
       "    .dataframe tbody tr th:only-of-type {\n",
       "        vertical-align: middle;\n",
       "    }\n",
       "\n",
       "    .dataframe tbody tr th {\n",
       "        vertical-align: top;\n",
       "    }\n",
       "\n",
       "    .dataframe thead th {\n",
       "        text-align: right;\n",
       "    }\n",
       "</style>\n",
       "<table border=\"1\" class=\"dataframe\">\n",
       "  <thead>\n",
       "    <tr style=\"text-align: right;\">\n",
       "      <th></th>\n",
       "      <th>Traffic Report ID</th>\n",
       "      <th>Published Date</th>\n",
       "      <th>Issue Reported</th>\n",
       "      <th>Location</th>\n",
       "      <th>Latitude</th>\n",
       "      <th>Longitude</th>\n",
       "      <th>Address</th>\n",
       "      <th>Status</th>\n",
       "      <th>Status Date</th>\n",
       "    </tr>\n",
       "  </thead>\n",
       "  <tbody>\n",
       "    <tr>\n",
       "      <th>0</th>\n",
       "      <td>C163BCD1CF90C984E9EDA4DBA311BCA369A7D1A1_15288...</td>\n",
       "      <td>06/13/2018 06:35:59 AM +0000</td>\n",
       "      <td>Crash Service</td>\n",
       "      <td>(30.283797,-97.741906)</td>\n",
       "      <td>30.283797</td>\n",
       "      <td>-97.741906</td>\n",
       "      <td>W 21ST ST &amp; GUADALUPE ST</td>\n",
       "      <td>ARCHIVED</td>\n",
       "      <td>06/13/2018 09:00:03 AM +0000</td>\n",
       "    </tr>\n",
       "    <tr>\n",
       "      <th>1</th>\n",
       "      <td>2664C206999E7419517EE39E177797576A52201B_15381...</td>\n",
       "      <td>09/29/2018 12:52:58 AM +0000</td>\n",
       "      <td>Traffic Hazard</td>\n",
       "      <td>(30.380525,-97.737873)</td>\n",
       "      <td>30.380525</td>\n",
       "      <td>-97.737873</td>\n",
       "      <td>0 Mopac Sb To Research Sb Ramp</td>\n",
       "      <td>ARCHIVED</td>\n",
       "      <td>09/29/2018 01:35:03 AM +0000</td>\n",
       "    </tr>\n",
       "    <tr>\n",
       "      <th>2</th>\n",
       "      <td>5BB246A3223A89C7FB9B2EED9A2EBDA82141406D_15438...</td>\n",
       "      <td>12/03/2018 05:49:02 PM +0000</td>\n",
       "      <td>Crash Service</td>\n",
       "      <td>(30.278372,-97.671971)</td>\n",
       "      <td>30.278372</td>\n",
       "      <td>-97.671971</td>\n",
       "      <td>5800 Techni Center Dr</td>\n",
       "      <td>ARCHIVED</td>\n",
       "      <td>12/03/2018 06:30:03 PM +0000</td>\n",
       "    </tr>\n",
       "    <tr>\n",
       "      <th>3</th>\n",
       "      <td>6B20382196FB454E9FD06A33E60142902A2F0706_15288...</td>\n",
       "      <td>06/13/2018 10:15:36 AM +0000</td>\n",
       "      <td>Traffic Hazard</td>\n",
       "      <td>(30.339593,-97.700963)</td>\n",
       "      <td>30.339593</td>\n",
       "      <td>-97.700963</td>\n",
       "      <td>400-717 E ANDERSON LN EB</td>\n",
       "      <td>ARCHIVED</td>\n",
       "      <td>06/13/2018 11:20:03 AM +0000</td>\n",
       "    </tr>\n",
       "    <tr>\n",
       "      <th>4</th>\n",
       "      <td>7FD2528A7609AAECB6AF825AC275F98CFDFFF8AD_15382...</td>\n",
       "      <td>09/29/2018 12:47:30 PM +0000</td>\n",
       "      <td>Traffic Hazard</td>\n",
       "      <td>(30.281659,-97.728551)</td>\n",
       "      <td>30.281659</td>\n",
       "      <td>-97.728551</td>\n",
       "      <td>0 N Ih 35 Ud Sb To Mlk Ramp</td>\n",
       "      <td>ARCHIVED</td>\n",
       "      <td>09/29/2018 01:00:03 PM +0000</td>\n",
       "    </tr>\n",
       "  </tbody>\n",
       "</table>\n",
       "</div>"
      ],
      "text/plain": [
       "                                   Traffic Report ID  \\\n",
       "0  C163BCD1CF90C984E9EDA4DBA311BCA369A7D1A1_15288...   \n",
       "1  2664C206999E7419517EE39E177797576A52201B_15381...   \n",
       "2  5BB246A3223A89C7FB9B2EED9A2EBDA82141406D_15438...   \n",
       "3  6B20382196FB454E9FD06A33E60142902A2F0706_15288...   \n",
       "4  7FD2528A7609AAECB6AF825AC275F98CFDFFF8AD_15382...   \n",
       "\n",
       "                 Published Date  Issue Reported                Location  \\\n",
       "0  06/13/2018 06:35:59 AM +0000   Crash Service  (30.283797,-97.741906)   \n",
       "1  09/29/2018 12:52:58 AM +0000  Traffic Hazard  (30.380525,-97.737873)   \n",
       "2  12/03/2018 05:49:02 PM +0000   Crash Service  (30.278372,-97.671971)   \n",
       "3  06/13/2018 10:15:36 AM +0000  Traffic Hazard  (30.339593,-97.700963)   \n",
       "4  09/29/2018 12:47:30 PM +0000  Traffic Hazard  (30.281659,-97.728551)   \n",
       "\n",
       "    Latitude  Longitude                         Address    Status  \\\n",
       "0  30.283797 -97.741906        W 21ST ST & GUADALUPE ST  ARCHIVED   \n",
       "1  30.380525 -97.737873  0 Mopac Sb To Research Sb Ramp  ARCHIVED   \n",
       "2  30.278372 -97.671971           5800 Techni Center Dr  ARCHIVED   \n",
       "3  30.339593 -97.700963        400-717 E ANDERSON LN EB  ARCHIVED   \n",
       "4  30.281659 -97.728551     0 N Ih 35 Ud Sb To Mlk Ramp  ARCHIVED   \n",
       "\n",
       "                    Status Date  \n",
       "0  06/13/2018 09:00:03 AM +0000  \n",
       "1  09/29/2018 01:35:03 AM +0000  \n",
       "2  12/03/2018 06:30:03 PM +0000  \n",
       "3  06/13/2018 11:20:03 AM +0000  \n",
       "4  09/29/2018 01:00:03 PM +0000  "
      ]
     },
     "execution_count": 3,
     "metadata": {},
     "output_type": "execute_result"
    }
   ],
   "source": [
    "#csv method...since we could get a larger dataset\n",
    "data_file = \"Resources/Real-Time_Traffic_Incident_Reports.csv\"\n",
    "\n",
    "#construct the df\n",
    "df_from_csv = pd.read_csv(data_file)\n",
    "print(f\"Raw data incident record count: {len(df_from_csv)}\")\n",
    "df_from_csv.head()"
   ]
  },
  {
   "cell_type": "code",
   "execution_count": 4,
   "metadata": {},
   "outputs": [
    {
     "name": "stdout",
     "output_type": "stream",
     "text": [
      "Non-NA values per column:\n",
      "Traffic Report ID    98324\n",
      "Published Date       98324\n",
      "Issue Reported       98324\n",
      "Location             98045\n",
      "Latitude             98245\n",
      "Longitude            98245\n",
      "Address              98324\n",
      "Status               96631\n",
      "Status Date          98324\n",
      "dtype: int64\n",
      "Total of rows with complete data now: 96358\n",
      "Removing invalid longitude and latitude...\n",
      "Total number of rows with valid lat/long data: 96352\n"
     ]
    },
    {
     "data": {
      "text/plain": [
       "Traffic Report ID     object\n",
       "Published Date        object\n",
       "Issue Reported        object\n",
       "Location              object\n",
       "Latitude             float64\n",
       "Longitude            float64\n",
       "Address               object\n",
       "Status                object\n",
       "Status Date           object\n",
       "dtype: object"
      ]
     },
     "execution_count": 4,
     "metadata": {},
     "output_type": "execute_result"
    }
   ],
   "source": [
    "#clean up the data in incident df\n",
    "\n",
    "#get rid of the NaNs found in Location\n",
    "#19\t9BD7909EA32C89F68E82ED0CBE1F30A2E1D72B1C_15323...\t07/23/2018 09:39:17 PM +0000\tzSTALLED VEHICLE\tNaN\t0.000000\t0.000000\t3339 W BRAKER LN\tARCHIVED\t07/23/2018 10:15:02 PM +0000\n",
    "\n",
    "print(f\"Non-NA values per column:\\n{df_from_csv.count()}\")   #show the non-NA cells for each field\n",
    "\n",
    "#remove the rows with any empty cells\n",
    "df_from_csv_clean = df_from_csv.dropna(how='any')\n",
    "\n",
    "print(f\"Total of rows with complete data now: {len(df_from_csv_clean)}\")\n",
    "\n",
    "print(\"Removing invalid longitude and latitude...\")\n",
    "#ensure lat and long are valid.  -90<=lat<=90     -180<=lon<=180\n",
    "#lat\n",
    "row_condition = df_from_csv_clean[\"Latitude\"] <= 90\n",
    "filtered_df = df_from_csv_clean.loc[row_condition]\n",
    "row_condition = filtered_df[\"Latitude\"] >= -90\n",
    "filtered_df = filtered_df.loc[row_condition]\n",
    "\n",
    "#long\n",
    "row_condition = filtered_df[\"Longitude\"] <= 180\n",
    "filtered_df = filtered_df.loc[row_condition]\n",
    "row_condition = filtered_df[\"Longitude\"] >= -180\n",
    "filtered_df = filtered_df.loc[row_condition]\n",
    "\n",
    "print(f\"Total number of rows with valid lat/long data: {len(filtered_df)}\")\n",
    "df_from_csv_clean = filtered_df   #re-assign filtered df back to our orig name\n",
    "\n",
    "df_from_csv_clean.dtypes"
   ]
  },
  {
   "cell_type": "code",
   "execution_count": 5,
   "metadata": {},
   "outputs": [
    {
     "data": {
      "text/plain": [
       "Traffic Report ID    96352\n",
       "Published Date       96352\n",
       "Issue Reported       96352\n",
       "Location             96352\n",
       "Latitude             96352\n",
       "Longitude            96352\n",
       "Address              96352\n",
       "Status               96352\n",
       "Status Date          96352\n",
       "dtype: int64"
      ]
     },
     "execution_count": 5,
     "metadata": {},
     "output_type": "execute_result"
    }
   ],
   "source": [
    "df_from_csv_clean.count() "
   ]
  },
  {
   "cell_type": "code",
   "execution_count": 6,
   "metadata": {},
   "outputs": [
    {
     "data": {
      "text/html": [
       "<div>\n",
       "<style scoped>\n",
       "    .dataframe tbody tr th:only-of-type {\n",
       "        vertical-align: middle;\n",
       "    }\n",
       "\n",
       "    .dataframe tbody tr th {\n",
       "        vertical-align: top;\n",
       "    }\n",
       "\n",
       "    .dataframe thead th {\n",
       "        text-align: right;\n",
       "    }\n",
       "</style>\n",
       "<table border=\"1\" class=\"dataframe\">\n",
       "  <thead>\n",
       "    <tr style=\"text-align: right;\">\n",
       "      <th></th>\n",
       "      <th>Traffic Report ID</th>\n",
       "      <th>Published Date</th>\n",
       "      <th>Issue Reported</th>\n",
       "      <th>Location</th>\n",
       "      <th>Latitude</th>\n",
       "      <th>Longitude</th>\n",
       "      <th>Address</th>\n",
       "      <th>Status</th>\n",
       "      <th>Status Date</th>\n",
       "    </tr>\n",
       "  </thead>\n",
       "  <tbody>\n",
       "    <tr>\n",
       "      <th>0</th>\n",
       "      <td>C163BCD1CF90C984E9EDA4DBA311BCA369A7D1A1_15288...</td>\n",
       "      <td>2018-06-13 06:35:59</td>\n",
       "      <td>Crash Service</td>\n",
       "      <td>(30.283797,-97.741906)</td>\n",
       "      <td>30.283797</td>\n",
       "      <td>-97.741906</td>\n",
       "      <td>W 21ST ST &amp; GUADALUPE ST</td>\n",
       "      <td>ARCHIVED</td>\n",
       "      <td>2018-06-13 09:00:03</td>\n",
       "    </tr>\n",
       "    <tr>\n",
       "      <th>1</th>\n",
       "      <td>2664C206999E7419517EE39E177797576A52201B_15381...</td>\n",
       "      <td>2018-09-29 00:52:58</td>\n",
       "      <td>Traffic Hazard</td>\n",
       "      <td>(30.380525,-97.737873)</td>\n",
       "      <td>30.380525</td>\n",
       "      <td>-97.737873</td>\n",
       "      <td>0 Mopac Sb To Research Sb Ramp</td>\n",
       "      <td>ARCHIVED</td>\n",
       "      <td>2018-09-29 01:35:03</td>\n",
       "    </tr>\n",
       "    <tr>\n",
       "      <th>2</th>\n",
       "      <td>5BB246A3223A89C7FB9B2EED9A2EBDA82141406D_15438...</td>\n",
       "      <td>2018-12-03 17:49:02</td>\n",
       "      <td>Crash Service</td>\n",
       "      <td>(30.278372,-97.671971)</td>\n",
       "      <td>30.278372</td>\n",
       "      <td>-97.671971</td>\n",
       "      <td>5800 Techni Center Dr</td>\n",
       "      <td>ARCHIVED</td>\n",
       "      <td>2018-12-03 18:30:03</td>\n",
       "    </tr>\n",
       "    <tr>\n",
       "      <th>3</th>\n",
       "      <td>6B20382196FB454E9FD06A33E60142902A2F0706_15288...</td>\n",
       "      <td>2018-06-13 10:15:36</td>\n",
       "      <td>Traffic Hazard</td>\n",
       "      <td>(30.339593,-97.700963)</td>\n",
       "      <td>30.339593</td>\n",
       "      <td>-97.700963</td>\n",
       "      <td>400-717 E ANDERSON LN EB</td>\n",
       "      <td>ARCHIVED</td>\n",
       "      <td>2018-06-13 11:20:03</td>\n",
       "    </tr>\n",
       "    <tr>\n",
       "      <th>4</th>\n",
       "      <td>7FD2528A7609AAECB6AF825AC275F98CFDFFF8AD_15382...</td>\n",
       "      <td>2018-09-29 12:47:30</td>\n",
       "      <td>Traffic Hazard</td>\n",
       "      <td>(30.281659,-97.728551)</td>\n",
       "      <td>30.281659</td>\n",
       "      <td>-97.728551</td>\n",
       "      <td>0 N Ih 35 Ud Sb To Mlk Ramp</td>\n",
       "      <td>ARCHIVED</td>\n",
       "      <td>2018-09-29 13:00:03</td>\n",
       "    </tr>\n",
       "  </tbody>\n",
       "</table>\n",
       "</div>"
      ],
      "text/plain": [
       "                                   Traffic Report ID      Published Date  \\\n",
       "0  C163BCD1CF90C984E9EDA4DBA311BCA369A7D1A1_15288... 2018-06-13 06:35:59   \n",
       "1  2664C206999E7419517EE39E177797576A52201B_15381... 2018-09-29 00:52:58   \n",
       "2  5BB246A3223A89C7FB9B2EED9A2EBDA82141406D_15438... 2018-12-03 17:49:02   \n",
       "3  6B20382196FB454E9FD06A33E60142902A2F0706_15288... 2018-06-13 10:15:36   \n",
       "4  7FD2528A7609AAECB6AF825AC275F98CFDFFF8AD_15382... 2018-09-29 12:47:30   \n",
       "\n",
       "   Issue Reported                Location   Latitude  Longitude  \\\n",
       "0   Crash Service  (30.283797,-97.741906)  30.283797 -97.741906   \n",
       "1  Traffic Hazard  (30.380525,-97.737873)  30.380525 -97.737873   \n",
       "2   Crash Service  (30.278372,-97.671971)  30.278372 -97.671971   \n",
       "3  Traffic Hazard  (30.339593,-97.700963)  30.339593 -97.700963   \n",
       "4  Traffic Hazard  (30.281659,-97.728551)  30.281659 -97.728551   \n",
       "\n",
       "                          Address    Status         Status Date  \n",
       "0        W 21ST ST & GUADALUPE ST  ARCHIVED 2018-06-13 09:00:03  \n",
       "1  0 Mopac Sb To Research Sb Ramp  ARCHIVED 2018-09-29 01:35:03  \n",
       "2           5800 Techni Center Dr  ARCHIVED 2018-12-03 18:30:03  \n",
       "3        400-717 E ANDERSON LN EB  ARCHIVED 2018-06-13 11:20:03  \n",
       "4     0 N Ih 35 Ud Sb To Mlk Ramp  ARCHIVED 2018-09-29 13:00:03  "
      ]
     },
     "execution_count": 6,
     "metadata": {},
     "output_type": "execute_result"
    }
   ],
   "source": [
    "#convert the date strings in the DF to valid datetime types\n",
    "df_from_csv_clean['Published Date'] =  pd.to_datetime(df_from_csv_clean['Published Date'])\n",
    "#df_from_csv_clean.head()\n",
    "df_from_csv_clean['Status Date'] =  pd.to_datetime(df_from_csv_clean['Status Date'])\n",
    "df_from_csv_clean.head()"
   ]
  },
  {
   "cell_type": "code",
   "execution_count": 7,
   "metadata": {},
   "outputs": [
    {
     "name": "stdout",
     "output_type": "stream",
     "text": [
      "Earliest date for incidents: 2017-09-26 16:11:00\n",
      "Latest date for incidents: 2019-03-06 02:37:18\n"
     ]
    },
    {
     "data": {
      "text/plain": [
       "Traffic Report ID            object\n",
       "Published Date       datetime64[ns]\n",
       "Issue Reported               object\n",
       "Location                     object\n",
       "Latitude                    float64\n",
       "Longitude                   float64\n",
       "Address                      object\n",
       "Status                       object\n",
       "Status Date          datetime64[ns]\n",
       "dtype: object"
      ]
     },
     "execution_count": 7,
     "metadata": {},
     "output_type": "execute_result"
    }
   ],
   "source": [
    "#peek at the earliest and latest incident date in our DF\n",
    "earliest_date = min(df_from_csv_clean[\"Published Date\"])\n",
    "print(f\"Earliest date for incidents: {earliest_date}\")\n",
    "latest_date = max(df_from_csv_clean[\"Published Date\"])\n",
    "print(f\"Latest date for incidents: {latest_date}\")\n",
    "type(latest_date)     #confirm the type\n",
    "\n",
    "df_from_csv_clean.dtypes\n"
   ]
  },
  {
   "cell_type": "code",
   "execution_count": 8,
   "metadata": {},
   "outputs": [
    {
     "name": "stdout",
     "output_type": "stream",
     "text": [
      "Total number of rows with 2018 incident data  68244\n",
      "Earliest date: 2018-01-01 00:07:00\n",
      "Latest date: 2018-12-31 23:41:17\n"
     ]
    }
   ],
   "source": [
    "#use only 2018 data now\n",
    "#keep only 2018 data\n",
    "row_condition = df_from_csv_clean[\"Published Date\"] <= \"2018-12-31 23:59:59\"\n",
    "filtered_df = df_from_csv_clean.loc[row_condition]\n",
    "row_condition = filtered_df[\"Published Date\"] >= \"2018-01-01 00:00:01\"\n",
    "filtered_df = filtered_df.loc[row_condition]\n",
    "\n",
    "print(f\"Total number of rows with 2018 incident data  {len(filtered_df)}\")\n",
    "\n",
    "earliest_date = min(filtered_df[\"Published Date\"])\n",
    "print(f\"Earliest date: {earliest_date}\")\n",
    "latest_date = max(filtered_df[\"Published Date\"])\n",
    "print(f\"Latest date: {latest_date}\")\n",
    "\n",
    "df_from_csv_clean = filtered_df   #re-assign filtered df back to our orig name"
   ]
  },
  {
   "cell_type": "code",
   "execution_count": 9,
   "metadata": {},
   "outputs": [
    {
     "data": {
      "text/plain": [
       "Traffic Hazard                20272\n",
       "Crash Urgent                  15411\n",
       "Crash Service                 11343\n",
       "COLLISION                      4793\n",
       "Traffic Impediment             4745\n",
       "TRFC HAZD/ DEBRIS              4060\n",
       "zSTALLED VEHICLE               3008\n",
       "COLLISION WITH INJURY          1573\n",
       "LOOSE LIVESTOCK                1471\n",
       "COLLISN/ LVNG SCN              1000\n",
       "COLLISION/PRIVATE PROPERTY      250\n",
       "VEHICLE FIRE                    145\n",
       "BLOCKED DRIV/ HWY                93\n",
       "ICY ROADWAY                      21\n",
       "BOAT ACCIDENT                    20\n",
       "AUTO/ PED                        15\n",
       "TRAFFIC FATALITY                 11\n",
       "FLEET ACC/ INJURY                 9\n",
       "N / HZRD TRFC VIOL                2\n",
       "COLLISN / FTSRA                   1\n",
       "HIGH WATER                        1\n",
       "Name: Issue Reported, dtype: int64"
      ]
     },
     "execution_count": 9,
     "metadata": {},
     "output_type": "execute_result"
    }
   ],
   "source": [
    "#look at types of accidents and counts\n",
    "df_from_csv_clean[\"Issue Reported\"].value_counts()"
   ]
  },
  {
   "cell_type": "code",
   "execution_count": 10,
   "metadata": {},
   "outputs": [
    {
     "name": "stdout",
     "output_type": "stream",
     "text": [
      "TRAFFIC HAZARD                20272\n",
      "CRASH URGENT                  15411\n",
      "CRASH SERVICE                 11343\n",
      "COLLISION                      4793\n",
      "TRAFFIC IMPEDIMENT             4745\n",
      "TRFC HAZD/ DEBRIS              4060\n",
      "STALLED VEHICLE                3008\n",
      "COLLISION WITH INJURY          1573\n",
      "LOOSE LIVESTOCK                1471\n",
      "COLLISN/ LVNG SCN              1000\n",
      "COLLISION/PRIVATE PROPERTY      250\n",
      "VEHICLE FIRE                    145\n",
      "OTHER                           142\n",
      "BOAT ACCIDENT                    20\n",
      "TRAFFIC FATALITY                 11\n",
      "Name: Issue Reported, dtype: int64\n"
     ]
    }
   ],
   "source": [
    "#clean up col names,  and make \"Other\" from bott group\n",
    "renamed_df = df_from_csv_clean.replace({\"HIGH WATER\" : \"OTHER\", \"COLLISN / FTSRA\":\"OTHER\", \"N / HZRD TRFC VIOL\":\"OTHER\",\"FLEET ACC/ INJURY\":\"OTHER\" , \"AUTO/ PED\" : \"OTHER\", \"BOAT ACIDENT\":\"OTHER\", \"ICY ROADWAY\":\"OTHER\",\"BLOCKED DRIV/ HWY\":\"OTHER\" })\n",
    "df_from_csv_clean = renamed_df.replace({\"zSTALLED VEHICLE\" : \"STALLED VEHICLE\", \"Traffic Hazard\":\"TRAFFIC HAZARD\", \"Crash Urgent\":\"CRASH URGENT\", \"Crash Service\":\"CRASH SERVICE\", \"Traffic Impediment\":\"TRAFFIC IMPEDIMENT\"  })\n",
    "\n",
    "filtered_df = df_from_csv_clean\n",
    "\n",
    "#Verify cleanup\n",
    "df_from_csv_clean[\"Issue Reported\"].value_counts()\n",
    "x= df_from_csv_clean[\"Issue Reported\"].value_counts()\n",
    "print(x)\n",
    "#x[0]\n",
    "#x[1]\n",
    "#we now will dive into \n",
    "#'Crash Urgent', 'Crash Service', 'COLLISION', 'COLLISION WITH INJURY', 'COLLISN/ LVNG SCN', 'COLLISION/Private Property', 'TRAFFIC FATALITY')\n",
    "#print(f\"Total number of rows with 2018 data  {len(renamed_df)}\")"
   ]
  },
  {
   "cell_type": "code",
   "execution_count": 11,
   "metadata": {
    "scrolled": false
   },
   "outputs": [
    {
     "data": {
      "text/plain": [
       "([<matplotlib.patches.Wedge at 0x125570a58>,\n",
       "  <matplotlib.patches.Wedge at 0x12554c438>,\n",
       "  <matplotlib.patches.Wedge at 0x12554cdd8>,\n",
       "  <matplotlib.patches.Wedge at 0x1255587b8>,\n",
       "  <matplotlib.patches.Wedge at 0x125561198>,\n",
       "  <matplotlib.patches.Wedge at 0x125561b38>,\n",
       "  <matplotlib.patches.Wedge at 0x12565d518>,\n",
       "  <matplotlib.patches.Wedge at 0x12565deb8>,\n",
       "  <matplotlib.patches.Wedge at 0x125655898>,\n",
       "  <matplotlib.patches.Wedge at 0x12564b278>,\n",
       "  <matplotlib.patches.Wedge at 0x12564bc18>,\n",
       "  <matplotlib.patches.Wedge at 0x1256685f8>,\n",
       "  <matplotlib.patches.Wedge at 0x125668f98>,\n",
       "  <matplotlib.patches.Wedge at 0x125672978>,\n",
       "  <matplotlib.patches.Wedge at 0x12567c358>],\n",
       " [Text(-1.166993757679846, -0.2795095160030753, 'TRAFFIC HAZARD'),\n",
       "  Text(0.33236167117831206, -1.0485874877813295, 'CRASH URGENT'),\n",
       "  Text(1.0994283816649344, -0.03545748989457086, 'CRASH SERVICE'),\n",
       "  Text(0.833784658529942, 0.7174978349793873, 'COLLISION'),\n",
       "  Text(0.4496821428952587, 1.003885436870726, 'TRAFFIC IMPEDIMENT'),\n",
       "  Text(0.017385122560072123, 1.099862608471427, 'TRFC HAZD/ DEBRIS'),\n",
       "  Text(-0.33511192650765453, 1.0477117908625104, 'STALLED VEHICLE'),\n",
       "  Text(-0.5470005370705541, 0.954353400184924, 'COLLISION WITH INJURY'),\n",
       "  Text(-0.6749347486261855, 0.8685983450921996, 'LOOSE LIVESTOCK'),\n",
       "  Text(-0.7691644603631715, 0.7863752494288151, 'COLLISN/ LVNG SCN'),\n",
       "  Text(-0.8131170926017822, 0.7408377647763542, 'COLLISION/PRIVATE PROPERTY'),\n",
       "  Text(-0.826453105280294, 0.7259306198064382, 'VEHICLE FIRE'),\n",
       "  Text(-0.8359716634535844, 0.7149485141621369, 'OTHER'),\n",
       "  Text(-0.8412801838023155, 0.7086943292714727, 'BOAT ACCIDENT'),\n",
       "  Text(-0.8422906874369673, 0.7074930373204822, 'TRAFFIC FATALITY')],\n",
       " [Text(-0.6807463586465767, -0.16304721766846053, '29.7%'),\n",
       "  Text(0.1812881842790793, -0.5719568115170887, '22.6%'),\n",
       "  Text(0.5996882081808732, -0.019340449033402284, '16.6%'),\n",
       "  Text(0.4547916319254228, 0.3913624554433021, '7.0%'),\n",
       "  Text(0.24528116885195927, 0.5475738746567596, '7.0%'),\n",
       "  Text(0.009482794123675703, 0.5999250591662328, '5.9%'),\n",
       "  Text(-0.18278832354962973, 0.5714791586522783, '4.4%'),\n",
       "  Text(-0.29836392931121125, 0.5205564001008676, '2.3%'),\n",
       "  Text(-0.3681462265233739, 0.4737809155048361, '2.2%'),\n",
       "  Text(-0.4195442511071844, 0.42893195423389907, '1.5%'),\n",
       "  Text(-0.4435184141464266, 0.4040933262416477, '0.4%'),\n",
       "  Text(-0.4507926028801603, 0.3959621562580572, '0.2%'),\n",
       "  Text(-0.45598454370195507, 0.389971916815711, '0.2%'),\n",
       "  Text(-0.4588801002558084, 0.38656054323898503, '0.0%'),\n",
       "  Text(-0.45943128405652756, 0.3859052930838993, '0.0%')])"
      ]
     },
     "execution_count": 11,
     "metadata": {},
     "output_type": "execute_result"
    },
    {
     "data": {
      "image/png": "[encoded data removed]",
      "text/plain": [
       "<Figure size 432x288 with 1 Axes>"
      ]
     },
     "metadata": {},
     "output_type": "display_data"
    }
   ],
   "source": [
    "#type(x)\n",
    "#print(x[0])\n",
    "#print(x)\n",
    "#print(x.index)\n",
    "#type(x.index)\n",
    " \n",
    "labels = df_from_csv_clean['Issue Reported'].value_counts().index\n",
    "values = df_from_csv_clean['Issue Reported'].value_counts().values\n",
    "colors = [\"red\", \"orange\", \"lightcoral\", \"lightskyblue\", \"navy\", \"plum\", \"grey\", \"brown\", \"aqua\", \"indigo\", \"crimson\", \"dimgray\", \"silver\", \"orange\", \"lightcoral\"]\n",
    "explode = (0.1, 0, 0, 0, 0, 0, 0,0, 0, 0,0, 0, 0,0, 0, )\n",
    "plt.axis(\"equal\")\n",
    "#plt.legend(labels=labels)\n",
    "\n",
    "plt.pie(values, explode=explode, labels=labels, colors=colors,\n",
    "        autopct=\"%1.1f%%\", shadow=True, startangle=140)"
   ]
  },
  {
   "cell_type": "code",
   "execution_count": 12,
   "metadata": {},
   "outputs": [],
   "source": [
    "# code to take the lat and long and make a list for gmap\n",
    "\n",
    "aus_lat = df_from_csv_clean[\"Latitude\"]    #series\n",
    "aus_long = df_from_csv_clean[\"Longitude\"]    #series\n",
    "\n",
    "aus_lat_subset = aus_lat.head(1000)   #make a subset to test\n",
    "aus_long_subset = aus_long.head(1000)  # make a subset to test\n",
    "\n",
    "#using zip function to zip the lat and long together to a list with each element being a tuple\n",
    "aus_lat_long_list_subset = list(zip(aus_lat_subset, aus_long_subset))\n",
    "aus_lat_long_list = list(zip(aus_lat, aus_long))\n",
    "\n",
    "#print(aus_lat_long_list_subset)\n",
    "#type(aus_lat_long_list_subset[0])    #each element is a tuple...yay!"
   ]
  },
  {
   "cell_type": "code",
   "execution_count": 13,
   "metadata": {},
   "outputs": [],
   "source": [
    "# Customize the size of the figure      was   400 x 300\n",
    "figure_layout = {\n",
    "    'width': '800px',\n",
    "    'height': '600px',\n",
    "    'border': '1px solid black',\n",
    "    'padding': '1px',\n",
    "    'margin': '0 auto 0 auto'\n",
    "}\n",
    "fig = gmaps.figure(layout=figure_layout)"
   ]
  },
  {
   "cell_type": "code",
   "execution_count": 14,
   "metadata": {},
   "outputs": [
    {
     "data": {
      "application/vnd.jupyter.widget-view+json": {
       "model_id": "9ec50c8bd7d543a0accb9b41000b30a7",
       "version_major": 2,
       "version_minor": 0
      },
      "text/plain": [
       "Figure(layout=FigureLayout(border='1px solid black', height='600px', margin='0 auto 0 auto', padding='1px', wi…"
      ]
     },
     "metadata": {},
     "output_type": "display_data"
    }
   ],
   "source": [
    "# Assign the marker layer to a variable  ..      DOING THE SUBSET HERE... TAKES ABOUT 10sec  \n",
    "\n",
    "#help(gmaps.marker_layer)\n",
    "\n",
    "markers = gmaps.marker_layer(aus_lat_long_list_subset)\n",
    "# Add the layer to the map\n",
    "fig.add_layer(markers)\n",
    "fig"
   ]
  },
  {
   "cell_type": "markdown",
   "metadata": {},
   "source": [
    "## Weather ETL Begins Here"
   ]
  },
  {
   "cell_type": "code",
   "execution_count": 15,
   "metadata": {},
   "outputs": [
    {
     "name": "stdout",
     "output_type": "stream",
     "text": [
      "Raw data weather record count: 22765\n"
     ]
    },
    {
     "data": {
      "text/html": [
       "<div>\n",
       "<style scoped>\n",
       "    .dataframe tbody tr th:only-of-type {\n",
       "        vertical-align: middle;\n",
       "    }\n",
       "\n",
       "    .dataframe tbody tr th {\n",
       "        vertical-align: top;\n",
       "    }\n",
       "\n",
       "    .dataframe thead th {\n",
       "        text-align: right;\n",
       "    }\n",
       "</style>\n",
       "<table border=\"1\" class=\"dataframe\">\n",
       "  <thead>\n",
       "    <tr style=\"text-align: right;\">\n",
       "      <th></th>\n",
       "      <th>dt</th>\n",
       "      <th>dt_iso</th>\n",
       "      <th>city_id</th>\n",
       "      <th>city_name</th>\n",
       "      <th>lat</th>\n",
       "      <th>lon</th>\n",
       "      <th>temp</th>\n",
       "      <th>temp_min</th>\n",
       "      <th>temp_max</th>\n",
       "      <th>pressure</th>\n",
       "      <th>...</th>\n",
       "      <th>rain_today</th>\n",
       "      <th>snow_1h</th>\n",
       "      <th>snow_3h</th>\n",
       "      <th>snow_24h</th>\n",
       "      <th>snow_today</th>\n",
       "      <th>clouds_all</th>\n",
       "      <th>weather_id</th>\n",
       "      <th>weather_main</th>\n",
       "      <th>weather_description</th>\n",
       "      <th>weather_icon</th>\n",
       "    </tr>\n",
       "  </thead>\n",
       "  <tbody>\n",
       "    <tr>\n",
       "      <th>0</th>\n",
       "      <td>1483228800</td>\n",
       "      <td>2017-01-01 00:00:00 +0000 UTC</td>\n",
       "      <td>4671654</td>\n",
       "      <td>NaN</td>\n",
       "      <td>NaN</td>\n",
       "      <td>NaN</td>\n",
       "      <td>295.16</td>\n",
       "      <td>293.15</td>\n",
       "      <td>297.15</td>\n",
       "      <td>1008</td>\n",
       "      <td>...</td>\n",
       "      <td>NaN</td>\n",
       "      <td>NaN</td>\n",
       "      <td>NaN</td>\n",
       "      <td>NaN</td>\n",
       "      <td>NaN</td>\n",
       "      <td>1</td>\n",
       "      <td>800</td>\n",
       "      <td>Clear</td>\n",
       "      <td>sky is clear</td>\n",
       "      <td>01n</td>\n",
       "    </tr>\n",
       "    <tr>\n",
       "      <th>1</th>\n",
       "      <td>1483232400</td>\n",
       "      <td>2017-01-01 01:00:00 +0000 UTC</td>\n",
       "      <td>4671654</td>\n",
       "      <td>NaN</td>\n",
       "      <td>NaN</td>\n",
       "      <td>NaN</td>\n",
       "      <td>293.30</td>\n",
       "      <td>292.15</td>\n",
       "      <td>295.15</td>\n",
       "      <td>1008</td>\n",
       "      <td>...</td>\n",
       "      <td>NaN</td>\n",
       "      <td>NaN</td>\n",
       "      <td>NaN</td>\n",
       "      <td>NaN</td>\n",
       "      <td>NaN</td>\n",
       "      <td>90</td>\n",
       "      <td>804</td>\n",
       "      <td>Clouds</td>\n",
       "      <td>overcast clouds</td>\n",
       "      <td>04n</td>\n",
       "    </tr>\n",
       "    <tr>\n",
       "      <th>2</th>\n",
       "      <td>1483236000</td>\n",
       "      <td>2017-01-01 02:00:00 +0000 UTC</td>\n",
       "      <td>4671654</td>\n",
       "      <td>NaN</td>\n",
       "      <td>NaN</td>\n",
       "      <td>NaN</td>\n",
       "      <td>291.14</td>\n",
       "      <td>290.15</td>\n",
       "      <td>292.15</td>\n",
       "      <td>1010</td>\n",
       "      <td>...</td>\n",
       "      <td>NaN</td>\n",
       "      <td>NaN</td>\n",
       "      <td>NaN</td>\n",
       "      <td>NaN</td>\n",
       "      <td>NaN</td>\n",
       "      <td>20</td>\n",
       "      <td>801</td>\n",
       "      <td>Clouds</td>\n",
       "      <td>few clouds</td>\n",
       "      <td>02n</td>\n",
       "    </tr>\n",
       "    <tr>\n",
       "      <th>3</th>\n",
       "      <td>1483239600</td>\n",
       "      <td>2017-01-01 03:00:00 +0000 UTC</td>\n",
       "      <td>4671654</td>\n",
       "      <td>NaN</td>\n",
       "      <td>NaN</td>\n",
       "      <td>NaN</td>\n",
       "      <td>290.55</td>\n",
       "      <td>290.15</td>\n",
       "      <td>291.15</td>\n",
       "      <td>1010</td>\n",
       "      <td>...</td>\n",
       "      <td>NaN</td>\n",
       "      <td>NaN</td>\n",
       "      <td>NaN</td>\n",
       "      <td>NaN</td>\n",
       "      <td>NaN</td>\n",
       "      <td>1</td>\n",
       "      <td>800</td>\n",
       "      <td>Clear</td>\n",
       "      <td>sky is clear</td>\n",
       "      <td>01n</td>\n",
       "    </tr>\n",
       "    <tr>\n",
       "      <th>4</th>\n",
       "      <td>1483243200</td>\n",
       "      <td>2017-01-01 04:00:00 +0000 UTC</td>\n",
       "      <td>4671654</td>\n",
       "      <td>NaN</td>\n",
       "      <td>NaN</td>\n",
       "      <td>NaN</td>\n",
       "      <td>289.57</td>\n",
       "      <td>287.15</td>\n",
       "      <td>292.15</td>\n",
       "      <td>1010</td>\n",
       "      <td>...</td>\n",
       "      <td>NaN</td>\n",
       "      <td>NaN</td>\n",
       "      <td>NaN</td>\n",
       "      <td>NaN</td>\n",
       "      <td>NaN</td>\n",
       "      <td>75</td>\n",
       "      <td>803</td>\n",
       "      <td>Clouds</td>\n",
       "      <td>broken clouds</td>\n",
       "      <td>04n</td>\n",
       "    </tr>\n",
       "  </tbody>\n",
       "</table>\n",
       "<p>5 rows × 28 columns</p>\n",
       "</div>"
      ],
      "text/plain": [
       "           dt                         dt_iso  city_id  city_name  lat  lon  \\\n",
       "0  1483228800  2017-01-01 00:00:00 +0000 UTC  4671654        NaN  NaN  NaN   \n",
       "1  1483232400  2017-01-01 01:00:00 +0000 UTC  4671654        NaN  NaN  NaN   \n",
       "2  1483236000  2017-01-01 02:00:00 +0000 UTC  4671654        NaN  NaN  NaN   \n",
       "3  1483239600  2017-01-01 03:00:00 +0000 UTC  4671654        NaN  NaN  NaN   \n",
       "4  1483243200  2017-01-01 04:00:00 +0000 UTC  4671654        NaN  NaN  NaN   \n",
       "\n",
       "     temp  temp_min  temp_max  pressure      ...       rain_today  snow_1h  \\\n",
       "0  295.16    293.15    297.15      1008      ...              NaN      NaN   \n",
       "1  293.30    292.15    295.15      1008      ...              NaN      NaN   \n",
       "2  291.14    290.15    292.15      1010      ...              NaN      NaN   \n",
       "3  290.55    290.15    291.15      1010      ...              NaN      NaN   \n",
       "4  289.57    287.15    292.15      1010      ...              NaN      NaN   \n",
       "\n",
       "   snow_3h  snow_24h  snow_today  clouds_all  weather_id  weather_main  \\\n",
       "0      NaN       NaN         NaN           1         800         Clear   \n",
       "1      NaN       NaN         NaN          90         804        Clouds   \n",
       "2      NaN       NaN         NaN          20         801        Clouds   \n",
       "3      NaN       NaN         NaN           1         800         Clear   \n",
       "4      NaN       NaN         NaN          75         803        Clouds   \n",
       "\n",
       "   weather_description  weather_icon  \n",
       "0         sky is clear           01n  \n",
       "1      overcast clouds           04n  \n",
       "2           few clouds           02n  \n",
       "3         sky is clear           01n  \n",
       "4        broken clouds           04n  \n",
       "\n",
       "[5 rows x 28 columns]"
      ]
     },
     "execution_count": 15,
     "metadata": {},
     "output_type": "execute_result"
    }
   ],
   "source": [
    "#define the weather history data file\n",
    "weather_data_file = \"Resources/austin_weather_jan2017_mar2019_10dollars_openweathermaporg.csv\"   #$10!\n",
    "\n",
    "#read in weather data to dataframe\n",
    "df_weather_from_csv = pd.read_csv(weather_data_file)\n",
    "print(f\"Raw data weather record count: {len(df_weather_from_csv)}\")\n",
    "df_weather_from_csv.head()"
   ]
  },
  {
   "cell_type": "code",
   "execution_count": 16,
   "metadata": {},
   "outputs": [
    {
     "name": "stdout",
     "output_type": "stream",
     "text": [
      "Non-NA values per column:\n",
      "dt                     22765\n",
      "dt_iso                 22765\n",
      "city_id                22765\n",
      "city_name                  0\n",
      "lat                        0\n",
      "lon                        0\n",
      "temp                   22765\n",
      "temp_min               22765\n",
      "temp_max               22765\n",
      "pressure               22765\n",
      "sea_level                  0\n",
      "grnd_level                 0\n",
      "humidity               22765\n",
      "wind_speed             22765\n",
      "wind_deg               22765\n",
      "rain_1h                 1344\n",
      "rain_3h                   62\n",
      "rain_24h                   0\n",
      "rain_today                 0\n",
      "snow_1h                    9\n",
      "snow_3h                    0\n",
      "snow_24h                   0\n",
      "snow_today                 0\n",
      "clouds_all             22765\n",
      "weather_id             22765\n",
      "weather_main           22765\n",
      "weather_description    22765\n",
      "weather_icon           22765\n",
      "dtype: int64\n",
      "Total of rows with complete data now: 22765\n",
      "Removing invalid longitude and latitude...\n",
      "Total number of rows with valid lat/long data: 22765\n"
     ]
    },
    {
     "data": {
      "text/plain": [
       "dt                       int64\n",
       "dt_iso                  object\n",
       "city_id                  int64\n",
       "city_name              float64\n",
       "lat                    float64\n",
       "lon                    float64\n",
       "temp                   float64\n",
       "temp_min               float64\n",
       "temp_max               float64\n",
       "pressure                 int64\n",
       "sea_level              float64\n",
       "grnd_level             float64\n",
       "humidity                 int64\n",
       "wind_speed               int64\n",
       "wind_deg                 int64\n",
       "rain_1h                float64\n",
       "rain_3h                float64\n",
       "rain_24h               float64\n",
       "rain_today             float64\n",
       "snow_1h                float64\n",
       "snow_3h                float64\n",
       "snow_24h               float64\n",
       "snow_today             float64\n",
       "clouds_all               int64\n",
       "weather_id               int64\n",
       "weather_main            object\n",
       "weather_description     object\n",
       "weather_icon            object\n",
       "dtype: object"
      ]
     },
     "execution_count": 16,
     "metadata": {},
     "output_type": "execute_result"
    }
   ],
   "source": [
    "#clean up the data in weather df\n",
    "\n",
    "#get rid of the NaNs found in Location\n",
    "#19\t9BD7909EA32C89F68E82ED0CBE1F30A2E1D72B1C_15323...\t07/23/2018 09:39:17 PM +0000\tzSTALLED VEHICLE\tNaN\t0.000000\t0.000000\t3339 W BRAKER LN\tARCHIVED\t07/23/2018 10:15:02 PM +0000\n",
    "\n",
    "print(f\"Non-NA values per column:\\n{df_weather_from_csv.count()}\")   #show the non-NA cells for each field\n",
    "\n",
    "#remove the cols/row with all empty cells\n",
    "df_weather_from_csv_clean = df_weather_from_csv.dropna(how='all')\n",
    "\n",
    "print(f\"Total of rows with complete data now: {len(df_weather_from_csv_clean)}\")\n",
    "\n",
    "print(\"Removing invalid longitude and latitude...\")\n",
    "#ensure lat and long are valid.  -90<=lat<=90     -180<=lon<=180\n",
    "#lat\n",
    "#row_condition = df_from_csv_clean[\"Latitude\"] <= 90\n",
    "#filtered_df = df_from_csv_clean.loc[row_condition]\n",
    "#row_condition = filtered_df[\"Latitude\"] >= -90\n",
    "#filtered_df = filtered_df.loc[row_condition]\n",
    "\n",
    "#long\n",
    "#row_condition = filtered_df[\"Longitude\"] <= 180\n",
    "#filtered_df = filtered_df.loc[row_condition]\n",
    "#row_condition = filtered_df[\"Longitude\"] >= -180\n",
    "#filtered_df = filtered_df.loc[row_condition]\n",
    "\n",
    "filtered_weather_df = df_weather_from_csv_clean\n",
    "print(f\"Total number of rows with valid lat/long data: {len(filtered_weather_df)}\")\n",
    "df_from_weather_csv_clean = filtered_weather_df   #re-assign filtered df back to our orig name\n",
    "\n",
    "df_from_weather_csv_clean.dtypes"
   ]
  },
  {
   "cell_type": "code",
   "execution_count": 17,
   "metadata": {},
   "outputs": [
    {
     "data": {
      "text/html": [
       "<div>\n",
       "<style scoped>\n",
       "    .dataframe tbody tr th:only-of-type {\n",
       "        vertical-align: middle;\n",
       "    }\n",
       "\n",
       "    .dataframe tbody tr th {\n",
       "        vertical-align: top;\n",
       "    }\n",
       "\n",
       "    .dataframe thead th {\n",
       "        text-align: right;\n",
       "    }\n",
       "</style>\n",
       "<table border=\"1\" class=\"dataframe\">\n",
       "  <thead>\n",
       "    <tr style=\"text-align: right;\">\n",
       "      <th></th>\n",
       "      <th>dt</th>\n",
       "      <th>dt_iso</th>\n",
       "      <th>city_id</th>\n",
       "      <th>city_name</th>\n",
       "      <th>lat</th>\n",
       "      <th>lon</th>\n",
       "      <th>temp</th>\n",
       "      <th>temp_min</th>\n",
       "      <th>temp_max</th>\n",
       "      <th>pressure</th>\n",
       "      <th>...</th>\n",
       "      <th>rain_today</th>\n",
       "      <th>snow_1h</th>\n",
       "      <th>snow_3h</th>\n",
       "      <th>snow_24h</th>\n",
       "      <th>snow_today</th>\n",
       "      <th>clouds_all</th>\n",
       "      <th>weather_id</th>\n",
       "      <th>weather_main</th>\n",
       "      <th>weather_description</th>\n",
       "      <th>weather_icon</th>\n",
       "    </tr>\n",
       "  </thead>\n",
       "  <tbody>\n",
       "    <tr>\n",
       "      <th>0</th>\n",
       "      <td>1483228800</td>\n",
       "      <td>2017-01-01 00:00:00 +0000 UTC</td>\n",
       "      <td>4671654</td>\n",
       "      <td>NaN</td>\n",
       "      <td>NaN</td>\n",
       "      <td>NaN</td>\n",
       "      <td>295.16</td>\n",
       "      <td>293.15</td>\n",
       "      <td>297.15</td>\n",
       "      <td>1008</td>\n",
       "      <td>...</td>\n",
       "      <td>NaN</td>\n",
       "      <td>NaN</td>\n",
       "      <td>NaN</td>\n",
       "      <td>NaN</td>\n",
       "      <td>NaN</td>\n",
       "      <td>1</td>\n",
       "      <td>800</td>\n",
       "      <td>Clear</td>\n",
       "      <td>sky is clear</td>\n",
       "      <td>01n</td>\n",
       "    </tr>\n",
       "    <tr>\n",
       "      <th>1</th>\n",
       "      <td>1483232400</td>\n",
       "      <td>2017-01-01 01:00:00 +0000 UTC</td>\n",
       "      <td>4671654</td>\n",
       "      <td>NaN</td>\n",
       "      <td>NaN</td>\n",
       "      <td>NaN</td>\n",
       "      <td>293.30</td>\n",
       "      <td>292.15</td>\n",
       "      <td>295.15</td>\n",
       "      <td>1008</td>\n",
       "      <td>...</td>\n",
       "      <td>NaN</td>\n",
       "      <td>NaN</td>\n",
       "      <td>NaN</td>\n",
       "      <td>NaN</td>\n",
       "      <td>NaN</td>\n",
       "      <td>90</td>\n",
       "      <td>804</td>\n",
       "      <td>Clouds</td>\n",
       "      <td>overcast clouds</td>\n",
       "      <td>04n</td>\n",
       "    </tr>\n",
       "    <tr>\n",
       "      <th>2</th>\n",
       "      <td>1483236000</td>\n",
       "      <td>2017-01-01 02:00:00 +0000 UTC</td>\n",
       "      <td>4671654</td>\n",
       "      <td>NaN</td>\n",
       "      <td>NaN</td>\n",
       "      <td>NaN</td>\n",
       "      <td>291.14</td>\n",
       "      <td>290.15</td>\n",
       "      <td>292.15</td>\n",
       "      <td>1010</td>\n",
       "      <td>...</td>\n",
       "      <td>NaN</td>\n",
       "      <td>NaN</td>\n",
       "      <td>NaN</td>\n",
       "      <td>NaN</td>\n",
       "      <td>NaN</td>\n",
       "      <td>20</td>\n",
       "      <td>801</td>\n",
       "      <td>Clouds</td>\n",
       "      <td>few clouds</td>\n",
       "      <td>02n</td>\n",
       "    </tr>\n",
       "    <tr>\n",
       "      <th>3</th>\n",
       "      <td>1483239600</td>\n",
       "      <td>2017-01-01 03:00:00 +0000 UTC</td>\n",
       "      <td>4671654</td>\n",
       "      <td>NaN</td>\n",
       "      <td>NaN</td>\n",
       "      <td>NaN</td>\n",
       "      <td>290.55</td>\n",
       "      <td>290.15</td>\n",
       "      <td>291.15</td>\n",
       "      <td>1010</td>\n",
       "      <td>...</td>\n",
       "      <td>NaN</td>\n",
       "      <td>NaN</td>\n",
       "      <td>NaN</td>\n",
       "      <td>NaN</td>\n",
       "      <td>NaN</td>\n",
       "      <td>1</td>\n",
       "      <td>800</td>\n",
       "      <td>Clear</td>\n",
       "      <td>sky is clear</td>\n",
       "      <td>01n</td>\n",
       "    </tr>\n",
       "    <tr>\n",
       "      <th>4</th>\n",
       "      <td>1483243200</td>\n",
       "      <td>2017-01-01 04:00:00 +0000 UTC</td>\n",
       "      <td>4671654</td>\n",
       "      <td>NaN</td>\n",
       "      <td>NaN</td>\n",
       "      <td>NaN</td>\n",
       "      <td>289.57</td>\n",
       "      <td>287.15</td>\n",
       "      <td>292.15</td>\n",
       "      <td>1010</td>\n",
       "      <td>...</td>\n",
       "      <td>NaN</td>\n",
       "      <td>NaN</td>\n",
       "      <td>NaN</td>\n",
       "      <td>NaN</td>\n",
       "      <td>NaN</td>\n",
       "      <td>75</td>\n",
       "      <td>803</td>\n",
       "      <td>Clouds</td>\n",
       "      <td>broken clouds</td>\n",
       "      <td>04n</td>\n",
       "    </tr>\n",
       "  </tbody>\n",
       "</table>\n",
       "<p>5 rows × 28 columns</p>\n",
       "</div>"
      ],
      "text/plain": [
       "           dt                         dt_iso  city_id  city_name  lat  lon  \\\n",
       "0  1483228800  2017-01-01 00:00:00 +0000 UTC  4671654        NaN  NaN  NaN   \n",
       "1  1483232400  2017-01-01 01:00:00 +0000 UTC  4671654        NaN  NaN  NaN   \n",
       "2  1483236000  2017-01-01 02:00:00 +0000 UTC  4671654        NaN  NaN  NaN   \n",
       "3  1483239600  2017-01-01 03:00:00 +0000 UTC  4671654        NaN  NaN  NaN   \n",
       "4  1483243200  2017-01-01 04:00:00 +0000 UTC  4671654        NaN  NaN  NaN   \n",
       "\n",
       "     temp  temp_min  temp_max  pressure      ...       rain_today  snow_1h  \\\n",
       "0  295.16    293.15    297.15      1008      ...              NaN      NaN   \n",
       "1  293.30    292.15    295.15      1008      ...              NaN      NaN   \n",
       "2  291.14    290.15    292.15      1010      ...              NaN      NaN   \n",
       "3  290.55    290.15    291.15      1010      ...              NaN      NaN   \n",
       "4  289.57    287.15    292.15      1010      ...              NaN      NaN   \n",
       "\n",
       "   snow_3h  snow_24h  snow_today  clouds_all  weather_id  weather_main  \\\n",
       "0      NaN       NaN         NaN           1         800         Clear   \n",
       "1      NaN       NaN         NaN          90         804        Clouds   \n",
       "2      NaN       NaN         NaN          20         801        Clouds   \n",
       "3      NaN       NaN         NaN           1         800         Clear   \n",
       "4      NaN       NaN         NaN          75         803        Clouds   \n",
       "\n",
       "   weather_description  weather_icon  \n",
       "0         sky is clear           01n  \n",
       "1      overcast clouds           04n  \n",
       "2           few clouds           02n  \n",
       "3         sky is clear           01n  \n",
       "4        broken clouds           04n  \n",
       "\n",
       "[5 rows x 28 columns]"
      ]
     },
     "execution_count": 17,
     "metadata": {},
     "output_type": "execute_result"
    }
   ],
   "source": [
    "#df_from_csv_clean.count() \n",
    "df_from_weather_csv_clean.head()"
   ]
  },
  {
   "cell_type": "code",
   "execution_count": 18,
   "metadata": {},
   "outputs": [],
   "source": [
    "#get the columns we want (and that actually have data)\n",
    "df_weather_filtered = df_from_weather_csv_clean[[\"dt\", \"dt_iso\", \"temp\", \"temp_min\", \"temp_max\", \"pressure\", \"humidity\" , \"wind_speed\", \"wind_deg\", \"rain_1h\", \"rain_3h\", \"snow_1h\", \"clouds_all\", \"weather_id\", \"weather_main\", \"weather_description\", \"weather_icon\"]]"
   ]
  },
  {
   "cell_type": "code",
   "execution_count": 19,
   "metadata": {},
   "outputs": [
    {
     "data": {
      "text/html": [
       "<div>\n",
       "<style scoped>\n",
       "    .dataframe tbody tr th:only-of-type {\n",
       "        vertical-align: middle;\n",
       "    }\n",
       "\n",
       "    .dataframe tbody tr th {\n",
       "        vertical-align: top;\n",
       "    }\n",
       "\n",
       "    .dataframe thead th {\n",
       "        text-align: right;\n",
       "    }\n",
       "</style>\n",
       "<table border=\"1\" class=\"dataframe\">\n",
       "  <thead>\n",
       "    <tr style=\"text-align: right;\">\n",
       "      <th></th>\n",
       "      <th>dt</th>\n",
       "      <th>dt_iso</th>\n",
       "      <th>temp</th>\n",
       "      <th>temp_min</th>\n",
       "      <th>temp_max</th>\n",
       "      <th>pressure</th>\n",
       "      <th>humidity</th>\n",
       "      <th>wind_speed</th>\n",
       "      <th>wind_deg</th>\n",
       "      <th>rain_1h</th>\n",
       "      <th>rain_3h</th>\n",
       "      <th>snow_1h</th>\n",
       "      <th>clouds_all</th>\n",
       "      <th>weather_id</th>\n",
       "      <th>weather_main</th>\n",
       "      <th>weather_description</th>\n",
       "      <th>weather_icon</th>\n",
       "    </tr>\n",
       "  </thead>\n",
       "  <tbody>\n",
       "    <tr>\n",
       "      <th>0</th>\n",
       "      <td>1483228800</td>\n",
       "      <td>2017-01-01 00:00:00 +0000 UTC</td>\n",
       "      <td>295.16</td>\n",
       "      <td>293.15</td>\n",
       "      <td>297.15</td>\n",
       "      <td>1008</td>\n",
       "      <td>68</td>\n",
       "      <td>3</td>\n",
       "      <td>203</td>\n",
       "      <td>NaN</td>\n",
       "      <td>NaN</td>\n",
       "      <td>NaN</td>\n",
       "      <td>1</td>\n",
       "      <td>800</td>\n",
       "      <td>Clear</td>\n",
       "      <td>sky is clear</td>\n",
       "      <td>01n</td>\n",
       "    </tr>\n",
       "    <tr>\n",
       "      <th>1</th>\n",
       "      <td>1483232400</td>\n",
       "      <td>2017-01-01 01:00:00 +0000 UTC</td>\n",
       "      <td>293.30</td>\n",
       "      <td>292.15</td>\n",
       "      <td>295.15</td>\n",
       "      <td>1008</td>\n",
       "      <td>68</td>\n",
       "      <td>3</td>\n",
       "      <td>203</td>\n",
       "      <td>NaN</td>\n",
       "      <td>NaN</td>\n",
       "      <td>NaN</td>\n",
       "      <td>90</td>\n",
       "      <td>804</td>\n",
       "      <td>Clouds</td>\n",
       "      <td>overcast clouds</td>\n",
       "      <td>04n</td>\n",
       "    </tr>\n",
       "    <tr>\n",
       "      <th>2</th>\n",
       "      <td>1483236000</td>\n",
       "      <td>2017-01-01 02:00:00 +0000 UTC</td>\n",
       "      <td>291.14</td>\n",
       "      <td>290.15</td>\n",
       "      <td>292.15</td>\n",
       "      <td>1010</td>\n",
       "      <td>82</td>\n",
       "      <td>1</td>\n",
       "      <td>200</td>\n",
       "      <td>NaN</td>\n",
       "      <td>NaN</td>\n",
       "      <td>NaN</td>\n",
       "      <td>20</td>\n",
       "      <td>801</td>\n",
       "      <td>Clouds</td>\n",
       "      <td>few clouds</td>\n",
       "      <td>02n</td>\n",
       "    </tr>\n",
       "    <tr>\n",
       "      <th>3</th>\n",
       "      <td>1483239600</td>\n",
       "      <td>2017-01-01 03:00:00 +0000 UTC</td>\n",
       "      <td>290.55</td>\n",
       "      <td>290.15</td>\n",
       "      <td>291.15</td>\n",
       "      <td>1010</td>\n",
       "      <td>82</td>\n",
       "      <td>1</td>\n",
       "      <td>140</td>\n",
       "      <td>NaN</td>\n",
       "      <td>NaN</td>\n",
       "      <td>NaN</td>\n",
       "      <td>1</td>\n",
       "      <td>800</td>\n",
       "      <td>Clear</td>\n",
       "      <td>sky is clear</td>\n",
       "      <td>01n</td>\n",
       "    </tr>\n",
       "    <tr>\n",
       "      <th>4</th>\n",
       "      <td>1483243200</td>\n",
       "      <td>2017-01-01 04:00:00 +0000 UTC</td>\n",
       "      <td>289.57</td>\n",
       "      <td>287.15</td>\n",
       "      <td>292.15</td>\n",
       "      <td>1010</td>\n",
       "      <td>82</td>\n",
       "      <td>3</td>\n",
       "      <td>194</td>\n",
       "      <td>NaN</td>\n",
       "      <td>NaN</td>\n",
       "      <td>NaN</td>\n",
       "      <td>75</td>\n",
       "      <td>803</td>\n",
       "      <td>Clouds</td>\n",
       "      <td>broken clouds</td>\n",
       "      <td>04n</td>\n",
       "    </tr>\n",
       "  </tbody>\n",
       "</table>\n",
       "</div>"
      ],
      "text/plain": [
       "           dt                         dt_iso    temp  temp_min  temp_max  \\\n",
       "0  1483228800  2017-01-01 00:00:00 +0000 UTC  295.16    293.15    297.15   \n",
       "1  1483232400  2017-01-01 01:00:00 +0000 UTC  293.30    292.15    295.15   \n",
       "2  1483236000  2017-01-01 02:00:00 +0000 UTC  291.14    290.15    292.15   \n",
       "3  1483239600  2017-01-01 03:00:00 +0000 UTC  290.55    290.15    291.15   \n",
       "4  1483243200  2017-01-01 04:00:00 +0000 UTC  289.57    287.15    292.15   \n",
       "\n",
       "   pressure  humidity  wind_speed  wind_deg  rain_1h  rain_3h  snow_1h  \\\n",
       "0      1008        68           3       203      NaN      NaN      NaN   \n",
       "1      1008        68           3       203      NaN      NaN      NaN   \n",
       "2      1010        82           1       200      NaN      NaN      NaN   \n",
       "3      1010        82           1       140      NaN      NaN      NaN   \n",
       "4      1010        82           3       194      NaN      NaN      NaN   \n",
       "\n",
       "   clouds_all  weather_id weather_main weather_description weather_icon  \n",
       "0           1         800        Clear        sky is clear          01n  \n",
       "1          90         804       Clouds     overcast clouds          04n  \n",
       "2          20         801       Clouds          few clouds          02n  \n",
       "3           1         800        Clear        sky is clear          01n  \n",
       "4          75         803       Clouds       broken clouds          04n  "
      ]
     },
     "execution_count": 19,
     "metadata": {},
     "output_type": "execute_result"
    }
   ],
   "source": [
    "df_weather_filtered.head()\n",
    "#type(\"dt_iso\")"
   ]
  },
  {
   "cell_type": "code",
   "execution_count": 20,
   "metadata": {},
   "outputs": [
    {
     "name": "stderr",
     "output_type": "stream",
     "text": [
      "/anaconda3/lib/python3.7/site-packages/ipykernel_launcher.py:7: SettingWithCopyWarning:\n",
      "\n",
      "\n",
      "A value is trying to be set on a copy of a slice from a DataFrame.\n",
      "Try using .loc[row_indexer,col_indexer] = value instead\n",
      "\n",
      "See the caveats in the documentation: http://pandas.pydata.org/pandas-docs/stable/indexing.html#indexing-view-versus-copy\n",
      "\n"
     ]
    }
   ],
   "source": [
    "#convert the date strings in the DF to valid datetime types\n",
    "#df_weather_filtered['dt'] =  pd.to_datetime(df_weather_filtered['dt'])\n",
    "#the epoch time is NOT right....for the datetime conversion....\n",
    "#pd.to_datetime(df_weather_filtered['dt'], unit='s')...comes back with a 1970 time that doesn't increment by 1hr to next row!!!\n",
    "#lets strip the +0000 UTC off the dt_iso\n",
    "df_working = df_weather_filtered\n",
    "df_weather_filtered[\"dt_iso\"] = df_working[\"dt_iso\"].map(lambda x: str(x)[:-9])"
   ]
  },
  {
   "cell_type": "code",
   "execution_count": 21,
   "metadata": {},
   "outputs": [
    {
     "data": {
      "text/html": [
       "<div>\n",
       "<style scoped>\n",
       "    .dataframe tbody tr th:only-of-type {\n",
       "        vertical-align: middle;\n",
       "    }\n",
       "\n",
       "    .dataframe tbody tr th {\n",
       "        vertical-align: top;\n",
       "    }\n",
       "\n",
       "    .dataframe thead th {\n",
       "        text-align: right;\n",
       "    }\n",
       "</style>\n",
       "<table border=\"1\" class=\"dataframe\">\n",
       "  <thead>\n",
       "    <tr style=\"text-align: right;\">\n",
       "      <th></th>\n",
       "      <th>dt</th>\n",
       "      <th>dt_iso</th>\n",
       "      <th>temp</th>\n",
       "      <th>temp_min</th>\n",
       "      <th>temp_max</th>\n",
       "      <th>pressure</th>\n",
       "      <th>humidity</th>\n",
       "      <th>wind_speed</th>\n",
       "      <th>wind_deg</th>\n",
       "      <th>rain_1h</th>\n",
       "      <th>rain_3h</th>\n",
       "      <th>snow_1h</th>\n",
       "      <th>clouds_all</th>\n",
       "      <th>weather_id</th>\n",
       "      <th>weather_main</th>\n",
       "      <th>weather_description</th>\n",
       "      <th>weather_icon</th>\n",
       "    </tr>\n",
       "  </thead>\n",
       "  <tbody>\n",
       "    <tr>\n",
       "      <th>0</th>\n",
       "      <td>1483228800</td>\n",
       "      <td>2017-01-01 00:00:00</td>\n",
       "      <td>295.16</td>\n",
       "      <td>293.15</td>\n",
       "      <td>297.15</td>\n",
       "      <td>1008</td>\n",
       "      <td>68</td>\n",
       "      <td>3</td>\n",
       "      <td>203</td>\n",
       "      <td>NaN</td>\n",
       "      <td>NaN</td>\n",
       "      <td>NaN</td>\n",
       "      <td>1</td>\n",
       "      <td>800</td>\n",
       "      <td>Clear</td>\n",
       "      <td>sky is clear</td>\n",
       "      <td>01n</td>\n",
       "    </tr>\n",
       "    <tr>\n",
       "      <th>1</th>\n",
       "      <td>1483232400</td>\n",
       "      <td>2017-01-01 01:00:00</td>\n",
       "      <td>293.30</td>\n",
       "      <td>292.15</td>\n",
       "      <td>295.15</td>\n",
       "      <td>1008</td>\n",
       "      <td>68</td>\n",
       "      <td>3</td>\n",
       "      <td>203</td>\n",
       "      <td>NaN</td>\n",
       "      <td>NaN</td>\n",
       "      <td>NaN</td>\n",
       "      <td>90</td>\n",
       "      <td>804</td>\n",
       "      <td>Clouds</td>\n",
       "      <td>overcast clouds</td>\n",
       "      <td>04n</td>\n",
       "    </tr>\n",
       "    <tr>\n",
       "      <th>2</th>\n",
       "      <td>1483236000</td>\n",
       "      <td>2017-01-01 02:00:00</td>\n",
       "      <td>291.14</td>\n",
       "      <td>290.15</td>\n",
       "      <td>292.15</td>\n",
       "      <td>1010</td>\n",
       "      <td>82</td>\n",
       "      <td>1</td>\n",
       "      <td>200</td>\n",
       "      <td>NaN</td>\n",
       "      <td>NaN</td>\n",
       "      <td>NaN</td>\n",
       "      <td>20</td>\n",
       "      <td>801</td>\n",
       "      <td>Clouds</td>\n",
       "      <td>few clouds</td>\n",
       "      <td>02n</td>\n",
       "    </tr>\n",
       "    <tr>\n",
       "      <th>3</th>\n",
       "      <td>1483239600</td>\n",
       "      <td>2017-01-01 03:00:00</td>\n",
       "      <td>290.55</td>\n",
       "      <td>290.15</td>\n",
       "      <td>291.15</td>\n",
       "      <td>1010</td>\n",
       "      <td>82</td>\n",
       "      <td>1</td>\n",
       "      <td>140</td>\n",
       "      <td>NaN</td>\n",
       "      <td>NaN</td>\n",
       "      <td>NaN</td>\n",
       "      <td>1</td>\n",
       "      <td>800</td>\n",
       "      <td>Clear</td>\n",
       "      <td>sky is clear</td>\n",
       "      <td>01n</td>\n",
       "    </tr>\n",
       "    <tr>\n",
       "      <th>4</th>\n",
       "      <td>1483243200</td>\n",
       "      <td>2017-01-01 04:00:00</td>\n",
       "      <td>289.57</td>\n",
       "      <td>287.15</td>\n",
       "      <td>292.15</td>\n",
       "      <td>1010</td>\n",
       "      <td>82</td>\n",
       "      <td>3</td>\n",
       "      <td>194</td>\n",
       "      <td>NaN</td>\n",
       "      <td>NaN</td>\n",
       "      <td>NaN</td>\n",
       "      <td>75</td>\n",
       "      <td>803</td>\n",
       "      <td>Clouds</td>\n",
       "      <td>broken clouds</td>\n",
       "      <td>04n</td>\n",
       "    </tr>\n",
       "  </tbody>\n",
       "</table>\n",
       "</div>"
      ],
      "text/plain": [
       "           dt                dt_iso    temp  temp_min  temp_max  pressure  \\\n",
       "0  1483228800  2017-01-01 00:00:00   295.16    293.15    297.15      1008   \n",
       "1  1483232400  2017-01-01 01:00:00   293.30    292.15    295.15      1008   \n",
       "2  1483236000  2017-01-01 02:00:00   291.14    290.15    292.15      1010   \n",
       "3  1483239600  2017-01-01 03:00:00   290.55    290.15    291.15      1010   \n",
       "4  1483243200  2017-01-01 04:00:00   289.57    287.15    292.15      1010   \n",
       "\n",
       "   humidity  wind_speed  wind_deg  rain_1h  rain_3h  snow_1h  clouds_all  \\\n",
       "0        68           3       203      NaN      NaN      NaN           1   \n",
       "1        68           3       203      NaN      NaN      NaN          90   \n",
       "2        82           1       200      NaN      NaN      NaN          20   \n",
       "3        82           1       140      NaN      NaN      NaN           1   \n",
       "4        82           3       194      NaN      NaN      NaN          75   \n",
       "\n",
       "   weather_id weather_main weather_description weather_icon  \n",
       "0         800        Clear        sky is clear          01n  \n",
       "1         804       Clouds     overcast clouds          04n  \n",
       "2         801       Clouds          few clouds          02n  \n",
       "3         800        Clear        sky is clear          01n  \n",
       "4         803       Clouds       broken clouds          04n  "
      ]
     },
     "execution_count": 21,
     "metadata": {},
     "output_type": "execute_result"
    }
   ],
   "source": [
    "df_weather_filtered.head()"
   ]
  },
  {
   "cell_type": "code",
   "execution_count": 22,
   "metadata": {},
   "outputs": [
    {
     "name": "stderr",
     "output_type": "stream",
     "text": [
      "/anaconda3/lib/python3.7/site-packages/ipykernel_launcher.py:2: SettingWithCopyWarning:\n",
      "\n",
      "\n",
      "A value is trying to be set on a copy of a slice from a DataFrame.\n",
      "Try using .loc[row_indexer,col_indexer] = value instead\n",
      "\n",
      "See the caveats in the documentation: http://pandas.pydata.org/pandas-docs/stable/indexing.html#indexing-view-versus-copy\n",
      "\n"
     ]
    }
   ],
   "source": [
    "#now datetime the dt_iso col...\n",
    "df_weather_filtered['dt_iso'] =  pd.to_datetime(df_weather_filtered['dt_iso'])"
   ]
  },
  {
   "cell_type": "code",
   "execution_count": 23,
   "metadata": {},
   "outputs": [
    {
     "name": "stdout",
     "output_type": "stream",
     "text": [
      "Earliest date for weather: 2017-01-01 00:00:00\n",
      "Latest date for weather: 2019-03-12 00:00:00\n"
     ]
    },
    {
     "data": {
      "text/plain": [
       "dt                              int64\n",
       "dt_iso                 datetime64[ns]\n",
       "temp                          float64\n",
       "temp_min                      float64\n",
       "temp_max                      float64\n",
       "pressure                        int64\n",
       "humidity                        int64\n",
       "wind_speed                      int64\n",
       "wind_deg                        int64\n",
       "rain_1h                       float64\n",
       "rain_3h                       float64\n",
       "snow_1h                       float64\n",
       "clouds_all                      int64\n",
       "weather_id                      int64\n",
       "weather_main                   object\n",
       "weather_description            object\n",
       "weather_icon                   object\n",
       "dtype: object"
      ]
     },
     "execution_count": 23,
     "metadata": {},
     "output_type": "execute_result"
    }
   ],
   "source": [
    "#peek at the earliest and latest weather date in our weather DF\n",
    "weather_earliest_date = min(df_weather_filtered[\"dt_iso\"])\n",
    "print(f\"Earliest date for weather: {weather_earliest_date}\")\n",
    "weather_latest_date = max(df_weather_filtered[\"dt_iso\"])\n",
    "print(f\"Latest date for weather: {weather_latest_date}\")\n",
    "type(weather_latest_date)     #confirm the type\n",
    "\n",
    "df_weather_filtered.dtypes"
   ]
  },
  {
   "cell_type": "code",
   "execution_count": 24,
   "metadata": {},
   "outputs": [
    {
     "name": "stdout",
     "output_type": "stream",
     "text": [
      "Total number of rows with 2018 weather data  10501\n",
      "Earliest weather date: 2018-01-01 01:00:00\n",
      "Latest weather date: 2018-12-31 23:00:00\n"
     ]
    }
   ],
   "source": [
    "#keep only 2018 weather data\n",
    "row_condition = df_weather_filtered[\"dt_iso\"] <= \"2018-12-31 23:59:59\"\n",
    "df_weather_filtered = df_weather_filtered.loc[row_condition]\n",
    "row_condition = df_weather_filtered[\"dt_iso\"] >= \"2018-01-01 00:00:01\"\n",
    "df_weather_filtered = df_weather_filtered.loc[row_condition]\n",
    "\n",
    "print(f\"Total number of rows with 2018 weather data  {len(df_weather_filtered)}\")\n",
    "\n",
    "earliest_date = min(df_weather_filtered[\"dt_iso\"])\n",
    "print(f\"Earliest weather date: {earliest_date}\")\n",
    "latest_date = max(df_weather_filtered[\"dt_iso\"])\n",
    "print(f\"Latest weather date: {latest_date}\")\n",
    "\n",
    "df_from_weather_csv_clean = df_weather_filtered   #re-assign filtered df back to our orig name"
   ]
  },
  {
   "cell_type": "code",
   "execution_count": 25,
   "metadata": {},
   "outputs": [],
   "source": [
    "#look at types of weather_description...just for fun\n",
    "#df_from_weather_csv_clean[\"weather_description\"].value_counts()"
   ]
  },
  {
   "cell_type": "code",
   "execution_count": 26,
   "metadata": {},
   "outputs": [
    {
     "data": {
      "text/plain": [
       "Clear           3280\n",
       "Clouds          2673\n",
       "Mist            1767\n",
       "Rain            1313\n",
       "Haze             429\n",
       "Drizzle          401\n",
       "Thunderstorm     304\n",
       "Fog              302\n",
       "Snow              24\n",
       "Dust               7\n",
       "Squall             1\n",
       "Name: weather_main, dtype: int64"
      ]
     },
     "execution_count": 26,
     "metadata": {},
     "output_type": "execute_result"
    }
   ],
   "source": [
    "#look at types of weather_main...just for fun\n",
    "df_from_weather_csv_clean[\"weather_main\"].value_counts()"
   ]
  },
  {
   "cell_type": "code",
   "execution_count": 27,
   "metadata": {},
   "outputs": [
    {
     "data": {
      "text/plain": [
       "([<matplotlib.patches.Wedge at 0x123710710>,\n",
       "  <matplotlib.patches.Wedge at 0x10f3b2da0>,\n",
       "  <matplotlib.patches.Wedge at 0x1236cb5f8>,\n",
       "  <matplotlib.patches.Wedge at 0x125245518>,\n",
       "  <matplotlib.patches.Wedge at 0x125245eb8>,\n",
       "  <matplotlib.patches.Wedge at 0x125250898>,\n",
       "  <matplotlib.patches.Wedge at 0x125258278>,\n",
       "  <matplotlib.patches.Wedge at 0x125258c18>,\n",
       "  <matplotlib.patches.Wedge at 0x12629b5f8>,\n",
       "  <matplotlib.patches.Wedge at 0x12629bf98>,\n",
       "  <matplotlib.patches.Wedge at 0x1262a2978>],\n",
       " [Text(-0.9974517652517015, 0.6671506396581396, 'Clear'),\n",
       "  Text(-0.4073470608353648, -1.0217966392726048, 'Clouds'),\n",
       "  Text(0.8940973579987253, -0.6407729039368781, 'Mist'),\n",
       "  Text(1.0509937434362615, 0.3246723752613297, 'Rain'),\n",
       "  Text(0.749819726786229, 0.8048418337302212, 'Haze'),\n",
       "  Text(0.529017536456039, 0.9644378912724155, 'Drizzle'),\n",
       "  Text(0.3153843205934035, 1.053818167581029, 'Thunderstorm'),\n",
       "  Text(0.12020564312923845, 1.0934123665661946, 'Fog'),\n",
       "  Text(0.01316321178053851, 1.0999212380237144, 'Snow'),\n",
       "  Text(0.002961798109895085, 1.0999960126072987, 'Dust'),\n",
       "  Text(0.0003290986542279812, 1.0999999507700335, 'Squall')],\n",
       " [Text(-0.5818468630634925, 0.389171206467248, '31.2%'),\n",
       "  Text(-0.22218930591019898, -0.5573436214214208, '25.5%'),\n",
       "  Text(0.48768946799930457, -0.3495124930564789, '16.8%'),\n",
       "  Text(0.5732693146015971, 0.17709402286981618, '12.5%'),\n",
       "  Text(0.408992578247034, 0.4390046365801206, '4.1%'),\n",
       "  Text(0.2885550198851121, 0.5260570316031357, '3.8%'),\n",
       "  Text(0.1720278112327655, 0.5748099095896521, '2.9%'),\n",
       "  Text(0.06556671443413006, 0.5964067453997425, '2.9%'),\n",
       "  Text(0.00717993369847555, 0.599957038922026, '0.2%'),\n",
       "  Text(0.0016155262417609554, 0.5999978250585265, '0.1%'),\n",
       "  Text(0.0001795083568516261, 0.5999999731472909, '0.0%')])"
      ]
     },
     "execution_count": 27,
     "metadata": {},
     "output_type": "execute_result"
    },
    {
     "data": {
      "image/png": "[encoded data removed]",
      "text/plain": [
       "<Figure size 432x288 with 1 Axes>"
      ]
     },
     "metadata": {},
     "output_type": "display_data"
    }
   ],
   "source": [
    "weatherlabels = df_from_weather_csv_clean['weather_main'].value_counts().index\n",
    "weathervalues = df_from_weather_csv_clean['weather_main'].value_counts().values\n",
    "weathercolors = [\"red\", \"orange\", \"lightcoral\", \"lightskyblue\", \"navy\", \"plum\", \"grey\", \"brown\", \"aqua\", \"indigo\", \"crimson\"]\n",
    "weatherexplode = (0.1, 0, 0, 0, 0, 0, 0,0, 0, 0,0)\n",
    "plt.axis(\"equal\")\n",
    "#plt.legend(labels=labels)\n",
    "\n",
    "plt.pie(weathervalues, explode=weatherexplode, labels=weatherlabels, colors=weathercolors,\n",
    "        autopct=\"%1.1f%%\", shadow=True, startangle=90)"
   ]
  },
  {
   "cell_type": "code",
   "execution_count": 28,
   "metadata": {},
   "outputs": [
    {
     "data": {
      "text/html": [
       "<div>\n",
       "<style scoped>\n",
       "    .dataframe tbody tr th:only-of-type {\n",
       "        vertical-align: middle;\n",
       "    }\n",
       "\n",
       "    .dataframe tbody tr th {\n",
       "        vertical-align: top;\n",
       "    }\n",
       "\n",
       "    .dataframe thead th {\n",
       "        text-align: right;\n",
       "    }\n",
       "</style>\n",
       "<table border=\"1\" class=\"dataframe\">\n",
       "  <thead>\n",
       "    <tr style=\"text-align: right;\">\n",
       "      <th></th>\n",
       "      <th>dt</th>\n",
       "      <th>temp</th>\n",
       "      <th>temp_min</th>\n",
       "      <th>temp_max</th>\n",
       "      <th>pressure</th>\n",
       "      <th>humidity</th>\n",
       "      <th>wind_speed</th>\n",
       "      <th>wind_deg</th>\n",
       "      <th>rain_1h</th>\n",
       "      <th>rain_3h</th>\n",
       "      <th>snow_1h</th>\n",
       "      <th>clouds_all</th>\n",
       "      <th>weather_id</th>\n",
       "    </tr>\n",
       "  </thead>\n",
       "  <tbody>\n",
       "    <tr>\n",
       "      <th>count</th>\n",
       "      <td>1.050100e+04</td>\n",
       "      <td>10501.000000</td>\n",
       "      <td>10501.000000</td>\n",
       "      <td>10501.000000</td>\n",
       "      <td>10501.000000</td>\n",
       "      <td>10501.000000</td>\n",
       "      <td>10501.000000</td>\n",
       "      <td>10501.000000</td>\n",
       "      <td>926.000000</td>\n",
       "      <td>14.000000</td>\n",
       "      <td>0.0</td>\n",
       "      <td>10501.000000</td>\n",
       "      <td>10501.000000</td>\n",
       "    </tr>\n",
       "    <tr>\n",
       "      <th>mean</th>\n",
       "      <td>1.530589e+09</td>\n",
       "      <td>292.662311</td>\n",
       "      <td>291.220280</td>\n",
       "      <td>294.120566</td>\n",
       "      <td>1017.503857</td>\n",
       "      <td>69.428340</td>\n",
       "      <td>2.634416</td>\n",
       "      <td>132.279116</td>\n",
       "      <td>1.973035</td>\n",
       "      <td>0.650536</td>\n",
       "      <td>NaN</td>\n",
       "      <td>49.032568</td>\n",
       "      <td>705.047138</td>\n",
       "    </tr>\n",
       "    <tr>\n",
       "      <th>std</th>\n",
       "      <td>9.282000e+06</td>\n",
       "      <td>9.053352</td>\n",
       "      <td>9.223503</td>\n",
       "      <td>8.938672</td>\n",
       "      <td>5.943152</td>\n",
       "      <td>21.652778</td>\n",
       "      <td>1.509069</td>\n",
       "      <td>113.222627</td>\n",
       "      <td>2.599333</td>\n",
       "      <td>1.220933</td>\n",
       "      <td>NaN</td>\n",
       "      <td>40.612568</td>\n",
       "      <td>154.670155</td>\n",
       "    </tr>\n",
       "    <tr>\n",
       "      <th>min</th>\n",
       "      <td>1.514768e+09</td>\n",
       "      <td>263.920000</td>\n",
       "      <td>261.150000</td>\n",
       "      <td>266.150000</td>\n",
       "      <td>994.000000</td>\n",
       "      <td>10.000000</td>\n",
       "      <td>0.000000</td>\n",
       "      <td>0.000000</td>\n",
       "      <td>0.250000</td>\n",
       "      <td>0.175000</td>\n",
       "      <td>NaN</td>\n",
       "      <td>0.000000</td>\n",
       "      <td>200.000000</td>\n",
       "    </tr>\n",
       "    <tr>\n",
       "      <th>25%</th>\n",
       "      <td>1.522199e+09</td>\n",
       "      <td>285.940000</td>\n",
       "      <td>284.150000</td>\n",
       "      <td>287.150000</td>\n",
       "      <td>1014.000000</td>\n",
       "      <td>52.000000</td>\n",
       "      <td>2.000000</td>\n",
       "      <td>10.000000</td>\n",
       "      <td>0.380000</td>\n",
       "      <td>0.215000</td>\n",
       "      <td>NaN</td>\n",
       "      <td>1.000000</td>\n",
       "      <td>701.000000</td>\n",
       "    </tr>\n",
       "    <tr>\n",
       "      <th>50%</th>\n",
       "      <td>1.530738e+09</td>\n",
       "      <td>293.930000</td>\n",
       "      <td>292.150000</td>\n",
       "      <td>295.150000</td>\n",
       "      <td>1017.000000</td>\n",
       "      <td>74.000000</td>\n",
       "      <td>2.000000</td>\n",
       "      <td>140.000000</td>\n",
       "      <td>0.930000</td>\n",
       "      <td>0.407500</td>\n",
       "      <td>NaN</td>\n",
       "      <td>75.000000</td>\n",
       "      <td>800.000000</td>\n",
       "    </tr>\n",
       "    <tr>\n",
       "      <th>75%</th>\n",
       "      <td>1.538914e+09</td>\n",
       "      <td>298.950000</td>\n",
       "      <td>297.150000</td>\n",
       "      <td>300.150000</td>\n",
       "      <td>1021.000000</td>\n",
       "      <td>88.000000</td>\n",
       "      <td>3.000000</td>\n",
       "      <td>190.000000</td>\n",
       "      <td>2.495000</td>\n",
       "      <td>0.440000</td>\n",
       "      <td>NaN</td>\n",
       "      <td>90.000000</td>\n",
       "      <td>801.000000</td>\n",
       "    </tr>\n",
       "    <tr>\n",
       "      <th>max</th>\n",
       "      <td>1.546297e+09</td>\n",
       "      <td>315.020000</td>\n",
       "      <td>314.150000</td>\n",
       "      <td>316.150000</td>\n",
       "      <td>1042.000000</td>\n",
       "      <td>100.000000</td>\n",
       "      <td>13.000000</td>\n",
       "      <td>360.000000</td>\n",
       "      <td>19.560000</td>\n",
       "      <td>4.875000</td>\n",
       "      <td>NaN</td>\n",
       "      <td>100.000000</td>\n",
       "      <td>804.000000</td>\n",
       "    </tr>\n",
       "  </tbody>\n",
       "</table>\n",
       "</div>"
      ],
      "text/plain": [
       "                 dt          temp      temp_min      temp_max      pressure  \\\n",
       "count  1.050100e+04  10501.000000  10501.000000  10501.000000  10501.000000   \n",
       "mean   1.530589e+09    292.662311    291.220280    294.120566   1017.503857   \n",
       "std    9.282000e+06      9.053352      9.223503      8.938672      5.943152   \n",
       "min    1.514768e+09    263.920000    261.150000    266.150000    994.000000   \n",
       "25%    1.522199e+09    285.940000    284.150000    287.150000   1014.000000   \n",
       "50%    1.530738e+09    293.930000    292.150000    295.150000   1017.000000   \n",
       "75%    1.538914e+09    298.950000    297.150000    300.150000   1021.000000   \n",
       "max    1.546297e+09    315.020000    314.150000    316.150000   1042.000000   \n",
       "\n",
       "           humidity    wind_speed      wind_deg     rain_1h    rain_3h  \\\n",
       "count  10501.000000  10501.000000  10501.000000  926.000000  14.000000   \n",
       "mean      69.428340      2.634416    132.279116    1.973035   0.650536   \n",
       "std       21.652778      1.509069    113.222627    2.599333   1.220933   \n",
       "min       10.000000      0.000000      0.000000    0.250000   0.175000   \n",
       "25%       52.000000      2.000000     10.000000    0.380000   0.215000   \n",
       "50%       74.000000      2.000000    140.000000    0.930000   0.407500   \n",
       "75%       88.000000      3.000000    190.000000    2.495000   0.440000   \n",
       "max      100.000000     13.000000    360.000000   19.560000   4.875000   \n",
       "\n",
       "       snow_1h    clouds_all    weather_id  \n",
       "count      0.0  10501.000000  10501.000000  \n",
       "mean       NaN     49.032568    705.047138  \n",
       "std        NaN     40.612568    154.670155  \n",
       "min        NaN      0.000000    200.000000  \n",
       "25%        NaN      1.000000    701.000000  \n",
       "50%        NaN     75.000000    800.000000  \n",
       "75%        NaN     90.000000    801.000000  \n",
       "max        NaN    100.000000    804.000000  "
      ]
     },
     "execution_count": 28,
     "metadata": {},
     "output_type": "execute_result"
    }
   ],
   "source": [
    "df_from_weather_csv_clean.describe()     #need to convert units"
   ]
  },
  {
   "cell_type": "code",
   "execution_count": 29,
   "metadata": {},
   "outputs": [],
   "source": [
    "#convert temps from K to DegF, wind speeds from m/s to mph, pressure from hPa to mmHg\n",
    "df_from_weather_csv_clean_imperial = df_from_weather_csv_clean\n",
    "df_from_weather_csv_clean_imperial[\"temp\"] = (df_from_weather_csv_clean[\"temp\"]-273.15)*(9/5) +32\n",
    "df_from_weather_csv_clean_imperial[\"temp_min\"] = (df_from_weather_csv_clean[\"temp_min\"]-273.15)*(9/5) +32\n",
    "df_from_weather_csv_clean_imperial[\"temp_max\"] = (df_from_weather_csv_clean[\"temp_max\"]-273.15)*(9/5) +32\n",
    "df_from_weather_csv_clean_imperial[\"wind_speed\"] = (df_from_weather_csv_clean[\"wind_speed\"]*3600)/(1609.34)\n",
    "df_from_weather_csv_clean_imperial[\"pressure\"] = (df_from_weather_csv_clean[\"pressure\"]*0.75006)"
   ]
  },
  {
   "cell_type": "code",
   "execution_count": 30,
   "metadata": {},
   "outputs": [
    {
     "data": {
      "text/html": [
       "<div>\n",
       "<style scoped>\n",
       "    .dataframe tbody tr th:only-of-type {\n",
       "        vertical-align: middle;\n",
       "    }\n",
       "\n",
       "    .dataframe tbody tr th {\n",
       "        vertical-align: top;\n",
       "    }\n",
       "\n",
       "    .dataframe thead th {\n",
       "        text-align: right;\n",
       "    }\n",
       "</style>\n",
       "<table border=\"1\" class=\"dataframe\">\n",
       "  <thead>\n",
       "    <tr style=\"text-align: right;\">\n",
       "      <th></th>\n",
       "      <th>dt</th>\n",
       "      <th>temp</th>\n",
       "      <th>temp_min</th>\n",
       "      <th>temp_max</th>\n",
       "      <th>pressure</th>\n",
       "      <th>humidity</th>\n",
       "      <th>wind_speed</th>\n",
       "      <th>wind_deg</th>\n",
       "      <th>rain_1h</th>\n",
       "      <th>rain_3h</th>\n",
       "      <th>snow_1h</th>\n",
       "      <th>clouds_all</th>\n",
       "      <th>weather_id</th>\n",
       "    </tr>\n",
       "  </thead>\n",
       "  <tbody>\n",
       "    <tr>\n",
       "      <th>count</th>\n",
       "      <td>1.050100e+04</td>\n",
       "      <td>10501.000000</td>\n",
       "      <td>10501.000000</td>\n",
       "      <td>10501.000000</td>\n",
       "      <td>10501.000000</td>\n",
       "      <td>10501.000000</td>\n",
       "      <td>10501.000000</td>\n",
       "      <td>10501.000000</td>\n",
       "      <td>926.000000</td>\n",
       "      <td>14.000000</td>\n",
       "      <td>0.0</td>\n",
       "      <td>10501.000000</td>\n",
       "      <td>10501.000000</td>\n",
       "    </tr>\n",
       "    <tr>\n",
       "      <th>mean</th>\n",
       "      <td>1.530589e+09</td>\n",
       "      <td>67.122161</td>\n",
       "      <td>64.526504</td>\n",
       "      <td>69.747019</td>\n",
       "      <td>763.188943</td>\n",
       "      <td>69.428340</td>\n",
       "      <td>5.893035</td>\n",
       "      <td>132.279116</td>\n",
       "      <td>1.973035</td>\n",
       "      <td>0.650536</td>\n",
       "      <td>NaN</td>\n",
       "      <td>49.032568</td>\n",
       "      <td>705.047138</td>\n",
       "    </tr>\n",
       "    <tr>\n",
       "      <th>std</th>\n",
       "      <td>9.282000e+06</td>\n",
       "      <td>16.296033</td>\n",
       "      <td>16.602306</td>\n",
       "      <td>16.089610</td>\n",
       "      <td>4.457721</td>\n",
       "      <td>21.652778</td>\n",
       "      <td>3.375699</td>\n",
       "      <td>113.222627</td>\n",
       "      <td>2.599333</td>\n",
       "      <td>1.220933</td>\n",
       "      <td>NaN</td>\n",
       "      <td>40.612568</td>\n",
       "      <td>154.670155</td>\n",
       "    </tr>\n",
       "    <tr>\n",
       "      <th>min</th>\n",
       "      <td>1.514768e+09</td>\n",
       "      <td>15.386000</td>\n",
       "      <td>10.400000</td>\n",
       "      <td>19.400000</td>\n",
       "      <td>745.559640</td>\n",
       "      <td>10.000000</td>\n",
       "      <td>0.000000</td>\n",
       "      <td>0.000000</td>\n",
       "      <td>0.250000</td>\n",
       "      <td>0.175000</td>\n",
       "      <td>NaN</td>\n",
       "      <td>0.000000</td>\n",
       "      <td>200.000000</td>\n",
       "    </tr>\n",
       "    <tr>\n",
       "      <th>25%</th>\n",
       "      <td>1.522199e+09</td>\n",
       "      <td>55.022000</td>\n",
       "      <td>51.800000</td>\n",
       "      <td>57.200000</td>\n",
       "      <td>760.560840</td>\n",
       "      <td>52.000000</td>\n",
       "      <td>4.473884</td>\n",
       "      <td>10.000000</td>\n",
       "      <td>0.380000</td>\n",
       "      <td>0.215000</td>\n",
       "      <td>NaN</td>\n",
       "      <td>1.000000</td>\n",
       "      <td>701.000000</td>\n",
       "    </tr>\n",
       "    <tr>\n",
       "      <th>50%</th>\n",
       "      <td>1.530738e+09</td>\n",
       "      <td>69.404000</td>\n",
       "      <td>66.200000</td>\n",
       "      <td>71.600000</td>\n",
       "      <td>762.811020</td>\n",
       "      <td>74.000000</td>\n",
       "      <td>4.473884</td>\n",
       "      <td>140.000000</td>\n",
       "      <td>0.930000</td>\n",
       "      <td>0.407500</td>\n",
       "      <td>NaN</td>\n",
       "      <td>75.000000</td>\n",
       "      <td>800.000000</td>\n",
       "    </tr>\n",
       "    <tr>\n",
       "      <th>75%</th>\n",
       "      <td>1.538914e+09</td>\n",
       "      <td>78.440000</td>\n",
       "      <td>75.200000</td>\n",
       "      <td>80.600000</td>\n",
       "      <td>765.811260</td>\n",
       "      <td>88.000000</td>\n",
       "      <td>6.710826</td>\n",
       "      <td>190.000000</td>\n",
       "      <td>2.495000</td>\n",
       "      <td>0.440000</td>\n",
       "      <td>NaN</td>\n",
       "      <td>90.000000</td>\n",
       "      <td>801.000000</td>\n",
       "    </tr>\n",
       "    <tr>\n",
       "      <th>max</th>\n",
       "      <td>1.546297e+09</td>\n",
       "      <td>107.366000</td>\n",
       "      <td>105.800000</td>\n",
       "      <td>109.400000</td>\n",
       "      <td>781.562520</td>\n",
       "      <td>100.000000</td>\n",
       "      <td>29.080244</td>\n",
       "      <td>360.000000</td>\n",
       "      <td>19.560000</td>\n",
       "      <td>4.875000</td>\n",
       "      <td>NaN</td>\n",
       "      <td>100.000000</td>\n",
       "      <td>804.000000</td>\n",
       "    </tr>\n",
       "  </tbody>\n",
       "</table>\n",
       "</div>"
      ],
      "text/plain": [
       "                 dt          temp      temp_min      temp_max      pressure  \\\n",
       "count  1.050100e+04  10501.000000  10501.000000  10501.000000  10501.000000   \n",
       "mean   1.530589e+09     67.122161     64.526504     69.747019    763.188943   \n",
       "std    9.282000e+06     16.296033     16.602306     16.089610      4.457721   \n",
       "min    1.514768e+09     15.386000     10.400000     19.400000    745.559640   \n",
       "25%    1.522199e+09     55.022000     51.800000     57.200000    760.560840   \n",
       "50%    1.530738e+09     69.404000     66.200000     71.600000    762.811020   \n",
       "75%    1.538914e+09     78.440000     75.200000     80.600000    765.811260   \n",
       "max    1.546297e+09    107.366000    105.800000    109.400000    781.562520   \n",
       "\n",
       "           humidity    wind_speed      wind_deg     rain_1h    rain_3h  \\\n",
       "count  10501.000000  10501.000000  10501.000000  926.000000  14.000000   \n",
       "mean      69.428340      5.893035    132.279116    1.973035   0.650536   \n",
       "std       21.652778      3.375699    113.222627    2.599333   1.220933   \n",
       "min       10.000000      0.000000      0.000000    0.250000   0.175000   \n",
       "25%       52.000000      4.473884     10.000000    0.380000   0.215000   \n",
       "50%       74.000000      4.473884    140.000000    0.930000   0.407500   \n",
       "75%       88.000000      6.710826    190.000000    2.495000   0.440000   \n",
       "max      100.000000     29.080244    360.000000   19.560000   4.875000   \n",
       "\n",
       "       snow_1h    clouds_all    weather_id  \n",
       "count      0.0  10501.000000  10501.000000  \n",
       "mean       NaN     49.032568    705.047138  \n",
       "std        NaN     40.612568    154.670155  \n",
       "min        NaN      0.000000    200.000000  \n",
       "25%        NaN      1.000000    701.000000  \n",
       "50%        NaN     75.000000    800.000000  \n",
       "75%        NaN     90.000000    801.000000  \n",
       "max        NaN    100.000000    804.000000  "
      ]
     },
     "execution_count": 30,
     "metadata": {},
     "output_type": "execute_result"
    }
   ],
   "source": [
    "df_2018_weather = df_from_weather_csv_clean_imperial\n",
    "\n",
    "#look at weather describe (all units imperial now)\n",
    "df_2018_weather.describe()\n"
   ]
  },
  {
   "cell_type": "code",
   "execution_count": 31,
   "metadata": {},
   "outputs": [],
   "source": [
    "max_temps_2018_day = []\n",
    "min_temps_2018_day = []\n",
    "#set the dt_iso as the index\n",
    "df_2018_weather.index = df_2018_weather[\"dt_iso\"]\n",
    "max_temps_2018 = df_2018_weather.resample('D').max()\n",
    "min_temps_2018 = df_2018_weather.resample('D').min()\n",
    "max_temps_2018_day_series = max_temps_2018[\"temp_max\"]\n",
    "min_temps_2018_day_series = min_temps_2018[\"temp_min\"]\n",
    "calday_series = min_temps_2018.index\n"
   ]
  },
  {
   "cell_type": "code",
   "execution_count": 32,
   "metadata": {},
   "outputs": [
    {
     "data": {
      "text/plain": [
       "Text(0, 0.5, 'DegF')"
      ]
     },
     "execution_count": 32,
     "metadata": {},
     "output_type": "execute_result"
    },
    {
     "data": {
      "image/png": "[encoded data removed]",
      "text/plain": [
       "<Figure size 432x288 with 1 Axes>"
      ]
     },
     "metadata": {
      "needs_background": "light"
     },
     "output_type": "display_data"
    }
   ],
   "source": [
    "#make may2018 max_temp line chart\n",
    "# Include this line to make plots interactive\n",
    "#%matplotlib notebook\n",
    "\n",
    "# Create a handle for each plot\n",
    "MaxTemp, = plt.plot(calday_series, max_temps_2018_day_series, marker=\"+\",color=\"blue\", linewidth=1, label=\"MaxTemp\")\n",
    "MinTemp, = plt.plot(calday_series, min_temps_2018_day_series, marker=\"s\", color=\"Red\", linewidth=1, label=\"MinTemp\")\n",
    "\n",
    "# Set our legend to where the chart thinks is best\n",
    "plt.legend(handles=[MinTemp, MaxTemp], loc=\"best\")\n",
    "\n",
    "# Create labels for the X and Y axis\n",
    "plt.xlabel(\"Days\")\n",
    "plt.ylabel(\"DegF\")\n"
   ]
  },
  {
   "cell_type": "code",
   "execution_count": 33,
   "metadata": {},
   "outputs": [
    {
     "data": {
      "text/plain": [
       "Text(0, 0.5, 'DegF')"
      ]
     },
     "execution_count": 33,
     "metadata": {},
     "output_type": "execute_result"
    },
    {
     "data": {
      "image/png": "[encoded data removed]",
      "text/plain": [
       "<Figure size 432x288 with 1 Axes>"
      ]
     },
     "metadata": {
      "needs_background": "light"
     },
     "output_type": "display_data"
    }
   ],
   "source": [
    "#look at May2018\n",
    "max_temps_2018_may = []\n",
    "min_temps_2018_may = []\n",
    "\n",
    "#may mask for temps\n",
    "may_mask = (df_2018_weather['dt_iso'].dt.month == 5)\n",
    "\n",
    "#set the dt_iso as the index\n",
    "#df_2018_weather.index = df_2018_weather[\"dt_iso\"]\n",
    "df_may = df_2018_weather[may_mask]\n",
    "max_temps_may_2018 = df_may.resample('D').max()\n",
    "min_temps_may_2018 = df_may.resample('D').min()\n",
    "max_temps_2018_may_series = max_temps_may_2018[\"temp_max\"]\n",
    "min_temps_2018_day_series = min_temps_may_2018[\"temp_min\"]\n",
    "calday_series = min_temps_2018.index\n",
    "\n",
    "min_temps_2018_may_series = min_temps_may_2018[\"temp_min\"]\n",
    "calday_may_series = min_temps_may_2018.index\n",
    "\n",
    "# Create a handle for each plot\n",
    "MaxTempMay, = plt.plot(calday_may_series, max_temps_2018_may_series, marker=\"+\",color=\"blue\", linewidth=1, label=\"MaxTempMay\")\n",
    "MinTempMay, = plt.plot(calday_may_series, min_temps_2018_may_series, marker=\"s\", color=\"Red\", linewidth=1, label=\"MinTempMay\")\n",
    "\n",
    "# Set our legend to where the chart thinks is best\n",
    "plt.legend(handles=[MinTempMay, MaxTempMay], loc=\"best\")\n",
    "\n",
    "# Create labels for the X and Y axis\n",
    "plt.xlabel(\"MayDays\")\n",
    "plt.ylabel(\"DegF\")\n"
   ]
  },
  {
   "cell_type": "code",
   "execution_count": null,
   "metadata": {},
   "outputs": [],
   "source": []
  },
  {
   "cell_type": "code",
   "execution_count": null,
   "metadata": {},
   "outputs": [],
   "source": []
  },
  {
   "cell_type": "code",
   "execution_count": null,
   "metadata": {},
   "outputs": [],
   "source": []
  },
  {
   "cell_type": "markdown",
   "metadata": {},
   "source": [
    "\n",
    "# Define df's for team member's plotting use"
   ]
  },
  {
   "cell_type": "markdown",
   "metadata": {},
   "source": [
    "### CREATING analysis_df AS FULL ACCIDENT DATAFRAME"
   ]
  },
  {
   "cell_type": "code",
   "execution_count": 34,
   "metadata": {},
   "outputs": [
    {
     "data": {
      "text/plain": [
       "34381"
      ]
     },
     "execution_count": 34,
     "metadata": {},
     "output_type": "execute_result"
    }
   ],
   "source": [
    "#we will subdivide into these Issues Reported:\n",
    "#Crash Urgent, Crash Service, COLLISION, COLLISION WITH INJURY, COLLISN/ LVNG SCN, COLLISION/PRIVATE PROPERTY, TRAFFIC FATALITY\n",
    "analysis_issues = ('CRASH URGENT', 'CRASH SERVICE', 'COLLISION', 'COLLISION WITH INJURY', 'COLLISN/ LVNG SCN', 'COLLISION/PRIVATE PROPERTY', 'TRAFFIC FATALITY')\n",
    "analysis_df = filtered_df[filtered_df['Issue Reported'].isin(analysis_issues)]\n",
    "# analysis_df.tail()\n",
    "len(analysis_df)\n",
    "#old was  34131...b4 Eric upper cases stuff"
   ]
  },
  {
   "cell_type": "markdown",
   "metadata": {},
   "source": [
    "### USING TIME MASKS TO CREATE rush_hr_df and no_rush_df FOR CONGESTION COMPARISONS"
   ]
  },
  {
   "cell_type": "code",
   "execution_count": 35,
   "metadata": {},
   "outputs": [],
   "source": [
    "am_time_mask = (analysis_df['Published Date'].dt.hour >= 0) & \\\n",
    "           (analysis_df['Published Date'].dt.hour <= 5)\n",
    "am_report_df = analysis_df[am_time_mask]\n",
    "# am_report_df.head()"
   ]
  },
  {
   "cell_type": "code",
   "execution_count": 36,
   "metadata": {},
   "outputs": [],
   "source": [
    "mid_time_mask = (analysis_df['Published Date'].dt.hour >= 9) & \\\n",
    "           (analysis_df['Published Date'].dt.hour <= 15)\n",
    "mid_report_df = analysis_df[mid_time_mask]\n",
    "# mid_report_df.head()"
   ]
  },
  {
   "cell_type": "code",
   "execution_count": 37,
   "metadata": {},
   "outputs": [],
   "source": [
    "pm_time_mask = (analysis_df['Published Date'].dt.hour >= 19) & \\\n",
    "           (analysis_df['Published Date'].dt.hour <= 24)\n",
    "pm_report_df = analysis_df[pm_time_mask]\n",
    "# pm_report_df.head()"
   ]
  },
  {
   "cell_type": "code",
   "execution_count": 38,
   "metadata": {},
   "outputs": [],
   "source": [
    "non_rush_1_df = am_report_df.append(mid_report_df, ignore_index=True)\n",
    "# non_rush_1_df.head()"
   ]
  },
  {
   "cell_type": "code",
   "execution_count": 39,
   "metadata": {},
   "outputs": [
    {
     "data": {
      "text/html": [
       "<div>\n",
       "<style scoped>\n",
       "    .dataframe tbody tr th:only-of-type {\n",
       "        vertical-align: middle;\n",
       "    }\n",
       "\n",
       "    .dataframe tbody tr th {\n",
       "        vertical-align: top;\n",
       "    }\n",
       "\n",
       "    .dataframe thead th {\n",
       "        text-align: right;\n",
       "    }\n",
       "</style>\n",
       "<table border=\"1\" class=\"dataframe\">\n",
       "  <thead>\n",
       "    <tr style=\"text-align: right;\">\n",
       "      <th></th>\n",
       "      <th>Traffic Report ID</th>\n",
       "      <th>Published Date</th>\n",
       "      <th>Issue Reported</th>\n",
       "      <th>Location</th>\n",
       "      <th>Latitude</th>\n",
       "      <th>Longitude</th>\n",
       "      <th>Address</th>\n",
       "      <th>Status</th>\n",
       "      <th>Status Date</th>\n",
       "    </tr>\n",
       "  </thead>\n",
       "  <tbody>\n",
       "    <tr>\n",
       "      <th>0</th>\n",
       "      <td>69E356FC5B897FF52301D1A4D870E2862A05C244_15324...</td>\n",
       "      <td>2018-07-24 05:40:48</td>\n",
       "      <td>COLLISION</td>\n",
       "      <td>(30.094498,-97.761155)</td>\n",
       "      <td>30.094498</td>\n",
       "      <td>-97.761155</td>\n",
       "      <td>6700-7940 S SH 45 E WB</td>\n",
       "      <td>ARCHIVED</td>\n",
       "      <td>2018-07-24 06:45:02</td>\n",
       "    </tr>\n",
       "    <tr>\n",
       "      <th>1</th>\n",
       "      <td>B039469E10CC32B9EB6AAEE8AABB64A15836746F_15381...</td>\n",
       "      <td>2018-09-29 00:58:05</td>\n",
       "      <td>CRASH SERVICE</td>\n",
       "      <td>(30.287391,-97.741586)</td>\n",
       "      <td>30.287391</td>\n",
       "      <td>-97.741586</td>\n",
       "      <td>2340 Guadalupe St</td>\n",
       "      <td>ARCHIVED</td>\n",
       "      <td>2018-09-29 01:40:03</td>\n",
       "    </tr>\n",
       "    <tr>\n",
       "      <th>2</th>\n",
       "      <td>A0A82EBDD4A855C999B56CE855A244A672DCAFFF_15381...</td>\n",
       "      <td>2018-09-29 00:54:38</td>\n",
       "      <td>CRASH SERVICE</td>\n",
       "      <td>(30.225971,-97.804548)</td>\n",
       "      <td>30.225971</td>\n",
       "      <td>-97.804548</td>\n",
       "      <td>Jones Rd &amp; West Wind Trl</td>\n",
       "      <td>ARCHIVED</td>\n",
       "      <td>2018-09-29 02:10:03</td>\n",
       "    </tr>\n",
       "    <tr>\n",
       "      <th>3</th>\n",
       "      <td>08D67B9F9F6E2794FD86FD4B7E70E8360CCDBEAD_15381...</td>\n",
       "      <td>2018-09-29 02:37:20</td>\n",
       "      <td>CRASH SERVICE</td>\n",
       "      <td>(30.311435,-97.709675)</td>\n",
       "      <td>30.311435</td>\n",
       "      <td>-97.709675</td>\n",
       "      <td>5200-5226 N Ih 35 Svrd Sb</td>\n",
       "      <td>ARCHIVED</td>\n",
       "      <td>2018-09-29 03:10:02</td>\n",
       "    </tr>\n",
       "    <tr>\n",
       "      <th>4</th>\n",
       "      <td>1D533EC2E7D744E1AC9A2E874A5F269093234DF3_15382...</td>\n",
       "      <td>2018-09-30 05:04:56</td>\n",
       "      <td>CRASH URGENT</td>\n",
       "      <td>(30.411702,-97.722008)</td>\n",
       "      <td>30.411702</td>\n",
       "      <td>-97.722008</td>\n",
       "      <td>Amherst Dr &amp; Duval Rd</td>\n",
       "      <td>ARCHIVED</td>\n",
       "      <td>2018-09-30 06:05:02</td>\n",
       "    </tr>\n",
       "  </tbody>\n",
       "</table>\n",
       "</div>"
      ],
      "text/plain": [
       "                                   Traffic Report ID      Published Date  \\\n",
       "0  69E356FC5B897FF52301D1A4D870E2862A05C244_15324... 2018-07-24 05:40:48   \n",
       "1  B039469E10CC32B9EB6AAEE8AABB64A15836746F_15381... 2018-09-29 00:58:05   \n",
       "2  A0A82EBDD4A855C999B56CE855A244A672DCAFFF_15381... 2018-09-29 00:54:38   \n",
       "3  08D67B9F9F6E2794FD86FD4B7E70E8360CCDBEAD_15381... 2018-09-29 02:37:20   \n",
       "4  1D533EC2E7D744E1AC9A2E874A5F269093234DF3_15382... 2018-09-30 05:04:56   \n",
       "\n",
       "  Issue Reported                Location   Latitude  Longitude  \\\n",
       "0      COLLISION  (30.094498,-97.761155)  30.094498 -97.761155   \n",
       "1  CRASH SERVICE  (30.287391,-97.741586)  30.287391 -97.741586   \n",
       "2  CRASH SERVICE  (30.225971,-97.804548)  30.225971 -97.804548   \n",
       "3  CRASH SERVICE  (30.311435,-97.709675)  30.311435 -97.709675   \n",
       "4   CRASH URGENT  (30.411702,-97.722008)  30.411702 -97.722008   \n",
       "\n",
       "                     Address    Status         Status Date  \n",
       "0     6700-7940 S SH 45 E WB  ARCHIVED 2018-07-24 06:45:02  \n",
       "1          2340 Guadalupe St  ARCHIVED 2018-09-29 01:40:03  \n",
       "2   Jones Rd & West Wind Trl  ARCHIVED 2018-09-29 02:10:03  \n",
       "3  5200-5226 N Ih 35 Svrd Sb  ARCHIVED 2018-09-29 03:10:02  \n",
       "4      Amherst Dr & Duval Rd  ARCHIVED 2018-09-30 06:05:02  "
      ]
     },
     "execution_count": 39,
     "metadata": {},
     "output_type": "execute_result"
    }
   ],
   "source": [
    "non_rush_df = non_rush_1_df.append(pm_report_df, ignore_index=True)\n",
    "non_rush_df.head()"
   ]
  },
  {
   "cell_type": "code",
   "execution_count": 40,
   "metadata": {
    "scrolled": true
   },
   "outputs": [
    {
     "data": {
      "text/plain": [
       "Traffic Report ID    24853\n",
       "Published Date       24853\n",
       "Issue Reported       24853\n",
       "Location             24853\n",
       "Latitude             24853\n",
       "Longitude            24853\n",
       "Address              24853\n",
       "Status               24853\n",
       "Status Date          24853\n",
       "dtype: int64"
      ]
     },
     "execution_count": 40,
     "metadata": {},
     "output_type": "execute_result"
    }
   ],
   "source": [
    "non_rush_df.count()"
   ]
  },
  {
   "cell_type": "code",
   "execution_count": 41,
   "metadata": {},
   "outputs": [],
   "source": [
    "am_rush_mask = (analysis_df['Published Date'].dt.hour >= 6) & \\\n",
    "           (analysis_df['Published Date'].dt.hour <= 8)\n",
    "am_rush_df = analysis_df[am_rush_mask]\n",
    "# am_rush_df.head()\n",
    "\n"
   ]
  },
  {
   "cell_type": "code",
   "execution_count": 42,
   "metadata": {},
   "outputs": [],
   "source": [
    "pm_rush_mask = (analysis_df['Published Date'].dt.hour >= 16) & \\\n",
    "           (analysis_df['Published Date'].dt.hour <= 18)\n",
    "pm_rush_df = analysis_df[pm_rush_mask]\n",
    "# pm_rush_df.head()"
   ]
  },
  {
   "cell_type": "code",
   "execution_count": 43,
   "metadata": {},
   "outputs": [],
   "source": [
    "rush_hr_df = am_rush_df.append(pm_rush_df, ignore_index=True)\n",
    "# rush_hr_df.tail()\n",
    "#rush_hr_df.count()"
   ]
  },
  {
   "cell_type": "markdown",
   "metadata": {},
   "source": [
    "# FILTER BY MONTH\n",
    "### USE (mmm)_report_df for ALL ACCIDENTS in that month\n",
    "### USE (mmm)_report2_df for NON-RUSH HOUR ACCIDENTS in that month\n",
    "### USE (mmm)_report3_df for all RUSH HOUR ACCIDENTS in that month"
   ]
  },
  {
   "cell_type": "code",
   "execution_count": 44,
   "metadata": {},
   "outputs": [],
   "source": [
    "# Filter analysis df and non-rush df by month for plotting\n",
    "# Generate January report dataframes\n",
    "jan_mask = (analysis_df['Published Date'].dt.month == 1)\n",
    "jan_mask2 = (non_rush_df['Published Date'].dt.month == 1)\n",
    "jan_mask3 = (rush_hr_df['Published Date'].dt.month == 1)\n",
    "jan_report_df = analysis_df[jan_mask]\n",
    "jan_report2_df = non_rush_df[jan_mask2]\n",
    "jan_report3_df = rush_hr_df[jan_mask3]\n",
    "jan_count = jan_report_df['Published Date'].count()\n",
    "jan_count2 = jan_report2_df['Published Date'].count()\n",
    "jan_count3 = jan_report3_df['Published Date'].count()\n",
    "# jan_count3"
   ]
  },
  {
   "cell_type": "code",
   "execution_count": 45,
   "metadata": {},
   "outputs": [],
   "source": [
    "# Generate February report dataframes\n",
    "feb_mask = (analysis_df['Published Date'].dt.month == 2)\n",
    "feb_mask2 = (non_rush_df['Published Date'].dt.month == 2)\n",
    "feb_mask3 = (rush_hr_df['Published Date'].dt.month == 2)\n",
    "feb_report_df = analysis_df[feb_mask]\n",
    "feb_report2_df = non_rush_df[feb_mask2]\n",
    "feb_report3_df = rush_hr_df[feb_mask3]\n",
    "feb_count = feb_report_df['Published Date'].count()\n",
    "feb_count2 = feb_report2_df['Published Date'].count()\n",
    "feb_count3 = feb_report3_df['Published Date'].count()"
   ]
  },
  {
   "cell_type": "code",
   "execution_count": 46,
   "metadata": {},
   "outputs": [],
   "source": [
    "# Generate March report dataframes\n",
    "mar_mask = (analysis_df['Published Date'].dt.month == 3)\n",
    "mar_mask2 = (non_rush_df['Published Date'].dt.month == 3)\n",
    "mar_mask3 = (rush_hr_df['Published Date'].dt.month == 3)\n",
    "mar_report_df = analysis_df[mar_mask]\n",
    "mar_report2_df = non_rush_df[mar_mask2]\n",
    "mar_report3_df = rush_hr_df[mar_mask3]\n",
    "mar_count = mar_report_df['Published Date'].count()\n",
    "mar_count2 = mar_report2_df['Published Date'].count()\n",
    "mar_count3 = mar_report3_df['Published Date'].count()"
   ]
  },
  {
   "cell_type": "code",
   "execution_count": 47,
   "metadata": {},
   "outputs": [],
   "source": [
    "# Generate April report dataframes\n",
    "apr_mask = (analysis_df['Published Date'].dt.month == 4)\n",
    "apr_mask2 = (non_rush_df['Published Date'].dt.month == 4)\n",
    "apr_mask3 = (rush_hr_df['Published Date'].dt.month == 4)\n",
    "apr_report_df = analysis_df[apr_mask]\n",
    "apr_report2_df = non_rush_df[apr_mask2]\n",
    "apr_report3_df = rush_hr_df[apr_mask3]\n",
    "apr_count = apr_report_df['Published Date'].count()\n",
    "apr_count2 = apr_report2_df['Published Date'].count()\n",
    "apr_count3 = apr_report3_df['Published Date'].count()"
   ]
  },
  {
   "cell_type": "code",
   "execution_count": 48,
   "metadata": {},
   "outputs": [],
   "source": [
    "# Generate May report dataframes\n",
    "may_mask = (analysis_df['Published Date'].dt.month == 5)\n",
    "may_mask2 = (non_rush_df['Published Date'].dt.month == 5)\n",
    "may_mask3 = (rush_hr_df['Published Date'].dt.month == 5)\n",
    "may_report_df = analysis_df[may_mask]\n",
    "may_report2_df = non_rush_df[may_mask2]\n",
    "may_report3_df = rush_hr_df[may_mask3]\n",
    "may_count = may_report_df['Published Date'].count()\n",
    "may_count2 = may_report2_df['Published Date'].count()\n",
    "may_count3 = may_report3_df['Published Date'].count()"
   ]
  },
  {
   "cell_type": "code",
   "execution_count": 49,
   "metadata": {},
   "outputs": [],
   "source": [
    "# Generate June report dataframes\n",
    "jun_mask = (analysis_df['Published Date'].dt.month == 6)\n",
    "jun_mask2 = (non_rush_df['Published Date'].dt.month == 6)\n",
    "jun_mask3 = (rush_hr_df['Published Date'].dt.month == 6)\n",
    "jun_report_df = analysis_df[jun_mask]\n",
    "jun_report2_df = non_rush_df[jun_mask2]\n",
    "jun_report3_df = rush_hr_df[jun_mask3]\n",
    "jun_count = jun_report_df['Published Date'].count()\n",
    "jun_count2 = jun_report2_df['Published Date'].count()\n",
    "jun_count3 = jun_report3_df['Published Date'].count()"
   ]
  },
  {
   "cell_type": "code",
   "execution_count": 50,
   "metadata": {},
   "outputs": [],
   "source": [
    "# Generate July report dataframes\n",
    "jul_mask = (analysis_df['Published Date'].dt.month == 7)\n",
    "jul_mask2 = (non_rush_df['Published Date'].dt.month == 7)\n",
    "jul_mask3 = (rush_hr_df['Published Date'].dt.month == 7)\n",
    "jul_report_df = analysis_df[jul_mask]\n",
    "jul_report2_df = non_rush_df[jul_mask2]\n",
    "jul_report3_df = rush_hr_df[jul_mask3]\n",
    "jul_count = jul_report_df['Published Date'].count()\n",
    "jul_count2 = jul_report2_df['Published Date'].count()\n",
    "jul_count3 = jul_report3_df['Published Date'].count()"
   ]
  },
  {
   "cell_type": "code",
   "execution_count": 51,
   "metadata": {},
   "outputs": [],
   "source": [
    "# Generate August report dataframes\n",
    "aug_mask = (analysis_df['Published Date'].dt.month == 8)\n",
    "aug_mask2 = (non_rush_df['Published Date'].dt.month == 8)\n",
    "aug_mask3 = (rush_hr_df['Published Date'].dt.month == 8)\n",
    "aug_report_df = analysis_df[aug_mask]\n",
    "aug_report2_df = non_rush_df[aug_mask2]\n",
    "aug_report3_df = rush_hr_df[aug_mask3]\n",
    "aug_count = aug_report_df['Published Date'].count()\n",
    "aug_count2 = aug_report2_df['Published Date'].count()\n",
    "aug_count3 = aug_report3_df['Published Date'].count()"
   ]
  },
  {
   "cell_type": "code",
   "execution_count": 52,
   "metadata": {},
   "outputs": [],
   "source": [
    "# Generate September report dataframes\n",
    "sep_mask = (analysis_df['Published Date'].dt.month == 9)\n",
    "sep_mask2 = (non_rush_df['Published Date'].dt.month == 9)\n",
    "sep_mask3 = (rush_hr_df['Published Date'].dt.month == 9)\n",
    "sep_report_df = analysis_df[sep_mask]\n",
    "sep_report2_df = non_rush_df[sep_mask2]\n",
    "sep_report3_df = rush_hr_df[sep_mask3]\n",
    "sep_count = sep_report_df['Published Date'].count()\n",
    "sep_count2 = sep_report2_df['Published Date'].count()\n",
    "sep_count3 = sep_report3_df['Published Date'].count()"
   ]
  },
  {
   "cell_type": "code",
   "execution_count": 53,
   "metadata": {},
   "outputs": [],
   "source": [
    "# Generate October report dataframes\n",
    "oct_mask = (analysis_df['Published Date'].dt.month == 10)\n",
    "oct_mask2 = (non_rush_df['Published Date'].dt.month == 10)\n",
    "oct_mask3 = (rush_hr_df['Published Date'].dt.month == 10)\n",
    "oct_report_df = analysis_df[oct_mask]\n",
    "oct_report2_df = non_rush_df[oct_mask2]\n",
    "oct_report3_df = rush_hr_df[oct_mask3]\n",
    "oct_count = oct_report_df['Published Date'].count()\n",
    "oct_count2 = oct_report2_df['Published Date'].count()\n",
    "oct_count3 = oct_report3_df['Published Date'].count()"
   ]
  },
  {
   "cell_type": "code",
   "execution_count": 54,
   "metadata": {},
   "outputs": [],
   "source": [
    "# Generate November report dataframes\n",
    "nov_mask = (analysis_df['Published Date'].dt.month == 11)\n",
    "nov_mask2 = (non_rush_df['Published Date'].dt.month == 11)\n",
    "nov_mask3 = (rush_hr_df['Published Date'].dt.month == 11)\n",
    "nov_report_df = analysis_df[nov_mask]\n",
    "nov_report2_df = non_rush_df[nov_mask2]\n",
    "nov_report3_df = rush_hr_df[nov_mask3]\n",
    "nov_count = nov_report_df['Published Date'].count()\n",
    "nov_count2 = nov_report2_df['Published Date'].count()\n",
    "nov_count3 = nov_report3_df['Published Date'].count()"
   ]
  },
  {
   "cell_type": "code",
   "execution_count": 55,
   "metadata": {},
   "outputs": [],
   "source": [
    "# Generate December report dataframes\n",
    "dec_mask = (analysis_df['Published Date'].dt.month == 12)\n",
    "dec_mask2 = (non_rush_df['Published Date'].dt.month == 12)\n",
    "dec_mask3 = (rush_hr_df['Published Date'].dt.month == 12)\n",
    "dec_report_df = analysis_df[dec_mask]\n",
    "dec_report2_df = non_rush_df[dec_mask2]\n",
    "dec_report3_df = rush_hr_df[dec_mask3]\n",
    "dec_count = dec_report_df['Published Date'].count()\n",
    "dec_count2 = dec_report2_df['Published Date'].count()\n",
    "dec_count3 = dec_report3_df['Published Date'].count()\n",
    "# dec_count2"
   ]
  },
  {
   "cell_type": "code",
   "execution_count": 56,
   "metadata": {},
   "outputs": [],
   "source": [
    "# months = [\"JAN\", \"FEB\", \"MAR\", \"APR\", \"MAY\", \"JUN\", \"JUL\", \"AUG\", \"SEP\", \"OCT\", \"NOV\", \"DEC\"]\n",
    "# accidents = [\n",
    "#     jan_count, feb_count, mar_count, apr_count, may_count, jun_count,\n",
    "#     jul_count, aug_count, sep_count, oct_count, nov_count, dec_count\n",
    "# ]\n",
    "\n",
    "# x_axis = np.arange(len(months))"
   ]
  },
  {
   "cell_type": "code",
   "execution_count": 57,
   "metadata": {},
   "outputs": [],
   "source": [
    "# # Create a bar chart based upon the above data\n",
    "# plt.bar(x_axis, accidents, color=\"blue\", alpha=0.75, align=\"center\")\n",
    "# # Create the ticks for our bar chart's x axis\n",
    "# tick_locations = [value for value in x_axis]\n",
    "# plt.xticks(tick_locations, (months))\n",
    "# # Set the limits of the x axis\n",
    "# plt.xlim(-0.75, len(x_axis)-0.25)\n",
    "# # Set the limits of the y axis\n",
    "# plt.ylim(0, max(accidents)+500)\n",
    "# # Give the chart a title, x label, and y label\n",
    "# plt.title(\"Accident Frequency by Month - 2018\")\n",
    "# plt.xlabel(\"Months\")\n",
    "# plt.ylabel(\"Number of Accidents\")\n",
    "# # Save an image of the chart and print it to the screen\n",
    "# plt.savefig(\"output_data/MonthComparison.png\")\n"
   ]
  },
  {
   "cell_type": "markdown",
   "metadata": {},
   "source": [
    "# FILTER BY DAY OF THE WEEK\n",
    "### USE (ddd)_all_df for ALL ACCIDENTS in that DAY of the WEEK¶\n",
    "### USE (ddd)_norush_df for NON-RUSH HOUR ACCIDENTS in that DAY of the WEEK\n",
    "### USE (ddd)_rushhr_df for all RUSH HOUR ACCIDENTS in that DAY of the WEEK"
   ]
  },
  {
   "cell_type": "code",
   "execution_count": 58,
   "metadata": {},
   "outputs": [],
   "source": [
    "# Filter analysis df by day of week for plotting\n",
    "# Generate Monday report dataframes\n",
    "mon_all_mask = (analysis_df['Published Date'].dt.dayofweek == 0)\n",
    "mon_norush_mask = (non_rush_df['Published Date'].dt.dayofweek == 0)\n",
    "mon_rushhr_mask = (rush_hr_df['Published Date'].dt.dayofweek == 0)\n",
    "mon_all_df = analysis_df[mon_all_mask]\n",
    "mon_norush_df = non_rush_df[mon_norush_mask]\n",
    "mon_rushhr_df = rush_hr_df[mon_rushhr_mask]\n",
    "mon_all_count = mon_all_df['Published Date'].count()\n",
    "mon_norush_count = mon_norush_df['Published Date'].count()\n",
    "mon_rushhr_count = mon_rushhr_df['Published Date'].count()\n",
    "# mon_report_df.tail()\n",
    "# mon_norush_count\n",
    "# mon_rushhr_count"
   ]
  },
  {
   "cell_type": "code",
   "execution_count": 59,
   "metadata": {},
   "outputs": [],
   "source": [
    "# Generate Tuesday report dataframes\n",
    "tue_all_mask = (analysis_df['Published Date'].dt.dayofweek == 1)\n",
    "tue_norush_mask = (non_rush_df['Published Date'].dt.dayofweek == 1)\n",
    "tue_rushhr_mask = (rush_hr_df['Published Date'].dt.dayofweek == 1)\n",
    "tue_all_df = analysis_df[tue_all_mask]\n",
    "tue_norush_df = non_rush_df[tue_norush_mask]\n",
    "tue_rushhr_df = rush_hr_df[tue_rushhr_mask]\n",
    "tue_all_count = tue_all_df['Published Date'].count()\n",
    "tue_norush_count = tue_norush_df['Published Date'].count()\n",
    "tue_rushhr_count = tue_rushhr_df['Published Date'].count()\n",
    "\n",
    "# tue_report_df.tail()\n",
    "# tue_rushhr_count"
   ]
  },
  {
   "cell_type": "code",
   "execution_count": 60,
   "metadata": {},
   "outputs": [],
   "source": [
    "# Generate Wednesday report dataframes\n",
    "wed_all_mask = (analysis_df['Published Date'].dt.dayofweek == 2)\n",
    "wed_norush_mask = (non_rush_df['Published Date'].dt.dayofweek == 2)\n",
    "wed_rushhr_mask = (rush_hr_df['Published Date'].dt.dayofweek == 2)\n",
    "wed_all_df = analysis_df[wed_all_mask]\n",
    "wed_norush_df = non_rush_df[wed_norush_mask]\n",
    "wed_rushhr_df = rush_hr_df[wed_rushhr_mask]\n",
    "wed_all_count = wed_all_df['Published Date'].count()\n",
    "wed_norush_count = wed_norush_df['Published Date'].count()\n",
    "wed_rushhr_count = wed_rushhr_df['Published Date'].count()\n",
    "\n",
    "# wed_report_df.tail()\n",
    "# wed_rushhr_count"
   ]
  },
  {
   "cell_type": "code",
   "execution_count": 61,
   "metadata": {},
   "outputs": [],
   "source": [
    "# Generate Thursday report dataframes\n",
    "thu_all_mask = (analysis_df['Published Date'].dt.dayofweek == 3)\n",
    "thu_norush_mask = (non_rush_df['Published Date'].dt.dayofweek == 3)\n",
    "thu_rushhr_mask = (rush_hr_df['Published Date'].dt.dayofweek == 3)\n",
    "thu_all_df = analysis_df[thu_all_mask]\n",
    "thu_norush_df = non_rush_df[thu_norush_mask]\n",
    "thu_rushhr_df = rush_hr_df[thu_rushhr_mask]\n",
    "thu_all_count = thu_all_df['Published Date'].count()\n",
    "thu_norush_count = thu_norush_df['Published Date'].count()\n",
    "thu_rushhr_count = thu_rushhr_df['Published Date'].count()\n",
    "\n",
    "# thu_report_df.tail()\n",
    "# thu_rushhr_count"
   ]
  },
  {
   "cell_type": "code",
   "execution_count": 62,
   "metadata": {},
   "outputs": [],
   "source": [
    "# Generate Friday report dataframes\n",
    "fri_all_mask = (analysis_df['Published Date'].dt.dayofweek == 4)\n",
    "fri_norush_mask = (non_rush_df['Published Date'].dt.dayofweek == 4)\n",
    "fri_rushhr_mask = (rush_hr_df['Published Date'].dt.dayofweek == 4)\n",
    "fri_all_df = analysis_df[fri_all_mask]\n",
    "fri_norush_df = non_rush_df[fri_norush_mask]\n",
    "fri_rushhr_df = rush_hr_df[fri_rushhr_mask]\n",
    "fri_all_count = fri_all_df['Published Date'].count()\n",
    "fri_norush_count = fri_norush_df['Published Date'].count()\n",
    "fri_rushhr_count = fri_rushhr_df['Published Date'].count()\n",
    "\n",
    "\n",
    "# fri_report_df.tail()\n",
    "# fri_rushhr_count"
   ]
  },
  {
   "cell_type": "code",
   "execution_count": 63,
   "metadata": {},
   "outputs": [],
   "source": [
    "# Generate Saturday report dataframes\n",
    "sat_all_mask = (analysis_df['Published Date'].dt.dayofweek == 5)\n",
    "sat_norush_mask = (non_rush_df['Published Date'].dt.dayofweek == 5)\n",
    "sat_rushhr_mask = (rush_hr_df['Published Date'].dt.dayofweek == 5)\n",
    "sat_all_df = analysis_df[sat_all_mask]\n",
    "sat_norush_df = non_rush_df[sat_norush_mask]\n",
    "sat_rushhr_df = rush_hr_df[sat_rushhr_mask]\n",
    "sat_all_count = sat_all_df['Published Date'].count()\n",
    "sat_norush_count = sat_norush_df['Published Date'].count()\n",
    "sat_rushhr_count = sat_rushhr_df['Published Date'].count()\n",
    "\n",
    "# sat_report_df.tail()\n",
    "# sat_rushhr_count"
   ]
  },
  {
   "cell_type": "code",
   "execution_count": 64,
   "metadata": {},
   "outputs": [],
   "source": [
    "# Generate Sunday report dataframes\n",
    "sun_all_mask = (analysis_df['Published Date'].dt.dayofweek == 6)\n",
    "sun_norush_mask = (non_rush_df['Published Date'].dt.dayofweek == 6)\n",
    "sun_rushhr_mask = (rush_hr_df['Published Date'].dt.dayofweek == 6)\n",
    "sun_all_df = analysis_df[sun_all_mask]\n",
    "sun_norush_df = non_rush_df[sun_norush_mask]\n",
    "sun_rushhr_df = rush_hr_df[sun_rushhr_mask]\n",
    "sun_all_count = sun_all_df['Published Date'].count()\n",
    "sun_norush_count = sun_norush_df['Published Date'].count()\n",
    "sun_rushhr_count = sun_rushhr_df['Published Date'].count()\n",
    "\n",
    "# sun_report_df.tail()\n",
    "# sun_rushhr_count"
   ]
  },
  {
   "cell_type": "markdown",
   "metadata": {},
   "source": [
    "# FILTER BY HOUR\n",
    "### USE hr_(##)_all_df for ALL ACCIDENTS in that HOUR of the DAY¶"
   ]
  },
  {
   "cell_type": "code",
   "execution_count": 65,
   "metadata": {},
   "outputs": [],
   "source": [
    "# Filter analysis dataframe by time of the day for plotting\n",
    "# Generate Midnight to 1am report dataframes\n",
    "hr_00_mask = (analysis_df['Published Date'].dt.hour == 0)\n",
    "hr_00_all_df = analysis_df[hr_00_mask]\n",
    "hr_00_all_count = hr_00_all_df['Published Date'].count()\n",
    "# hr_00_all_count"
   ]
  },
  {
   "cell_type": "code",
   "execution_count": 66,
   "metadata": {},
   "outputs": [],
   "source": [
    "# Generate 1am to 2am report dataframes\n",
    "hr_01_mask = (analysis_df['Published Date'].dt.hour == 1)\n",
    "hr_01_all_df = analysis_df[hr_01_mask]\n",
    "hr_01_all_count = hr_01_all_df['Published Date'].count()\n",
    "# hr_01_all_count"
   ]
  },
  {
   "cell_type": "code",
   "execution_count": 67,
   "metadata": {},
   "outputs": [],
   "source": [
    "# Generate 2am to 3am report dataframes\n",
    "hr_02_mask = (analysis_df['Published Date'].dt.hour == 2)\n",
    "hr_02_all_df = analysis_df[hr_02_mask]\n",
    "hr_02_all_count = hr_02_all_df['Published Date'].count()\n",
    "# hr_02_all_count"
   ]
  },
  {
   "cell_type": "code",
   "execution_count": 68,
   "metadata": {},
   "outputs": [],
   "source": [
    "# Generate 3am to 4am report dataframes\n",
    "hr_03_mask = (analysis_df['Published Date'].dt.hour == 3)\n",
    "hr_03_all_df = analysis_df[hr_03_mask]\n",
    "hr_03_all_count = hr_03_all_df['Published Date'].count()\n",
    "# hr_03_all_count"
   ]
  },
  {
   "cell_type": "code",
   "execution_count": 69,
   "metadata": {},
   "outputs": [],
   "source": [
    "# Generate 4am to 5am report dataframes\n",
    "hr_04_mask = (analysis_df['Published Date'].dt.hour == 4)\n",
    "hr_04_all_df = analysis_df[hr_04_mask]\n",
    "hr_04_all_count = hr_04_all_df['Published Date'].count()\n",
    "# hr_04_all_count"
   ]
  },
  {
   "cell_type": "code",
   "execution_count": 70,
   "metadata": {},
   "outputs": [],
   "source": [
    "# Generate 5am to 6am report dataframes\n",
    "hr_05_mask = (analysis_df['Published Date'].dt.hour == 5)\n",
    "hr_05_all_df = analysis_df[hr_05_mask]\n",
    "hr_05_all_count = hr_05_all_df['Published Date'].count()\n",
    "# hr_05_all_count"
   ]
  },
  {
   "cell_type": "code",
   "execution_count": 71,
   "metadata": {},
   "outputs": [],
   "source": [
    "# Generate 6am to 7am report dataframes\n",
    "hr_06_mask = (analysis_df['Published Date'].dt.hour == 6)\n",
    "hr_06_all_df = analysis_df[hr_06_mask]\n",
    "hr_06_all_count = hr_06_all_df['Published Date'].count()\n",
    "# hr_06_all_count"
   ]
  },
  {
   "cell_type": "code",
   "execution_count": 72,
   "metadata": {},
   "outputs": [],
   "source": [
    "# Generate 7am to 8am report dataframes\n",
    "hr_07_mask = (analysis_df['Published Date'].dt.hour == 7)\n",
    "hr_07_all_df = analysis_df[hr_07_mask]\n",
    "hr_07_all_count = hr_07_all_df['Published Date'].count()\n",
    "# hr_07_all_count"
   ]
  },
  {
   "cell_type": "code",
   "execution_count": 73,
   "metadata": {},
   "outputs": [],
   "source": [
    "# Generate 8am to 9am report dataframes\n",
    "hr_08_mask = (analysis_df['Published Date'].dt.hour == 8)\n",
    "hr_08_all_df = analysis_df[hr_08_mask]\n",
    "hr_08_all_count = hr_08_all_df['Published Date'].count()\n",
    "# hr_08_all_count"
   ]
  },
  {
   "cell_type": "code",
   "execution_count": 74,
   "metadata": {},
   "outputs": [],
   "source": [
    "# Generate 9am to 10am report dataframes\n",
    "hr_09_mask = (analysis_df['Published Date'].dt.hour == 9)\n",
    "hr_09_all_df = analysis_df[hr_09_mask]\n",
    "hr_09_all_count = hr_09_all_df['Published Date'].count()\n",
    "# hr_09_all_count"
   ]
  },
  {
   "cell_type": "code",
   "execution_count": 75,
   "metadata": {},
   "outputs": [],
   "source": [
    "# Generate 10am to 11am report dataframes\n",
    "hr_10_mask = (analysis_df['Published Date'].dt.hour == 10)\n",
    "hr_10_all_df = analysis_df[hr_10_mask]\n",
    "hr_10_all_count = hr_10_all_df['Published Date'].count()\n",
    "# hr_10_all_count"
   ]
  },
  {
   "cell_type": "code",
   "execution_count": 76,
   "metadata": {},
   "outputs": [],
   "source": [
    "# Generate 11am to Noon report dataframes\n",
    "hr_11_mask = (analysis_df['Published Date'].dt.hour == 11)\n",
    "hr_11_all_df = analysis_df[hr_11_mask]\n",
    "hr_11_all_count = hr_11_all_df['Published Date'].count()\n",
    "# hr_11_all_count"
   ]
  },
  {
   "cell_type": "code",
   "execution_count": 77,
   "metadata": {},
   "outputs": [],
   "source": [
    "# Generate Noon to 1pm report dataframes\n",
    "hr_12_mask = (analysis_df['Published Date'].dt.hour == 12)\n",
    "hr_12_all_df = analysis_df[hr_12_mask]\n",
    "hr_12_all_count = hr_12_all_df['Published Date'].count()\n",
    "# hr_12_all_count"
   ]
  },
  {
   "cell_type": "code",
   "execution_count": 78,
   "metadata": {},
   "outputs": [],
   "source": [
    "# Generate 1pm to 2pm report dataframes\n",
    "hr_13_mask = (analysis_df['Published Date'].dt.hour == 13)\n",
    "hr_13_all_df = analysis_df[hr_13_mask]\n",
    "hr_13_all_count = hr_13_all_df['Published Date'].count()\n",
    "# hr_13_all_count"
   ]
  },
  {
   "cell_type": "code",
   "execution_count": 79,
   "metadata": {},
   "outputs": [],
   "source": [
    "# Generate 2pm to 3pm report dataframes\n",
    "hr_14_mask = (analysis_df['Published Date'].dt.hour == 14)\n",
    "hr_14_all_df = analysis_df[hr_14_mask]\n",
    "hr_14_all_count = hr_14_all_df['Published Date'].count()\n",
    "# hr_14_all_count"
   ]
  },
  {
   "cell_type": "code",
   "execution_count": 80,
   "metadata": {},
   "outputs": [],
   "source": [
    "# Generate 3pm to 4pm report dataframes\n",
    "hr_15_mask = (analysis_df['Published Date'].dt.hour == 15)\n",
    "hr_15_all_df = analysis_df[hr_15_mask]\n",
    "hr_15_all_count = hr_15_all_df['Published Date'].count()\n",
    "# hr_15_all_count"
   ]
  },
  {
   "cell_type": "code",
   "execution_count": 81,
   "metadata": {},
   "outputs": [],
   "source": [
    "# Generate 4pm to 5pm report dataframes\n",
    "hr_16_mask = (analysis_df['Published Date'].dt.hour == 16)\n",
    "hr_16_all_df = analysis_df[hr_16_mask]\n",
    "hr_16_all_count = hr_16_all_df['Published Date'].count()\n",
    "# hr_16_all_count"
   ]
  },
  {
   "cell_type": "code",
   "execution_count": 82,
   "metadata": {},
   "outputs": [],
   "source": [
    "# Generate 5pm to 6pm report dataframes\n",
    "hr_17_mask = (analysis_df['Published Date'].dt.hour == 17)\n",
    "hr_17_all_df = analysis_df[hr_17_mask]\n",
    "hr_17_all_count = hr_17_all_df['Published Date'].count()\n",
    "# hr_17_all_count"
   ]
  },
  {
   "cell_type": "code",
   "execution_count": 83,
   "metadata": {},
   "outputs": [],
   "source": [
    "# Generate 6pm to 7pm report dataframes\n",
    "hr_18_mask = (analysis_df['Published Date'].dt.hour == 18)\n",
    "hr_18_all_df = analysis_df[hr_18_mask]\n",
    "hr_18_all_count = hr_18_all_df['Published Date'].count()\n",
    "# hr_18_all_count"
   ]
  },
  {
   "cell_type": "code",
   "execution_count": 84,
   "metadata": {},
   "outputs": [],
   "source": [
    "# Generate 7pm to 8pm report dataframes\n",
    "hr_19_mask = (analysis_df['Published Date'].dt.hour == 19)\n",
    "hr_19_all_df = analysis_df[hr_19_mask]\n",
    "hr_19_all_count = hr_19_all_df['Published Date'].count()\n",
    "# hr_19_all_count"
   ]
  },
  {
   "cell_type": "code",
   "execution_count": 85,
   "metadata": {},
   "outputs": [],
   "source": [
    "# Generate 8pm to 9pm report dataframes\n",
    "hr_20_mask = (analysis_df['Published Date'].dt.hour == 20)\n",
    "hr_20_all_df = analysis_df[hr_20_mask]\n",
    "hr_20_all_count = hr_20_all_df['Published Date'].count()\n",
    "# hr_20_all_count"
   ]
  },
  {
   "cell_type": "code",
   "execution_count": 86,
   "metadata": {},
   "outputs": [],
   "source": [
    "# Generate 9pm to 10pm report dataframes\n",
    "hr_21_mask = (analysis_df['Published Date'].dt.hour == 21)\n",
    "hr_21_all_df = analysis_df[hr_21_mask]\n",
    "hr_21_all_count = hr_21_all_df['Published Date'].count()\n",
    "# hr_21_all_count"
   ]
  },
  {
   "cell_type": "code",
   "execution_count": 87,
   "metadata": {},
   "outputs": [],
   "source": [
    "# Generate 10pm to 11pm report dataframes\n",
    "hr_22_mask = (analysis_df['Published Date'].dt.hour == 22)\n",
    "hr_22_all_df = analysis_df[hr_22_mask]\n",
    "hr_22_all_count = hr_22_all_df['Published Date'].count()\n",
    "# hr_22_all_count"
   ]
  },
  {
   "cell_type": "code",
   "execution_count": 88,
   "metadata": {},
   "outputs": [],
   "source": [
    "# Generate 11pm to Midnight report dataframes\n",
    "hr_23_mask = (analysis_df['Published Date'].dt.hour == 23)\n",
    "hr_23_all_df = analysis_df[hr_23_mask]\n",
    "hr_23_all_count = hr_23_all_df['Published Date'].count()\n",
    "# hr_23_all_count"
   ]
  },
  {
   "cell_type": "markdown",
   "metadata": {},
   "source": [
    "# PLOTS FOR ANALYSIS"
   ]
  },
  {
   "cell_type": "markdown",
   "metadata": {},
   "source": [
    "### Using Plotly for analysis"
   ]
  },
  {
   "cell_type": "code",
   "execution_count": 89,
   "metadata": {},
   "outputs": [
    {
     "data": {
      "text/html": [
       "<script type=\"text/javascript\">window.PlotlyConfig = {MathJaxConfig: 'local'};</script><script type=\"text/javascript\">if (window.MathJax) {MathJax.Hub.Config({SVG: {font: \"STIX-Web\"}});}</script><script>requirejs.config({paths: { 'plotly': ['https://cdn.plot.ly/plotly-latest.min']},});if(!window._Plotly) {require(['plotly'],function(plotly) {window._Plotly=plotly;});}</script>"
      ],
      "text/vnd.plotly.v1+html": [
       "<script type=\"text/javascript\">window.PlotlyConfig = {MathJaxConfig: 'local'};</script><script type=\"text/javascript\">if (window.MathJax) {MathJax.Hub.Config({SVG: {font: \"STIX-Web\"}});}</script><script>requirejs.config({paths: { 'plotly': ['https://cdn.plot.ly/plotly-latest.min']},});if(!window._Plotly) {require(['plotly'],function(plotly) {window._Plotly=plotly;});}</script>"
      ]
     },
     "metadata": {},
     "output_type": "display_data"
    }
   ],
   "source": [
    "import plotly.graph_objs as go\n",
    "py.offline.init_notebook_mode(connected=True)"
   ]
  },
  {
   "cell_type": "markdown",
   "metadata": {},
   "source": [
    "## Accident Totals by Day of the Week - 2018"
   ]
  },
  {
   "cell_type": "code",
   "execution_count": 90,
   "metadata": {},
   "outputs": [],
   "source": [
    "trace1 = go.Bar(\n",
    "    x=[\"MON\", \"TUE\", \"WED\", \"THU\", \"FRI\", \"SAT\", \"SUN\"],\n",
    "    y=[\n",
    "    mon_rushhr_count, tue_rushhr_count, wed_rushhr_count, thu_rushhr_count, fri_rushhr_count, sat_rushhr_count, sun_rushhr_count\n",
    "],\n",
    "    name='Rush Hour Accidents'\n",
    ")\n",
    "trace2 = go.Bar(\n",
    "    x=[\"MON\", \"TUE\", \"WED\", \"THU\", \"FRI\", \"SAT\", \"SUN\"],\n",
    "    y=[\n",
    "    mon_norush_count, tue_norush_count, wed_norush_count, thu_norush_count, fri_norush_count, sat_norush_count, sun_norush_count\n",
    "],\n",
    "    name='Non-rush Hour Accidents'\n",
    ")"
   ]
  },
  {
   "cell_type": "code",
   "execution_count": 121,
   "metadata": {},
   "outputs": [
    {
     "data": {
      "application/vnd.plotly.v1+json": {
       "config": {
        "linkText": "Export to plot.ly",
        "plotlyServerURL": "https://plot.ly",
        "showLink": false
       },
       "data": [
        {
         "name": "Rush Hour Accidents",
         "type": "bar",
         "uid": "02ad7b9e-c2e6-4681-b016-58ae64c811c0",
         "x": [
          "JAN",
          "FEB",
          "MAR",
          "APR",
          "MAY",
          "JUN",
          "JUL",
          "AUG",
          "SEP",
          "OCT",
          "NOV",
          "DEC"
         ],
         "y": [
          1039,
          820,
          962,
          1088,
          1175,
          715,
          645,
          696,
          604,
          645,
          541,
          598
         ]
        },
        {
         "name": "Non-rush Hour Accidents",
         "type": "bar",
         "uid": "9d234f5a-2e78-4685-b832-29233e6c1937",
         "x": [
          "JAN",
          "FEB",
          "MAR",
          "APR",
          "MAY",
          "JUN",
          "JUL",
          "AUG",
          "SEP",
          "OCT",
          "NOV",
          "DEC"
         ],
         "y": [
          1665,
          1482,
          1666,
          1685,
          1920,
          2084,
          2083,
          2423,
          2280,
          2720,
          2356,
          2489
         ]
        }
       ],
       "layout": {
        "barmode": "stack",
        "title": {
         "text": "Accident Totals by Day of the Week - 2018"
        }
       }
      },
      "text/html": [
       "<div id=\"ca792a3a-7439-418d-b3cc-b8fecddcb871\" style=\"height: 525px; width: 100%;\" class=\"plotly-graph-div\"></div><script type=\"text/javascript\">require([\"plotly\"], function(Plotly) { window.PLOTLYENV=window.PLOTLYENV || {};window.PLOTLYENV.BASE_URL=\"https://plot.ly\";\n",
       "if (document.getElementById(\"ca792a3a-7439-418d-b3cc-b8fecddcb871\")) {\n",
       "    Plotly.newPlot(\"ca792a3a-7439-418d-b3cc-b8fecddcb871\", [{\"name\": \"Rush Hour Accidents\", \"x\": [\"JAN\", \"FEB\", \"MAR\", \"APR\", \"MAY\", \"JUN\", \"JUL\", \"AUG\", \"SEP\", \"OCT\", \"NOV\", \"DEC\"], \"y\": [1039, 820, 962, 1088, 1175, 715, 645, 696, 604, 645, 541, 598], \"type\": \"bar\", \"uid\": \"02ad7b9e-c2e6-4681-b016-58ae64c811c0\"}, {\"name\": \"Non-rush Hour Accidents\", \"x\": [\"JAN\", \"FEB\", \"MAR\", \"APR\", \"MAY\", \"JUN\", \"JUL\", \"AUG\", \"SEP\", \"OCT\", \"NOV\", \"DEC\"], \"y\": [1665, 1482, 1666, 1685, 1920, 2084, 2083, 2423, 2280, 2720, 2356, 2489], \"type\": \"bar\", \"uid\": \"9d234f5a-2e78-4685-b832-29233e6c1937\"}], {\"barmode\": \"stack\", \"title\": {\"text\": \"Accident Totals by Day of the Week - 2018\"}}, {\"showLink\": false, \"linkText\": \"Export to plot.ly\", \"plotlyServerURL\": \"https://plot.ly\"}); \n",
       "}\n",
       "});</script><script type=\"text/javascript\">window.addEventListener(\"resize\", function(){if (document.getElementById(\"ca792a3a-7439-418d-b3cc-b8fecddcb871\")) {window._Plotly.Plots.resize(document.getElementById(\"ca792a3a-7439-418d-b3cc-b8fecddcb871\"));};})</script>"
      ],
      "text/vnd.plotly.v1+html": [
       "<div id=\"ca792a3a-7439-418d-b3cc-b8fecddcb871\" style=\"height: 525px; width: 100%;\" class=\"plotly-graph-div\"></div><script type=\"text/javascript\">require([\"plotly\"], function(Plotly) { window.PLOTLYENV=window.PLOTLYENV || {};window.PLOTLYENV.BASE_URL=\"https://plot.ly\";\n",
       "if (document.getElementById(\"ca792a3a-7439-418d-b3cc-b8fecddcb871\")) {\n",
       "    Plotly.newPlot(\"ca792a3a-7439-418d-b3cc-b8fecddcb871\", [{\"name\": \"Rush Hour Accidents\", \"x\": [\"JAN\", \"FEB\", \"MAR\", \"APR\", \"MAY\", \"JUN\", \"JUL\", \"AUG\", \"SEP\", \"OCT\", \"NOV\", \"DEC\"], \"y\": [1039, 820, 962, 1088, 1175, 715, 645, 696, 604, 645, 541, 598], \"type\": \"bar\", \"uid\": \"02ad7b9e-c2e6-4681-b016-58ae64c811c0\"}, {\"name\": \"Non-rush Hour Accidents\", \"x\": [\"JAN\", \"FEB\", \"MAR\", \"APR\", \"MAY\", \"JUN\", \"JUL\", \"AUG\", \"SEP\", \"OCT\", \"NOV\", \"DEC\"], \"y\": [1665, 1482, 1666, 1685, 1920, 2084, 2083, 2423, 2280, 2720, 2356, 2489], \"type\": \"bar\", \"uid\": \"9d234f5a-2e78-4685-b832-29233e6c1937\"}], {\"barmode\": \"stack\", \"title\": {\"text\": \"Accident Totals by Day of the Week - 2018\"}}, {\"showLink\": false, \"linkText\": \"Export to plot.ly\", \"plotlyServerURL\": \"https://plot.ly\"}); \n",
       "}\n",
       "});</script><script type=\"text/javascript\">window.addEventListener(\"resize\", function(){if (document.getElementById(\"ca792a3a-7439-418d-b3cc-b8fecddcb871\")) {window._Plotly.Plots.resize(document.getElementById(\"ca792a3a-7439-418d-b3cc-b8fecddcb871\"));};})</script>"
      ]
     },
     "metadata": {},
     "output_type": "display_data"
    }
   ],
   "source": [
    "data = [trace1, trace2]\n",
    "layout = go.Layout(\n",
    "    barmode='stack',\n",
    "    title='Accident Totals by Day of the Week - 2018'\n",
    ")\n",
    "\n",
    "fig = go.Figure(data=data, layout=layout)\n",
    "py.offline.iplot(fig)"
   ]
  },
  {
   "cell_type": "markdown",
   "metadata": {},
   "source": [
    "## Accident Totals by Hour of the Day - all days in 2018"
   ]
  },
  {
   "cell_type": "code",
   "execution_count": 92,
   "metadata": {},
   "outputs": [],
   "source": [
    "trace3 = go.Bar(\n",
    "    x=[\n",
    "    \"0000\", \"0100\", \"0200\", \"0300\", \"0400\", \"0500\", \"0600\", \"0700\", \"0800\", \"0900\", \"1000\", \"1100\",\n",
    "    \"1200\", \"1300\", \"1400\", \"1500\", \"1600\", \"1700\", \"1800\", \"1900\", \"2000\", \"2100\", \"2200\", \"2300\"\n",
    "      ],\n",
    "    y=[\n",
    "    hr_00_all_count, hr_01_all_count, hr_02_all_count, hr_03_all_count, hr_04_all_count, hr_05_all_count,\n",
    "    hr_06_all_count, hr_07_all_count, hr_08_all_count, hr_09_all_count, hr_10_all_count, hr_11_all_count,\n",
    "    hr_12_all_count, hr_13_all_count, hr_14_all_count, hr_15_all_count, hr_16_all_count, hr_17_all_count,\n",
    "    hr_18_all_count, hr_19_all_count, hr_20_all_count, hr_21_all_count, hr_22_all_count, hr_23_all_count,        \n",
    "],\n",
    "    name='Accidents by Hour'\n",
    ")"
   ]
  },
  {
   "cell_type": "code",
   "execution_count": 122,
   "metadata": {},
   "outputs": [
    {
     "data": {
      "application/vnd.plotly.v1+json": {
       "config": {
        "linkText": "Export to plot.ly",
        "plotlyServerURL": "https://plot.ly",
        "showLink": false
       },
       "data": [
        {
         "name": "Accidents by Hour",
         "type": "bar",
         "uid": "d0a3bb9b-8baa-4e3f-ac8f-f99f9ad0975c",
         "x": [
          "0000",
          "0100",
          "0200",
          "0300",
          "0400",
          "0500",
          "0600",
          "0700",
          "0800",
          "0900",
          "1000",
          "1100",
          "1200",
          "1300",
          "1400",
          "1500",
          "1600",
          "1700",
          "1800",
          "1900",
          "2000",
          "2100",
          "2200",
          "2300"
         ],
         "y": [
          1539,
          1029,
          973,
          702,
          544,
          510,
          650,
          1014,
          970,
          769,
          740,
          1097,
          1718,
          2022,
          1718,
          1788,
          2150,
          2483,
          2261,
          1977,
          1777,
          2134,
          2113,
          1703
         ]
        }
       ],
       "layout": {
        "barmode": "stack",
        "title": {
         "text": "Accident Totals by Hour of the Day - all days in 2018"
        }
       }
      },
      "text/html": [
       "<div id=\"8abd8e9b-a88b-48cc-acee-2cc98c6d353a\" style=\"height: 525px; width: 100%;\" class=\"plotly-graph-div\"></div><script type=\"text/javascript\">require([\"plotly\"], function(Plotly) { window.PLOTLYENV=window.PLOTLYENV || {};window.PLOTLYENV.BASE_URL=\"https://plot.ly\";\n",
       "if (document.getElementById(\"8abd8e9b-a88b-48cc-acee-2cc98c6d353a\")) {\n",
       "    Plotly.newPlot(\"8abd8e9b-a88b-48cc-acee-2cc98c6d353a\", [{\"name\": \"Accidents by Hour\", \"x\": [\"0000\", \"0100\", \"0200\", \"0300\", \"0400\", \"0500\", \"0600\", \"0700\", \"0800\", \"0900\", \"1000\", \"1100\", \"1200\", \"1300\", \"1400\", \"1500\", \"1600\", \"1700\", \"1800\", \"1900\", \"2000\", \"2100\", \"2200\", \"2300\"], \"y\": [1539, 1029, 973, 702, 544, 510, 650, 1014, 970, 769, 740, 1097, 1718, 2022, 1718, 1788, 2150, 2483, 2261, 1977, 1777, 2134, 2113, 1703], \"type\": \"bar\", \"uid\": \"d0a3bb9b-8baa-4e3f-ac8f-f99f9ad0975c\"}], {\"barmode\": \"stack\", \"title\": {\"text\": \"Accident Totals by Hour of the Day - all days in 2018\"}}, {\"showLink\": false, \"linkText\": \"Export to plot.ly\", \"plotlyServerURL\": \"https://plot.ly\"}); \n",
       "}\n",
       "});</script><script type=\"text/javascript\">window.addEventListener(\"resize\", function(){if (document.getElementById(\"8abd8e9b-a88b-48cc-acee-2cc98c6d353a\")) {window._Plotly.Plots.resize(document.getElementById(\"8abd8e9b-a88b-48cc-acee-2cc98c6d353a\"));};})</script>"
      ],
      "text/vnd.plotly.v1+html": [
       "<div id=\"8abd8e9b-a88b-48cc-acee-2cc98c6d353a\" style=\"height: 525px; width: 100%;\" class=\"plotly-graph-div\"></div><script type=\"text/javascript\">require([\"plotly\"], function(Plotly) { window.PLOTLYENV=window.PLOTLYENV || {};window.PLOTLYENV.BASE_URL=\"https://plot.ly\";\n",
       "if (document.getElementById(\"8abd8e9b-a88b-48cc-acee-2cc98c6d353a\")) {\n",
       "    Plotly.newPlot(\"8abd8e9b-a88b-48cc-acee-2cc98c6d353a\", [{\"name\": \"Accidents by Hour\", \"x\": [\"0000\", \"0100\", \"0200\", \"0300\", \"0400\", \"0500\", \"0600\", \"0700\", \"0800\", \"0900\", \"1000\", \"1100\", \"1200\", \"1300\", \"1400\", \"1500\", \"1600\", \"1700\", \"1800\", \"1900\", \"2000\", \"2100\", \"2200\", \"2300\"], \"y\": [1539, 1029, 973, 702, 544, 510, 650, 1014, 970, 769, 740, 1097, 1718, 2022, 1718, 1788, 2150, 2483, 2261, 1977, 1777, 2134, 2113, 1703], \"type\": \"bar\", \"uid\": \"d0a3bb9b-8baa-4e3f-ac8f-f99f9ad0975c\"}], {\"barmode\": \"stack\", \"title\": {\"text\": \"Accident Totals by Hour of the Day - all days in 2018\"}}, {\"showLink\": false, \"linkText\": \"Export to plot.ly\", \"plotlyServerURL\": \"https://plot.ly\"}); \n",
       "}\n",
       "});</script><script type=\"text/javascript\">window.addEventListener(\"resize\", function(){if (document.getElementById(\"8abd8e9b-a88b-48cc-acee-2cc98c6d353a\")) {window._Plotly.Plots.resize(document.getElementById(\"8abd8e9b-a88b-48cc-acee-2cc98c6d353a\"));};})</script>"
      ]
     },
     "metadata": {},
     "output_type": "display_data"
    }
   ],
   "source": [
    "data = [trace3]\n",
    "layout = go.Layout(\n",
    "    barmode='stack',\n",
    "    title='Accident Totals by Hour of the Day - all days in 2018'\n",
    ")\n",
    "\n",
    "fig = go.Figure(data=data, layout=layout)\n",
    "py.offline.iplot(fig)"
   ]
  },
  {
   "cell_type": "markdown",
   "metadata": {},
   "source": [
    "## Accident Totals by Hour of the Day - Fridays in 2018"
   ]
  },
  {
   "cell_type": "code",
   "execution_count": 94,
   "metadata": {},
   "outputs": [
    {
     "name": "stderr",
     "output_type": "stream",
     "text": [
      "/anaconda3/lib/python3.7/site-packages/ipykernel_launcher.py:2: UserWarning:\n",
      "\n",
      "Boolean Series key will be reindexed to match DataFrame index.\n",
      "\n",
      "/anaconda3/lib/python3.7/site-packages/ipykernel_launcher.py:4: UserWarning:\n",
      "\n",
      "Boolean Series key will be reindexed to match DataFrame index.\n",
      "\n",
      "/anaconda3/lib/python3.7/site-packages/ipykernel_launcher.py:6: UserWarning:\n",
      "\n",
      "Boolean Series key will be reindexed to match DataFrame index.\n",
      "\n",
      "/anaconda3/lib/python3.7/site-packages/ipykernel_launcher.py:8: UserWarning:\n",
      "\n",
      "Boolean Series key will be reindexed to match DataFrame index.\n",
      "\n",
      "/anaconda3/lib/python3.7/site-packages/ipykernel_launcher.py:10: UserWarning:\n",
      "\n",
      "Boolean Series key will be reindexed to match DataFrame index.\n",
      "\n",
      "/anaconda3/lib/python3.7/site-packages/ipykernel_launcher.py:12: UserWarning:\n",
      "\n",
      "Boolean Series key will be reindexed to match DataFrame index.\n",
      "\n",
      "/anaconda3/lib/python3.7/site-packages/ipykernel_launcher.py:14: UserWarning:\n",
      "\n",
      "Boolean Series key will be reindexed to match DataFrame index.\n",
      "\n",
      "/anaconda3/lib/python3.7/site-packages/ipykernel_launcher.py:16: UserWarning:\n",
      "\n",
      "Boolean Series key will be reindexed to match DataFrame index.\n",
      "\n",
      "/anaconda3/lib/python3.7/site-packages/ipykernel_launcher.py:18: UserWarning:\n",
      "\n",
      "Boolean Series key will be reindexed to match DataFrame index.\n",
      "\n",
      "/anaconda3/lib/python3.7/site-packages/ipykernel_launcher.py:20: UserWarning:\n",
      "\n",
      "Boolean Series key will be reindexed to match DataFrame index.\n",
      "\n",
      "/anaconda3/lib/python3.7/site-packages/ipykernel_launcher.py:22: UserWarning:\n",
      "\n",
      "Boolean Series key will be reindexed to match DataFrame index.\n",
      "\n",
      "/anaconda3/lib/python3.7/site-packages/ipykernel_launcher.py:24: UserWarning:\n",
      "\n",
      "Boolean Series key will be reindexed to match DataFrame index.\n",
      "\n",
      "/anaconda3/lib/python3.7/site-packages/ipykernel_launcher.py:26: UserWarning:\n",
      "\n",
      "Boolean Series key will be reindexed to match DataFrame index.\n",
      "\n",
      "/anaconda3/lib/python3.7/site-packages/ipykernel_launcher.py:28: UserWarning:\n",
      "\n",
      "Boolean Series key will be reindexed to match DataFrame index.\n",
      "\n",
      "/anaconda3/lib/python3.7/site-packages/ipykernel_launcher.py:30: UserWarning:\n",
      "\n",
      "Boolean Series key will be reindexed to match DataFrame index.\n",
      "\n",
      "/anaconda3/lib/python3.7/site-packages/ipykernel_launcher.py:32: UserWarning:\n",
      "\n",
      "Boolean Series key will be reindexed to match DataFrame index.\n",
      "\n",
      "/anaconda3/lib/python3.7/site-packages/ipykernel_launcher.py:34: UserWarning:\n",
      "\n",
      "Boolean Series key will be reindexed to match DataFrame index.\n",
      "\n",
      "/anaconda3/lib/python3.7/site-packages/ipykernel_launcher.py:36: UserWarning:\n",
      "\n",
      "Boolean Series key will be reindexed to match DataFrame index.\n",
      "\n",
      "/anaconda3/lib/python3.7/site-packages/ipykernel_launcher.py:38: UserWarning:\n",
      "\n",
      "Boolean Series key will be reindexed to match DataFrame index.\n",
      "\n",
      "/anaconda3/lib/python3.7/site-packages/ipykernel_launcher.py:40: UserWarning:\n",
      "\n",
      "Boolean Series key will be reindexed to match DataFrame index.\n",
      "\n",
      "/anaconda3/lib/python3.7/site-packages/ipykernel_launcher.py:42: UserWarning:\n",
      "\n",
      "Boolean Series key will be reindexed to match DataFrame index.\n",
      "\n",
      "/anaconda3/lib/python3.7/site-packages/ipykernel_launcher.py:44: UserWarning:\n",
      "\n",
      "Boolean Series key will be reindexed to match DataFrame index.\n",
      "\n",
      "/anaconda3/lib/python3.7/site-packages/ipykernel_launcher.py:46: UserWarning:\n",
      "\n",
      "Boolean Series key will be reindexed to match DataFrame index.\n",
      "\n",
      "/anaconda3/lib/python3.7/site-packages/ipykernel_launcher.py:48: UserWarning:\n",
      "\n",
      "Boolean Series key will be reindexed to match DataFrame index.\n",
      "\n",
      "/anaconda3/lib/python3.7/site-packages/ipykernel_launcher.py:50: UserWarning:\n",
      "\n",
      "Boolean Series key will be reindexed to match DataFrame index.\n",
      "\n"
     ]
    }
   ],
   "source": [
    "# Filter by Hour and Day - Friday\n",
    "hr_00_Fri_df = hr_00_all_df[fri_all_mask]\n",
    "hr_00_Fri_df_count = hr_00_Fri_df['Published Date'].count()\n",
    "hr_01_Fri_df = hr_01_all_df[fri_all_mask]\n",
    "hr_01_Fri_df_count = hr_01_Fri_df['Published Date'].count()\n",
    "hr_02_Fri_df = hr_02_all_df[fri_all_mask]\n",
    "hr_02_Fri_df_count = hr_02_Fri_df['Published Date'].count()\n",
    "hr_03_Fri_df = hr_03_all_df[fri_all_mask]\n",
    "hr_03_Fri_df_count = hr_03_Fri_df['Published Date'].count()\n",
    "hr_04_Fri_df = hr_04_all_df[fri_all_mask]\n",
    "hr_04_Fri_df_count = hr_04_Fri_df['Published Date'].count()\n",
    "hr_05_Fri_df = hr_05_all_df[fri_all_mask]\n",
    "hr_05_Fri_df_count = hr_05_Fri_df['Published Date'].count()\n",
    "hr_06_Fri_df = hr_06_all_df[fri_all_mask]\n",
    "hr_06_Fri_df_count = hr_06_Fri_df['Published Date'].count()\n",
    "hr_07_Fri_df = hr_07_all_df[fri_all_mask]\n",
    "hr_07_Fri_df_count = hr_07_Fri_df['Published Date'].count()\n",
    "hr_08_Fri_df = hr_08_all_df[fri_all_mask]\n",
    "hr_08_Fri_df_count = hr_08_Fri_df['Published Date'].count()\n",
    "hr_09_Fri_df = hr_09_all_df[fri_all_mask]\n",
    "hr_09_Fri_df_count = hr_09_Fri_df['Published Date'].count()\n",
    "hr_10_Fri_df = hr_10_all_df[fri_all_mask]\n",
    "hr_10_Fri_df_count = hr_10_Fri_df['Published Date'].count()\n",
    "hr_11_Fri_df = hr_11_all_df[fri_all_mask]\n",
    "hr_11_Fri_df_count = hr_11_Fri_df['Published Date'].count()\n",
    "hr_12_Fri_df = hr_12_all_df[fri_all_mask]\n",
    "hr_12_Fri_df_count = hr_12_Fri_df['Published Date'].count()\n",
    "hr_13_Fri_df = hr_13_all_df[fri_all_mask]\n",
    "hr_13_Fri_df_count = hr_13_Fri_df['Published Date'].count()\n",
    "hr_14_Fri_df = hr_14_all_df[fri_all_mask]\n",
    "hr_14_Fri_df_count = hr_14_Fri_df['Published Date'].count()\n",
    "hr_15_Fri_df = hr_15_all_df[fri_all_mask]\n",
    "hr_15_Fri_df_count = hr_15_Fri_df['Published Date'].count()\n",
    "hr_15_Fri_df = hr_15_all_df[fri_all_mask]\n",
    "hr_15_Fri_df_count = hr_15_Fri_df['Published Date'].count()\n",
    "hr_16_Fri_df = hr_16_all_df[fri_all_mask]\n",
    "hr_16_Fri_df_count = hr_16_Fri_df['Published Date'].count()\n",
    "hr_17_Fri_df = hr_17_all_df[fri_all_mask]\n",
    "hr_17_Fri_df_count = hr_17_Fri_df['Published Date'].count()\n",
    "hr_18_Fri_df = hr_18_all_df[fri_all_mask]\n",
    "hr_18_Fri_df_count = hr_18_Fri_df['Published Date'].count()\n",
    "hr_19_Fri_df = hr_19_all_df[fri_all_mask]\n",
    "hr_19_Fri_df_count = hr_19_Fri_df['Published Date'].count()\n",
    "hr_20_Fri_df = hr_20_all_df[fri_all_mask]\n",
    "hr_20_Fri_df_count = hr_20_Fri_df['Published Date'].count()\n",
    "hr_21_Fri_df = hr_21_all_df[fri_all_mask]\n",
    "hr_21_Fri_df_count = hr_21_Fri_df['Published Date'].count()\n",
    "hr_22_Fri_df = hr_22_all_df[fri_all_mask]\n",
    "hr_22_Fri_df_count = hr_22_Fri_df['Published Date'].count()\n",
    "hr_23_Fri_df = hr_23_all_df[fri_all_mask]\n",
    "hr_23_Fri_df_count = hr_23_Fri_df['Published Date'].count()"
   ]
  },
  {
   "cell_type": "code",
   "execution_count": 95,
   "metadata": {},
   "outputs": [],
   "source": [
    "trace6 = go.Bar(\n",
    "    x=[\n",
    "    \"0000\", \"0100\", \"0200\", \"0300\", \"0400\", \"0500\", \"0600\", \"0700\", \"0800\", \"0900\", \"1000\", \"1100\",\n",
    "    \"1200\", \"1300\", \"1400\", \"1500\", \"1600\", \"1700\", \"1800\", \"1900\", \"2000\", \"2100\", \"2200\", \"2300\"\n",
    "      ],\n",
    "    y=[\n",
    "    hr_00_Fri_df_count, hr_01_Fri_df_count, hr_02_Fri_df_count, hr_03_Fri_df_count, hr_04_Fri_df_count, hr_05_Fri_df_count,\n",
    "    hr_06_Fri_df_count, hr_07_Fri_df_count, hr_08_Fri_df_count, hr_09_Fri_df_count, hr_10_Fri_df_count, hr_11_Fri_df_count,\n",
    "    hr_12_Fri_df_count, hr_13_Fri_df_count, hr_14_Fri_df_count, hr_15_Fri_df_count, hr_16_Fri_df_count, hr_17_Fri_df_count,\n",
    "    hr_18_Fri_df_count, hr_19_Fri_df_count, hr_20_Fri_df_count, hr_21_Fri_df_count, hr_22_Fri_df_count, hr_23_Fri_df_count,        \n",
    "],\n",
    "    name='Accidents by Hour on Friday'\n",
    ")"
   ]
  },
  {
   "cell_type": "code",
   "execution_count": 123,
   "metadata": {},
   "outputs": [
    {
     "data": {
      "application/vnd.plotly.v1+json": {
       "config": {
        "linkText": "Export to plot.ly",
        "plotlyServerURL": "https://plot.ly",
        "showLink": false
       },
       "data": [
        {
         "name": "Accidents by Hour on Friday",
         "type": "bar",
         "uid": "2affd1a7-b833-488f-b52f-c8101e46c365",
         "x": [
          "0000",
          "0100",
          "0200",
          "0300",
          "0400",
          "0500",
          "0600",
          "0700",
          "0800",
          "0900",
          "1000",
          "1100",
          "1200",
          "1300",
          "1400",
          "1500",
          "1600",
          "1700",
          "1800",
          "1900",
          "2000",
          "2100",
          "2200",
          "2300"
         ],
         "y": [
          212,
          145,
          142,
          94,
          74,
          72,
          109,
          144,
          128,
          138,
          134,
          201,
          297,
          347,
          281,
          288,
          354,
          418,
          398,
          351,
          318,
          411,
          385,
          304
         ]
        }
       ],
       "layout": {
        "barmode": "stack",
        "title": {
         "text": "Accident Totals by Hour of the Day - Fridays in 2018"
        }
       }
      },
      "text/html": [
       "<div id=\"c88592d2-a819-44e3-816d-826f9c16ea6c\" style=\"height: 525px; width: 100%;\" class=\"plotly-graph-div\"></div><script type=\"text/javascript\">require([\"plotly\"], function(Plotly) { window.PLOTLYENV=window.PLOTLYENV || {};window.PLOTLYENV.BASE_URL=\"https://plot.ly\";\n",
       "if (document.getElementById(\"c88592d2-a819-44e3-816d-826f9c16ea6c\")) {\n",
       "    Plotly.newPlot(\"c88592d2-a819-44e3-816d-826f9c16ea6c\", [{\"name\": \"Accidents by Hour on Friday\", \"x\": [\"0000\", \"0100\", \"0200\", \"0300\", \"0400\", \"0500\", \"0600\", \"0700\", \"0800\", \"0900\", \"1000\", \"1100\", \"1200\", \"1300\", \"1400\", \"1500\", \"1600\", \"1700\", \"1800\", \"1900\", \"2000\", \"2100\", \"2200\", \"2300\"], \"y\": [212, 145, 142, 94, 74, 72, 109, 144, 128, 138, 134, 201, 297, 347, 281, 288, 354, 418, 398, 351, 318, 411, 385, 304], \"type\": \"bar\", \"uid\": \"2affd1a7-b833-488f-b52f-c8101e46c365\"}], {\"barmode\": \"stack\", \"title\": {\"text\": \"Accident Totals by Hour of the Day - Fridays in 2018\"}}, {\"showLink\": false, \"linkText\": \"Export to plot.ly\", \"plotlyServerURL\": \"https://plot.ly\"}); \n",
       "}\n",
       "});</script><script type=\"text/javascript\">window.addEventListener(\"resize\", function(){if (document.getElementById(\"c88592d2-a819-44e3-816d-826f9c16ea6c\")) {window._Plotly.Plots.resize(document.getElementById(\"c88592d2-a819-44e3-816d-826f9c16ea6c\"));};})</script>"
      ],
      "text/vnd.plotly.v1+html": [
       "<div id=\"c88592d2-a819-44e3-816d-826f9c16ea6c\" style=\"height: 525px; width: 100%;\" class=\"plotly-graph-div\"></div><script type=\"text/javascript\">require([\"plotly\"], function(Plotly) { window.PLOTLYENV=window.PLOTLYENV || {};window.PLOTLYENV.BASE_URL=\"https://plot.ly\";\n",
       "if (document.getElementById(\"c88592d2-a819-44e3-816d-826f9c16ea6c\")) {\n",
       "    Plotly.newPlot(\"c88592d2-a819-44e3-816d-826f9c16ea6c\", [{\"name\": \"Accidents by Hour on Friday\", \"x\": [\"0000\", \"0100\", \"0200\", \"0300\", \"0400\", \"0500\", \"0600\", \"0700\", \"0800\", \"0900\", \"1000\", \"1100\", \"1200\", \"1300\", \"1400\", \"1500\", \"1600\", \"1700\", \"1800\", \"1900\", \"2000\", \"2100\", \"2200\", \"2300\"], \"y\": [212, 145, 142, 94, 74, 72, 109, 144, 128, 138, 134, 201, 297, 347, 281, 288, 354, 418, 398, 351, 318, 411, 385, 304], \"type\": \"bar\", \"uid\": \"2affd1a7-b833-488f-b52f-c8101e46c365\"}], {\"barmode\": \"stack\", \"title\": {\"text\": \"Accident Totals by Hour of the Day - Fridays in 2018\"}}, {\"showLink\": false, \"linkText\": \"Export to plot.ly\", \"plotlyServerURL\": \"https://plot.ly\"}); \n",
       "}\n",
       "});</script><script type=\"text/javascript\">window.addEventListener(\"resize\", function(){if (document.getElementById(\"c88592d2-a819-44e3-816d-826f9c16ea6c\")) {window._Plotly.Plots.resize(document.getElementById(\"c88592d2-a819-44e3-816d-826f9c16ea6c\"));};})</script>"
      ]
     },
     "metadata": {},
     "output_type": "display_data"
    }
   ],
   "source": [
    "data = [trace6]\n",
    "layout = go.Layout(\n",
    "    barmode='stack',\n",
    "    title='Accident Totals by Hour of the Day - Fridays in 2018'\n",
    ")\n",
    "\n",
    "fig = go.Figure(data=data, layout=layout)\n",
    "py.offline.iplot(fig)"
   ]
  },
  {
   "cell_type": "markdown",
   "metadata": {},
   "source": [
    "## Accident Totals by Month - 2018"
   ]
  },
  {
   "cell_type": "code",
   "execution_count": 97,
   "metadata": {},
   "outputs": [],
   "source": [
    "trace1 = go.Bar(\n",
    "    x=[\"JAN\", \"FEB\", \"MAR\", \"APR\", \"MAY\", \"JUN\", \"JUL\", \"AUG\", \"SEP\", \"OCT\", \"NOV\", \"DEC\"],\n",
    "    y=[\n",
    "    jan_count3, feb_count3, mar_count3, apr_count3, may_count3, jun_count3,\n",
    "    jul_count3, aug_count3, sep_count3, oct_count3, nov_count3, dec_count3\n",
    "],\n",
    "    name='Rush Hour Accidents'\n",
    ")\n",
    "trace2 = go.Bar(\n",
    "    x=[\"JAN\", \"FEB\", \"MAR\", \"APR\", \"MAY\", \"JUN\", \"JUL\", \"AUG\", \"SEP\", \"OCT\", \"NOV\", \"DEC\"],\n",
    "    y=[\n",
    "    jan_count2, feb_count2, mar_count2, apr_count2, may_count2, jun_count2,\n",
    "    jul_count2, aug_count2, sep_count2, oct_count2, nov_count2, dec_count2\n",
    "],\n",
    "    name='Non-rush Hour Accidents'\n",
    ")"
   ]
  },
  {
   "cell_type": "code",
   "execution_count": 124,
   "metadata": {},
   "outputs": [
    {
     "data": {
      "application/vnd.plotly.v1+json": {
       "config": {
        "linkText": "Export to plot.ly",
        "plotlyServerURL": "https://plot.ly",
        "showLink": false
       },
       "data": [
        {
         "name": "Rush Hour Accidents",
         "type": "bar",
         "uid": "e1f2516a-cda5-4cb9-a371-0f01fa401f0a",
         "x": [
          "JAN",
          "FEB",
          "MAR",
          "APR",
          "MAY",
          "JUN",
          "JUL",
          "AUG",
          "SEP",
          "OCT",
          "NOV",
          "DEC"
         ],
         "y": [
          1039,
          820,
          962,
          1088,
          1175,
          715,
          645,
          696,
          604,
          645,
          541,
          598
         ]
        },
        {
         "name": "Non-rush Hour Accidents",
         "type": "bar",
         "uid": "48fd3347-25d2-418e-8e34-b2be92e72df1",
         "x": [
          "JAN",
          "FEB",
          "MAR",
          "APR",
          "MAY",
          "JUN",
          "JUL",
          "AUG",
          "SEP",
          "OCT",
          "NOV",
          "DEC"
         ],
         "y": [
          1665,
          1482,
          1666,
          1685,
          1920,
          2084,
          2083,
          2423,
          2280,
          2720,
          2356,
          2489
         ]
        }
       ],
       "layout": {
        "barmode": "stack",
        "title": {
         "text": "Accident Totals by Month - 2018"
        }
       }
      },
      "text/html": [
       "<div id=\"d706eb8f-3661-4eb9-8431-2bbb30830c65\" style=\"height: 525px; width: 100%;\" class=\"plotly-graph-div\"></div><script type=\"text/javascript\">require([\"plotly\"], function(Plotly) { window.PLOTLYENV=window.PLOTLYENV || {};window.PLOTLYENV.BASE_URL=\"https://plot.ly\";\n",
       "if (document.getElementById(\"d706eb8f-3661-4eb9-8431-2bbb30830c65\")) {\n",
       "    Plotly.newPlot(\"d706eb8f-3661-4eb9-8431-2bbb30830c65\", [{\"name\": \"Rush Hour Accidents\", \"x\": [\"JAN\", \"FEB\", \"MAR\", \"APR\", \"MAY\", \"JUN\", \"JUL\", \"AUG\", \"SEP\", \"OCT\", \"NOV\", \"DEC\"], \"y\": [1039, 820, 962, 1088, 1175, 715, 645, 696, 604, 645, 541, 598], \"type\": \"bar\", \"uid\": \"e1f2516a-cda5-4cb9-a371-0f01fa401f0a\"}, {\"name\": \"Non-rush Hour Accidents\", \"x\": [\"JAN\", \"FEB\", \"MAR\", \"APR\", \"MAY\", \"JUN\", \"JUL\", \"AUG\", \"SEP\", \"OCT\", \"NOV\", \"DEC\"], \"y\": [1665, 1482, 1666, 1685, 1920, 2084, 2083, 2423, 2280, 2720, 2356, 2489], \"type\": \"bar\", \"uid\": \"48fd3347-25d2-418e-8e34-b2be92e72df1\"}], {\"barmode\": \"stack\", \"title\": {\"text\": \"Accident Totals by Month - 2018\"}}, {\"showLink\": false, \"linkText\": \"Export to plot.ly\", \"plotlyServerURL\": \"https://plot.ly\"}); \n",
       "}\n",
       "});</script><script type=\"text/javascript\">window.addEventListener(\"resize\", function(){if (document.getElementById(\"d706eb8f-3661-4eb9-8431-2bbb30830c65\")) {window._Plotly.Plots.resize(document.getElementById(\"d706eb8f-3661-4eb9-8431-2bbb30830c65\"));};})</script>"
      ],
      "text/vnd.plotly.v1+html": [
       "<div id=\"d706eb8f-3661-4eb9-8431-2bbb30830c65\" style=\"height: 525px; width: 100%;\" class=\"plotly-graph-div\"></div><script type=\"text/javascript\">require([\"plotly\"], function(Plotly) { window.PLOTLYENV=window.PLOTLYENV || {};window.PLOTLYENV.BASE_URL=\"https://plot.ly\";\n",
       "if (document.getElementById(\"d706eb8f-3661-4eb9-8431-2bbb30830c65\")) {\n",
       "    Plotly.newPlot(\"d706eb8f-3661-4eb9-8431-2bbb30830c65\", [{\"name\": \"Rush Hour Accidents\", \"x\": [\"JAN\", \"FEB\", \"MAR\", \"APR\", \"MAY\", \"JUN\", \"JUL\", \"AUG\", \"SEP\", \"OCT\", \"NOV\", \"DEC\"], \"y\": [1039, 820, 962, 1088, 1175, 715, 645, 696, 604, 645, 541, 598], \"type\": \"bar\", \"uid\": \"e1f2516a-cda5-4cb9-a371-0f01fa401f0a\"}, {\"name\": \"Non-rush Hour Accidents\", \"x\": [\"JAN\", \"FEB\", \"MAR\", \"APR\", \"MAY\", \"JUN\", \"JUL\", \"AUG\", \"SEP\", \"OCT\", \"NOV\", \"DEC\"], \"y\": [1665, 1482, 1666, 1685, 1920, 2084, 2083, 2423, 2280, 2720, 2356, 2489], \"type\": \"bar\", \"uid\": \"48fd3347-25d2-418e-8e34-b2be92e72df1\"}], {\"barmode\": \"stack\", \"title\": {\"text\": \"Accident Totals by Month - 2018\"}}, {\"showLink\": false, \"linkText\": \"Export to plot.ly\", \"plotlyServerURL\": \"https://plot.ly\"}); \n",
       "}\n",
       "});</script><script type=\"text/javascript\">window.addEventListener(\"resize\", function(){if (document.getElementById(\"d706eb8f-3661-4eb9-8431-2bbb30830c65\")) {window._Plotly.Plots.resize(document.getElementById(\"d706eb8f-3661-4eb9-8431-2bbb30830c65\"));};})</script>"
      ]
     },
     "metadata": {},
     "output_type": "display_data"
    }
   ],
   "source": [
    "data = [trace1, trace2]\n",
    "layout = go.Layout(\n",
    "    barmode='stack',\n",
    "    title='Accident Totals by Month - 2018'\n",
    ")\n",
    "\n",
    "fig = go.Figure(data=data, layout=layout)\n",
    "py.offline.iplot(fig)"
   ]
  },
  {
   "cell_type": "markdown",
   "metadata": {},
   "source": [
    "## Take a closer look at May and October\n",
    "## Accidents by Day of the Week - May 2018"
   ]
  },
  {
   "cell_type": "code",
   "execution_count": 99,
   "metadata": {},
   "outputs": [],
   "source": [
    "may_mon_df = (mon_all_df['Published Date'].dt.month == 5)\n",
    "may_tue_df = (tue_all_df['Published Date'].dt.month == 5)\n",
    "may_wed_df = (wed_all_df['Published Date'].dt.month == 5)\n",
    "may_thu_df = (thu_all_df['Published Date'].dt.month == 5)\n",
    "may_fri_df = (fri_all_df['Published Date'].dt.month == 5)\n",
    "may_sat_df = (sat_all_df['Published Date'].dt.month == 5)\n",
    "may_sun_df = (sun_all_df['Published Date'].dt.month == 5)\n",
    "may_mon_count = may_mon_df.count()\n",
    "may_tue_count = may_tue_df.count()\n",
    "may_wed_count = may_wed_df.count()\n",
    "may_thu_count = may_thu_df.count()\n",
    "may_fri_count = may_fri_df.count()\n",
    "may_sat_count = may_sat_df.count()\n",
    "may_sun_count = may_sun_df.count()\n",
    "# may_mon_df.count()"
   ]
  },
  {
   "cell_type": "code",
   "execution_count": 100,
   "metadata": {},
   "outputs": [],
   "source": [
    "trace8 = go.Bar(\n",
    "    x=[\"MON\", \"TUE\", \"WED\", \"THU\", \"FRI\", \"SAT\", \"SUN\"],\n",
    "    y=[may_mon_count, may_tue_count, may_wed_count, may_thu_count, may_fri_count, may_sat_count, may_sun_count],\n",
    "    name='Accidents by Day in May'\n",
    ")"
   ]
  },
  {
   "cell_type": "code",
   "execution_count": 125,
   "metadata": {},
   "outputs": [
    {
     "data": {
      "application/vnd.plotly.v1+json": {
       "config": {
        "linkText": "Export to plot.ly",
        "plotlyServerURL": "https://plot.ly",
        "showLink": false
       },
       "data": [
        {
         "name": "Accidents by Day in May",
         "type": "bar",
         "uid": "31851ca5-5612-4354-b7db-60f392ada805",
         "x": [
          "MON",
          "TUE",
          "WED",
          "THU",
          "FRI",
          "SAT",
          "SUN"
         ],
         "y": [
          5043,
          5148,
          5165,
          5202,
          5745,
          4483,
          3595
         ]
        }
       ],
       "layout": {
        "barmode": "stack",
        "title": {
         "text": "Accident by Day of the Week - May 2018"
        }
       }
      },
      "text/html": [
       "<div id=\"3c0001cf-5f8e-4bc6-b720-773c1de58321\" style=\"height: 525px; width: 100%;\" class=\"plotly-graph-div\"></div><script type=\"text/javascript\">require([\"plotly\"], function(Plotly) { window.PLOTLYENV=window.PLOTLYENV || {};window.PLOTLYENV.BASE_URL=\"https://plot.ly\";\n",
       "if (document.getElementById(\"3c0001cf-5f8e-4bc6-b720-773c1de58321\")) {\n",
       "    Plotly.newPlot(\"3c0001cf-5f8e-4bc6-b720-773c1de58321\", [{\"name\": \"Accidents by Day in May\", \"x\": [\"MON\", \"TUE\", \"WED\", \"THU\", \"FRI\", \"SAT\", \"SUN\"], \"y\": [5043, 5148, 5165, 5202, 5745, 4483, 3595], \"type\": \"bar\", \"uid\": \"31851ca5-5612-4354-b7db-60f392ada805\"}], {\"barmode\": \"stack\", \"title\": {\"text\": \"Accident by Day of the Week - May 2018\"}}, {\"showLink\": false, \"linkText\": \"Export to plot.ly\", \"plotlyServerURL\": \"https://plot.ly\"}); \n",
       "}\n",
       "});</script><script type=\"text/javascript\">window.addEventListener(\"resize\", function(){if (document.getElementById(\"3c0001cf-5f8e-4bc6-b720-773c1de58321\")) {window._Plotly.Plots.resize(document.getElementById(\"3c0001cf-5f8e-4bc6-b720-773c1de58321\"));};})</script>"
      ],
      "text/vnd.plotly.v1+html": [
       "<div id=\"3c0001cf-5f8e-4bc6-b720-773c1de58321\" style=\"height: 525px; width: 100%;\" class=\"plotly-graph-div\"></div><script type=\"text/javascript\">require([\"plotly\"], function(Plotly) { window.PLOTLYENV=window.PLOTLYENV || {};window.PLOTLYENV.BASE_URL=\"https://plot.ly\";\n",
       "if (document.getElementById(\"3c0001cf-5f8e-4bc6-b720-773c1de58321\")) {\n",
       "    Plotly.newPlot(\"3c0001cf-5f8e-4bc6-b720-773c1de58321\", [{\"name\": \"Accidents by Day in May\", \"x\": [\"MON\", \"TUE\", \"WED\", \"THU\", \"FRI\", \"SAT\", \"SUN\"], \"y\": [5043, 5148, 5165, 5202, 5745, 4483, 3595], \"type\": \"bar\", \"uid\": \"31851ca5-5612-4354-b7db-60f392ada805\"}], {\"barmode\": \"stack\", \"title\": {\"text\": \"Accident by Day of the Week - May 2018\"}}, {\"showLink\": false, \"linkText\": \"Export to plot.ly\", \"plotlyServerURL\": \"https://plot.ly\"}); \n",
       "}\n",
       "});</script><script type=\"text/javascript\">window.addEventListener(\"resize\", function(){if (document.getElementById(\"3c0001cf-5f8e-4bc6-b720-773c1de58321\")) {window._Plotly.Plots.resize(document.getElementById(\"3c0001cf-5f8e-4bc6-b720-773c1de58321\"));};})</script>"
      ]
     },
     "metadata": {},
     "output_type": "display_data"
    }
   ],
   "source": [
    "data = [trace8]\n",
    "layout = go.Layout(\n",
    "    barmode='stack',\n",
    "    title='Accident by Day of the Week - May 2018'\n",
    ")\n",
    "\n",
    "fig = go.Figure(data=data, layout=layout)\n",
    "py.offline.iplot(fig)"
   ]
  },
  {
   "cell_type": "markdown",
   "metadata": {},
   "source": [
    "## Accidents by Date - May 2018"
   ]
  },
  {
   "cell_type": "code",
   "execution_count": 102,
   "metadata": {},
   "outputs": [],
   "source": [
    "may_daily_count = may_report_df.groupby(by=may_report_df['Published Date'].dt.date).count()\n",
    "may_accident_days = may_daily_count['Issue Reported']\n",
    "# may_accident_days.values"
   ]
  },
  {
   "cell_type": "code",
   "execution_count": 103,
   "metadata": {},
   "outputs": [],
   "source": [
    "may_accident_days.index\n",
    "\n",
    "may_index = may_accident_days.index\n",
    "# may_index"
   ]
  },
  {
   "cell_type": "code",
   "execution_count": 130,
   "metadata": {},
   "outputs": [],
   "source": [
    "trace10 = go.Scatter(\n",
    "    x=may_accident_days.index,\n",
    "    y=may_accident_days.values,\n",
    ")"
   ]
  },
  {
   "cell_type": "code",
   "execution_count": 132,
   "metadata": {},
   "outputs": [
    {
     "data": {
      "application/vnd.plotly.v1+json": {
       "config": {
        "linkText": "Export to plot.ly",
        "plotlyServerURL": "https://plot.ly",
        "showLink": false
       },
       "data": [
        {
         "type": "scatter",
         "uid": "b26f7566-2db5-405e-9a62-86f905f8a816",
         "x": [
          "2018-05-01",
          "2018-05-02",
          "2018-05-03",
          "2018-05-04",
          "2018-05-05",
          "2018-05-06",
          "2018-05-07",
          "2018-05-08",
          "2018-05-09",
          "2018-05-10",
          "2018-05-11",
          "2018-05-12",
          "2018-05-13",
          "2018-05-14",
          "2018-05-15",
          "2018-05-16",
          "2018-05-17",
          "2018-05-18",
          "2018-05-19",
          "2018-05-20",
          "2018-05-21",
          "2018-05-22",
          "2018-05-23",
          "2018-05-24",
          "2018-05-25",
          "2018-05-26",
          "2018-05-27",
          "2018-05-28",
          "2018-05-29",
          "2018-05-30",
          "2018-05-31"
         ],
         "y": [
          84,
          91,
          96,
          159,
          85,
          76,
          103,
          104,
          101,
          106,
          134,
          85,
          73,
          98,
          111,
          142,
          129,
          122,
          81,
          42,
          92,
          84,
          114,
          103,
          152,
          89,
          53,
          62,
          113,
          112,
          99
         ]
        }
       ],
       "layout": {
        "title": {
         "text": "Accidents by Date - May 2018"
        }
       }
      },
      "text/html": [
       "<div id=\"deb0d038-97f7-434d-b574-1f930f3809a0\" style=\"height: 525px; width: 100%;\" class=\"plotly-graph-div\"></div><script type=\"text/javascript\">require([\"plotly\"], function(Plotly) { window.PLOTLYENV=window.PLOTLYENV || {};window.PLOTLYENV.BASE_URL=\"https://plot.ly\";\n",
       "if (document.getElementById(\"deb0d038-97f7-434d-b574-1f930f3809a0\")) {\n",
       "    Plotly.newPlot(\"deb0d038-97f7-434d-b574-1f930f3809a0\", [{\"x\": [\"2018-05-01\", \"2018-05-02\", \"2018-05-03\", \"2018-05-04\", \"2018-05-05\", \"2018-05-06\", \"2018-05-07\", \"2018-05-08\", \"2018-05-09\", \"2018-05-10\", \"2018-05-11\", \"2018-05-12\", \"2018-05-13\", \"2018-05-14\", \"2018-05-15\", \"2018-05-16\", \"2018-05-17\", \"2018-05-18\", \"2018-05-19\", \"2018-05-20\", \"2018-05-21\", \"2018-05-22\", \"2018-05-23\", \"2018-05-24\", \"2018-05-25\", \"2018-05-26\", \"2018-05-27\", \"2018-05-28\", \"2018-05-29\", \"2018-05-30\", \"2018-05-31\"], \"y\": [84, 91, 96, 159, 85, 76, 103, 104, 101, 106, 134, 85, 73, 98, 111, 142, 129, 122, 81, 42, 92, 84, 114, 103, 152, 89, 53, 62, 113, 112, 99], \"type\": \"scatter\", \"uid\": \"b26f7566-2db5-405e-9a62-86f905f8a816\"}], {\"title\": {\"text\": \"Accidents by Date - May 2018\"}}, {\"showLink\": false, \"linkText\": \"Export to plot.ly\", \"plotlyServerURL\": \"https://plot.ly\"}); \n",
       "}\n",
       "});</script><script type=\"text/javascript\">window.addEventListener(\"resize\", function(){if (document.getElementById(\"deb0d038-97f7-434d-b574-1f930f3809a0\")) {window._Plotly.Plots.resize(document.getElementById(\"deb0d038-97f7-434d-b574-1f930f3809a0\"));};})</script>"
      ],
      "text/vnd.plotly.v1+html": [
       "<div id=\"deb0d038-97f7-434d-b574-1f930f3809a0\" style=\"height: 525px; width: 100%;\" class=\"plotly-graph-div\"></div><script type=\"text/javascript\">require([\"plotly\"], function(Plotly) { window.PLOTLYENV=window.PLOTLYENV || {};window.PLOTLYENV.BASE_URL=\"https://plot.ly\";\n",
       "if (document.getElementById(\"deb0d038-97f7-434d-b574-1f930f3809a0\")) {\n",
       "    Plotly.newPlot(\"deb0d038-97f7-434d-b574-1f930f3809a0\", [{\"x\": [\"2018-05-01\", \"2018-05-02\", \"2018-05-03\", \"2018-05-04\", \"2018-05-05\", \"2018-05-06\", \"2018-05-07\", \"2018-05-08\", \"2018-05-09\", \"2018-05-10\", \"2018-05-11\", \"2018-05-12\", \"2018-05-13\", \"2018-05-14\", \"2018-05-15\", \"2018-05-16\", \"2018-05-17\", \"2018-05-18\", \"2018-05-19\", \"2018-05-20\", \"2018-05-21\", \"2018-05-22\", \"2018-05-23\", \"2018-05-24\", \"2018-05-25\", \"2018-05-26\", \"2018-05-27\", \"2018-05-28\", \"2018-05-29\", \"2018-05-30\", \"2018-05-31\"], \"y\": [84, 91, 96, 159, 85, 76, 103, 104, 101, 106, 134, 85, 73, 98, 111, 142, 129, 122, 81, 42, 92, 84, 114, 103, 152, 89, 53, 62, 113, 112, 99], \"type\": \"scatter\", \"uid\": \"b26f7566-2db5-405e-9a62-86f905f8a816\"}], {\"title\": {\"text\": \"Accidents by Date - May 2018\"}}, {\"showLink\": false, \"linkText\": \"Export to plot.ly\", \"plotlyServerURL\": \"https://plot.ly\"}); \n",
       "}\n",
       "});</script><script type=\"text/javascript\">window.addEventListener(\"resize\", function(){if (document.getElementById(\"deb0d038-97f7-434d-b574-1f930f3809a0\")) {window._Plotly.Plots.resize(document.getElementById(\"deb0d038-97f7-434d-b574-1f930f3809a0\"));};})</script>"
      ]
     },
     "metadata": {},
     "output_type": "display_data"
    }
   ],
   "source": [
    "data = [trace10]\n",
    "layout = go.Layout(\n",
    "    title='Accidents by Date - May 2018'\n",
    ")\n",
    "\n",
    "fig = go.Figure(data=data, layout=layout)\n",
    "py.offline.iplot(fig)"
   ]
  },
  {
   "cell_type": "code",
   "execution_count": 106,
   "metadata": {},
   "outputs": [],
   "source": [
    "trace9 = go.Bar(\n",
    "    x=may_accident_days.index,\n",
    "    y=may_accident_days.values,\n",
    "    name='Accidents by Date in May'\n",
    ")"
   ]
  },
  {
   "cell_type": "code",
   "execution_count": 129,
   "metadata": {},
   "outputs": [
    {
     "data": {
      "application/vnd.plotly.v1+json": {
       "config": {
        "linkText": "Export to plot.ly",
        "plotlyServerURL": "https://plot.ly",
        "showLink": false
       },
       "data": [
        {
         "name": "Accidents by Date in May",
         "type": "bar",
         "uid": "a759a5ec-8fea-452b-9ac4-cf018f55db67",
         "x": [
          "2018-05-01",
          "2018-05-02",
          "2018-05-03",
          "2018-05-04",
          "2018-05-05",
          "2018-05-06",
          "2018-05-07",
          "2018-05-08",
          "2018-05-09",
          "2018-05-10",
          "2018-05-11",
          "2018-05-12",
          "2018-05-13",
          "2018-05-14",
          "2018-05-15",
          "2018-05-16",
          "2018-05-17",
          "2018-05-18",
          "2018-05-19",
          "2018-05-20",
          "2018-05-21",
          "2018-05-22",
          "2018-05-23",
          "2018-05-24",
          "2018-05-25",
          "2018-05-26",
          "2018-05-27",
          "2018-05-28",
          "2018-05-29",
          "2018-05-30",
          "2018-05-31"
         ],
         "y": [
          84,
          91,
          96,
          159,
          85,
          76,
          103,
          104,
          101,
          106,
          134,
          85,
          73,
          98,
          111,
          142,
          129,
          122,
          81,
          42,
          92,
          84,
          114,
          103,
          152,
          89,
          53,
          62,
          113,
          112,
          99
         ]
        }
       ],
       "layout": {
        "barmode": "stack",
        "title": {
         "text": "Accidents by Date - May 2018"
        }
       }
      },
      "text/html": [
       "<div id=\"fcff5891-c4b9-4cdd-b0d2-7c1fae4cf2c8\" style=\"height: 525px; width: 100%;\" class=\"plotly-graph-div\"></div><script type=\"text/javascript\">require([\"plotly\"], function(Plotly) { window.PLOTLYENV=window.PLOTLYENV || {};window.PLOTLYENV.BASE_URL=\"https://plot.ly\";\n",
       "if (document.getElementById(\"fcff5891-c4b9-4cdd-b0d2-7c1fae4cf2c8\")) {\n",
       "    Plotly.newPlot(\"fcff5891-c4b9-4cdd-b0d2-7c1fae4cf2c8\", [{\"name\": \"Accidents by Date in May\", \"x\": [\"2018-05-01\", \"2018-05-02\", \"2018-05-03\", \"2018-05-04\", \"2018-05-05\", \"2018-05-06\", \"2018-05-07\", \"2018-05-08\", \"2018-05-09\", \"2018-05-10\", \"2018-05-11\", \"2018-05-12\", \"2018-05-13\", \"2018-05-14\", \"2018-05-15\", \"2018-05-16\", \"2018-05-17\", \"2018-05-18\", \"2018-05-19\", \"2018-05-20\", \"2018-05-21\", \"2018-05-22\", \"2018-05-23\", \"2018-05-24\", \"2018-05-25\", \"2018-05-26\", \"2018-05-27\", \"2018-05-28\", \"2018-05-29\", \"2018-05-30\", \"2018-05-31\"], \"y\": [84, 91, 96, 159, 85, 76, 103, 104, 101, 106, 134, 85, 73, 98, 111, 142, 129, 122, 81, 42, 92, 84, 114, 103, 152, 89, 53, 62, 113, 112, 99], \"type\": \"bar\", \"uid\": \"a759a5ec-8fea-452b-9ac4-cf018f55db67\"}], {\"barmode\": \"stack\", \"title\": {\"text\": \"Accidents by Date - May 2018\"}}, {\"showLink\": false, \"linkText\": \"Export to plot.ly\", \"plotlyServerURL\": \"https://plot.ly\"}); \n",
       "}\n",
       "});</script><script type=\"text/javascript\">window.addEventListener(\"resize\", function(){if (document.getElementById(\"fcff5891-c4b9-4cdd-b0d2-7c1fae4cf2c8\")) {window._Plotly.Plots.resize(document.getElementById(\"fcff5891-c4b9-4cdd-b0d2-7c1fae4cf2c8\"));};})</script>"
      ],
      "text/vnd.plotly.v1+html": [
       "<div id=\"fcff5891-c4b9-4cdd-b0d2-7c1fae4cf2c8\" style=\"height: 525px; width: 100%;\" class=\"plotly-graph-div\"></div><script type=\"text/javascript\">require([\"plotly\"], function(Plotly) { window.PLOTLYENV=window.PLOTLYENV || {};window.PLOTLYENV.BASE_URL=\"https://plot.ly\";\n",
       "if (document.getElementById(\"fcff5891-c4b9-4cdd-b0d2-7c1fae4cf2c8\")) {\n",
       "    Plotly.newPlot(\"fcff5891-c4b9-4cdd-b0d2-7c1fae4cf2c8\", [{\"name\": \"Accidents by Date in May\", \"x\": [\"2018-05-01\", \"2018-05-02\", \"2018-05-03\", \"2018-05-04\", \"2018-05-05\", \"2018-05-06\", \"2018-05-07\", \"2018-05-08\", \"2018-05-09\", \"2018-05-10\", \"2018-05-11\", \"2018-05-12\", \"2018-05-13\", \"2018-05-14\", \"2018-05-15\", \"2018-05-16\", \"2018-05-17\", \"2018-05-18\", \"2018-05-19\", \"2018-05-20\", \"2018-05-21\", \"2018-05-22\", \"2018-05-23\", \"2018-05-24\", \"2018-05-25\", \"2018-05-26\", \"2018-05-27\", \"2018-05-28\", \"2018-05-29\", \"2018-05-30\", \"2018-05-31\"], \"y\": [84, 91, 96, 159, 85, 76, 103, 104, 101, 106, 134, 85, 73, 98, 111, 142, 129, 122, 81, 42, 92, 84, 114, 103, 152, 89, 53, 62, 113, 112, 99], \"type\": \"bar\", \"uid\": \"a759a5ec-8fea-452b-9ac4-cf018f55db67\"}], {\"barmode\": \"stack\", \"title\": {\"text\": \"Accidents by Date - May 2018\"}}, {\"showLink\": false, \"linkText\": \"Export to plot.ly\", \"plotlyServerURL\": \"https://plot.ly\"}); \n",
       "}\n",
       "});</script><script type=\"text/javascript\">window.addEventListener(\"resize\", function(){if (document.getElementById(\"fcff5891-c4b9-4cdd-b0d2-7c1fae4cf2c8\")) {window._Plotly.Plots.resize(document.getElementById(\"fcff5891-c4b9-4cdd-b0d2-7c1fae4cf2c8\"));};})</script>"
      ]
     },
     "metadata": {},
     "output_type": "display_data"
    }
   ],
   "source": [
    "data = [trace9]\n",
    "layout = go.Layout(\n",
    "    barmode='stack',\n",
    "    title='Accidents by Date - May 2018'\n",
    ")\n",
    "\n",
    "fig = go.Figure(data=data, layout=layout)\n",
    "py.offline.iplot(fig)"
   ]
  },
  {
   "cell_type": "markdown",
   "metadata": {},
   "source": [
    "## Taking a Closer Look at Wednesday May 16, 2018"
   ]
  },
  {
   "cell_type": "code",
   "execution_count": 108,
   "metadata": {},
   "outputs": [
    {
     "name": "stderr",
     "output_type": "stream",
     "text": [
      "/anaconda3/lib/python3.7/site-packages/ipykernel_launcher.py:3: UserWarning:\n",
      "\n",
      "Boolean Series key will be reindexed to match DataFrame index.\n",
      "\n"
     ]
    }
   ],
   "source": [
    "may_mask = (analysis_df['Published Date'].dt.month == 5)\n",
    "\n",
    "hr_00_Fri_df = hr_00_all_df[fri_all_mask]\n",
    "hr_00_Fri_df_count = hr_00_Fri_df['Published Date'].count()"
   ]
  },
  {
   "cell_type": "code",
   "execution_count": 109,
   "metadata": {},
   "outputs": [
    {
     "name": "stderr",
     "output_type": "stream",
     "text": [
      "/anaconda3/lib/python3.7/site-packages/ipykernel_launcher.py:2: UserWarning:\n",
      "\n",
      "Boolean Series key will be reindexed to match DataFrame index.\n",
      "\n",
      "/anaconda3/lib/python3.7/site-packages/ipykernel_launcher.py:5: UserWarning:\n",
      "\n",
      "Boolean Series key will be reindexed to match DataFrame index.\n",
      "\n",
      "/anaconda3/lib/python3.7/site-packages/ipykernel_launcher.py:8: UserWarning:\n",
      "\n",
      "Boolean Series key will be reindexed to match DataFrame index.\n",
      "\n",
      "/anaconda3/lib/python3.7/site-packages/ipykernel_launcher.py:11: UserWarning:\n",
      "\n",
      "Boolean Series key will be reindexed to match DataFrame index.\n",
      "\n",
      "/anaconda3/lib/python3.7/site-packages/ipykernel_launcher.py:14: UserWarning:\n",
      "\n",
      "Boolean Series key will be reindexed to match DataFrame index.\n",
      "\n",
      "/anaconda3/lib/python3.7/site-packages/ipykernel_launcher.py:17: UserWarning:\n",
      "\n",
      "Boolean Series key will be reindexed to match DataFrame index.\n",
      "\n",
      "/anaconda3/lib/python3.7/site-packages/ipykernel_launcher.py:20: UserWarning:\n",
      "\n",
      "Boolean Series key will be reindexed to match DataFrame index.\n",
      "\n",
      "/anaconda3/lib/python3.7/site-packages/ipykernel_launcher.py:23: UserWarning:\n",
      "\n",
      "Boolean Series key will be reindexed to match DataFrame index.\n",
      "\n",
      "/anaconda3/lib/python3.7/site-packages/ipykernel_launcher.py:26: UserWarning:\n",
      "\n",
      "Boolean Series key will be reindexed to match DataFrame index.\n",
      "\n",
      "/anaconda3/lib/python3.7/site-packages/ipykernel_launcher.py:29: UserWarning:\n",
      "\n",
      "Boolean Series key will be reindexed to match DataFrame index.\n",
      "\n",
      "/anaconda3/lib/python3.7/site-packages/ipykernel_launcher.py:32: UserWarning:\n",
      "\n",
      "Boolean Series key will be reindexed to match DataFrame index.\n",
      "\n",
      "/anaconda3/lib/python3.7/site-packages/ipykernel_launcher.py:35: UserWarning:\n",
      "\n",
      "Boolean Series key will be reindexed to match DataFrame index.\n",
      "\n",
      "/anaconda3/lib/python3.7/site-packages/ipykernel_launcher.py:38: UserWarning:\n",
      "\n",
      "Boolean Series key will be reindexed to match DataFrame index.\n",
      "\n",
      "/anaconda3/lib/python3.7/site-packages/ipykernel_launcher.py:41: UserWarning:\n",
      "\n",
      "Boolean Series key will be reindexed to match DataFrame index.\n",
      "\n",
      "/anaconda3/lib/python3.7/site-packages/ipykernel_launcher.py:44: UserWarning:\n",
      "\n",
      "Boolean Series key will be reindexed to match DataFrame index.\n",
      "\n",
      "/anaconda3/lib/python3.7/site-packages/ipykernel_launcher.py:47: UserWarning:\n",
      "\n",
      "Boolean Series key will be reindexed to match DataFrame index.\n",
      "\n",
      "/anaconda3/lib/python3.7/site-packages/ipykernel_launcher.py:50: UserWarning:\n",
      "\n",
      "Boolean Series key will be reindexed to match DataFrame index.\n",
      "\n",
      "/anaconda3/lib/python3.7/site-packages/ipykernel_launcher.py:53: UserWarning:\n",
      "\n",
      "Boolean Series key will be reindexed to match DataFrame index.\n",
      "\n",
      "/anaconda3/lib/python3.7/site-packages/ipykernel_launcher.py:56: UserWarning:\n",
      "\n",
      "Boolean Series key will be reindexed to match DataFrame index.\n",
      "\n",
      "/anaconda3/lib/python3.7/site-packages/ipykernel_launcher.py:59: UserWarning:\n",
      "\n",
      "Boolean Series key will be reindexed to match DataFrame index.\n",
      "\n",
      "/anaconda3/lib/python3.7/site-packages/ipykernel_launcher.py:62: UserWarning:\n",
      "\n",
      "Boolean Series key will be reindexed to match DataFrame index.\n",
      "\n",
      "/anaconda3/lib/python3.7/site-packages/ipykernel_launcher.py:65: UserWarning:\n",
      "\n",
      "Boolean Series key will be reindexed to match DataFrame index.\n",
      "\n",
      "/anaconda3/lib/python3.7/site-packages/ipykernel_launcher.py:68: UserWarning:\n",
      "\n",
      "Boolean Series key will be reindexed to match DataFrame index.\n",
      "\n",
      "/anaconda3/lib/python3.7/site-packages/ipykernel_launcher.py:71: UserWarning:\n",
      "\n",
      "Boolean Series key will be reindexed to match DataFrame index.\n",
      "\n"
     ]
    }
   ],
   "source": [
    "# Filter by Hour and Day - Wednesday, May 16\n",
    "hr_00_Wed_df = hr_00_all_df[wed_all_mask]\n",
    "hr_00_Wed_16_df = hr_00_Wed_df['Published Date'].dt.day == 16\n",
    "hr_00_Wed_16_df_count = hr_00_Wed_16_df.count()\n",
    "hr_01_Wed_df = hr_01_all_df[wed_all_mask]\n",
    "hr_01_Wed_16_df = hr_01_Wed_df['Published Date'].dt.day == 16\n",
    "hr_01_Wed_16_df_count = hr_01_Wed_16_df.count()\n",
    "hr_02_Wed_df = hr_02_all_df[wed_all_mask]\n",
    "hr_02_Wed_16_df = hr_02_Wed_df['Published Date'].dt.day == 16\n",
    "hr_02_Wed_16_df_count = hr_02_Wed_16_df.count()\n",
    "hr_03_Wed_df = hr_03_all_df[wed_all_mask]\n",
    "hr_03_Wed_16_df = hr_03_Wed_df['Published Date'].dt.day == 16\n",
    "hr_03_Wed_16_df_count = hr_03_Wed_16_df.count()\n",
    "hr_04_Wed_df = hr_04_all_df[wed_all_mask]\n",
    "hr_04_Wed_16_df = hr_04_Wed_df['Published Date'].dt.day == 16\n",
    "hr_04_Wed_16_df_count = hr_04_Wed_16_df.count()\n",
    "hr_05_Wed_df = hr_05_all_df[wed_all_mask]\n",
    "hr_05_Wed_16_df = hr_05_Wed_df['Published Date'].dt.day == 16\n",
    "hr_05_Wed_16_df_count = hr_05_Wed_16_df.count()\n",
    "hr_06_Wed_df = hr_06_all_df[wed_all_mask]\n",
    "hr_06_Wed_16_df = hr_06_Wed_df['Published Date'].dt.day == 16\n",
    "hr_06_Wed_16_df_count = hr_06_Wed_16_df.count()\n",
    "hr_07_Wed_df = hr_07_all_df[wed_all_mask]\n",
    "hr_07_Wed_16_df = hr_07_Wed_df['Published Date'].dt.day == 16\n",
    "hr_07_Wed_16_df_count = hr_07_Wed_16_df.count()\n",
    "hr_08_Wed_df = hr_08_all_df[wed_all_mask]\n",
    "hr_08_Wed_16_df = hr_08_Wed_df['Published Date'].dt.day == 16\n",
    "hr_08_Wed_16_df_count = hr_08_Wed_16_df.count()\n",
    "hr_09_Wed_df = hr_09_all_df[wed_all_mask]\n",
    "hr_09_Wed_16_df = hr_09_Wed_df['Published Date'].dt.day == 16\n",
    "hr_09_Wed_16_df_count = hr_09_Wed_16_df.count()\n",
    "hr_10_Wed_df = hr_10_all_df[wed_all_mask]\n",
    "hr_10_Wed_16_df = hr_10_Wed_df['Published Date'].dt.day == 16\n",
    "hr_10_Wed_16_df_count = hr_10_Wed_16_df.count()\n",
    "hr_11_Wed_df = hr_11_all_df[wed_all_mask]\n",
    "hr_11_Wed_16_df = hr_11_Wed_df['Published Date'].dt.day == 16\n",
    "hr_11_Wed_16_df_count = hr_11_Wed_16_df.count()\n",
    "hr_12_Wed_df = hr_12_all_df[wed_all_mask]\n",
    "hr_12_Wed_16_df = hr_12_Wed_df['Published Date'].dt.day == 16\n",
    "hr_12_Wed_16_df_count = hr_12_Wed_16_df.count()\n",
    "hr_13_Wed_df = hr_13_all_df[wed_all_mask]\n",
    "hr_13_Wed_16_df = hr_13_Wed_df['Published Date'].dt.day == 16\n",
    "hr_13_Wed_16_df_count = hr_13_Wed_16_df.count()\n",
    "hr_14_Wed_df = hr_14_all_df[wed_all_mask]\n",
    "hr_14_Wed_16_df = hr_14_Wed_df['Published Date'].dt.day == 16\n",
    "hr_14_Wed_16_df_count = hr_14_Wed_16_df.count()\n",
    "hr_15_Wed_df = hr_15_all_df[wed_all_mask]\n",
    "hr_15_Wed_16_df = hr_15_Wed_df['Published Date'].dt.day == 16\n",
    "hr_15_Wed_16_df_count = hr_15_Wed_16_df.count()\n",
    "hr_16_Wed_df = hr_16_all_df[wed_all_mask]\n",
    "hr_16_Wed_16_df = hr_16_Wed_df['Published Date'].dt.day == 16\n",
    "hr_16_Wed_16_df_count = hr_16_Wed_16_df.count()\n",
    "hr_17_Wed_df = hr_17_all_df[wed_all_mask]\n",
    "hr_17_Wed_16_df = hr_17_Wed_df['Published Date'].dt.day == 16\n",
    "hr_17_Wed_16_df_count = hr_17_Wed_16_df.count()\n",
    "hr_18_Wed_df = hr_18_all_df[wed_all_mask]\n",
    "hr_18_Wed_16_df = hr_18_Wed_df['Published Date'].dt.day == 16\n",
    "hr_18_Wed_16_df_count = hr_18_Wed_16_df.count()\n",
    "hr_19_Wed_df = hr_19_all_df[wed_all_mask]\n",
    "hr_19_Wed_16_df = hr_19_Wed_df['Published Date'].dt.day == 16\n",
    "hr_19_Wed_16_df_count = hr_19_Wed_16_df.count()\n",
    "hr_20_Wed_df = hr_20_all_df[wed_all_mask]\n",
    "hr_20_Wed_16_df = hr_20_Wed_df['Published Date'].dt.day == 16\n",
    "hr_20_Wed_16_df_count = hr_20_Wed_16_df.count()\n",
    "hr_21_Wed_df = hr_21_all_df[wed_all_mask]\n",
    "hr_21_Wed_16_df = hr_21_Wed_df['Published Date'].dt.day == 16\n",
    "hr_21_Wed_16_df_count = hr_21_Wed_16_df.count()\n",
    "hr_22_Wed_df = hr_22_all_df[wed_all_mask]\n",
    "hr_22_Wed_16_df = hr_22_Wed_df['Published Date'].dt.day == 16\n",
    "hr_22_Wed_16_df_count = hr_22_Wed_16_df.count()\n",
    "hr_23_Wed_df = hr_23_all_df[wed_all_mask]\n",
    "hr_23_Wed_16_df = hr_23_Wed_df['Published Date'].dt.day == 16\n",
    "hr_23_Wed_16_df_count = hr_23_Wed_16_df.count()"
   ]
  },
  {
   "cell_type": "code",
   "execution_count": 134,
   "metadata": {},
   "outputs": [],
   "source": [
    "trace10 = go.Bar(\n",
    "    x=[\n",
    "    \"0000\", \"0100\", \"0200\", \"0300\", \"0400\", \"0500\", \"0600\", \"0700\", \"0800\", \"0900\", \"1000\", \"1100\",\n",
    "    \"1200\", \"1300\", \"1400\", \"1500\", \"1600\", \"1700\", \"1800\", \"1900\", \"2000\", \"2100\", \"2200\", \"2300\"\n",
    "      ],\n",
    "    y=[\n",
    "    hr_00_Wed_16_df_count, hr_01_Wed_16_df_count, hr_02_Wed_16_df_count, hr_03_Wed_16_df_count, hr_04_Wed_16_df_count, hr_05_Wed_16_df_count,\n",
    "    hr_06_Wed_16_df_count, hr_07_Wed_16_df_count, hr_08_Wed_16_df_count, hr_09_Wed_16_df_count, hr_10_Wed_16_df_count, hr_11_Wed_16_df_count,\n",
    "    hr_12_Wed_16_df_count, hr_13_Wed_16_df_count, hr_14_Wed_16_df_count, hr_15_Wed_16_df_count, hr_16_Wed_16_df_count, hr_17_Wed_16_df_count,\n",
    "    hr_18_Wed_16_df_count, hr_19_Wed_16_df_count, hr_20_Wed_16_df_count, hr_21_Wed_16_df_count, hr_22_Wed_16_df_count, hr_23_Wed_16_df_count,        \n",
    "],\n",
    "\n",
    ")"
   ]
  },
  {
   "cell_type": "code",
   "execution_count": 135,
   "metadata": {},
   "outputs": [
    {
     "data": {
      "application/vnd.plotly.v1+json": {
       "config": {
        "linkText": "Export to plot.ly",
        "plotlyServerURL": "https://plot.ly",
        "showLink": false
       },
       "data": [
        {
         "type": "bar",
         "uid": "2af75b45-2704-42d5-9294-09698c57abe7",
         "x": [
          "0000",
          "0100",
          "0200",
          "0300",
          "0400",
          "0500",
          "0600",
          "0700",
          "0800",
          "0900",
          "1000",
          "1100",
          "1200",
          "1300",
          "1400",
          "1500",
          "1600",
          "1700",
          "1800",
          "1900",
          "2000",
          "2100",
          "2200",
          "2300"
         ],
         "y": [
          172,
          147,
          86,
          83,
          62,
          56,
          102,
          166,
          163,
          121,
          126,
          174,
          307,
          323,
          261,
          280,
          356,
          442,
          335,
          274,
          251,
          293,
          332,
          253
         ]
        }
       ],
       "layout": {
        "barmode": "stack",
        "title": {
         "text": "Accidents by Hour on May 16, 2018"
        }
       }
      },
      "text/html": [
       "<div id=\"7c9618ff-2c3f-4596-b5e3-292e6599a226\" style=\"height: 525px; width: 100%;\" class=\"plotly-graph-div\"></div><script type=\"text/javascript\">require([\"plotly\"], function(Plotly) { window.PLOTLYENV=window.PLOTLYENV || {};window.PLOTLYENV.BASE_URL=\"https://plot.ly\";\n",
       "if (document.getElementById(\"7c9618ff-2c3f-4596-b5e3-292e6599a226\")) {\n",
       "    Plotly.newPlot(\"7c9618ff-2c3f-4596-b5e3-292e6599a226\", [{\"x\": [\"0000\", \"0100\", \"0200\", \"0300\", \"0400\", \"0500\", \"0600\", \"0700\", \"0800\", \"0900\", \"1000\", \"1100\", \"1200\", \"1300\", \"1400\", \"1500\", \"1600\", \"1700\", \"1800\", \"1900\", \"2000\", \"2100\", \"2200\", \"2300\"], \"y\": [172, 147, 86, 83, 62, 56, 102, 166, 163, 121, 126, 174, 307, 323, 261, 280, 356, 442, 335, 274, 251, 293, 332, 253], \"type\": \"bar\", \"uid\": \"2af75b45-2704-42d5-9294-09698c57abe7\"}], {\"barmode\": \"stack\", \"title\": {\"text\": \"Accidents by Hour on May 16, 2018\"}}, {\"showLink\": false, \"linkText\": \"Export to plot.ly\", \"plotlyServerURL\": \"https://plot.ly\"}); \n",
       "}\n",
       "});</script><script type=\"text/javascript\">window.addEventListener(\"resize\", function(){if (document.getElementById(\"7c9618ff-2c3f-4596-b5e3-292e6599a226\")) {window._Plotly.Plots.resize(document.getElementById(\"7c9618ff-2c3f-4596-b5e3-292e6599a226\"));};})</script>"
      ],
      "text/vnd.plotly.v1+html": [
       "<div id=\"7c9618ff-2c3f-4596-b5e3-292e6599a226\" style=\"height: 525px; width: 100%;\" class=\"plotly-graph-div\"></div><script type=\"text/javascript\">require([\"plotly\"], function(Plotly) { window.PLOTLYENV=window.PLOTLYENV || {};window.PLOTLYENV.BASE_URL=\"https://plot.ly\";\n",
       "if (document.getElementById(\"7c9618ff-2c3f-4596-b5e3-292e6599a226\")) {\n",
       "    Plotly.newPlot(\"7c9618ff-2c3f-4596-b5e3-292e6599a226\", [{\"x\": [\"0000\", \"0100\", \"0200\", \"0300\", \"0400\", \"0500\", \"0600\", \"0700\", \"0800\", \"0900\", \"1000\", \"1100\", \"1200\", \"1300\", \"1400\", \"1500\", \"1600\", \"1700\", \"1800\", \"1900\", \"2000\", \"2100\", \"2200\", \"2300\"], \"y\": [172, 147, 86, 83, 62, 56, 102, 166, 163, 121, 126, 174, 307, 323, 261, 280, 356, 442, 335, 274, 251, 293, 332, 253], \"type\": \"bar\", \"uid\": \"2af75b45-2704-42d5-9294-09698c57abe7\"}], {\"barmode\": \"stack\", \"title\": {\"text\": \"Accidents by Hour on May 16, 2018\"}}, {\"showLink\": false, \"linkText\": \"Export to plot.ly\", \"plotlyServerURL\": \"https://plot.ly\"}); \n",
       "}\n",
       "});</script><script type=\"text/javascript\">window.addEventListener(\"resize\", function(){if (document.getElementById(\"7c9618ff-2c3f-4596-b5e3-292e6599a226\")) {window._Plotly.Plots.resize(document.getElementById(\"7c9618ff-2c3f-4596-b5e3-292e6599a226\"));};})</script>"
      ]
     },
     "metadata": {},
     "output_type": "display_data"
    }
   ],
   "source": [
    "data = [trace10]\n",
    "layout = go.Layout(\n",
    "    barmode='stack',\n",
    "    title='Accidents by Hour on May 16, 2018'\n",
    ")\n",
    "\n",
    "fig = go.Figure(data=data, layout=layout)\n",
    "py.offline.iplot(fig)"
   ]
  },
  {
   "cell_type": "code",
   "execution_count": null,
   "metadata": {},
   "outputs": [],
   "source": []
  },
  {
   "cell_type": "code",
   "execution_count": 115,
   "metadata": {},
   "outputs": [],
   "source": [
    "# code to take the lat and long and make a list for gmap\n",
    "\n",
    "aus_lat = df_from_csv_clean[\"Latitude\"]    #series\n",
    "aus_long = df_from_csv_clean[\"Longitude\"]    #series\n",
    "\n",
    "aus_lat_subset = aus_lat.head(1000)   #make a subset to test\n",
    "aus_long_subset = aus_long.head(1000)  # make a subset to test\n",
    "\n",
    "#print(type(aus_lat_subset))     #its a series\n",
    "#print(aus_lat_subset[0])        #whats the value?\n",
    "#print(type(aus_lat_subset[0]))    #its a string\n",
    "\n",
    "#print(aus_lat_subset)   #show the whole lat subset\n",
    "\n",
    "#using zip function to zip the lat and long together to a list with each element being a tuple\n",
    "aus_lat_long_list_subset = list(zip(aus_lat_subset, aus_long_subset))\n",
    "aus_lat_long_list = list(zip(aus_lat, aus_long))\n",
    "\n",
    "#print(aus_lat_long_list_subset)\n",
    "#type(aus_lat_long_list_subset[0])    #each element is a tuple...yay!"
   ]
  },
  {
   "cell_type": "code",
   "execution_count": null,
   "metadata": {},
   "outputs": [],
   "source": []
  },
  {
   "cell_type": "code",
   "execution_count": 116,
   "metadata": {},
   "outputs": [],
   "source": [
    "# Customize the size of the figure      was   400 x 300\n",
    "figure_layout = {\n",
    "    'width': '800px',\n",
    "    'height': '600px',\n",
    "    'border': '1px solid black',\n",
    "    'padding': '1px',\n",
    "    'margin': '0 auto 0 auto'\n",
    "}\n",
    "fig = gmaps.figure(layout=figure_layout)"
   ]
  },
  {
   "cell_type": "code",
   "execution_count": 117,
   "metadata": {
    "scrolled": true
   },
   "outputs": [
    {
     "data": {
      "application/vnd.jupyter.widget-view+json": {
       "model_id": "b938f283460e430d91043f16545b4670",
       "version_major": 2,
       "version_minor": 0
      },
      "text/plain": [
       "Figure(layout=FigureLayout(border='1px solid black', height='600px', margin='0 auto 0 auto', padding='1px', wi…"
      ]
     },
     "metadata": {},
     "output_type": "display_data"
    }
   ],
   "source": [
    "# Assign the marker layer to a variable  ..      DOING THE SUBSET HERE... TAKES ABOUT 10sec  \n",
    "\n",
    "#help(gmaps.marker_layer)\n",
    "\n",
    "markers = gmaps.marker_layer(aus_lat_long_list_subset)\n",
    "# Add the layer to the map\n",
    "fig.add_layer(markers)\n",
    "fig"
   ]
  },
  {
   "cell_type": "code",
   "execution_count": 118,
   "metadata": {},
   "outputs": [],
   "source": [
    "#help(gmaps.marker_layer)\n",
    "#extracting the marker image is a bit different than plt.savefig....basically\n",
    "#gmaps only lets you save the .html  OR  you can manually dload the fig \n",
    "#within the display frame\n",
    "#per https://jupyter-gmaps.readthedocs.io/en/latest/export.html\n",
    "#\n",
    "#to export:\n",
    "#from ipywidgets.embed import embed_minimal_html\n",
    "#embed_minimal_html('exported_filename_here.html', views=[fig])\n",
    "#\n",
    "#to open the file:\n",
    "#python -m http.server 8080\n",
    "#Navigate to http://0.0.0.0:8080/exported_filename.html and you should see the export!\n"
   ]
  },
  {
   "cell_type": "code",
   "execution_count": null,
   "metadata": {},
   "outputs": [],
   "source": []
  },
  {
   "cell_type": "code",
   "execution_count": null,
   "metadata": {},
   "outputs": [],
   "source": []
  },
  {
   "cell_type": "code",
   "execution_count": null,
   "metadata": {},
   "outputs": [],
   "source": []
  },
  {
   "cell_type": "code",
   "execution_count": 119,
   "metadata": {},
   "outputs": [
    {
     "data": {
      "application/vnd.jupyter.widget-view+json": {
       "model_id": "e18bb94044594894b8e258a251e99d01",
       "version_major": 2,
       "version_minor": 0
      },
      "text/plain": [
       "Figure(layout=FigureLayout(height='420px'))"
      ]
     },
     "metadata": {},
     "output_type": "display_data"
    }
   ],
   "source": [
    "fig = gmaps.figure(map_type='HYBRID')\n",
    "heatmap_layer = gmaps.heatmap_layer(aus_lat_long_list_subset)\n",
    "fig.add_layer(heatmap_layer)\n",
    "fig"
   ]
  },
  {
   "cell_type": "code",
   "execution_count": null,
   "metadata": {},
   "outputs": [],
   "source": []
  },
  {
   "cell_type": "code",
   "execution_count": 120,
   "metadata": {},
   "outputs": [],
   "source": [
    "#saving the marker image is a bit different than plt.savefig....basically\n",
    "#gmaps only lets you save the .html  OR  you can manually dload the fig \n",
    "#within the display frame\n",
    "#per https://jupyter-gmaps.readthedocs.io/en/latest/export.html\n",
    "#\n",
    "#to export:\n",
    "#from ipywidgets.embed import embed_minimal_html\n",
    "#embed_minimal_html('exported_filename_here.html', views=[fig])\n",
    "#\n",
    "#to open the file:\n",
    "#python -m http.server 8080\n",
    "#Navigate to http://0.0.0.0:8080/exported_filename.html and you should see the export!"
   ]
  },
  {
   "cell_type": "code",
   "execution_count": null,
   "metadata": {},
   "outputs": [],
   "source": []
  },
  {
   "cell_type": "code",
   "execution_count": null,
   "metadata": {},
   "outputs": [],
   "source": []
  },
  {
   "cell_type": "code",
   "execution_count": null,
   "metadata": {},
   "outputs": [],
   "source": []
  },
  {
   "cell_type": "code",
   "execution_count": null,
   "metadata": {},
   "outputs": [],
   "source": []
  },
  {
   "cell_type": "code",
   "execution_count": null,
   "metadata": {},
   "outputs": [],
   "source": []
  },
  {
   "cell_type": "code",
   "execution_count": null,
   "metadata": {},
   "outputs": [],
   "source": []
  },
  {
   "cell_type": "code",
   "execution_count": null,
   "metadata": {},
   "outputs": [],
   "source": []
  },
  {
   "cell_type": "code",
   "execution_count": null,
   "metadata": {},
   "outputs": [],
   "source": []
  },
  {
   "cell_type": "code",
   "execution_count": null,
   "metadata": {},
   "outputs": [],
   "source": []
  }
 ],
 "metadata": {
  "anaconda-cloud": {},
  "kernelspec": {
   "display_name": "Python 3",
   "language": "python",
   "name": "python3"
  },
  "language_info": {
   "codemirror_mode": {
    "name": "ipython",
    "version": 3
   },
   "file_extension": ".py",
   "mimetype": "text/x-python",
   "name": "python",
   "nbconvert_exporter": "python",
   "pygments_lexer": "ipython3",
   "version": "3.7.1"
  }
 },
 "nbformat": 4,
 "nbformat_minor": 2
}
