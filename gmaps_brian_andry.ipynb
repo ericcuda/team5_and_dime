{
 "cells": [
  {
   "cell_type": "markdown",
   "metadata": {},
   "source": [
    "# AustinTrafficPy\n",
    "\n",
    "## Team5_And_Dime (MWSa)\n",
    "\n",
    "* Andry Dominguez\n",
    "* Tony Jones\n",
    "* Brian Stoller\n",
    "* Ali Apil\n",
    "* Eric Staveley\n",
    "\n",
    "Tasks managed at:  \n",
    "https://trello.com/b/MadPBixY/trafficpy-team5\n",
    "\n",
    "### Hypothesis\n",
    "Day of the week or hours of daylight (mood) have a significant influence on vehicle accident rates.\n",
    "\n",
    "\n",
    "### Null Hypothesis\n",
    "The only significant contributing factor to vehicle accident rate is congestion.\n",
    "\n",
    "#### Data Sources:\n",
    "* data.austintexas.gov  (Real Time Traffic Incident Data)  <narrowed down timeframe to 2018>\n",
    "* Could not find *free* historial weather data for 2018\n"
   ]
  },
  {
   "cell_type": "code",
   "execution_count": 1,
   "metadata": {},
   "outputs": [],
   "source": [
    "# !pip install plotly"
   ]
  },
  {
   "cell_type": "code",
   "execution_count": 2,
   "metadata": {
    "scrolled": true
   },
   "outputs": [],
   "source": [
    "# Dependencies and Setup\n",
    "import matplotlib.pyplot as plt\n",
    "import plotly as py\n",
    "import pandas as pd\n",
    "import numpy as np\n",
    "import requests\n",
    "import time\n",
    "import json\n",
    "import datetime\n",
    "import gmaps\n",
    "\n",
    "\n",
    "# import API keys as needed, incl Google developer\n",
    "from api_keys import gkey\n",
    "\n",
    "# Access maps with unique API key\n",
    "gmaps.configure(api_key=gkey)\n",
    "\n",
    "# Incorporated citipy to determine city based on latitude and longitude\n",
    "#from citipy import citipy\n",
    "\n",
    "# Output File (CSV)\n",
    "output_data_file = \"output_data/aus_traffic.csv\"\n",
    "\n",
    "#get current time\n",
    "now = datetime.datetime.now()\n"
   ]
  },
  {
   "cell_type": "markdown",
   "metadata": {},
   "source": [
    "#  ETL  STARTS HERE"
   ]
  },
  {
   "cell_type": "code",
   "execution_count": 3,
   "metadata": {},
   "outputs": [
    {
     "name": "stdout",
     "output_type": "stream",
     "text": [
      "Raw data record count: 98324\n"
     ]
    }
   ],
   "source": [
    "#csv method...since we could get a larger dataset\n",
    "data_file = \"Resources/Real-Time_Traffic_Incident_Reports.csv\"\n",
    "#data_file = \"//usaussfs2008.ad.global/home$/rstaveley/new_dir/Real-Time_Traffic_Incident_Reports.csv\"\n",
    "df_from_csv = pd.read_csv(data_file)\n",
    "df_from_csv.head(20)\n",
    "\n",
    "print(f\"Raw data record count: {len(df_from_csv)}\")\n"
   ]
  },
  {
   "cell_type": "code",
   "execution_count": 4,
   "metadata": {},
   "outputs": [
    {
     "name": "stdout",
     "output_type": "stream",
     "text": [
      "Non-NA values per column:\n",
      "Traffic Report ID    98324\n",
      "Published Date       98324\n",
      "Issue Reported       98324\n",
      "Location             98045\n",
      "Latitude             98245\n",
      "Longitude            98245\n",
      "Address              98324\n",
      "Status               96631\n",
      "Status Date          98324\n",
      "dtype: int64\n",
      "Total of rows with complete data now: 96358\n",
      "Removing invalid longitude and latitude...\n",
      "Total number of rows with valid lat/long data: 96352\n"
     ]
    },
    {
     "data": {
      "text/plain": [
       "Traffic Report ID     object\n",
       "Published Date        object\n",
       "Issue Reported        object\n",
       "Location              object\n",
       "Latitude             float64\n",
       "Longitude            float64\n",
       "Address               object\n",
       "Status                object\n",
       "Status Date           object\n",
       "dtype: object"
      ]
     },
     "execution_count": 4,
     "metadata": {},
     "output_type": "execute_result"
    }
   ],
   "source": [
    "#clean up the data\n",
    "\n",
    "#get rid of the NaNs found in Location\n",
    "#19\t9BD7909EA32C89F68E82ED0CBE1F30A2E1D72B1C_15323...\t07/23/2018 09:39:17 PM +0000\tzSTALLED VEHICLE\tNaN\t0.000000\t0.000000\t3339 W BRAKER LN\tARCHIVED\t07/23/2018 10:15:02 PM +0000\n",
    "\n",
    "print(f\"Non-NA values per column:\\n{df_from_csv.count()}\")   #show the non-NA cells for each field\n",
    "\n",
    "#remove the rows with any empty cells\n",
    "df_from_csv_clean = df_from_csv.dropna(how='any')\n",
    "\n",
    "print(f\"Total of rows with complete data now: {len(df_from_csv_clean)}\")\n",
    "\n",
    "print(\"Removing invalid longitude and latitude...\")\n",
    "#ensure lat and long are valid.  -90<=lat<=90     -180<=lon<=180\n",
    "#lat\n",
    "row_condition = df_from_csv_clean[\"Latitude\"] <= 90\n",
    "filtered_df = df_from_csv_clean.loc[row_condition]\n",
    "row_condition = filtered_df[\"Latitude\"] >= -90\n",
    "filtered_df = filtered_df.loc[row_condition]\n",
    "\n",
    "#long\n",
    "row_condition = filtered_df[\"Longitude\"] <= 180\n",
    "filtered_df = filtered_df.loc[row_condition]\n",
    "row_condition = filtered_df[\"Longitude\"] >= -180\n",
    "filtered_df = filtered_df.loc[row_condition]\n",
    "\n",
    "print(f\"Total number of rows with valid lat/long data: {len(filtered_df)}\")\n",
    "df_from_csv_clean = filtered_df   #re-assign filtered df back to our orig name\n",
    "\n",
    "df_from_csv_clean.dtypes"
   ]
  },
  {
   "cell_type": "code",
   "execution_count": 5,
   "metadata": {},
   "outputs": [],
   "source": [
    "#df_from_csv_clean.count() "
   ]
  },
  {
   "cell_type": "code",
   "execution_count": 6,
   "metadata": {},
   "outputs": [
    {
     "data": {
      "text/html": [
       "<div>\n",
       "<style scoped>\n",
       "    .dataframe tbody tr th:only-of-type {\n",
       "        vertical-align: middle;\n",
       "    }\n",
       "\n",
       "    .dataframe tbody tr th {\n",
       "        vertical-align: top;\n",
       "    }\n",
       "\n",
       "    .dataframe thead th {\n",
       "        text-align: right;\n",
       "    }\n",
       "</style>\n",
       "<table border=\"1\" class=\"dataframe\">\n",
       "  <thead>\n",
       "    <tr style=\"text-align: right;\">\n",
       "      <th></th>\n",
       "      <th>Traffic Report ID</th>\n",
       "      <th>Published Date</th>\n",
       "      <th>Issue Reported</th>\n",
       "      <th>Location</th>\n",
       "      <th>Latitude</th>\n",
       "      <th>Longitude</th>\n",
       "      <th>Address</th>\n",
       "      <th>Status</th>\n",
       "      <th>Status Date</th>\n",
       "    </tr>\n",
       "  </thead>\n",
       "  <tbody>\n",
       "    <tr>\n",
       "      <th>0</th>\n",
       "      <td>C163BCD1CF90C984E9EDA4DBA311BCA369A7D1A1_15288...</td>\n",
       "      <td>2018-06-13 06:35:59</td>\n",
       "      <td>Crash Service</td>\n",
       "      <td>(30.283797,-97.741906)</td>\n",
       "      <td>30.283797</td>\n",
       "      <td>-97.741906</td>\n",
       "      <td>W 21ST ST &amp; GUADALUPE ST</td>\n",
       "      <td>ARCHIVED</td>\n",
       "      <td>2018-06-13 09:00:03</td>\n",
       "    </tr>\n",
       "    <tr>\n",
       "      <th>1</th>\n",
       "      <td>2664C206999E7419517EE39E177797576A52201B_15381...</td>\n",
       "      <td>2018-09-29 00:52:58</td>\n",
       "      <td>Traffic Hazard</td>\n",
       "      <td>(30.380525,-97.737873)</td>\n",
       "      <td>30.380525</td>\n",
       "      <td>-97.737873</td>\n",
       "      <td>0 Mopac Sb To Research Sb Ramp</td>\n",
       "      <td>ARCHIVED</td>\n",
       "      <td>2018-09-29 01:35:03</td>\n",
       "    </tr>\n",
       "    <tr>\n",
       "      <th>2</th>\n",
       "      <td>5BB246A3223A89C7FB9B2EED9A2EBDA82141406D_15438...</td>\n",
       "      <td>2018-12-03 17:49:02</td>\n",
       "      <td>Crash Service</td>\n",
       "      <td>(30.278372,-97.671971)</td>\n",
       "      <td>30.278372</td>\n",
       "      <td>-97.671971</td>\n",
       "      <td>5800 Techni Center Dr</td>\n",
       "      <td>ARCHIVED</td>\n",
       "      <td>2018-12-03 18:30:03</td>\n",
       "    </tr>\n",
       "    <tr>\n",
       "      <th>3</th>\n",
       "      <td>6B20382196FB454E9FD06A33E60142902A2F0706_15288...</td>\n",
       "      <td>2018-06-13 10:15:36</td>\n",
       "      <td>Traffic Hazard</td>\n",
       "      <td>(30.339593,-97.700963)</td>\n",
       "      <td>30.339593</td>\n",
       "      <td>-97.700963</td>\n",
       "      <td>400-717 E ANDERSON LN EB</td>\n",
       "      <td>ARCHIVED</td>\n",
       "      <td>2018-06-13 11:20:03</td>\n",
       "    </tr>\n",
       "    <tr>\n",
       "      <th>4</th>\n",
       "      <td>7FD2528A7609AAECB6AF825AC275F98CFDFFF8AD_15382...</td>\n",
       "      <td>2018-09-29 12:47:30</td>\n",
       "      <td>Traffic Hazard</td>\n",
       "      <td>(30.281659,-97.728551)</td>\n",
       "      <td>30.281659</td>\n",
       "      <td>-97.728551</td>\n",
       "      <td>0 N Ih 35 Ud Sb To Mlk Ramp</td>\n",
       "      <td>ARCHIVED</td>\n",
       "      <td>2018-09-29 13:00:03</td>\n",
       "    </tr>\n",
       "  </tbody>\n",
       "</table>\n",
       "</div>"
      ],
      "text/plain": [
       "                                   Traffic Report ID      Published Date  \\\n",
       "0  C163BCD1CF90C984E9EDA4DBA311BCA369A7D1A1_15288... 2018-06-13 06:35:59   \n",
       "1  2664C206999E7419517EE39E177797576A52201B_15381... 2018-09-29 00:52:58   \n",
       "2  5BB246A3223A89C7FB9B2EED9A2EBDA82141406D_15438... 2018-12-03 17:49:02   \n",
       "3  6B20382196FB454E9FD06A33E60142902A2F0706_15288... 2018-06-13 10:15:36   \n",
       "4  7FD2528A7609AAECB6AF825AC275F98CFDFFF8AD_15382... 2018-09-29 12:47:30   \n",
       "\n",
       "   Issue Reported                Location   Latitude  Longitude  \\\n",
       "0   Crash Service  (30.283797,-97.741906)  30.283797 -97.741906   \n",
       "1  Traffic Hazard  (30.380525,-97.737873)  30.380525 -97.737873   \n",
       "2   Crash Service  (30.278372,-97.671971)  30.278372 -97.671971   \n",
       "3  Traffic Hazard  (30.339593,-97.700963)  30.339593 -97.700963   \n",
       "4  Traffic Hazard  (30.281659,-97.728551)  30.281659 -97.728551   \n",
       "\n",
       "                          Address    Status         Status Date  \n",
       "0        W 21ST ST & GUADALUPE ST  ARCHIVED 2018-06-13 09:00:03  \n",
       "1  0 Mopac Sb To Research Sb Ramp  ARCHIVED 2018-09-29 01:35:03  \n",
       "2           5800 Techni Center Dr  ARCHIVED 2018-12-03 18:30:03  \n",
       "3        400-717 E ANDERSON LN EB  ARCHIVED 2018-06-13 11:20:03  \n",
       "4     0 N Ih 35 Ud Sb To Mlk Ramp  ARCHIVED 2018-09-29 13:00:03  "
      ]
     },
     "execution_count": 6,
     "metadata": {},
     "output_type": "execute_result"
    }
   ],
   "source": [
    "#convert the date strings in the DF to valid datetime types\n",
    "df_from_csv_clean['Published Date'] =  pd.to_datetime(df_from_csv_clean['Published Date'])\n",
    "#df_from_csv_clean.head()\n",
    "df_from_csv_clean['Status Date'] =  pd.to_datetime(df_from_csv_clean['Status Date'])\n",
    "df_from_csv_clean.head()"
   ]
  },
  {
   "cell_type": "code",
   "execution_count": 7,
   "metadata": {},
   "outputs": [
    {
     "name": "stdout",
     "output_type": "stream",
     "text": [
      "Earliest date: 2017-09-26 16:11:00\n",
      "Latest date: 2019-03-06 02:37:18\n"
     ]
    },
    {
     "data": {
      "text/plain": [
       "Traffic Report ID            object\n",
       "Published Date       datetime64[ns]\n",
       "Issue Reported               object\n",
       "Location                     object\n",
       "Latitude                    float64\n",
       "Longitude                   float64\n",
       "Address                      object\n",
       "Status                       object\n",
       "Status Date          datetime64[ns]\n",
       "dtype: object"
      ]
     },
     "execution_count": 7,
     "metadata": {},
     "output_type": "execute_result"
    }
   ],
   "source": [
    "#peek at the earliest and latest date in our DF\n",
    "earliest_date = min(df_from_csv_clean[\"Published Date\"])\n",
    "print(f\"Earliest date: {earliest_date}\")\n",
    "latest_date = max(df_from_csv_clean[\"Published Date\"])\n",
    "print(f\"Latest date: {latest_date}\")\n",
    "type(latest_date)     #confirm the type\n",
    "\n",
    "df_from_csv_clean.dtypes\n"
   ]
  },
  {
   "cell_type": "code",
   "execution_count": 8,
   "metadata": {},
   "outputs": [
    {
     "name": "stdout",
     "output_type": "stream",
     "text": [
      "Total number of rows with 2018 data  68244\n",
      "Earliest date: 2018-01-01 00:07:00\n",
      "Latest date: 2018-12-31 23:41:17\n"
     ]
    }
   ],
   "source": [
    "#use only 2018 data now\n",
    "#keep only 2018 data\n",
    "row_condition = df_from_csv_clean[\"Published Date\"] <= \"2018-12-31 23:59:59\"\n",
    "filtered_df = filtered_df.loc[row_condition]\n",
    "row_condition = filtered_df[\"Published Date\"] >= \"2018-01-01 00:00:01\"\n",
    "filtered_df = filtered_df.loc[row_condition]\n",
    "\n",
    "print(f\"Total number of rows with 2018 data  {len(filtered_df)}\")\n",
    "\n",
    "earliest_date = min(filtered_df[\"Published Date\"])\n",
    "print(f\"Earliest date: {earliest_date}\")\n",
    "latest_date = max(filtered_df[\"Published Date\"])\n",
    "print(f\"Latest date: {latest_date}\")\n",
    "\n",
    "df_from_csv_clean = filtered_df   #re-assign filtered df back to our orig name\n"
   ]
  },
  {
   "cell_type": "code",
   "execution_count": 9,
   "metadata": {},
   "outputs": [
    {
     "data": {
      "text/plain": [
       "Traffic Hazard                20272\n",
       "Crash Urgent                  15411\n",
       "Crash Service                 11343\n",
       "COLLISION                      4793\n",
       "Traffic Impediment             4745\n",
       "TRFC HAZD/ DEBRIS              4060\n",
       "zSTALLED VEHICLE               3008\n",
       "COLLISION WITH INJURY          1573\n",
       "LOOSE LIVESTOCK                1471\n",
       "COLLISN/ LVNG SCN              1000\n",
       "COLLISION/PRIVATE PROPERTY      250\n",
       "VEHICLE FIRE                    145\n",
       "BLOCKED DRIV/ HWY                93\n",
       "ICY ROADWAY                      21\n",
       "BOAT ACCIDENT                    20\n",
       "AUTO/ PED                        15\n",
       "TRAFFIC FATALITY                 11\n",
       "FLEET ACC/ INJURY                 9\n",
       "N / HZRD TRFC VIOL                2\n",
       "COLLISN / FTSRA                   1\n",
       "HIGH WATER                        1\n",
       "Name: Issue Reported, dtype: int64"
      ]
     },
     "execution_count": 9,
     "metadata": {},
     "output_type": "execute_result"
    }
   ],
   "source": [
    "#look at types of accidents and counts\n",
    "df_from_csv_clean[\"Issue Reported\"].value_counts()"
   ]
  },
  {
   "cell_type": "code",
   "execution_count": 10,
   "metadata": {},
   "outputs": [
    {
     "name": "stdout",
     "output_type": "stream",
     "text": [
      "TRAFFIC HAZARD                20272\n",
      "CRASH URGENT                  15411\n",
      "CRASH SERVICE                 11343\n",
      "COLLISION                      4793\n",
      "TRAFFIC IMPEDIMENT             4745\n",
      "TRFC HAZD/ DEBRIS              4060\n",
      "STALLED VEHICLE                3008\n",
      "COLLISION WITH INJURY          1573\n",
      "LOOSE LIVESTOCK                1471\n",
      "COLLISN/ LVNG SCN              1000\n",
      "COLLISION/PRIVATE PROPERTY      250\n",
      "VEHICLE FIRE                    145\n",
      "OTHER                           142\n",
      "BOAT ACCIDENT                    20\n",
      "TRAFFIC FATALITY                 11\n",
      "Name: Issue Reported, dtype: int64\n"
     ]
    }
   ],
   "source": [
    "#clean up col names,  and make \"Other\" from bott group\n",
    "renamed_df = df_from_csv_clean.replace({\"HIGH WATER\" : \"OTHER\", \"COLLISN / FTSRA\":\"OTHER\", \"N / HZRD TRFC VIOL\":\"OTHER\",\"FLEET ACC/ INJURY\":\"OTHER\" , \"AUTO/ PED\" : \"OTHER\", \"BOAT ACIDENT\":\"OTHER\", \"ICY ROADWAY\":\"OTHER\",\"BLOCKED DRIV/ HWY\":\"OTHER\" })\n",
    "df_from_csv_clean = renamed_df.replace({\"zSTALLED VEHICLE\" : \"STALLED VEHICLE\", \"Traffic Hazard\":\"TRAFFIC HAZARD\", \"Crash Urgent\":\"CRASH URGENT\", \"Crash Service\":\"CRASH SERVICE\", \"Traffic Impediment\":\"TRAFFIC IMPEDIMENT\"  })\n",
    "\n",
    "filtered_df = df_from_csv_clean\n",
    "\n",
    "#Verify cleanup\n",
    "df_from_csv_clean[\"Issue Reported\"].value_counts()\n",
    "x= df_from_csv_clean[\"Issue Reported\"].value_counts()\n",
    "print(x)\n",
    "#x[0]\n",
    "#x[1]\n",
    "#we now will dive into \n",
    "#'Crash Urgent', 'Crash Service', 'COLLISION', 'COLLISION WITH INJURY', 'COLLISN/ LVNG SCN', 'COLLISION/Private Property', 'TRAFFIC FATALITY')\n",
    "#print(f\"Total number of rows with 2018 data  {len(renamed_df)}\")"
   ]
  },
  {
   "cell_type": "code",
   "execution_count": 11,
   "metadata": {
    "scrolled": false
   },
   "outputs": [
    {
     "data": {
      "text/plain": [
       "([<matplotlib.patches.Wedge at 0x116b2ce48>,\n",
       "  <matplotlib.patches.Wedge at 0x116b39828>,\n",
       "  <matplotlib.patches.Wedge at 0x116b462e8>,\n",
       "  <matplotlib.patches.Wedge at 0x116b46d68>,\n",
       "  <matplotlib.patches.Wedge at 0x116b50828>,\n",
       "  <matplotlib.patches.Wedge at 0x116b5e2e8>,\n",
       "  <matplotlib.patches.Wedge at 0x116b5ed68>,\n",
       "  <matplotlib.patches.Wedge at 0x117b31828>,\n",
       "  <matplotlib.patches.Wedge at 0x117b292e8>,\n",
       "  <matplotlib.patches.Wedge at 0x117b29d68>,\n",
       "  <matplotlib.patches.Wedge at 0x117b20828>,\n",
       "  <matplotlib.patches.Wedge at 0x117b162e8>,\n",
       "  <matplotlib.patches.Wedge at 0x117b16d68>,\n",
       "  <matplotlib.patches.Wedge at 0x117b42828>,\n",
       "  <matplotlib.patches.Wedge at 0x117b492e8>],\n",
       " [Text(-1.16699,-0.27951,'TRAFFIC HAZARD'),\n",
       "  Text(0.332362,-1.04859,'CRASH URGENT'),\n",
       "  Text(1.09943,-0.0354575,'CRASH SERVICE'),\n",
       "  Text(0.833785,0.717498,'COLLISION'),\n",
       "  Text(0.449682,1.00389,'TRAFFIC IMPEDIMENT'),\n",
       "  Text(0.0173851,1.09986,'TRFC HAZD/ DEBRIS'),\n",
       "  Text(-0.335112,1.04771,'STALLED VEHICLE'),\n",
       "  Text(-0.547001,0.954353,'COLLISION WITH INJURY'),\n",
       "  Text(-0.674935,0.868598,'LOOSE LIVESTOCK'),\n",
       "  Text(-0.769164,0.786375,'COLLISN/ LVNG SCN'),\n",
       "  Text(-0.813117,0.740838,'COLLISION/PRIVATE PROPERTY'),\n",
       "  Text(-0.826453,0.725931,'VEHICLE FIRE'),\n",
       "  Text(-0.835972,0.714949,'OTHER'),\n",
       "  Text(-0.84128,0.708694,'BOAT ACCIDENT'),\n",
       "  Text(-0.842291,0.707493,'TRAFFIC FATALITY')],\n",
       " [Text(-0.680746,-0.163047,'29.7%'),\n",
       "  Text(0.181288,-0.571957,'22.6%'),\n",
       "  Text(0.599688,-0.0193404,'16.6%'),\n",
       "  Text(0.454792,0.391362,'7.0%'),\n",
       "  Text(0.245281,0.547574,'7.0%'),\n",
       "  Text(0.00948279,0.599925,'5.9%'),\n",
       "  Text(-0.182788,0.571479,'4.4%'),\n",
       "  Text(-0.298364,0.520556,'2.3%'),\n",
       "  Text(-0.368146,0.473781,'2.2%'),\n",
       "  Text(-0.419544,0.428932,'1.5%'),\n",
       "  Text(-0.443518,0.404093,'0.4%'),\n",
       "  Text(-0.450793,0.395962,'0.2%'),\n",
       "  Text(-0.455985,0.389972,'0.2%'),\n",
       "  Text(-0.45888,0.386561,'0.0%'),\n",
       "  Text(-0.459431,0.385905,'0.0%')])"
      ]
     },
     "execution_count": 11,
     "metadata": {},
     "output_type": "execute_result"
    },
    {
     "data": {
      "image/png": "[encoded data removed]",
      "text/plain": [
       "<Figure size 432x288 with 1 Axes>"
      ]
     },
     "metadata": {},
     "output_type": "display_data"
    }
   ],
   "source": [
    "#type(x)\n",
    "#print(x[0])\n",
    "#print(x)\n",
    "#print(x.index)\n",
    "#type(x.index)\n",
    " \n",
    "labels = df_from_csv_clean['Issue Reported'].value_counts().index\n",
    "values = df_from_csv_clean['Issue Reported'].value_counts().values\n",
    "colors = [\"red\", \"orange\", \"lightcoral\", \"lightskyblue\", \"navy\", \"plum\", \"grey\", \"brown\", \"aqua\", \"indigo\", \"crimson\", \"dimgray\", \"silver\", \"orange\", \"lightcoral\"]\n",
    "explode = (0.1, 0, 0, 0, 0, 0, 0,0, 0, 0,0, 0, 0,0, 0, )\n",
    "plt.axis(\"equal\")\n",
    "#plt.legend(labels=labels)\n",
    "\n",
    "plt.pie(values, explode=explode, labels=labels, colors=colors,\n",
    "        autopct=\"%1.1f%%\", shadow=True, startangle=140)\n",
    "\n",
    "\n"
   ]
  },
  {
   "cell_type": "code",
   "execution_count": 12,
   "metadata": {},
   "outputs": [],
   "source": [
    "#look at use only may 16 data 018 data now\n",
    "#keep only 2018 data\n",
    "#row_condition = df_from_csv_clean[\"Published Date\"] <= \"2018-05-16 23:59:59\"\n",
    "#filtered_df = filtered_df.loc[row_condition]\n",
    "#row_condition = filtered_df[\"Published Date\"] >= \"2018-05-16 00:00:01\"\n",
    "#filtered_df = filtered_df.loc[row_condition]\n",
    "#filtered_df\n",
    "#len(filtered_df)\n",
    "\n",
    "\n"
   ]
  },
  {
   "cell_type": "code",
   "execution_count": 13,
   "metadata": {},
   "outputs": [],
   "source": [
    "#df_from_csv_clean = filtered_df\n",
    "\n",
    "# code to take the lat and long and make a list for gmap\n",
    "\n",
    "aus_lat = df_from_csv_clean[\"Latitude\"]    #series\n",
    "aus_long = df_from_csv_clean[\"Longitude\"]    #series\n",
    "\n",
    "aus_lat_subset = aus_lat.head(1000)   #make a subset to test\n",
    "aus_long_subset = aus_long.head(1000)  # make a subset to test\n",
    "\n",
    "#print(type(aus_lat_subset))     #its a series\n",
    "#print(aus_lat_subset[0])        #whats the value?\n",
    "#print(type(aus_lat_subset[0]))    #its a string\n",
    "\n",
    "#print(aus_lat_subset)   #show the whole lat subset\n",
    "\n",
    "#using zip function to zip the lat and long together to a list with each element being a tuple\n",
    "aus_lat_long_list_subset = list(zip(aus_lat_subset, aus_long_subset))\n",
    "aus_lat_long_list = list(zip(aus_lat, aus_long))\n",
    "\n",
    "#print(aus_lat_long_list_subset)\n",
    "#type(aus_lat_long_list_subset[0])    #each element is a tuple...yay!"
   ]
  },
  {
   "cell_type": "code",
   "execution_count": 14,
   "metadata": {},
   "outputs": [],
   "source": [
    "# Customize the size of the figure      was   400 x 300\n",
    "figure_layout = {\n",
    "    'width': '800px',\n",
    "    'height': '600px',\n",
    "    'border': '1px solid black',\n",
    "    'padding': '1px',\n",
    "    'margin': '0 auto 0 auto'\n",
    "}\n",
    "fig = gmaps.figure(layout=figure_layout)"
   ]
  },
  {
   "cell_type": "code",
   "execution_count": 15,
   "metadata": {},
   "outputs": [
    {
     "data": {
      "application/vnd.jupyter.widget-view+json": {
       "model_id": "c1522b0315054b499695f5283c16a46b",
       "version_major": 2,
       "version_minor": 0
      },
      "text/plain": [
       "Figure(layout=FigureLayout(border='1px solid black', height='600px', margin='0 auto 0 auto', padding='1px', wi…"
      ]
     },
     "metadata": {},
     "output_type": "display_data"
    }
   ],
   "source": [
    "# Assign the marker layer to a variable  ..      DOING THE SUBSET HERE... TAKES ABOUT 10sec  \n",
    "\n",
    "#help(gmaps.marker_layer)\n",
    "\n",
    "markers = gmaps.marker_layer(aus_lat_long_list_subset)\n",
    "# Add the layer to the map\n",
    "fig.add_layer(markers)\n",
    "fig"
   ]
  },
  {
   "cell_type": "code",
   "execution_count": null,
   "metadata": {},
   "outputs": [],
   "source": []
  },
  {
   "cell_type": "code",
   "execution_count": null,
   "metadata": {},
   "outputs": [],
   "source": []
  },
  {
   "cell_type": "markdown",
   "metadata": {},
   "source": [
    "\n",
    "# Define df's for team member's plotting use"
   ]
  },
  {
   "cell_type": "markdown",
   "metadata": {},
   "source": [
    "### CREATING analysis_df AS FULL ACCIDENT DATAFRAME"
   ]
  },
  {
   "cell_type": "code",
   "execution_count": 16,
   "metadata": {},
   "outputs": [
    {
     "data": {
      "text/plain": [
       "34381"
      ]
     },
     "execution_count": 16,
     "metadata": {},
     "output_type": "execute_result"
    }
   ],
   "source": [
    "#we will subdivide into these Issues Reported:\n",
    "#Crash Urgent, Crash Service, COLLISION, COLLISION WITH INJURY, COLLISN/ LVNG SCN, COLLISION/PRIVATE PROPERTY, TRAFFIC FATALITY\n",
    "analysis_issues = ('CRASH URGENT', 'CRASH SERVICE', 'COLLISION', 'COLLISION WITH INJURY', 'COLLISN/ LVNG SCN', 'COLLISION/PRIVATE PROPERTY', 'TRAFFIC FATALITY')\n",
    "analysis_df = filtered_df[filtered_df['Issue Reported'].isin(analysis_issues)]\n",
    "# analysis_df.tail()\n",
    "len(analysis_df)\n",
    "#old was  34131...b4 Eric upper cases stuff"
   ]
  },
  {
   "cell_type": "markdown",
   "metadata": {},
   "source": [
    "### USING TIME MASKS TO CREATE rush_hr_df and no_rush_df FOR CONGESTION COMPARISONS"
   ]
  },
  {
   "cell_type": "code",
   "execution_count": 17,
   "metadata": {},
   "outputs": [],
   "source": [
    "am_time_mask = (analysis_df['Published Date'].dt.hour >= 0) & \\\n",
    "           (analysis_df['Published Date'].dt.hour <= 5)\n",
    "am_report_df = analysis_df[am_time_mask]\n",
    "# am_report_df.head()"
   ]
  },
  {
   "cell_type": "code",
   "execution_count": 18,
   "metadata": {},
   "outputs": [],
   "source": [
    "mid_time_mask = (analysis_df['Published Date'].dt.hour >= 9) & \\\n",
    "           (analysis_df['Published Date'].dt.hour <= 15)\n",
    "mid_report_df = analysis_df[mid_time_mask]\n",
    "# mid_report_df.head()"
   ]
  },
  {
   "cell_type": "code",
   "execution_count": 19,
   "metadata": {},
   "outputs": [],
   "source": [
    "pm_time_mask = (analysis_df['Published Date'].dt.hour >= 19) & \\\n",
    "           (analysis_df['Published Date'].dt.hour <= 24)\n",
    "pm_report_df = analysis_df[pm_time_mask]\n",
    "# pm_report_df.head()"
   ]
  },
  {
   "cell_type": "code",
   "execution_count": 20,
   "metadata": {},
   "outputs": [],
   "source": [
    "non_rush_1_df = am_report_df.append(mid_report_df, ignore_index=True)\n",
    "# non_rush_1_df.head()"
   ]
  },
  {
   "cell_type": "code",
   "execution_count": 21,
   "metadata": {},
   "outputs": [
    {
     "data": {
      "text/html": [
       "<div>\n",
       "<style scoped>\n",
       "    .dataframe tbody tr th:only-of-type {\n",
       "        vertical-align: middle;\n",
       "    }\n",
       "\n",
       "    .dataframe tbody tr th {\n",
       "        vertical-align: top;\n",
       "    }\n",
       "\n",
       "    .dataframe thead th {\n",
       "        text-align: right;\n",
       "    }\n",
       "</style>\n",
       "<table border=\"1\" class=\"dataframe\">\n",
       "  <thead>\n",
       "    <tr style=\"text-align: right;\">\n",
       "      <th></th>\n",
       "      <th>Traffic Report ID</th>\n",
       "      <th>Published Date</th>\n",
       "      <th>Issue Reported</th>\n",
       "      <th>Location</th>\n",
       "      <th>Latitude</th>\n",
       "      <th>Longitude</th>\n",
       "      <th>Address</th>\n",
       "      <th>Status</th>\n",
       "      <th>Status Date</th>\n",
       "    </tr>\n",
       "  </thead>\n",
       "  <tbody>\n",
       "    <tr>\n",
       "      <th>0</th>\n",
       "      <td>69E356FC5B897FF52301D1A4D870E2862A05C244_15324...</td>\n",
       "      <td>2018-07-24 05:40:48</td>\n",
       "      <td>COLLISION</td>\n",
       "      <td>(30.094498,-97.761155)</td>\n",
       "      <td>30.094498</td>\n",
       "      <td>-97.761155</td>\n",
       "      <td>6700-7940 S SH 45 E WB</td>\n",
       "      <td>ARCHIVED</td>\n",
       "      <td>2018-07-24 06:45:02</td>\n",
       "    </tr>\n",
       "    <tr>\n",
       "      <th>1</th>\n",
       "      <td>B039469E10CC32B9EB6AAEE8AABB64A15836746F_15381...</td>\n",
       "      <td>2018-09-29 00:58:05</td>\n",
       "      <td>CRASH SERVICE</td>\n",
       "      <td>(30.287391,-97.741586)</td>\n",
       "      <td>30.287391</td>\n",
       "      <td>-97.741586</td>\n",
       "      <td>2340 Guadalupe St</td>\n",
       "      <td>ARCHIVED</td>\n",
       "      <td>2018-09-29 01:40:03</td>\n",
       "    </tr>\n",
       "    <tr>\n",
       "      <th>2</th>\n",
       "      <td>A0A82EBDD4A855C999B56CE855A244A672DCAFFF_15381...</td>\n",
       "      <td>2018-09-29 00:54:38</td>\n",
       "      <td>CRASH SERVICE</td>\n",
       "      <td>(30.225971,-97.804548)</td>\n",
       "      <td>30.225971</td>\n",
       "      <td>-97.804548</td>\n",
       "      <td>Jones Rd &amp; West Wind Trl</td>\n",
       "      <td>ARCHIVED</td>\n",
       "      <td>2018-09-29 02:10:03</td>\n",
       "    </tr>\n",
       "    <tr>\n",
       "      <th>3</th>\n",
       "      <td>08D67B9F9F6E2794FD86FD4B7E70E8360CCDBEAD_15381...</td>\n",
       "      <td>2018-09-29 02:37:20</td>\n",
       "      <td>CRASH SERVICE</td>\n",
       "      <td>(30.311435,-97.709675)</td>\n",
       "      <td>30.311435</td>\n",
       "      <td>-97.709675</td>\n",
       "      <td>5200-5226 N Ih 35 Svrd Sb</td>\n",
       "      <td>ARCHIVED</td>\n",
       "      <td>2018-09-29 03:10:02</td>\n",
       "    </tr>\n",
       "    <tr>\n",
       "      <th>4</th>\n",
       "      <td>1D533EC2E7D744E1AC9A2E874A5F269093234DF3_15382...</td>\n",
       "      <td>2018-09-30 05:04:56</td>\n",
       "      <td>CRASH URGENT</td>\n",
       "      <td>(30.411702,-97.722008)</td>\n",
       "      <td>30.411702</td>\n",
       "      <td>-97.722008</td>\n",
       "      <td>Amherst Dr &amp; Duval Rd</td>\n",
       "      <td>ARCHIVED</td>\n",
       "      <td>2018-09-30 06:05:02</td>\n",
       "    </tr>\n",
       "  </tbody>\n",
       "</table>\n",
       "</div>"
      ],
      "text/plain": [
       "                                   Traffic Report ID      Published Date  \\\n",
       "0  69E356FC5B897FF52301D1A4D870E2862A05C244_15324... 2018-07-24 05:40:48   \n",
       "1  B039469E10CC32B9EB6AAEE8AABB64A15836746F_15381... 2018-09-29 00:58:05   \n",
       "2  A0A82EBDD4A855C999B56CE855A244A672DCAFFF_15381... 2018-09-29 00:54:38   \n",
       "3  08D67B9F9F6E2794FD86FD4B7E70E8360CCDBEAD_15381... 2018-09-29 02:37:20   \n",
       "4  1D533EC2E7D744E1AC9A2E874A5F269093234DF3_15382... 2018-09-30 05:04:56   \n",
       "\n",
       "  Issue Reported                Location   Latitude  Longitude  \\\n",
       "0      COLLISION  (30.094498,-97.761155)  30.094498 -97.761155   \n",
       "1  CRASH SERVICE  (30.287391,-97.741586)  30.287391 -97.741586   \n",
       "2  CRASH SERVICE  (30.225971,-97.804548)  30.225971 -97.804548   \n",
       "3  CRASH SERVICE  (30.311435,-97.709675)  30.311435 -97.709675   \n",
       "4   CRASH URGENT  (30.411702,-97.722008)  30.411702 -97.722008   \n",
       "\n",
       "                     Address    Status         Status Date  \n",
       "0     6700-7940 S SH 45 E WB  ARCHIVED 2018-07-24 06:45:02  \n",
       "1          2340 Guadalupe St  ARCHIVED 2018-09-29 01:40:03  \n",
       "2   Jones Rd & West Wind Trl  ARCHIVED 2018-09-29 02:10:03  \n",
       "3  5200-5226 N Ih 35 Svrd Sb  ARCHIVED 2018-09-29 03:10:02  \n",
       "4      Amherst Dr & Duval Rd  ARCHIVED 2018-09-30 06:05:02  "
      ]
     },
     "execution_count": 21,
     "metadata": {},
     "output_type": "execute_result"
    }
   ],
   "source": [
    "non_rush_df = non_rush_1_df.append(pm_report_df, ignore_index=True)\n",
    "non_rush_df.head()"
   ]
  },
  {
   "cell_type": "code",
   "execution_count": 22,
   "metadata": {
    "scrolled": true
   },
   "outputs": [
    {
     "data": {
      "text/plain": [
       "Traffic Report ID    24853\n",
       "Published Date       24853\n",
       "Issue Reported       24853\n",
       "Location             24853\n",
       "Latitude             24853\n",
       "Longitude            24853\n",
       "Address              24853\n",
       "Status               24853\n",
       "Status Date          24853\n",
       "dtype: int64"
      ]
     },
     "execution_count": 22,
     "metadata": {},
     "output_type": "execute_result"
    }
   ],
   "source": [
    "non_rush_df.count()"
   ]
  },
  {
   "cell_type": "code",
   "execution_count": 23,
   "metadata": {},
   "outputs": [],
   "source": [
    "am_rush_mask = (analysis_df['Published Date'].dt.hour >= 6) & \\\n",
    "           (analysis_df['Published Date'].dt.hour <= 8)\n",
    "am_rush_df = analysis_df[am_rush_mask]\n",
    "# am_rush_df.head()\n",
    "\n"
   ]
  },
  {
   "cell_type": "code",
   "execution_count": 24,
   "metadata": {},
   "outputs": [],
   "source": [
    "pm_rush_mask = (analysis_df['Published Date'].dt.hour >= 16) & \\\n",
    "           (analysis_df['Published Date'].dt.hour <= 18)\n",
    "pm_rush_df = analysis_df[pm_rush_mask]\n",
    "# pm_rush_df.head()"
   ]
  },
  {
   "cell_type": "code",
   "execution_count": 25,
   "metadata": {},
   "outputs": [],
   "source": [
    "rush_hr_df = am_rush_df.append(pm_rush_df, ignore_index=True)\n",
    "# rush_hr_df.tail()\n",
    "#rush_hr_df.count()"
   ]
  },
  {
   "cell_type": "markdown",
   "metadata": {},
   "source": [
    "# FILTER BY MONTH\n",
    "### USE (mmm)_report_df for ALL ACCIDENTS in that month\n",
    "### USE (mmm)_report2_df for NON-RUSH HOUR ACCIDENTS in that month\n",
    "### USE (mmm)_report3_df for all RUSH HOUR ACCIDENTS in that month"
   ]
  },
  {
   "cell_type": "code",
   "execution_count": 26,
   "metadata": {},
   "outputs": [],
   "source": [
    "# Filter analysis df and non-rush df by month for plotting\n",
    "# Generate January report dataframes\n",
    "jan_mask = (analysis_df['Published Date'].dt.month == 1)\n",
    "jan_mask2 = (non_rush_df['Published Date'].dt.month == 1)\n",
    "jan_mask3 = (rush_hr_df['Published Date'].dt.month == 1)\n",
    "jan_report_df = analysis_df[jan_mask]\n",
    "jan_report2_df = non_rush_df[jan_mask2]\n",
    "jan_report3_df = rush_hr_df[jan_mask3]\n",
    "jan_count = jan_report_df['Published Date'].count()\n",
    "jan_count2 = jan_report2_df['Published Date'].count()\n",
    "jan_count3 = jan_report3_df['Published Date'].count()\n",
    "# jan_count3"
   ]
  },
  {
   "cell_type": "code",
   "execution_count": 27,
   "metadata": {},
   "outputs": [],
   "source": [
    "# Generate February report dataframes\n",
    "feb_mask = (analysis_df['Published Date'].dt.month == 2)\n",
    "feb_mask2 = (non_rush_df['Published Date'].dt.month == 2)\n",
    "feb_mask3 = (rush_hr_df['Published Date'].dt.month == 2)\n",
    "feb_report_df = analysis_df[feb_mask]\n",
    "feb_report2_df = non_rush_df[feb_mask2]\n",
    "feb_report3_df = rush_hr_df[feb_mask3]\n",
    "feb_count = feb_report_df['Published Date'].count()\n",
    "feb_count2 = feb_report2_df['Published Date'].count()\n",
    "feb_count3 = feb_report3_df['Published Date'].count()"
   ]
  },
  {
   "cell_type": "code",
   "execution_count": 28,
   "metadata": {},
   "outputs": [],
   "source": [
    "# Generate March report dataframes\n",
    "mar_mask = (analysis_df['Published Date'].dt.month == 3)\n",
    "mar_mask2 = (non_rush_df['Published Date'].dt.month == 3)\n",
    "mar_mask3 = (rush_hr_df['Published Date'].dt.month == 3)\n",
    "mar_report_df = analysis_df[mar_mask]\n",
    "mar_report2_df = non_rush_df[mar_mask2]\n",
    "mar_report3_df = rush_hr_df[mar_mask3]\n",
    "mar_count = mar_report_df['Published Date'].count()\n",
    "mar_count2 = mar_report2_df['Published Date'].count()\n",
    "mar_count3 = mar_report3_df['Published Date'].count()"
   ]
  },
  {
   "cell_type": "code",
   "execution_count": 29,
   "metadata": {},
   "outputs": [],
   "source": [
    "# Generate April report dataframes\n",
    "apr_mask = (analysis_df['Published Date'].dt.month == 4)\n",
    "apr_mask2 = (non_rush_df['Published Date'].dt.month == 4)\n",
    "apr_mask3 = (rush_hr_df['Published Date'].dt.month == 4)\n",
    "apr_report_df = analysis_df[apr_mask]\n",
    "apr_report2_df = non_rush_df[apr_mask2]\n",
    "apr_report3_df = rush_hr_df[apr_mask3]\n",
    "apr_count = apr_report_df['Published Date'].count()\n",
    "apr_count2 = apr_report2_df['Published Date'].count()\n",
    "apr_count3 = apr_report3_df['Published Date'].count()"
   ]
  },
  {
   "cell_type": "code",
   "execution_count": 30,
   "metadata": {},
   "outputs": [],
   "source": [
    "# Generate May report dataframes\n",
    "may_mask = (analysis_df['Published Date'].dt.month == 5)\n",
    "may_mask2 = (non_rush_df['Published Date'].dt.month == 5)\n",
    "may_mask3 = (rush_hr_df['Published Date'].dt.month == 5)\n",
    "may_report_df = analysis_df[may_mask]\n",
    "may_report2_df = non_rush_df[may_mask2]\n",
    "may_report3_df = rush_hr_df[may_mask3]\n",
    "may_count = may_report_df['Published Date'].count()\n",
    "may_count2 = may_report2_df['Published Date'].count()\n",
    "may_count3 = may_report3_df['Published Date'].count()"
   ]
  },
  {
   "cell_type": "code",
   "execution_count": 31,
   "metadata": {},
   "outputs": [],
   "source": [
    "# Generate June report dataframes\n",
    "jun_mask = (analysis_df['Published Date'].dt.month == 6)\n",
    "jun_mask2 = (non_rush_df['Published Date'].dt.month == 6)\n",
    "jun_mask3 = (rush_hr_df['Published Date'].dt.month == 6)\n",
    "jun_report_df = analysis_df[jun_mask]\n",
    "jun_report2_df = non_rush_df[jun_mask2]\n",
    "jun_report3_df = rush_hr_df[jun_mask3]\n",
    "jun_count = jun_report_df['Published Date'].count()\n",
    "jun_count2 = jun_report2_df['Published Date'].count()\n",
    "jun_count3 = jun_report3_df['Published Date'].count()"
   ]
  },
  {
   "cell_type": "code",
   "execution_count": 32,
   "metadata": {},
   "outputs": [],
   "source": [
    "# Generate July report dataframes\n",
    "jul_mask = (analysis_df['Published Date'].dt.month == 7)\n",
    "jul_mask2 = (non_rush_df['Published Date'].dt.month == 7)\n",
    "jul_mask3 = (rush_hr_df['Published Date'].dt.month == 7)\n",
    "jul_report_df = analysis_df[jul_mask]\n",
    "jul_report2_df = non_rush_df[jul_mask2]\n",
    "jul_report3_df = rush_hr_df[jul_mask3]\n",
    "jul_count = jul_report_df['Published Date'].count()\n",
    "jul_count2 = jul_report2_df['Published Date'].count()\n",
    "jul_count3 = jul_report3_df['Published Date'].count()"
   ]
  },
  {
   "cell_type": "code",
   "execution_count": 33,
   "metadata": {},
   "outputs": [],
   "source": [
    "# Generate August report dataframes\n",
    "aug_mask = (analysis_df['Published Date'].dt.month == 8)\n",
    "aug_mask2 = (non_rush_df['Published Date'].dt.month == 8)\n",
    "aug_mask3 = (rush_hr_df['Published Date'].dt.month == 8)\n",
    "aug_report_df = analysis_df[aug_mask]\n",
    "aug_report2_df = non_rush_df[aug_mask2]\n",
    "aug_report3_df = rush_hr_df[aug_mask3]\n",
    "aug_count = aug_report_df['Published Date'].count()\n",
    "aug_count2 = aug_report2_df['Published Date'].count()\n",
    "aug_count3 = aug_report3_df['Published Date'].count()"
   ]
  },
  {
   "cell_type": "code",
   "execution_count": 34,
   "metadata": {},
   "outputs": [],
   "source": [
    "# Generate September report dataframes\n",
    "sep_mask = (analysis_df['Published Date'].dt.month == 9)\n",
    "sep_mask2 = (non_rush_df['Published Date'].dt.month == 9)\n",
    "sep_mask3 = (rush_hr_df['Published Date'].dt.month == 9)\n",
    "sep_report_df = analysis_df[sep_mask]\n",
    "sep_report2_df = non_rush_df[sep_mask2]\n",
    "sep_report3_df = rush_hr_df[sep_mask3]\n",
    "sep_count = sep_report_df['Published Date'].count()\n",
    "sep_count2 = sep_report2_df['Published Date'].count()\n",
    "sep_count3 = sep_report3_df['Published Date'].count()"
   ]
  },
  {
   "cell_type": "code",
   "execution_count": 35,
   "metadata": {},
   "outputs": [],
   "source": [
    "# Generate October report dataframes\n",
    "oct_mask = (analysis_df['Published Date'].dt.month == 10)\n",
    "oct_mask2 = (non_rush_df['Published Date'].dt.month == 10)\n",
    "oct_mask3 = (rush_hr_df['Published Date'].dt.month == 10)\n",
    "oct_report_df = analysis_df[oct_mask]\n",
    "oct_report2_df = non_rush_df[oct_mask2]\n",
    "oct_report3_df = rush_hr_df[oct_mask3]\n",
    "oct_count = oct_report_df['Published Date'].count()\n",
    "oct_count2 = oct_report2_df['Published Date'].count()\n",
    "oct_count3 = oct_report3_df['Published Date'].count()"
   ]
  },
  {
   "cell_type": "code",
   "execution_count": 36,
   "metadata": {},
   "outputs": [],
   "source": [
    "# Generate November report dataframes\n",
    "nov_mask = (analysis_df['Published Date'].dt.month == 11)\n",
    "nov_mask2 = (non_rush_df['Published Date'].dt.month == 11)\n",
    "nov_mask3 = (rush_hr_df['Published Date'].dt.month == 11)\n",
    "nov_report_df = analysis_df[nov_mask]\n",
    "nov_report2_df = non_rush_df[nov_mask2]\n",
    "nov_report3_df = rush_hr_df[nov_mask3]\n",
    "nov_count = nov_report_df['Published Date'].count()\n",
    "nov_count2 = nov_report2_df['Published Date'].count()\n",
    "nov_count3 = nov_report3_df['Published Date'].count()"
   ]
  },
  {
   "cell_type": "code",
   "execution_count": 37,
   "metadata": {},
   "outputs": [],
   "source": [
    "# Generate December report dataframes\n",
    "dec_mask = (analysis_df['Published Date'].dt.month == 12)\n",
    "dec_mask2 = (non_rush_df['Published Date'].dt.month == 12)\n",
    "dec_mask3 = (rush_hr_df['Published Date'].dt.month == 12)\n",
    "dec_report_df = analysis_df[dec_mask]\n",
    "dec_report2_df = non_rush_df[dec_mask2]\n",
    "dec_report3_df = rush_hr_df[dec_mask3]\n",
    "dec_count = dec_report_df['Published Date'].count()\n",
    "dec_count2 = dec_report2_df['Published Date'].count()\n",
    "dec_count3 = dec_report3_df['Published Date'].count()\n",
    "# dec_count2"
   ]
  },
  {
   "cell_type": "code",
   "execution_count": 38,
   "metadata": {},
   "outputs": [],
   "source": [
    "# months = [\"JAN\", \"FEB\", \"MAR\", \"APR\", \"MAY\", \"JUN\", \"JUL\", \"AUG\", \"SEP\", \"OCT\", \"NOV\", \"DEC\"]\n",
    "# accidents = [\n",
    "#     jan_count, feb_count, mar_count, apr_count, may_count, jun_count,\n",
    "#     jul_count, aug_count, sep_count, oct_count, nov_count, dec_count\n",
    "# ]\n",
    "\n",
    "# x_axis = np.arange(len(months))"
   ]
  },
  {
   "cell_type": "code",
   "execution_count": 39,
   "metadata": {},
   "outputs": [],
   "source": [
    "# # Create a bar chart based upon the above data\n",
    "# plt.bar(x_axis, accidents, color=\"blue\", alpha=0.75, align=\"center\")\n",
    "# # Create the ticks for our bar chart's x axis\n",
    "# tick_locations = [value for value in x_axis]\n",
    "# plt.xticks(tick_locations, (months))\n",
    "# # Set the limits of the x axis\n",
    "# plt.xlim(-0.75, len(x_axis)-0.25)\n",
    "# # Set the limits of the y axis\n",
    "# plt.ylim(0, max(accidents)+500)\n",
    "# # Give the chart a title, x label, and y label\n",
    "# plt.title(\"Accident Frequency by Month - 2018\")\n",
    "# plt.xlabel(\"Months\")\n",
    "# plt.ylabel(\"Number of Accidents\")\n",
    "# # Save an image of the chart and print it to the screen\n",
    "# plt.savefig(\"output_data/MonthComparison.png\")\n"
   ]
  },
  {
   "cell_type": "markdown",
   "metadata": {},
   "source": [
    "# FILTER BY DAY OF THE WEEK\n",
    "### USE (ddd)_all_df for ALL ACCIDENTS in that DAY of the WEEK¶\n",
    "### USE (ddd)_norush_df for NON-RUSH HOUR ACCIDENTS in that DAY of the WEEK\n",
    "### USE (ddd)_rushhr_df for all RUSH HOUR ACCIDENTS in that DAY of the WEEK"
   ]
  },
  {
   "cell_type": "code",
   "execution_count": 40,
   "metadata": {},
   "outputs": [],
   "source": [
    "# Filter analysis df by day of week for plotting\n",
    "# Generate Monday report dataframes\n",
    "mon_all_mask = (analysis_df['Published Date'].dt.dayofweek == 0)\n",
    "mon_norush_mask = (non_rush_df['Published Date'].dt.dayofweek == 0)\n",
    "mon_rushhr_mask = (rush_hr_df['Published Date'].dt.dayofweek == 0)\n",
    "mon_all_df = analysis_df[mon_all_mask]\n",
    "mon_norush_df = non_rush_df[mon_norush_mask]\n",
    "mon_rushhr_df = rush_hr_df[mon_rushhr_mask]\n",
    "mon_all_count = mon_all_df['Published Date'].count()\n",
    "mon_norush_count = mon_norush_df['Published Date'].count()\n",
    "mon_rushhr_count = mon_rushhr_df['Published Date'].count()\n",
    "# mon_report_df.tail()\n",
    "# mon_norush_count\n",
    "# mon_rushhr_count"
   ]
  },
  {
   "cell_type": "code",
   "execution_count": 41,
   "metadata": {},
   "outputs": [],
   "source": [
    "# Generate Tuesday report dataframes\n",
    "tue_all_mask = (analysis_df['Published Date'].dt.dayofweek == 1)\n",
    "tue_norush_mask = (non_rush_df['Published Date'].dt.dayofweek == 1)\n",
    "tue_rushhr_mask = (rush_hr_df['Published Date'].dt.dayofweek == 1)\n",
    "tue_all_df = analysis_df[tue_all_mask]\n",
    "tue_norush_df = non_rush_df[tue_norush_mask]\n",
    "tue_rushhr_df = rush_hr_df[tue_rushhr_mask]\n",
    "tue_all_count = tue_all_df['Published Date'].count()\n",
    "tue_norush_count = tue_norush_df['Published Date'].count()\n",
    "tue_rushhr_count = tue_rushhr_df['Published Date'].count()\n",
    "\n",
    "# tue_report_df.tail()\n",
    "# tue_rushhr_count"
   ]
  },
  {
   "cell_type": "code",
   "execution_count": 42,
   "metadata": {},
   "outputs": [],
   "source": [
    "# Generate Wednesday report dataframes\n",
    "wed_all_mask = (analysis_df['Published Date'].dt.dayofweek == 2)\n",
    "wed_norush_mask = (non_rush_df['Published Date'].dt.dayofweek == 2)\n",
    "wed_rushhr_mask = (rush_hr_df['Published Date'].dt.dayofweek == 2)\n",
    "wed_all_df = analysis_df[wed_all_mask]\n",
    "wed_norush_df = non_rush_df[wed_norush_mask]\n",
    "wed_rushhr_df = rush_hr_df[wed_rushhr_mask]\n",
    "wed_all_count = wed_all_df['Published Date'].count()\n",
    "wed_norush_count = wed_norush_df['Published Date'].count()\n",
    "wed_rushhr_count = wed_rushhr_df['Published Date'].count()\n",
    "\n",
    "# wed_report_df.tail()\n",
    "# wed_rushhr_count"
   ]
  },
  {
   "cell_type": "code",
   "execution_count": 43,
   "metadata": {},
   "outputs": [],
   "source": [
    "# Generate Thursday report dataframes\n",
    "thu_all_mask = (analysis_df['Published Date'].dt.dayofweek == 3)\n",
    "thu_norush_mask = (non_rush_df['Published Date'].dt.dayofweek == 3)\n",
    "thu_rushhr_mask = (rush_hr_df['Published Date'].dt.dayofweek == 3)\n",
    "thu_all_df = analysis_df[thu_all_mask]\n",
    "thu_norush_df = non_rush_df[thu_norush_mask]\n",
    "thu_rushhr_df = rush_hr_df[thu_rushhr_mask]\n",
    "thu_all_count = thu_all_df['Published Date'].count()\n",
    "thu_norush_count = thu_norush_df['Published Date'].count()\n",
    "thu_rushhr_count = thu_rushhr_df['Published Date'].count()\n",
    "\n",
    "# thu_report_df.tail()\n",
    "# thu_rushhr_count"
   ]
  },
  {
   "cell_type": "code",
   "execution_count": 44,
   "metadata": {},
   "outputs": [],
   "source": [
    "# Generate Friday report dataframes\n",
    "fri_all_mask = (analysis_df['Published Date'].dt.dayofweek == 4)\n",
    "fri_norush_mask = (non_rush_df['Published Date'].dt.dayofweek == 4)\n",
    "fri_rushhr_mask = (rush_hr_df['Published Date'].dt.dayofweek == 4)\n",
    "fri_all_df = analysis_df[fri_all_mask]\n",
    "fri_norush_df = non_rush_df[fri_norush_mask]\n",
    "fri_rushhr_df = rush_hr_df[fri_rushhr_mask]\n",
    "fri_all_count = fri_all_df['Published Date'].count()\n",
    "fri_norush_count = fri_norush_df['Published Date'].count()\n",
    "fri_rushhr_count = fri_rushhr_df['Published Date'].count()\n",
    "\n",
    "\n",
    "# fri_report_df.tail()\n",
    "# fri_rushhr_count"
   ]
  },
  {
   "cell_type": "code",
   "execution_count": 45,
   "metadata": {},
   "outputs": [],
   "source": [
    "# Generate Saturday report dataframes\n",
    "sat_all_mask = (analysis_df['Published Date'].dt.dayofweek == 5)\n",
    "sat_norush_mask = (non_rush_df['Published Date'].dt.dayofweek == 5)\n",
    "sat_rushhr_mask = (rush_hr_df['Published Date'].dt.dayofweek == 5)\n",
    "sat_all_df = analysis_df[sat_all_mask]\n",
    "sat_norush_df = non_rush_df[sat_norush_mask]\n",
    "sat_rushhr_df = rush_hr_df[sat_rushhr_mask]\n",
    "sat_all_count = sat_all_df['Published Date'].count()\n",
    "sat_norush_count = sat_norush_df['Published Date'].count()\n",
    "sat_rushhr_count = sat_rushhr_df['Published Date'].count()\n",
    "\n",
    "# sat_report_df.tail()\n",
    "# sat_rushhr_count"
   ]
  },
  {
   "cell_type": "code",
   "execution_count": 46,
   "metadata": {},
   "outputs": [],
   "source": [
    "# Generate Sunday report dataframes\n",
    "sun_all_mask = (analysis_df['Published Date'].dt.dayofweek == 6)\n",
    "sun_norush_mask = (non_rush_df['Published Date'].dt.dayofweek == 6)\n",
    "sun_rushhr_mask = (rush_hr_df['Published Date'].dt.dayofweek == 6)\n",
    "sun_all_df = analysis_df[sun_all_mask]\n",
    "sun_norush_df = non_rush_df[sun_norush_mask]\n",
    "sun_rushhr_df = rush_hr_df[sun_rushhr_mask]\n",
    "sun_all_count = sun_all_df['Published Date'].count()\n",
    "sun_norush_count = sun_norush_df['Published Date'].count()\n",
    "sun_rushhr_count = sun_rushhr_df['Published Date'].count()\n",
    "\n",
    "# sun_report_df.tail()\n",
    "# sun_rushhr_count"
   ]
  },
  {
   "cell_type": "markdown",
   "metadata": {},
   "source": [
    "# FILTER BY HOUR\n",
    "### USE hr_(##)_all_df for ALL ACCIDENTS in that HOUR of the DAY¶"
   ]
  },
  {
   "cell_type": "code",
   "execution_count": 47,
   "metadata": {},
   "outputs": [],
   "source": [
    "# Filter analysis dataframe by time of the day for plotting\n",
    "# Generate Midnight to 1am report dataframes\n",
    "hr_00_mask = (analysis_df['Published Date'].dt.hour == 0)\n",
    "hr_00_all_df = analysis_df[hr_00_mask]\n",
    "hr_00_all_count = hr_00_all_df['Published Date'].count()\n",
    "# hr_00_all_count"
   ]
  },
  {
   "cell_type": "code",
   "execution_count": 48,
   "metadata": {},
   "outputs": [],
   "source": [
    "# Generate 1am to 2am report dataframes\n",
    "hr_01_mask = (analysis_df['Published Date'].dt.hour == 1)\n",
    "hr_01_all_df = analysis_df[hr_01_mask]\n",
    "hr_01_all_count = hr_01_all_df['Published Date'].count()\n",
    "# hr_01_all_count"
   ]
  },
  {
   "cell_type": "code",
   "execution_count": 49,
   "metadata": {},
   "outputs": [],
   "source": [
    "# Generate 2am to 3am report dataframes\n",
    "hr_02_mask = (analysis_df['Published Date'].dt.hour == 2)\n",
    "hr_02_all_df = analysis_df[hr_02_mask]\n",
    "hr_02_all_count = hr_02_all_df['Published Date'].count()\n",
    "# hr_02_all_count"
   ]
  },
  {
   "cell_type": "code",
   "execution_count": 50,
   "metadata": {},
   "outputs": [],
   "source": [
    "# Generate 3am to 4am report dataframes\n",
    "hr_03_mask = (analysis_df['Published Date'].dt.hour == 3)\n",
    "hr_03_all_df = analysis_df[hr_03_mask]\n",
    "hr_03_all_count = hr_03_all_df['Published Date'].count()\n",
    "# hr_03_all_count"
   ]
  },
  {
   "cell_type": "code",
   "execution_count": 51,
   "metadata": {},
   "outputs": [],
   "source": [
    "# Generate 4am to 5am report dataframes\n",
    "hr_04_mask = (analysis_df['Published Date'].dt.hour == 4)\n",
    "hr_04_all_df = analysis_df[hr_04_mask]\n",
    "hr_04_all_count = hr_04_all_df['Published Date'].count()\n",
    "# hr_04_all_count"
   ]
  },
  {
   "cell_type": "code",
   "execution_count": 52,
   "metadata": {},
   "outputs": [],
   "source": [
    "# Generate 5am to 6am report dataframes\n",
    "hr_05_mask = (analysis_df['Published Date'].dt.hour == 5)\n",
    "hr_05_all_df = analysis_df[hr_05_mask]\n",
    "hr_05_all_count = hr_05_all_df['Published Date'].count()\n",
    "# hr_05_all_count"
   ]
  },
  {
   "cell_type": "code",
   "execution_count": 53,
   "metadata": {},
   "outputs": [],
   "source": [
    "# Generate 6am to 7am report dataframes\n",
    "hr_06_mask = (analysis_df['Published Date'].dt.hour == 6)\n",
    "hr_06_all_df = analysis_df[hr_06_mask]\n",
    "hr_06_all_count = hr_06_all_df['Published Date'].count()\n",
    "# hr_06_all_count"
   ]
  },
  {
   "cell_type": "code",
   "execution_count": 54,
   "metadata": {},
   "outputs": [],
   "source": [
    "# Generate 7am to 8am report dataframes\n",
    "hr_07_mask = (analysis_df['Published Date'].dt.hour == 7)\n",
    "hr_07_all_df = analysis_df[hr_07_mask]\n",
    "hr_07_all_count = hr_07_all_df['Published Date'].count()\n",
    "# hr_07_all_count"
   ]
  },
  {
   "cell_type": "code",
   "execution_count": 55,
   "metadata": {},
   "outputs": [],
   "source": [
    "# Generate 8am to 9am report dataframes\n",
    "hr_08_mask = (analysis_df['Published Date'].dt.hour == 8)\n",
    "hr_08_all_df = analysis_df[hr_08_mask]\n",
    "hr_08_all_count = hr_08_all_df['Published Date'].count()\n",
    "# hr_08_all_count"
   ]
  },
  {
   "cell_type": "code",
   "execution_count": 56,
   "metadata": {},
   "outputs": [],
   "source": [
    "# Generate 9am to 10am report dataframes\n",
    "hr_09_mask = (analysis_df['Published Date'].dt.hour == 9)\n",
    "hr_09_all_df = analysis_df[hr_09_mask]\n",
    "hr_09_all_count = hr_09_all_df['Published Date'].count()\n",
    "# hr_09_all_count"
   ]
  },
  {
   "cell_type": "code",
   "execution_count": 57,
   "metadata": {},
   "outputs": [],
   "source": [
    "# Generate 10am to 11am report dataframes\n",
    "hr_10_mask = (analysis_df['Published Date'].dt.hour == 10)\n",
    "hr_10_all_df = analysis_df[hr_10_mask]\n",
    "hr_10_all_count = hr_10_all_df['Published Date'].count()\n",
    "# hr_10_all_count"
   ]
  },
  {
   "cell_type": "code",
   "execution_count": 58,
   "metadata": {},
   "outputs": [],
   "source": [
    "# Generate 11am to Noon report dataframes\n",
    "hr_11_mask = (analysis_df['Published Date'].dt.hour == 11)\n",
    "hr_11_all_df = analysis_df[hr_11_mask]\n",
    "hr_11_all_count = hr_11_all_df['Published Date'].count()\n",
    "# hr_11_all_count"
   ]
  },
  {
   "cell_type": "code",
   "execution_count": 59,
   "metadata": {},
   "outputs": [],
   "source": [
    "# Generate Noon to 1pm report dataframes\n",
    "hr_12_mask = (analysis_df['Published Date'].dt.hour == 12)\n",
    "hr_12_all_df = analysis_df[hr_12_mask]\n",
    "hr_12_all_count = hr_12_all_df['Published Date'].count()\n",
    "# hr_12_all_count"
   ]
  },
  {
   "cell_type": "code",
   "execution_count": 60,
   "metadata": {},
   "outputs": [],
   "source": [
    "# Generate 1pm to 2pm report dataframes\n",
    "hr_13_mask = (analysis_df['Published Date'].dt.hour == 13)\n",
    "hr_13_all_df = analysis_df[hr_13_mask]\n",
    "hr_13_all_count = hr_13_all_df['Published Date'].count()\n",
    "# hr_13_all_count"
   ]
  },
  {
   "cell_type": "code",
   "execution_count": 61,
   "metadata": {},
   "outputs": [],
   "source": [
    "# Generate 2pm to 3pm report dataframes\n",
    "hr_14_mask = (analysis_df['Published Date'].dt.hour == 14)\n",
    "hr_14_all_df = analysis_df[hr_14_mask]\n",
    "hr_14_all_count = hr_14_all_df['Published Date'].count()\n",
    "# hr_14_all_count"
   ]
  },
  {
   "cell_type": "code",
   "execution_count": 62,
   "metadata": {},
   "outputs": [],
   "source": [
    "# Generate 3pm to 4pm report dataframes\n",
    "hr_15_mask = (analysis_df['Published Date'].dt.hour == 15)\n",
    "hr_15_all_df = analysis_df[hr_15_mask]\n",
    "hr_15_all_count = hr_15_all_df['Published Date'].count()\n",
    "# hr_15_all_count"
   ]
  },
  {
   "cell_type": "code",
   "execution_count": 63,
   "metadata": {},
   "outputs": [],
   "source": [
    "# Generate 4pm to 5pm report dataframes\n",
    "hr_16_mask = (analysis_df['Published Date'].dt.hour == 16)\n",
    "hr_16_all_df = analysis_df[hr_16_mask]\n",
    "hr_16_all_count = hr_16_all_df['Published Date'].count()\n",
    "# hr_16_all_count"
   ]
  },
  {
   "cell_type": "code",
   "execution_count": 64,
   "metadata": {},
   "outputs": [],
   "source": [
    "# Generate 5pm to 6pm report dataframes\n",
    "hr_17_mask = (analysis_df['Published Date'].dt.hour == 17)\n",
    "hr_17_all_df = analysis_df[hr_17_mask]\n",
    "hr_17_all_count = hr_17_all_df['Published Date'].count()\n",
    "# hr_17_all_count"
   ]
  },
  {
   "cell_type": "code",
   "execution_count": 65,
   "metadata": {},
   "outputs": [],
   "source": [
    "# Generate 6pm to 7pm report dataframes\n",
    "hr_18_mask = (analysis_df['Published Date'].dt.hour == 18)\n",
    "hr_18_all_df = analysis_df[hr_18_mask]\n",
    "hr_18_all_count = hr_18_all_df['Published Date'].count()\n",
    "# hr_18_all_count"
   ]
  },
  {
   "cell_type": "code",
   "execution_count": 66,
   "metadata": {},
   "outputs": [],
   "source": [
    "# Generate 7pm to 8pm report dataframes\n",
    "hr_19_mask = (analysis_df['Published Date'].dt.hour == 19)\n",
    "hr_19_all_df = analysis_df[hr_19_mask]\n",
    "hr_19_all_count = hr_19_all_df['Published Date'].count()\n",
    "# hr_19_all_count"
   ]
  },
  {
   "cell_type": "code",
   "execution_count": 67,
   "metadata": {},
   "outputs": [],
   "source": [
    "# Generate 8pm to 9pm report dataframes\n",
    "hr_20_mask = (analysis_df['Published Date'].dt.hour == 20)\n",
    "hr_20_all_df = analysis_df[hr_20_mask]\n",
    "hr_20_all_count = hr_20_all_df['Published Date'].count()\n",
    "# hr_20_all_count"
   ]
  },
  {
   "cell_type": "code",
   "execution_count": 68,
   "metadata": {},
   "outputs": [],
   "source": [
    "# Generate 9pm to 10pm report dataframes\n",
    "hr_21_mask = (analysis_df['Published Date'].dt.hour == 21)\n",
    "hr_21_all_df = analysis_df[hr_21_mask]\n",
    "hr_21_all_count = hr_21_all_df['Published Date'].count()\n",
    "# hr_21_all_count"
   ]
  },
  {
   "cell_type": "code",
   "execution_count": 69,
   "metadata": {},
   "outputs": [],
   "source": [
    "# Generate 10pm to 11pm report dataframes\n",
    "hr_22_mask = (analysis_df['Published Date'].dt.hour == 22)\n",
    "hr_22_all_df = analysis_df[hr_22_mask]\n",
    "hr_22_all_count = hr_22_all_df['Published Date'].count()\n",
    "# hr_22_all_count"
   ]
  },
  {
   "cell_type": "code",
   "execution_count": 70,
   "metadata": {},
   "outputs": [],
   "source": [
    "# Generate 11pm to Midnight report dataframes\n",
    "hr_23_mask = (analysis_df['Published Date'].dt.hour == 23)\n",
    "hr_23_all_df = analysis_df[hr_23_mask]\n",
    "hr_23_all_count = hr_23_all_df['Published Date'].count()\n",
    "# hr_23_all_count"
   ]
  },
  {
   "cell_type": "markdown",
   "metadata": {},
   "source": [
    "# PLOTS FOR ANALYSIS"
   ]
  },
  {
   "cell_type": "markdown",
   "metadata": {},
   "source": [
    "### Using Plotly for analysis"
   ]
  },
  {
   "cell_type": "code",
   "execution_count": 71,
   "metadata": {},
   "outputs": [
    {
     "data": {
      "text/html": [
       "<script type=\"text/javascript\">window.PlotlyConfig = {MathJaxConfig: 'local'};</script><script type=\"text/javascript\">if (window.MathJax) {MathJax.Hub.Config({SVG: {font: \"STIX-Web\"}});}</script><script>requirejs.config({paths: { 'plotly': ['https://cdn.plot.ly/plotly-latest.min']},});if(!window._Plotly) {require(['plotly'],function(plotly) {window._Plotly=plotly;});}</script>"
      ],
      "text/vnd.plotly.v1+html": [
       "<script type=\"text/javascript\">window.PlotlyConfig = {MathJaxConfig: 'local'};</script><script type=\"text/javascript\">if (window.MathJax) {MathJax.Hub.Config({SVG: {font: \"STIX-Web\"}});}</script><script>requirejs.config({paths: { 'plotly': ['https://cdn.plot.ly/plotly-latest.min']},});if(!window._Plotly) {require(['plotly'],function(plotly) {window._Plotly=plotly;});}</script>"
      ]
     },
     "metadata": {},
     "output_type": "display_data"
    }
   ],
   "source": [
    "import plotly.graph_objs as go\n",
    "py.offline.init_notebook_mode(connected=True)"
   ]
  },
  {
   "cell_type": "markdown",
   "metadata": {},
   "source": [
    "## Accident Totals by Day of the Week - 2018"
   ]
  },
  {
   "cell_type": "code",
   "execution_count": 72,
   "metadata": {},
   "outputs": [],
   "source": [
    "trace1 = go.Bar(\n",
    "    x=[\"MON\", \"TUE\", \"WED\", \"THU\", \"FRI\", \"SAT\", \"SUN\"],\n",
    "    y=[\n",
    "    mon_rushhr_count, tue_rushhr_count, wed_rushhr_count, thu_rushhr_count, fri_rushhr_count, sat_rushhr_count, sun_rushhr_count\n",
    "],\n",
    "    name='Rush Hour Accidents'\n",
    ")\n",
    "trace2 = go.Bar(\n",
    "    x=[\"MON\", \"TUE\", \"WED\", \"THU\", \"FRI\", \"SAT\", \"SUN\"],\n",
    "    y=[\n",
    "    mon_norush_count, tue_norush_count, wed_norush_count, thu_norush_count, fri_norush_count, sat_norush_count, sun_norush_count\n",
    "],\n",
    "    name='Non-rush Hour Accidents'\n",
    ")"
   ]
  },
  {
   "cell_type": "code",
   "execution_count": 73,
   "metadata": {},
   "outputs": [
    {
     "data": {
      "application/vnd.plotly.v1+json": {
       "config": {
        "linkText": "Export to plot.ly",
        "plotlyServerURL": "https://plot.ly",
        "showLink": false
       },
       "data": [
        {
         "name": "Rush Hour Accidents",
         "type": "bar",
         "uid": "b5d4a78f-3285-4afa-a5ba-f1dd50ba1b40",
         "x": [
          "MON",
          "TUE",
          "WED",
          "THU",
          "FRI",
          "SAT",
          "SUN"
         ],
         "y": [
          1446,
          1521,
          1564,
          1447,
          1551,
          1132,
          867
         ]
        },
        {
         "name": "Non-rush Hour Accidents",
         "type": "bar",
         "uid": "f41881f3-a508-4a1b-b6bf-23b1fd65c7ce",
         "x": [
          "MON",
          "TUE",
          "WED",
          "THU",
          "FRI",
          "SAT",
          "SUN"
         ],
         "y": [
          3597,
          3627,
          3601,
          3755,
          4194,
          3351,
          2728
         ]
        }
       ],
       "layout": {
        "barmode": "stack"
       }
      },
      "text/html": [
       "<div id=\"b6f43840-5d9b-45f4-aaeb-0e3896efcaea\" style=\"height: 525px; width: 100%;\" class=\"plotly-graph-div\"></div><script type=\"text/javascript\">require([\"plotly\"], function(Plotly) { window.PLOTLYENV=window.PLOTLYENV || {};window.PLOTLYENV.BASE_URL=\"https://plot.ly\";\n",
       "if (document.getElementById(\"b6f43840-5d9b-45f4-aaeb-0e3896efcaea\")) {\n",
       "    Plotly.newPlot(\"b6f43840-5d9b-45f4-aaeb-0e3896efcaea\", [{\"name\": \"Rush Hour Accidents\", \"x\": [\"MON\", \"TUE\", \"WED\", \"THU\", \"FRI\", \"SAT\", \"SUN\"], \"y\": [1446, 1521, 1564, 1447, 1551, 1132, 867], \"type\": \"bar\", \"uid\": \"b5d4a78f-3285-4afa-a5ba-f1dd50ba1b40\"}, {\"name\": \"Non-rush Hour Accidents\", \"x\": [\"MON\", \"TUE\", \"WED\", \"THU\", \"FRI\", \"SAT\", \"SUN\"], \"y\": [3597, 3627, 3601, 3755, 4194, 3351, 2728], \"type\": \"bar\", \"uid\": \"f41881f3-a508-4a1b-b6bf-23b1fd65c7ce\"}], {\"barmode\": \"stack\"}, {\"showLink\": false, \"linkText\": \"Export to plot.ly\", \"plotlyServerURL\": \"https://plot.ly\"}); \n",
       "}\n",
       "});</script><script type=\"text/javascript\">window.addEventListener(\"resize\", function(){if (document.getElementById(\"b6f43840-5d9b-45f4-aaeb-0e3896efcaea\")) {window._Plotly.Plots.resize(document.getElementById(\"b6f43840-5d9b-45f4-aaeb-0e3896efcaea\"));};})</script>"
      ],
      "text/vnd.plotly.v1+html": [
       "<div id=\"b6f43840-5d9b-45f4-aaeb-0e3896efcaea\" style=\"height: 525px; width: 100%;\" class=\"plotly-graph-div\"></div><script type=\"text/javascript\">require([\"plotly\"], function(Plotly) { window.PLOTLYENV=window.PLOTLYENV || {};window.PLOTLYENV.BASE_URL=\"https://plot.ly\";\n",
       "if (document.getElementById(\"b6f43840-5d9b-45f4-aaeb-0e3896efcaea\")) {\n",
       "    Plotly.newPlot(\"b6f43840-5d9b-45f4-aaeb-0e3896efcaea\", [{\"name\": \"Rush Hour Accidents\", \"x\": [\"MON\", \"TUE\", \"WED\", \"THU\", \"FRI\", \"SAT\", \"SUN\"], \"y\": [1446, 1521, 1564, 1447, 1551, 1132, 867], \"type\": \"bar\", \"uid\": \"b5d4a78f-3285-4afa-a5ba-f1dd50ba1b40\"}, {\"name\": \"Non-rush Hour Accidents\", \"x\": [\"MON\", \"TUE\", \"WED\", \"THU\", \"FRI\", \"SAT\", \"SUN\"], \"y\": [3597, 3627, 3601, 3755, 4194, 3351, 2728], \"type\": \"bar\", \"uid\": \"f41881f3-a508-4a1b-b6bf-23b1fd65c7ce\"}], {\"barmode\": \"stack\"}, {\"showLink\": false, \"linkText\": \"Export to plot.ly\", \"plotlyServerURL\": \"https://plot.ly\"}); \n",
       "}\n",
       "});</script><script type=\"text/javascript\">window.addEventListener(\"resize\", function(){if (document.getElementById(\"b6f43840-5d9b-45f4-aaeb-0e3896efcaea\")) {window._Plotly.Plots.resize(document.getElementById(\"b6f43840-5d9b-45f4-aaeb-0e3896efcaea\"));};})</script>"
      ]
     },
     "metadata": {},
     "output_type": "display_data"
    }
   ],
   "source": [
    "data = [trace1, trace2]\n",
    "layout = go.Layout(\n",
    "    barmode='stack'\n",
    ")\n",
    "\n",
    "fig = go.Figure(data=data, layout=layout)\n",
    "py.offline.iplot(fig)"
   ]
  },
  {
   "cell_type": "markdown",
   "metadata": {},
   "source": [
    "## Accident Totals by Hour of the Day - all days in 2018"
   ]
  },
  {
   "cell_type": "code",
   "execution_count": 74,
   "metadata": {},
   "outputs": [],
   "source": [
    "trace3 = go.Bar(\n",
    "    x=[\n",
    "    \"0000\", \"0100\", \"0200\", \"0300\", \"0400\", \"0500\", \"0600\", \"0700\", \"0800\", \"0900\", \"1000\", \"1100\",\n",
    "    \"1200\", \"1300\", \"1400\", \"1500\", \"1600\", \"1700\", \"1800\", \"1900\", \"2000\", \"2100\", \"2200\", \"2300\"\n",
    "      ],\n",
    "    y=[\n",
    "    hr_00_all_count, hr_01_all_count, hr_02_all_count, hr_03_all_count, hr_04_all_count, hr_05_all_count,\n",
    "    hr_06_all_count, hr_07_all_count, hr_08_all_count, hr_09_all_count, hr_10_all_count, hr_11_all_count,\n",
    "    hr_12_all_count, hr_13_all_count, hr_14_all_count, hr_15_all_count, hr_16_all_count, hr_17_all_count,\n",
    "    hr_18_all_count, hr_19_all_count, hr_20_all_count, hr_21_all_count, hr_22_all_count, hr_23_all_count,        \n",
    "],\n",
    "    name='Accidents by Hour'\n",
    ")"
   ]
  },
  {
   "cell_type": "code",
   "execution_count": 75,
   "metadata": {},
   "outputs": [
    {
     "data": {
      "application/vnd.plotly.v1+json": {
       "config": {
        "linkText": "Export to plot.ly",
        "plotlyServerURL": "https://plot.ly",
        "showLink": false
       },
       "data": [
        {
         "name": "Accidents by Hour",
         "type": "bar",
         "uid": "5842d01e-7460-46fc-92af-dc11b2e51c02",
         "x": [
          "0000",
          "0100",
          "0200",
          "0300",
          "0400",
          "0500",
          "0600",
          "0700",
          "0800",
          "0900",
          "1000",
          "1100",
          "1200",
          "1300",
          "1400",
          "1500",
          "1600",
          "1700",
          "1800",
          "1900",
          "2000",
          "2100",
          "2200",
          "2300"
         ],
         "y": [
          1539,
          1029,
          973,
          702,
          544,
          510,
          650,
          1014,
          970,
          769,
          740,
          1097,
          1718,
          2022,
          1718,
          1788,
          2150,
          2483,
          2261,
          1977,
          1777,
          2134,
          2113,
          1703
         ]
        }
       ],
       "layout": {
        "barmode": "stack"
       }
      },
      "text/html": [
       "<div id=\"9bafd07f-9ffa-40a3-b9e9-63d1d10f1aad\" style=\"height: 525px; width: 100%;\" class=\"plotly-graph-div\"></div><script type=\"text/javascript\">require([\"plotly\"], function(Plotly) { window.PLOTLYENV=window.PLOTLYENV || {};window.PLOTLYENV.BASE_URL=\"https://plot.ly\";\n",
       "if (document.getElementById(\"9bafd07f-9ffa-40a3-b9e9-63d1d10f1aad\")) {\n",
       "    Plotly.newPlot(\"9bafd07f-9ffa-40a3-b9e9-63d1d10f1aad\", [{\"name\": \"Accidents by Hour\", \"x\": [\"0000\", \"0100\", \"0200\", \"0300\", \"0400\", \"0500\", \"0600\", \"0700\", \"0800\", \"0900\", \"1000\", \"1100\", \"1200\", \"1300\", \"1400\", \"1500\", \"1600\", \"1700\", \"1800\", \"1900\", \"2000\", \"2100\", \"2200\", \"2300\"], \"y\": [1539, 1029, 973, 702, 544, 510, 650, 1014, 970, 769, 740, 1097, 1718, 2022, 1718, 1788, 2150, 2483, 2261, 1977, 1777, 2134, 2113, 1703], \"type\": \"bar\", \"uid\": \"5842d01e-7460-46fc-92af-dc11b2e51c02\"}], {\"barmode\": \"stack\"}, {\"showLink\": false, \"linkText\": \"Export to plot.ly\", \"plotlyServerURL\": \"https://plot.ly\"}); \n",
       "}\n",
       "});</script><script type=\"text/javascript\">window.addEventListener(\"resize\", function(){if (document.getElementById(\"9bafd07f-9ffa-40a3-b9e9-63d1d10f1aad\")) {window._Plotly.Plots.resize(document.getElementById(\"9bafd07f-9ffa-40a3-b9e9-63d1d10f1aad\"));};})</script>"
      ],
      "text/vnd.plotly.v1+html": [
       "<div id=\"9bafd07f-9ffa-40a3-b9e9-63d1d10f1aad\" style=\"height: 525px; width: 100%;\" class=\"plotly-graph-div\"></div><script type=\"text/javascript\">require([\"plotly\"], function(Plotly) { window.PLOTLYENV=window.PLOTLYENV || {};window.PLOTLYENV.BASE_URL=\"https://plot.ly\";\n",
       "if (document.getElementById(\"9bafd07f-9ffa-40a3-b9e9-63d1d10f1aad\")) {\n",
       "    Plotly.newPlot(\"9bafd07f-9ffa-40a3-b9e9-63d1d10f1aad\", [{\"name\": \"Accidents by Hour\", \"x\": [\"0000\", \"0100\", \"0200\", \"0300\", \"0400\", \"0500\", \"0600\", \"0700\", \"0800\", \"0900\", \"1000\", \"1100\", \"1200\", \"1300\", \"1400\", \"1500\", \"1600\", \"1700\", \"1800\", \"1900\", \"2000\", \"2100\", \"2200\", \"2300\"], \"y\": [1539, 1029, 973, 702, 544, 510, 650, 1014, 970, 769, 740, 1097, 1718, 2022, 1718, 1788, 2150, 2483, 2261, 1977, 1777, 2134, 2113, 1703], \"type\": \"bar\", \"uid\": \"5842d01e-7460-46fc-92af-dc11b2e51c02\"}], {\"barmode\": \"stack\"}, {\"showLink\": false, \"linkText\": \"Export to plot.ly\", \"plotlyServerURL\": \"https://plot.ly\"}); \n",
       "}\n",
       "});</script><script type=\"text/javascript\">window.addEventListener(\"resize\", function(){if (document.getElementById(\"9bafd07f-9ffa-40a3-b9e9-63d1d10f1aad\")) {window._Plotly.Plots.resize(document.getElementById(\"9bafd07f-9ffa-40a3-b9e9-63d1d10f1aad\"));};})</script>"
      ]
     },
     "metadata": {},
     "output_type": "display_data"
    }
   ],
   "source": [
    "data = [trace3]\n",
    "layout = go.Layout(\n",
    "    barmode='stack'\n",
    ")\n",
    "\n",
    "fig = go.Figure(data=data, layout=layout)\n",
    "py.offline.iplot(fig)"
   ]
  },
  {
   "cell_type": "markdown",
   "metadata": {},
   "source": [
    "## Accident Totals by Hour of the Day - Fridays in 2018"
   ]
  },
  {
   "cell_type": "code",
   "execution_count": 76,
   "metadata": {},
   "outputs": [
    {
     "name": "stderr",
     "output_type": "stream",
     "text": [
      "/Users/mbpr1/anaconda3/lib/python3.6/site-packages/ipykernel_launcher.py:2: UserWarning:\n",
      "\n",
      "Boolean Series key will be reindexed to match DataFrame index.\n",
      "\n",
      "/Users/mbpr1/anaconda3/lib/python3.6/site-packages/ipykernel_launcher.py:4: UserWarning:\n",
      "\n",
      "Boolean Series key will be reindexed to match DataFrame index.\n",
      "\n",
      "/Users/mbpr1/anaconda3/lib/python3.6/site-packages/ipykernel_launcher.py:6: UserWarning:\n",
      "\n",
      "Boolean Series key will be reindexed to match DataFrame index.\n",
      "\n",
      "/Users/mbpr1/anaconda3/lib/python3.6/site-packages/ipykernel_launcher.py:8: UserWarning:\n",
      "\n",
      "Boolean Series key will be reindexed to match DataFrame index.\n",
      "\n",
      "/Users/mbpr1/anaconda3/lib/python3.6/site-packages/ipykernel_launcher.py:10: UserWarning:\n",
      "\n",
      "Boolean Series key will be reindexed to match DataFrame index.\n",
      "\n",
      "/Users/mbpr1/anaconda3/lib/python3.6/site-packages/ipykernel_launcher.py:12: UserWarning:\n",
      "\n",
      "Boolean Series key will be reindexed to match DataFrame index.\n",
      "\n",
      "/Users/mbpr1/anaconda3/lib/python3.6/site-packages/ipykernel_launcher.py:14: UserWarning:\n",
      "\n",
      "Boolean Series key will be reindexed to match DataFrame index.\n",
      "\n",
      "/Users/mbpr1/anaconda3/lib/python3.6/site-packages/ipykernel_launcher.py:16: UserWarning:\n",
      "\n",
      "Boolean Series key will be reindexed to match DataFrame index.\n",
      "\n",
      "/Users/mbpr1/anaconda3/lib/python3.6/site-packages/ipykernel_launcher.py:18: UserWarning:\n",
      "\n",
      "Boolean Series key will be reindexed to match DataFrame index.\n",
      "\n",
      "/Users/mbpr1/anaconda3/lib/python3.6/site-packages/ipykernel_launcher.py:20: UserWarning:\n",
      "\n",
      "Boolean Series key will be reindexed to match DataFrame index.\n",
      "\n",
      "/Users/mbpr1/anaconda3/lib/python3.6/site-packages/ipykernel_launcher.py:22: UserWarning:\n",
      "\n",
      "Boolean Series key will be reindexed to match DataFrame index.\n",
      "\n",
      "/Users/mbpr1/anaconda3/lib/python3.6/site-packages/ipykernel_launcher.py:24: UserWarning:\n",
      "\n",
      "Boolean Series key will be reindexed to match DataFrame index.\n",
      "\n",
      "/Users/mbpr1/anaconda3/lib/python3.6/site-packages/ipykernel_launcher.py:26: UserWarning:\n",
      "\n",
      "Boolean Series key will be reindexed to match DataFrame index.\n",
      "\n",
      "/Users/mbpr1/anaconda3/lib/python3.6/site-packages/ipykernel_launcher.py:28: UserWarning:\n",
      "\n",
      "Boolean Series key will be reindexed to match DataFrame index.\n",
      "\n",
      "/Users/mbpr1/anaconda3/lib/python3.6/site-packages/ipykernel_launcher.py:30: UserWarning:\n",
      "\n",
      "Boolean Series key will be reindexed to match DataFrame index.\n",
      "\n",
      "/Users/mbpr1/anaconda3/lib/python3.6/site-packages/ipykernel_launcher.py:32: UserWarning:\n",
      "\n",
      "Boolean Series key will be reindexed to match DataFrame index.\n",
      "\n",
      "/Users/mbpr1/anaconda3/lib/python3.6/site-packages/ipykernel_launcher.py:34: UserWarning:\n",
      "\n",
      "Boolean Series key will be reindexed to match DataFrame index.\n",
      "\n",
      "/Users/mbpr1/anaconda3/lib/python3.6/site-packages/ipykernel_launcher.py:36: UserWarning:\n",
      "\n",
      "Boolean Series key will be reindexed to match DataFrame index.\n",
      "\n",
      "/Users/mbpr1/anaconda3/lib/python3.6/site-packages/ipykernel_launcher.py:38: UserWarning:\n",
      "\n",
      "Boolean Series key will be reindexed to match DataFrame index.\n",
      "\n",
      "/Users/mbpr1/anaconda3/lib/python3.6/site-packages/ipykernel_launcher.py:40: UserWarning:\n",
      "\n",
      "Boolean Series key will be reindexed to match DataFrame index.\n",
      "\n",
      "/Users/mbpr1/anaconda3/lib/python3.6/site-packages/ipykernel_launcher.py:42: UserWarning:\n",
      "\n",
      "Boolean Series key will be reindexed to match DataFrame index.\n",
      "\n",
      "/Users/mbpr1/anaconda3/lib/python3.6/site-packages/ipykernel_launcher.py:44: UserWarning:\n",
      "\n",
      "Boolean Series key will be reindexed to match DataFrame index.\n",
      "\n",
      "/Users/mbpr1/anaconda3/lib/python3.6/site-packages/ipykernel_launcher.py:46: UserWarning:\n",
      "\n",
      "Boolean Series key will be reindexed to match DataFrame index.\n",
      "\n",
      "/Users/mbpr1/anaconda3/lib/python3.6/site-packages/ipykernel_launcher.py:48: UserWarning:\n",
      "\n",
      "Boolean Series key will be reindexed to match DataFrame index.\n",
      "\n",
      "/Users/mbpr1/anaconda3/lib/python3.6/site-packages/ipykernel_launcher.py:50: UserWarning:\n",
      "\n",
      "Boolean Series key will be reindexed to match DataFrame index.\n",
      "\n"
     ]
    }
   ],
   "source": [
    "# Filter by Hour and Day - Friday\n",
    "hr_00_Fri_df = hr_00_all_df[fri_all_mask]\n",
    "hr_00_Fri_df_count = hr_00_Fri_df['Published Date'].count()\n",
    "hr_01_Fri_df = hr_01_all_df[fri_all_mask]\n",
    "hr_01_Fri_df_count = hr_01_Fri_df['Published Date'].count()\n",
    "hr_02_Fri_df = hr_02_all_df[fri_all_mask]\n",
    "hr_02_Fri_df_count = hr_02_Fri_df['Published Date'].count()\n",
    "hr_03_Fri_df = hr_03_all_df[fri_all_mask]\n",
    "hr_03_Fri_df_count = hr_03_Fri_df['Published Date'].count()\n",
    "hr_04_Fri_df = hr_04_all_df[fri_all_mask]\n",
    "hr_04_Fri_df_count = hr_04_Fri_df['Published Date'].count()\n",
    "hr_05_Fri_df = hr_05_all_df[fri_all_mask]\n",
    "hr_05_Fri_df_count = hr_05_Fri_df['Published Date'].count()\n",
    "hr_06_Fri_df = hr_06_all_df[fri_all_mask]\n",
    "hr_06_Fri_df_count = hr_06_Fri_df['Published Date'].count()\n",
    "hr_07_Fri_df = hr_07_all_df[fri_all_mask]\n",
    "hr_07_Fri_df_count = hr_07_Fri_df['Published Date'].count()\n",
    "hr_08_Fri_df = hr_08_all_df[fri_all_mask]\n",
    "hr_08_Fri_df_count = hr_08_Fri_df['Published Date'].count()\n",
    "hr_09_Fri_df = hr_09_all_df[fri_all_mask]\n",
    "hr_09_Fri_df_count = hr_09_Fri_df['Published Date'].count()\n",
    "hr_10_Fri_df = hr_10_all_df[fri_all_mask]\n",
    "hr_10_Fri_df_count = hr_10_Fri_df['Published Date'].count()\n",
    "hr_11_Fri_df = hr_11_all_df[fri_all_mask]\n",
    "hr_11_Fri_df_count = hr_11_Fri_df['Published Date'].count()\n",
    "hr_12_Fri_df = hr_12_all_df[fri_all_mask]\n",
    "hr_12_Fri_df_count = hr_12_Fri_df['Published Date'].count()\n",
    "hr_13_Fri_df = hr_13_all_df[fri_all_mask]\n",
    "hr_13_Fri_df_count = hr_13_Fri_df['Published Date'].count()\n",
    "hr_14_Fri_df = hr_14_all_df[fri_all_mask]\n",
    "hr_14_Fri_df_count = hr_14_Fri_df['Published Date'].count()\n",
    "hr_15_Fri_df = hr_15_all_df[fri_all_mask]\n",
    "hr_15_Fri_df_count = hr_15_Fri_df['Published Date'].count()\n",
    "hr_15_Fri_df = hr_15_all_df[fri_all_mask]\n",
    "hr_15_Fri_df_count = hr_15_Fri_df['Published Date'].count()\n",
    "hr_16_Fri_df = hr_16_all_df[fri_all_mask]\n",
    "hr_16_Fri_df_count = hr_16_Fri_df['Published Date'].count()\n",
    "hr_17_Fri_df = hr_17_all_df[fri_all_mask]\n",
    "hr_17_Fri_df_count = hr_17_Fri_df['Published Date'].count()\n",
    "hr_18_Fri_df = hr_18_all_df[fri_all_mask]\n",
    "hr_18_Fri_df_count = hr_18_Fri_df['Published Date'].count()\n",
    "hr_19_Fri_df = hr_19_all_df[fri_all_mask]\n",
    "hr_19_Fri_df_count = hr_19_Fri_df['Published Date'].count()\n",
    "hr_20_Fri_df = hr_20_all_df[fri_all_mask]\n",
    "hr_20_Fri_df_count = hr_20_Fri_df['Published Date'].count()\n",
    "hr_21_Fri_df = hr_21_all_df[fri_all_mask]\n",
    "hr_21_Fri_df_count = hr_21_Fri_df['Published Date'].count()\n",
    "hr_22_Fri_df = hr_22_all_df[fri_all_mask]\n",
    "hr_22_Fri_df_count = hr_22_Fri_df['Published Date'].count()\n",
    "hr_23_Fri_df = hr_23_all_df[fri_all_mask]\n",
    "hr_23_Fri_df_count = hr_23_Fri_df['Published Date'].count()"
   ]
  },
  {
   "cell_type": "code",
   "execution_count": 77,
   "metadata": {},
   "outputs": [],
   "source": [
    "trace6 = go.Bar(\n",
    "    x=[\n",
    "    \"0000\", \"0100\", \"0200\", \"0300\", \"0400\", \"0500\", \"0600\", \"0700\", \"0800\", \"0900\", \"1000\", \"1100\",\n",
    "    \"1200\", \"1300\", \"1400\", \"1500\", \"1600\", \"1700\", \"1800\", \"1900\", \"2000\", \"2100\", \"2200\", \"2300\"\n",
    "      ],\n",
    "    y=[\n",
    "    hr_00_Fri_df_count, hr_01_Fri_df_count, hr_02_Fri_df_count, hr_03_Fri_df_count, hr_04_Fri_df_count, hr_05_Fri_df_count,\n",
    "    hr_06_Fri_df_count, hr_07_Fri_df_count, hr_08_Fri_df_count, hr_09_Fri_df_count, hr_10_Fri_df_count, hr_11_Fri_df_count,\n",
    "    hr_12_Fri_df_count, hr_13_Fri_df_count, hr_14_Fri_df_count, hr_15_Fri_df_count, hr_16_Fri_df_count, hr_17_Fri_df_count,\n",
    "    hr_18_Fri_df_count, hr_19_Fri_df_count, hr_20_Fri_df_count, hr_21_Fri_df_count, hr_22_Fri_df_count, hr_23_Fri_df_count,        \n",
    "],\n",
    "    name='Accidents by Hour on Friday'\n",
    ")"
   ]
  },
  {
   "cell_type": "code",
   "execution_count": 78,
   "metadata": {},
   "outputs": [
    {
     "data": {
      "application/vnd.plotly.v1+json": {
       "config": {
        "linkText": "Export to plot.ly",
        "plotlyServerURL": "https://plot.ly",
        "showLink": false
       },
       "data": [
        {
         "name": "Accidents by Hour on Friday",
         "type": "bar",
         "uid": "8094e2fd-666a-4e7f-a15c-a9fbe77667dc",
         "x": [
          "0000",
          "0100",
          "0200",
          "0300",
          "0400",
          "0500",
          "0600",
          "0700",
          "0800",
          "0900",
          "1000",
          "1100",
          "1200",
          "1300",
          "1400",
          "1500",
          "1600",
          "1700",
          "1800",
          "1900",
          "2000",
          "2100",
          "2200",
          "2300"
         ],
         "y": [
          212,
          145,
          142,
          94,
          74,
          72,
          109,
          144,
          128,
          138,
          134,
          201,
          297,
          347,
          281,
          288,
          354,
          418,
          398,
          351,
          318,
          411,
          385,
          304
         ]
        }
       ],
       "layout": {
        "barmode": "stack"
       }
      },
      "text/html": [
       "<div id=\"41a09a94-f091-4a34-93e2-0cf064df724d\" style=\"height: 525px; width: 100%;\" class=\"plotly-graph-div\"></div><script type=\"text/javascript\">require([\"plotly\"], function(Plotly) { window.PLOTLYENV=window.PLOTLYENV || {};window.PLOTLYENV.BASE_URL=\"https://plot.ly\";\n",
       "if (document.getElementById(\"41a09a94-f091-4a34-93e2-0cf064df724d\")) {\n",
       "    Plotly.newPlot(\"41a09a94-f091-4a34-93e2-0cf064df724d\", [{\"name\": \"Accidents by Hour on Friday\", \"x\": [\"0000\", \"0100\", \"0200\", \"0300\", \"0400\", \"0500\", \"0600\", \"0700\", \"0800\", \"0900\", \"1000\", \"1100\", \"1200\", \"1300\", \"1400\", \"1500\", \"1600\", \"1700\", \"1800\", \"1900\", \"2000\", \"2100\", \"2200\", \"2300\"], \"y\": [212, 145, 142, 94, 74, 72, 109, 144, 128, 138, 134, 201, 297, 347, 281, 288, 354, 418, 398, 351, 318, 411, 385, 304], \"type\": \"bar\", \"uid\": \"8094e2fd-666a-4e7f-a15c-a9fbe77667dc\"}], {\"barmode\": \"stack\"}, {\"showLink\": false, \"linkText\": \"Export to plot.ly\", \"plotlyServerURL\": \"https://plot.ly\"}); \n",
       "}\n",
       "});</script><script type=\"text/javascript\">window.addEventListener(\"resize\", function(){if (document.getElementById(\"41a09a94-f091-4a34-93e2-0cf064df724d\")) {window._Plotly.Plots.resize(document.getElementById(\"41a09a94-f091-4a34-93e2-0cf064df724d\"));};})</script>"
      ],
      "text/vnd.plotly.v1+html": [
       "<div id=\"41a09a94-f091-4a34-93e2-0cf064df724d\" style=\"height: 525px; width: 100%;\" class=\"plotly-graph-div\"></div><script type=\"text/javascript\">require([\"plotly\"], function(Plotly) { window.PLOTLYENV=window.PLOTLYENV || {};window.PLOTLYENV.BASE_URL=\"https://plot.ly\";\n",
       "if (document.getElementById(\"41a09a94-f091-4a34-93e2-0cf064df724d\")) {\n",
       "    Plotly.newPlot(\"41a09a94-f091-4a34-93e2-0cf064df724d\", [{\"name\": \"Accidents by Hour on Friday\", \"x\": [\"0000\", \"0100\", \"0200\", \"0300\", \"0400\", \"0500\", \"0600\", \"0700\", \"0800\", \"0900\", \"1000\", \"1100\", \"1200\", \"1300\", \"1400\", \"1500\", \"1600\", \"1700\", \"1800\", \"1900\", \"2000\", \"2100\", \"2200\", \"2300\"], \"y\": [212, 145, 142, 94, 74, 72, 109, 144, 128, 138, 134, 201, 297, 347, 281, 288, 354, 418, 398, 351, 318, 411, 385, 304], \"type\": \"bar\", \"uid\": \"8094e2fd-666a-4e7f-a15c-a9fbe77667dc\"}], {\"barmode\": \"stack\"}, {\"showLink\": false, \"linkText\": \"Export to plot.ly\", \"plotlyServerURL\": \"https://plot.ly\"}); \n",
       "}\n",
       "});</script><script type=\"text/javascript\">window.addEventListener(\"resize\", function(){if (document.getElementById(\"41a09a94-f091-4a34-93e2-0cf064df724d\")) {window._Plotly.Plots.resize(document.getElementById(\"41a09a94-f091-4a34-93e2-0cf064df724d\"));};})</script>"
      ]
     },
     "metadata": {},
     "output_type": "display_data"
    }
   ],
   "source": [
    "data = [trace6]\n",
    "layout = go.Layout(\n",
    "    barmode='stack'\n",
    ")\n",
    "\n",
    "fig = go.Figure(data=data, layout=layout)\n",
    "py.offline.iplot(fig)"
   ]
  },
  {
   "cell_type": "markdown",
   "metadata": {},
   "source": [
    "## Accident Totals by Month - 2018"
   ]
  },
  {
   "cell_type": "code",
   "execution_count": 79,
   "metadata": {},
   "outputs": [],
   "source": [
    "trace1 = go.Bar(\n",
    "    x=[\"JAN\", \"FEB\", \"MAR\", \"APR\", \"MAY\", \"JUN\", \"JUL\", \"AUG\", \"SEP\", \"OCT\", \"NOV\", \"DEC\"],\n",
    "    y=[\n",
    "    jan_count3, feb_count3, mar_count3, apr_count3, may_count3, jun_count3,\n",
    "    jul_count3, aug_count3, sep_count3, oct_count3, nov_count3, dec_count3\n",
    "],\n",
    "    name='Rush Hour Accidents'\n",
    ")\n",
    "trace2 = go.Bar(\n",
    "    x=[\"JAN\", \"FEB\", \"MAR\", \"APR\", \"MAY\", \"JUN\", \"JUL\", \"AUG\", \"SEP\", \"OCT\", \"NOV\", \"DEC\"],\n",
    "    y=[\n",
    "    jan_count2, feb_count2, mar_count2, apr_count2, may_count2, jun_count2,\n",
    "    jul_count2, aug_count2, sep_count2, oct_count2, nov_count2, dec_count2\n",
    "],\n",
    "    name='Non-rush Hour Accidents'\n",
    ")"
   ]
  },
  {
   "cell_type": "code",
   "execution_count": 80,
   "metadata": {},
   "outputs": [
    {
     "data": {
      "application/vnd.plotly.v1+json": {
       "config": {
        "linkText": "Export to plot.ly",
        "plotlyServerURL": "https://plot.ly",
        "showLink": false
       },
       "data": [
        {
         "name": "Rush Hour Accidents",
         "type": "bar",
         "uid": "63893433-9d53-4c64-954c-9d8aa4407839",
         "x": [
          "JAN",
          "FEB",
          "MAR",
          "APR",
          "MAY",
          "JUN",
          "JUL",
          "AUG",
          "SEP",
          "OCT",
          "NOV",
          "DEC"
         ],
         "y": [
          1039,
          820,
          962,
          1088,
          1175,
          715,
          645,
          696,
          604,
          645,
          541,
          598
         ]
        },
        {
         "name": "Non-rush Hour Accidents",
         "type": "bar",
         "uid": "4725d1a0-2420-48b9-a4d9-ef3dc3ef0d5e",
         "x": [
          "JAN",
          "FEB",
          "MAR",
          "APR",
          "MAY",
          "JUN",
          "JUL",
          "AUG",
          "SEP",
          "OCT",
          "NOV",
          "DEC"
         ],
         "y": [
          1665,
          1482,
          1666,
          1685,
          1920,
          2084,
          2083,
          2423,
          2280,
          2720,
          2356,
          2489
         ]
        }
       ],
       "layout": {
        "barmode": "stack"
       }
      },
      "text/html": [
       "<div id=\"0edd5337-7859-4f70-8343-6bf68ac0cd86\" style=\"height: 525px; width: 100%;\" class=\"plotly-graph-div\"></div><script type=\"text/javascript\">require([\"plotly\"], function(Plotly) { window.PLOTLYENV=window.PLOTLYENV || {};window.PLOTLYENV.BASE_URL=\"https://plot.ly\";\n",
       "if (document.getElementById(\"0edd5337-7859-4f70-8343-6bf68ac0cd86\")) {\n",
       "    Plotly.newPlot(\"0edd5337-7859-4f70-8343-6bf68ac0cd86\", [{\"name\": \"Rush Hour Accidents\", \"x\": [\"JAN\", \"FEB\", \"MAR\", \"APR\", \"MAY\", \"JUN\", \"JUL\", \"AUG\", \"SEP\", \"OCT\", \"NOV\", \"DEC\"], \"y\": [1039, 820, 962, 1088, 1175, 715, 645, 696, 604, 645, 541, 598], \"type\": \"bar\", \"uid\": \"63893433-9d53-4c64-954c-9d8aa4407839\"}, {\"name\": \"Non-rush Hour Accidents\", \"x\": [\"JAN\", \"FEB\", \"MAR\", \"APR\", \"MAY\", \"JUN\", \"JUL\", \"AUG\", \"SEP\", \"OCT\", \"NOV\", \"DEC\"], \"y\": [1665, 1482, 1666, 1685, 1920, 2084, 2083, 2423, 2280, 2720, 2356, 2489], \"type\": \"bar\", \"uid\": \"4725d1a0-2420-48b9-a4d9-ef3dc3ef0d5e\"}], {\"barmode\": \"stack\"}, {\"showLink\": false, \"linkText\": \"Export to plot.ly\", \"plotlyServerURL\": \"https://plot.ly\"}); \n",
       "}\n",
       "});</script><script type=\"text/javascript\">window.addEventListener(\"resize\", function(){if (document.getElementById(\"0edd5337-7859-4f70-8343-6bf68ac0cd86\")) {window._Plotly.Plots.resize(document.getElementById(\"0edd5337-7859-4f70-8343-6bf68ac0cd86\"));};})</script>"
      ],
      "text/vnd.plotly.v1+html": [
       "<div id=\"0edd5337-7859-4f70-8343-6bf68ac0cd86\" style=\"height: 525px; width: 100%;\" class=\"plotly-graph-div\"></div><script type=\"text/javascript\">require([\"plotly\"], function(Plotly) { window.PLOTLYENV=window.PLOTLYENV || {};window.PLOTLYENV.BASE_URL=\"https://plot.ly\";\n",
       "if (document.getElementById(\"0edd5337-7859-4f70-8343-6bf68ac0cd86\")) {\n",
       "    Plotly.newPlot(\"0edd5337-7859-4f70-8343-6bf68ac0cd86\", [{\"name\": \"Rush Hour Accidents\", \"x\": [\"JAN\", \"FEB\", \"MAR\", \"APR\", \"MAY\", \"JUN\", \"JUL\", \"AUG\", \"SEP\", \"OCT\", \"NOV\", \"DEC\"], \"y\": [1039, 820, 962, 1088, 1175, 715, 645, 696, 604, 645, 541, 598], \"type\": \"bar\", \"uid\": \"63893433-9d53-4c64-954c-9d8aa4407839\"}, {\"name\": \"Non-rush Hour Accidents\", \"x\": [\"JAN\", \"FEB\", \"MAR\", \"APR\", \"MAY\", \"JUN\", \"JUL\", \"AUG\", \"SEP\", \"OCT\", \"NOV\", \"DEC\"], \"y\": [1665, 1482, 1666, 1685, 1920, 2084, 2083, 2423, 2280, 2720, 2356, 2489], \"type\": \"bar\", \"uid\": \"4725d1a0-2420-48b9-a4d9-ef3dc3ef0d5e\"}], {\"barmode\": \"stack\"}, {\"showLink\": false, \"linkText\": \"Export to plot.ly\", \"plotlyServerURL\": \"https://plot.ly\"}); \n",
       "}\n",
       "});</script><script type=\"text/javascript\">window.addEventListener(\"resize\", function(){if (document.getElementById(\"0edd5337-7859-4f70-8343-6bf68ac0cd86\")) {window._Plotly.Plots.resize(document.getElementById(\"0edd5337-7859-4f70-8343-6bf68ac0cd86\"));};})</script>"
      ]
     },
     "metadata": {},
     "output_type": "display_data"
    }
   ],
   "source": [
    "data = [trace1, trace2]\n",
    "layout = go.Layout(\n",
    "    barmode='stack'\n",
    ")\n",
    "\n",
    "fig = go.Figure(data=data, layout=layout)\n",
    "py.offline.iplot(fig)"
   ]
  },
  {
   "cell_type": "markdown",
   "metadata": {},
   "source": [
    "## Take a closer look at May and October\n",
    "## Accidents by Day of the Week - May 2018"
   ]
  },
  {
   "cell_type": "code",
   "execution_count": 81,
   "metadata": {},
   "outputs": [],
   "source": [
    "may_mon_df = (mon_all_df['Published Date'].dt.month == 5)\n",
    "may_tue_df = (tue_all_df['Published Date'].dt.month == 5)\n",
    "may_wed_df = (wed_all_df['Published Date'].dt.month == 5)\n",
    "may_thu_df = (thu_all_df['Published Date'].dt.month == 5)\n",
    "may_fri_df = (fri_all_df['Published Date'].dt.month == 5)\n",
    "may_sat_df = (sat_all_df['Published Date'].dt.month == 5)\n",
    "may_sun_df = (sun_all_df['Published Date'].dt.month == 5)\n",
    "may_mon_count = may_mon_df.count()\n",
    "may_tue_count = may_tue_df.count()\n",
    "may_wed_count = may_wed_df.count()\n",
    "may_thu_count = may_thu_df.count()\n",
    "may_fri_count = may_fri_df.count()\n",
    "may_sat_count = may_sat_df.count()\n",
    "may_sun_count = may_sun_df.count()\n",
    "# may_mon_df.count()"
   ]
  },
  {
   "cell_type": "code",
   "execution_count": 82,
   "metadata": {},
   "outputs": [],
   "source": [
    "trace8 = go.Bar(\n",
    "    x=[\"MON\", \"TUE\", \"WED\", \"THU\", \"FRI\", \"SAT\", \"SUN\"],\n",
    "    y=[may_mon_count, may_tue_count, may_wed_count, may_thu_count, may_fri_count, may_sat_count, may_sun_count],\n",
    "    name='Accidents by Day in May'\n",
    ")"
   ]
  },
  {
   "cell_type": "code",
   "execution_count": 83,
   "metadata": {},
   "outputs": [
    {
     "data": {
      "application/vnd.plotly.v1+json": {
       "config": {
        "linkText": "Export to plot.ly",
        "plotlyServerURL": "https://plot.ly",
        "showLink": false
       },
       "data": [
        {
         "name": "Accidents by Day in May",
         "type": "bar",
         "uid": "4a7974b9-a908-4c45-b80e-d01bf1aa57df",
         "x": [
          "MON",
          "TUE",
          "WED",
          "THU",
          "FRI",
          "SAT",
          "SUN"
         ],
         "y": [
          5043,
          5148,
          5165,
          5202,
          5745,
          4483,
          3595
         ]
        }
       ],
       "layout": {
        "barmode": "stack"
       }
      },
      "text/html": [
       "<div id=\"d2a6db89-9f63-47c9-bc7f-bd4ab8685e0a\" style=\"height: 525px; width: 100%;\" class=\"plotly-graph-div\"></div><script type=\"text/javascript\">require([\"plotly\"], function(Plotly) { window.PLOTLYENV=window.PLOTLYENV || {};window.PLOTLYENV.BASE_URL=\"https://plot.ly\";\n",
       "if (document.getElementById(\"d2a6db89-9f63-47c9-bc7f-bd4ab8685e0a\")) {\n",
       "    Plotly.newPlot(\"d2a6db89-9f63-47c9-bc7f-bd4ab8685e0a\", [{\"name\": \"Accidents by Day in May\", \"x\": [\"MON\", \"TUE\", \"WED\", \"THU\", \"FRI\", \"SAT\", \"SUN\"], \"y\": [5043, 5148, 5165, 5202, 5745, 4483, 3595], \"type\": \"bar\", \"uid\": \"4a7974b9-a908-4c45-b80e-d01bf1aa57df\"}], {\"barmode\": \"stack\"}, {\"showLink\": false, \"linkText\": \"Export to plot.ly\", \"plotlyServerURL\": \"https://plot.ly\"}); \n",
       "}\n",
       "});</script><script type=\"text/javascript\">window.addEventListener(\"resize\", function(){if (document.getElementById(\"d2a6db89-9f63-47c9-bc7f-bd4ab8685e0a\")) {window._Plotly.Plots.resize(document.getElementById(\"d2a6db89-9f63-47c9-bc7f-bd4ab8685e0a\"));};})</script>"
      ],
      "text/vnd.plotly.v1+html": [
       "<div id=\"d2a6db89-9f63-47c9-bc7f-bd4ab8685e0a\" style=\"height: 525px; width: 100%;\" class=\"plotly-graph-div\"></div><script type=\"text/javascript\">require([\"plotly\"], function(Plotly) { window.PLOTLYENV=window.PLOTLYENV || {};window.PLOTLYENV.BASE_URL=\"https://plot.ly\";\n",
       "if (document.getElementById(\"d2a6db89-9f63-47c9-bc7f-bd4ab8685e0a\")) {\n",
       "    Plotly.newPlot(\"d2a6db89-9f63-47c9-bc7f-bd4ab8685e0a\", [{\"name\": \"Accidents by Day in May\", \"x\": [\"MON\", \"TUE\", \"WED\", \"THU\", \"FRI\", \"SAT\", \"SUN\"], \"y\": [5043, 5148, 5165, 5202, 5745, 4483, 3595], \"type\": \"bar\", \"uid\": \"4a7974b9-a908-4c45-b80e-d01bf1aa57df\"}], {\"barmode\": \"stack\"}, {\"showLink\": false, \"linkText\": \"Export to plot.ly\", \"plotlyServerURL\": \"https://plot.ly\"}); \n",
       "}\n",
       "});</script><script type=\"text/javascript\">window.addEventListener(\"resize\", function(){if (document.getElementById(\"d2a6db89-9f63-47c9-bc7f-bd4ab8685e0a\")) {window._Plotly.Plots.resize(document.getElementById(\"d2a6db89-9f63-47c9-bc7f-bd4ab8685e0a\"));};})</script>"
      ]
     },
     "metadata": {},
     "output_type": "display_data"
    }
   ],
   "source": [
    "data = [trace8]\n",
    "layout = go.Layout(\n",
    "    barmode='stack'\n",
    ")\n",
    "\n",
    "fig = go.Figure(data=data, layout=layout)\n",
    "py.offline.iplot(fig)"
   ]
  },
  {
   "cell_type": "markdown",
   "metadata": {},
   "source": [
    "## Accidents by Date - May 2018"
   ]
  },
  {
   "cell_type": "code",
   "execution_count": 84,
   "metadata": {},
   "outputs": [],
   "source": [
    "may_daily_count = may_report_df.groupby(by=may_report_df['Published Date'].dt.date).count()\n",
    "may_accident_days = may_daily_count['Issue Reported']\n",
    "# may_accident_days.values"
   ]
  },
  {
   "cell_type": "code",
   "execution_count": 85,
   "metadata": {},
   "outputs": [],
   "source": [
    "may_accident_days.index\n",
    "\n",
    "may_index = may_accident_days.index\n",
    "# may_index"
   ]
  },
  {
   "cell_type": "code",
   "execution_count": 86,
   "metadata": {},
   "outputs": [],
   "source": [
    "trace10 = go.Scatter(\n",
    "    x=may_accident_days.index,\n",
    "    y=may_accident_days.values,\n",
    "    name='Accidents by Date in May'\n",
    ")"
   ]
  },
  {
   "cell_type": "code",
   "execution_count": 87,
   "metadata": {},
   "outputs": [
    {
     "data": {
      "application/vnd.plotly.v1+json": {
       "config": {
        "linkText": "Export to plot.ly",
        "plotlyServerURL": "https://plot.ly",
        "showLink": false
       },
       "data": [
        {
         "name": "Accidents by Date in May",
         "type": "scatter",
         "uid": "242d9a26-f013-42b8-95a0-6a4ef325bb61",
         "x": [
          "2018-05-01",
          "2018-05-02",
          "2018-05-03",
          "2018-05-04",
          "2018-05-05",
          "2018-05-06",
          "2018-05-07",
          "2018-05-08",
          "2018-05-09",
          "2018-05-10",
          "2018-05-11",
          "2018-05-12",
          "2018-05-13",
          "2018-05-14",
          "2018-05-15",
          "2018-05-16",
          "2018-05-17",
          "2018-05-18",
          "2018-05-19",
          "2018-05-20",
          "2018-05-21",
          "2018-05-22",
          "2018-05-23",
          "2018-05-24",
          "2018-05-25",
          "2018-05-26",
          "2018-05-27",
          "2018-05-28",
          "2018-05-29",
          "2018-05-30",
          "2018-05-31"
         ],
         "y": [
          84,
          91,
          96,
          159,
          85,
          76,
          103,
          104,
          101,
          106,
          134,
          85,
          73,
          98,
          111,
          142,
          129,
          122,
          81,
          42,
          92,
          84,
          114,
          103,
          152,
          89,
          53,
          62,
          113,
          112,
          99
         ]
        }
       ],
       "layout": {}
      },
      "text/html": [
       "<div id=\"43119ace-17ba-4300-a51c-f959b98deb13\" style=\"height: 525px; width: 100%;\" class=\"plotly-graph-div\"></div><script type=\"text/javascript\">require([\"plotly\"], function(Plotly) { window.PLOTLYENV=window.PLOTLYENV || {};window.PLOTLYENV.BASE_URL=\"https://plot.ly\";\n",
       "if (document.getElementById(\"43119ace-17ba-4300-a51c-f959b98deb13\")) {\n",
       "    Plotly.newPlot(\"43119ace-17ba-4300-a51c-f959b98deb13\", [{\"name\": \"Accidents by Date in May\", \"x\": [\"2018-05-01\", \"2018-05-02\", \"2018-05-03\", \"2018-05-04\", \"2018-05-05\", \"2018-05-06\", \"2018-05-07\", \"2018-05-08\", \"2018-05-09\", \"2018-05-10\", \"2018-05-11\", \"2018-05-12\", \"2018-05-13\", \"2018-05-14\", \"2018-05-15\", \"2018-05-16\", \"2018-05-17\", \"2018-05-18\", \"2018-05-19\", \"2018-05-20\", \"2018-05-21\", \"2018-05-22\", \"2018-05-23\", \"2018-05-24\", \"2018-05-25\", \"2018-05-26\", \"2018-05-27\", \"2018-05-28\", \"2018-05-29\", \"2018-05-30\", \"2018-05-31\"], \"y\": [84, 91, 96, 159, 85, 76, 103, 104, 101, 106, 134, 85, 73, 98, 111, 142, 129, 122, 81, 42, 92, 84, 114, 103, 152, 89, 53, 62, 113, 112, 99], \"type\": \"scatter\", \"uid\": \"242d9a26-f013-42b8-95a0-6a4ef325bb61\"}], {}, {\"showLink\": false, \"linkText\": \"Export to plot.ly\", \"plotlyServerURL\": \"https://plot.ly\"}); \n",
       "}\n",
       "});</script><script type=\"text/javascript\">window.addEventListener(\"resize\", function(){if (document.getElementById(\"43119ace-17ba-4300-a51c-f959b98deb13\")) {window._Plotly.Plots.resize(document.getElementById(\"43119ace-17ba-4300-a51c-f959b98deb13\"));};})</script>"
      ],
      "text/vnd.plotly.v1+html": [
       "<div id=\"43119ace-17ba-4300-a51c-f959b98deb13\" style=\"height: 525px; width: 100%;\" class=\"plotly-graph-div\"></div><script type=\"text/javascript\">require([\"plotly\"], function(Plotly) { window.PLOTLYENV=window.PLOTLYENV || {};window.PLOTLYENV.BASE_URL=\"https://plot.ly\";\n",
       "if (document.getElementById(\"43119ace-17ba-4300-a51c-f959b98deb13\")) {\n",
       "    Plotly.newPlot(\"43119ace-17ba-4300-a51c-f959b98deb13\", [{\"name\": \"Accidents by Date in May\", \"x\": [\"2018-05-01\", \"2018-05-02\", \"2018-05-03\", \"2018-05-04\", \"2018-05-05\", \"2018-05-06\", \"2018-05-07\", \"2018-05-08\", \"2018-05-09\", \"2018-05-10\", \"2018-05-11\", \"2018-05-12\", \"2018-05-13\", \"2018-05-14\", \"2018-05-15\", \"2018-05-16\", \"2018-05-17\", \"2018-05-18\", \"2018-05-19\", \"2018-05-20\", \"2018-05-21\", \"2018-05-22\", \"2018-05-23\", \"2018-05-24\", \"2018-05-25\", \"2018-05-26\", \"2018-05-27\", \"2018-05-28\", \"2018-05-29\", \"2018-05-30\", \"2018-05-31\"], \"y\": [84, 91, 96, 159, 85, 76, 103, 104, 101, 106, 134, 85, 73, 98, 111, 142, 129, 122, 81, 42, 92, 84, 114, 103, 152, 89, 53, 62, 113, 112, 99], \"type\": \"scatter\", \"uid\": \"242d9a26-f013-42b8-95a0-6a4ef325bb61\"}], {}, {\"showLink\": false, \"linkText\": \"Export to plot.ly\", \"plotlyServerURL\": \"https://plot.ly\"}); \n",
       "}\n",
       "});</script><script type=\"text/javascript\">window.addEventListener(\"resize\", function(){if (document.getElementById(\"43119ace-17ba-4300-a51c-f959b98deb13\")) {window._Plotly.Plots.resize(document.getElementById(\"43119ace-17ba-4300-a51c-f959b98deb13\"));};})</script>"
      ]
     },
     "metadata": {},
     "output_type": "display_data"
    }
   ],
   "source": [
    "data = [trace10]\n",
    "layout = go.Layout()\n",
    "\n",
    "fig = go.Figure(data=data)\n",
    "py.offline.iplot(fig)"
   ]
  },
  {
   "cell_type": "code",
   "execution_count": 88,
   "metadata": {},
   "outputs": [],
   "source": [
    "trace9 = go.Bar(\n",
    "    x=may_accident_days.index,\n",
    "    y=may_accident_days.values,\n",
    "    name='Accidents by Date in May'\n",
    ")"
   ]
  },
  {
   "cell_type": "code",
   "execution_count": 89,
   "metadata": {},
   "outputs": [
    {
     "data": {
      "application/vnd.plotly.v1+json": {
       "config": {
        "linkText": "Export to plot.ly",
        "plotlyServerURL": "https://plot.ly",
        "showLink": false
       },
       "data": [
        {
         "name": "Accidents by Date in May",
         "type": "bar",
         "uid": "91aae4d2-885a-4d97-9638-e41141b71932",
         "x": [
          "2018-05-01",
          "2018-05-02",
          "2018-05-03",
          "2018-05-04",
          "2018-05-05",
          "2018-05-06",
          "2018-05-07",
          "2018-05-08",
          "2018-05-09",
          "2018-05-10",
          "2018-05-11",
          "2018-05-12",
          "2018-05-13",
          "2018-05-14",
          "2018-05-15",
          "2018-05-16",
          "2018-05-17",
          "2018-05-18",
          "2018-05-19",
          "2018-05-20",
          "2018-05-21",
          "2018-05-22",
          "2018-05-23",
          "2018-05-24",
          "2018-05-25",
          "2018-05-26",
          "2018-05-27",
          "2018-05-28",
          "2018-05-29",
          "2018-05-30",
          "2018-05-31"
         ],
         "y": [
          84,
          91,
          96,
          159,
          85,
          76,
          103,
          104,
          101,
          106,
          134,
          85,
          73,
          98,
          111,
          142,
          129,
          122,
          81,
          42,
          92,
          84,
          114,
          103,
          152,
          89,
          53,
          62,
          113,
          112,
          99
         ]
        }
       ],
       "layout": {
        "barmode": "stack"
       }
      },
      "text/html": [
       "<div id=\"fdccc0f4-cb22-4f85-9e71-66fe0fba8783\" style=\"height: 525px; width: 100%;\" class=\"plotly-graph-div\"></div><script type=\"text/javascript\">require([\"plotly\"], function(Plotly) { window.PLOTLYENV=window.PLOTLYENV || {};window.PLOTLYENV.BASE_URL=\"https://plot.ly\";\n",
       "if (document.getElementById(\"fdccc0f4-cb22-4f85-9e71-66fe0fba8783\")) {\n",
       "    Plotly.newPlot(\"fdccc0f4-cb22-4f85-9e71-66fe0fba8783\", [{\"name\": \"Accidents by Date in May\", \"x\": [\"2018-05-01\", \"2018-05-02\", \"2018-05-03\", \"2018-05-04\", \"2018-05-05\", \"2018-05-06\", \"2018-05-07\", \"2018-05-08\", \"2018-05-09\", \"2018-05-10\", \"2018-05-11\", \"2018-05-12\", \"2018-05-13\", \"2018-05-14\", \"2018-05-15\", \"2018-05-16\", \"2018-05-17\", \"2018-05-18\", \"2018-05-19\", \"2018-05-20\", \"2018-05-21\", \"2018-05-22\", \"2018-05-23\", \"2018-05-24\", \"2018-05-25\", \"2018-05-26\", \"2018-05-27\", \"2018-05-28\", \"2018-05-29\", \"2018-05-30\", \"2018-05-31\"], \"y\": [84, 91, 96, 159, 85, 76, 103, 104, 101, 106, 134, 85, 73, 98, 111, 142, 129, 122, 81, 42, 92, 84, 114, 103, 152, 89, 53, 62, 113, 112, 99], \"type\": \"bar\", \"uid\": \"91aae4d2-885a-4d97-9638-e41141b71932\"}], {\"barmode\": \"stack\"}, {\"showLink\": false, \"linkText\": \"Export to plot.ly\", \"plotlyServerURL\": \"https://plot.ly\"}); \n",
       "}\n",
       "});</script><script type=\"text/javascript\">window.addEventListener(\"resize\", function(){if (document.getElementById(\"fdccc0f4-cb22-4f85-9e71-66fe0fba8783\")) {window._Plotly.Plots.resize(document.getElementById(\"fdccc0f4-cb22-4f85-9e71-66fe0fba8783\"));};})</script>"
      ],
      "text/vnd.plotly.v1+html": [
       "<div id=\"fdccc0f4-cb22-4f85-9e71-66fe0fba8783\" style=\"height: 525px; width: 100%;\" class=\"plotly-graph-div\"></div><script type=\"text/javascript\">require([\"plotly\"], function(Plotly) { window.PLOTLYENV=window.PLOTLYENV || {};window.PLOTLYENV.BASE_URL=\"https://plot.ly\";\n",
       "if (document.getElementById(\"fdccc0f4-cb22-4f85-9e71-66fe0fba8783\")) {\n",
       "    Plotly.newPlot(\"fdccc0f4-cb22-4f85-9e71-66fe0fba8783\", [{\"name\": \"Accidents by Date in May\", \"x\": [\"2018-05-01\", \"2018-05-02\", \"2018-05-03\", \"2018-05-04\", \"2018-05-05\", \"2018-05-06\", \"2018-05-07\", \"2018-05-08\", \"2018-05-09\", \"2018-05-10\", \"2018-05-11\", \"2018-05-12\", \"2018-05-13\", \"2018-05-14\", \"2018-05-15\", \"2018-05-16\", \"2018-05-17\", \"2018-05-18\", \"2018-05-19\", \"2018-05-20\", \"2018-05-21\", \"2018-05-22\", \"2018-05-23\", \"2018-05-24\", \"2018-05-25\", \"2018-05-26\", \"2018-05-27\", \"2018-05-28\", \"2018-05-29\", \"2018-05-30\", \"2018-05-31\"], \"y\": [84, 91, 96, 159, 85, 76, 103, 104, 101, 106, 134, 85, 73, 98, 111, 142, 129, 122, 81, 42, 92, 84, 114, 103, 152, 89, 53, 62, 113, 112, 99], \"type\": \"bar\", \"uid\": \"91aae4d2-885a-4d97-9638-e41141b71932\"}], {\"barmode\": \"stack\"}, {\"showLink\": false, \"linkText\": \"Export to plot.ly\", \"plotlyServerURL\": \"https://plot.ly\"}); \n",
       "}\n",
       "});</script><script type=\"text/javascript\">window.addEventListener(\"resize\", function(){if (document.getElementById(\"fdccc0f4-cb22-4f85-9e71-66fe0fba8783\")) {window._Plotly.Plots.resize(document.getElementById(\"fdccc0f4-cb22-4f85-9e71-66fe0fba8783\"));};})</script>"
      ]
     },
     "metadata": {},
     "output_type": "display_data"
    }
   ],
   "source": [
    "data = [trace9]\n",
    "layout = go.Layout(\n",
    "    barmode='stack'\n",
    ")\n",
    "\n",
    "fig = go.Figure(data=data, layout=layout)\n",
    "py.offline.iplot(fig)"
   ]
  },
  {
   "cell_type": "markdown",
   "metadata": {},
   "source": [
    "## Taking a Closer Look at Wednesday May 16, 2018"
   ]
  },
  {
   "cell_type": "code",
   "execution_count": 90,
   "metadata": {},
   "outputs": [
    {
     "name": "stderr",
     "output_type": "stream",
     "text": [
      "/Users/mbpr1/anaconda3/lib/python3.6/site-packages/ipykernel_launcher.py:3: UserWarning:\n",
      "\n",
      "Boolean Series key will be reindexed to match DataFrame index.\n",
      "\n"
     ]
    }
   ],
   "source": [
    "may_mask = (analysis_df['Published Date'].dt.month == 5)\n",
    "\n",
    "hr_00_Fri_df = hr_00_all_df[fri_all_mask]\n",
    "hr_00_Fri_df_count = hr_00_Fri_df['Published Date'].count()"
   ]
  },
  {
   "cell_type": "code",
   "execution_count": 91,
   "metadata": {},
   "outputs": [
    {
     "name": "stderr",
     "output_type": "stream",
     "text": [
      "/Users/mbpr1/anaconda3/lib/python3.6/site-packages/ipykernel_launcher.py:2: UserWarning:\n",
      "\n",
      "Boolean Series key will be reindexed to match DataFrame index.\n",
      "\n",
      "/Users/mbpr1/anaconda3/lib/python3.6/site-packages/ipykernel_launcher.py:5: UserWarning:\n",
      "\n",
      "Boolean Series key will be reindexed to match DataFrame index.\n",
      "\n",
      "/Users/mbpr1/anaconda3/lib/python3.6/site-packages/ipykernel_launcher.py:8: UserWarning:\n",
      "\n",
      "Boolean Series key will be reindexed to match DataFrame index.\n",
      "\n",
      "/Users/mbpr1/anaconda3/lib/python3.6/site-packages/ipykernel_launcher.py:11: UserWarning:\n",
      "\n",
      "Boolean Series key will be reindexed to match DataFrame index.\n",
      "\n",
      "/Users/mbpr1/anaconda3/lib/python3.6/site-packages/ipykernel_launcher.py:14: UserWarning:\n",
      "\n",
      "Boolean Series key will be reindexed to match DataFrame index.\n",
      "\n",
      "/Users/mbpr1/anaconda3/lib/python3.6/site-packages/ipykernel_launcher.py:17: UserWarning:\n",
      "\n",
      "Boolean Series key will be reindexed to match DataFrame index.\n",
      "\n",
      "/Users/mbpr1/anaconda3/lib/python3.6/site-packages/ipykernel_launcher.py:20: UserWarning:\n",
      "\n",
      "Boolean Series key will be reindexed to match DataFrame index.\n",
      "\n",
      "/Users/mbpr1/anaconda3/lib/python3.6/site-packages/ipykernel_launcher.py:23: UserWarning:\n",
      "\n",
      "Boolean Series key will be reindexed to match DataFrame index.\n",
      "\n",
      "/Users/mbpr1/anaconda3/lib/python3.6/site-packages/ipykernel_launcher.py:26: UserWarning:\n",
      "\n",
      "Boolean Series key will be reindexed to match DataFrame index.\n",
      "\n",
      "/Users/mbpr1/anaconda3/lib/python3.6/site-packages/ipykernel_launcher.py:29: UserWarning:\n",
      "\n",
      "Boolean Series key will be reindexed to match DataFrame index.\n",
      "\n",
      "/Users/mbpr1/anaconda3/lib/python3.6/site-packages/ipykernel_launcher.py:32: UserWarning:\n",
      "\n",
      "Boolean Series key will be reindexed to match DataFrame index.\n",
      "\n",
      "/Users/mbpr1/anaconda3/lib/python3.6/site-packages/ipykernel_launcher.py:35: UserWarning:\n",
      "\n",
      "Boolean Series key will be reindexed to match DataFrame index.\n",
      "\n",
      "/Users/mbpr1/anaconda3/lib/python3.6/site-packages/ipykernel_launcher.py:38: UserWarning:\n",
      "\n",
      "Boolean Series key will be reindexed to match DataFrame index.\n",
      "\n",
      "/Users/mbpr1/anaconda3/lib/python3.6/site-packages/ipykernel_launcher.py:41: UserWarning:\n",
      "\n",
      "Boolean Series key will be reindexed to match DataFrame index.\n",
      "\n",
      "/Users/mbpr1/anaconda3/lib/python3.6/site-packages/ipykernel_launcher.py:44: UserWarning:\n",
      "\n",
      "Boolean Series key will be reindexed to match DataFrame index.\n",
      "\n",
      "/Users/mbpr1/anaconda3/lib/python3.6/site-packages/ipykernel_launcher.py:47: UserWarning:\n",
      "\n",
      "Boolean Series key will be reindexed to match DataFrame index.\n",
      "\n",
      "/Users/mbpr1/anaconda3/lib/python3.6/site-packages/ipykernel_launcher.py:50: UserWarning:\n",
      "\n",
      "Boolean Series key will be reindexed to match DataFrame index.\n",
      "\n",
      "/Users/mbpr1/anaconda3/lib/python3.6/site-packages/ipykernel_launcher.py:53: UserWarning:\n",
      "\n",
      "Boolean Series key will be reindexed to match DataFrame index.\n",
      "\n",
      "/Users/mbpr1/anaconda3/lib/python3.6/site-packages/ipykernel_launcher.py:56: UserWarning:\n",
      "\n",
      "Boolean Series key will be reindexed to match DataFrame index.\n",
      "\n",
      "/Users/mbpr1/anaconda3/lib/python3.6/site-packages/ipykernel_launcher.py:59: UserWarning:\n",
      "\n",
      "Boolean Series key will be reindexed to match DataFrame index.\n",
      "\n",
      "/Users/mbpr1/anaconda3/lib/python3.6/site-packages/ipykernel_launcher.py:62: UserWarning:\n",
      "\n",
      "Boolean Series key will be reindexed to match DataFrame index.\n",
      "\n",
      "/Users/mbpr1/anaconda3/lib/python3.6/site-packages/ipykernel_launcher.py:65: UserWarning:\n",
      "\n",
      "Boolean Series key will be reindexed to match DataFrame index.\n",
      "\n",
      "/Users/mbpr1/anaconda3/lib/python3.6/site-packages/ipykernel_launcher.py:68: UserWarning:\n",
      "\n",
      "Boolean Series key will be reindexed to match DataFrame index.\n",
      "\n",
      "/Users/mbpr1/anaconda3/lib/python3.6/site-packages/ipykernel_launcher.py:71: UserWarning:\n",
      "\n",
      "Boolean Series key will be reindexed to match DataFrame index.\n",
      "\n"
     ]
    }
   ],
   "source": [
    "# Filter by Hour and Day - Wednesday, May 16\n",
    "hr_00_Wed_df = hr_00_all_df[wed_all_mask]\n",
    "hr_00_Wed_16_df = hr_00_Wed_df['Published Date'].dt.day == 16\n",
    "hr_00_Wed_16_df_count = hr_00_Wed_16_df.count()\n",
    "hr_01_Wed_df = hr_01_all_df[wed_all_mask]\n",
    "hr_01_Wed_16_df = hr_01_Wed_df['Published Date'].dt.day == 16\n",
    "hr_01_Wed_16_df_count = hr_01_Wed_16_df.count()\n",
    "hr_02_Wed_df = hr_02_all_df[wed_all_mask]\n",
    "hr_02_Wed_16_df = hr_02_Wed_df['Published Date'].dt.day == 16\n",
    "hr_02_Wed_16_df_count = hr_02_Wed_16_df.count()\n",
    "hr_03_Wed_df = hr_03_all_df[wed_all_mask]\n",
    "hr_03_Wed_16_df = hr_03_Wed_df['Published Date'].dt.day == 16\n",
    "hr_03_Wed_16_df_count = hr_03_Wed_16_df.count()\n",
    "hr_04_Wed_df = hr_04_all_df[wed_all_mask]\n",
    "hr_04_Wed_16_df = hr_04_Wed_df['Published Date'].dt.day == 16\n",
    "hr_04_Wed_16_df_count = hr_04_Wed_16_df.count()\n",
    "hr_05_Wed_df = hr_05_all_df[wed_all_mask]\n",
    "hr_05_Wed_16_df = hr_05_Wed_df['Published Date'].dt.day == 16\n",
    "hr_05_Wed_16_df_count = hr_05_Wed_16_df.count()\n",
    "hr_06_Wed_df = hr_06_all_df[wed_all_mask]\n",
    "hr_06_Wed_16_df = hr_06_Wed_df['Published Date'].dt.day == 16\n",
    "hr_06_Wed_16_df_count = hr_06_Wed_16_df.count()\n",
    "hr_07_Wed_df = hr_07_all_df[wed_all_mask]\n",
    "hr_07_Wed_16_df = hr_07_Wed_df['Published Date'].dt.day == 16\n",
    "hr_07_Wed_16_df_count = hr_07_Wed_16_df.count()\n",
    "hr_08_Wed_df = hr_08_all_df[wed_all_mask]\n",
    "hr_08_Wed_16_df = hr_08_Wed_df['Published Date'].dt.day == 16\n",
    "hr_08_Wed_16_df_count = hr_08_Wed_16_df.count()\n",
    "hr_09_Wed_df = hr_09_all_df[wed_all_mask]\n",
    "hr_09_Wed_16_df = hr_09_Wed_df['Published Date'].dt.day == 16\n",
    "hr_09_Wed_16_df_count = hr_09_Wed_16_df.count()\n",
    "hr_10_Wed_df = hr_10_all_df[wed_all_mask]\n",
    "hr_10_Wed_16_df = hr_10_Wed_df['Published Date'].dt.day == 16\n",
    "hr_10_Wed_16_df_count = hr_10_Wed_16_df.count()\n",
    "hr_11_Wed_df = hr_11_all_df[wed_all_mask]\n",
    "hr_11_Wed_16_df = hr_11_Wed_df['Published Date'].dt.day == 16\n",
    "hr_11_Wed_16_df_count = hr_11_Wed_16_df.count()\n",
    "hr_12_Wed_df = hr_12_all_df[wed_all_mask]\n",
    "hr_12_Wed_16_df = hr_12_Wed_df['Published Date'].dt.day == 16\n",
    "hr_12_Wed_16_df_count = hr_12_Wed_16_df.count()\n",
    "hr_13_Wed_df = hr_13_all_df[wed_all_mask]\n",
    "hr_13_Wed_16_df = hr_13_Wed_df['Published Date'].dt.day == 16\n",
    "hr_13_Wed_16_df_count = hr_13_Wed_16_df.count()\n",
    "hr_14_Wed_df = hr_14_all_df[wed_all_mask]\n",
    "hr_14_Wed_16_df = hr_14_Wed_df['Published Date'].dt.day == 16\n",
    "hr_14_Wed_16_df_count = hr_14_Wed_16_df.count()\n",
    "hr_15_Wed_df = hr_15_all_df[wed_all_mask]\n",
    "hr_15_Wed_16_df = hr_15_Wed_df['Published Date'].dt.day == 16\n",
    "hr_15_Wed_16_df_count = hr_15_Wed_16_df.count()\n",
    "hr_16_Wed_df = hr_16_all_df[wed_all_mask]\n",
    "hr_16_Wed_16_df = hr_16_Wed_df['Published Date'].dt.day == 16\n",
    "hr_16_Wed_16_df_count = hr_16_Wed_16_df.count()\n",
    "hr_17_Wed_df = hr_17_all_df[wed_all_mask]\n",
    "hr_17_Wed_16_df = hr_17_Wed_df['Published Date'].dt.day == 16\n",
    "hr_17_Wed_16_df_count = hr_17_Wed_16_df.count()\n",
    "hr_18_Wed_df = hr_18_all_df[wed_all_mask]\n",
    "hr_18_Wed_16_df = hr_18_Wed_df['Published Date'].dt.day == 16\n",
    "hr_18_Wed_16_df_count = hr_18_Wed_16_df.count()\n",
    "hr_19_Wed_df = hr_19_all_df[wed_all_mask]\n",
    "hr_19_Wed_16_df = hr_19_Wed_df['Published Date'].dt.day == 16\n",
    "hr_19_Wed_16_df_count = hr_19_Wed_16_df.count()\n",
    "hr_20_Wed_df = hr_20_all_df[wed_all_mask]\n",
    "hr_20_Wed_16_df = hr_20_Wed_df['Published Date'].dt.day == 16\n",
    "hr_20_Wed_16_df_count = hr_20_Wed_16_df.count()\n",
    "hr_21_Wed_df = hr_21_all_df[wed_all_mask]\n",
    "hr_21_Wed_16_df = hr_21_Wed_df['Published Date'].dt.day == 16\n",
    "hr_21_Wed_16_df_count = hr_21_Wed_16_df.count()\n",
    "hr_22_Wed_df = hr_22_all_df[wed_all_mask]\n",
    "hr_22_Wed_16_df = hr_22_Wed_df['Published Date'].dt.day == 16\n",
    "hr_22_Wed_16_df_count = hr_22_Wed_16_df.count()\n",
    "hr_23_Wed_df = hr_23_all_df[wed_all_mask]\n",
    "hr_23_Wed_16_df = hr_23_Wed_df['Published Date'].dt.day == 16\n",
    "hr_23_Wed_16_df_count = hr_23_Wed_16_df.count()"
   ]
  },
  {
   "cell_type": "code",
   "execution_count": 92,
   "metadata": {},
   "outputs": [],
   "source": [
    "trace10 = go.Bar(\n",
    "    x=[\n",
    "    \"0000\", \"0100\", \"0200\", \"0300\", \"0400\", \"0500\", \"0600\", \"0700\", \"0800\", \"0900\", \"1000\", \"1100\",\n",
    "    \"1200\", \"1300\", \"1400\", \"1500\", \"1600\", \"1700\", \"1800\", \"1900\", \"2000\", \"2100\", \"2200\", \"2300\"\n",
    "      ],\n",
    "    y=[\n",
    "    hr_00_Wed_16_df_count, hr_01_Wed_16_df_count, hr_02_Wed_16_df_count, hr_03_Wed_16_df_count, hr_04_Wed_16_df_count, hr_05_Wed_16_df_count,\n",
    "    hr_06_Wed_16_df_count, hr_07_Wed_16_df_count, hr_08_Wed_16_df_count, hr_09_Wed_16_df_count, hr_10_Wed_16_df_count, hr_11_Wed_16_df_count,\n",
    "    hr_12_Wed_16_df_count, hr_13_Wed_16_df_count, hr_14_Wed_16_df_count, hr_15_Wed_16_df_count, hr_16_Wed_16_df_count, hr_17_Wed_16_df_count,\n",
    "    hr_18_Wed_16_df_count, hr_19_Wed_16_df_count, hr_20_Wed_16_df_count, hr_21_Wed_16_df_count, hr_22_Wed_16_df_count, hr_23_Wed_16_df_count,        \n",
    "],\n",
    "    name='Accidents by Hour on May 16, 2018'\n",
    ")"
   ]
  },
  {
   "cell_type": "code",
   "execution_count": 93,
   "metadata": {},
   "outputs": [
    {
     "data": {
      "application/vnd.plotly.v1+json": {
       "config": {
        "linkText": "Export to plot.ly",
        "plotlyServerURL": "https://plot.ly",
        "showLink": false
       },
       "data": [
        {
         "name": "Accidents by Hour on May 16, 2018",
         "type": "bar",
         "uid": "2e0ab992-9aaa-4179-b0ad-3f7cbbe2ae64",
         "x": [
          "0000",
          "0100",
          "0200",
          "0300",
          "0400",
          "0500",
          "0600",
          "0700",
          "0800",
          "0900",
          "1000",
          "1100",
          "1200",
          "1300",
          "1400",
          "1500",
          "1600",
          "1700",
          "1800",
          "1900",
          "2000",
          "2100",
          "2200",
          "2300"
         ],
         "y": [
          172,
          147,
          86,
          83,
          62,
          56,
          102,
          166,
          163,
          121,
          126,
          174,
          307,
          323,
          261,
          280,
          356,
          442,
          335,
          274,
          251,
          293,
          332,
          253
         ]
        }
       ],
       "layout": {
        "barmode": "stack"
       }
      },
      "text/html": [
       "<div id=\"697c2249-3b43-44a3-8565-ae8b789583fd\" style=\"height: 525px; width: 100%;\" class=\"plotly-graph-div\"></div><script type=\"text/javascript\">require([\"plotly\"], function(Plotly) { window.PLOTLYENV=window.PLOTLYENV || {};window.PLOTLYENV.BASE_URL=\"https://plot.ly\";\n",
       "if (document.getElementById(\"697c2249-3b43-44a3-8565-ae8b789583fd\")) {\n",
       "    Plotly.newPlot(\"697c2249-3b43-44a3-8565-ae8b789583fd\", [{\"name\": \"Accidents by Hour on May 16, 2018\", \"x\": [\"0000\", \"0100\", \"0200\", \"0300\", \"0400\", \"0500\", \"0600\", \"0700\", \"0800\", \"0900\", \"1000\", \"1100\", \"1200\", \"1300\", \"1400\", \"1500\", \"1600\", \"1700\", \"1800\", \"1900\", \"2000\", \"2100\", \"2200\", \"2300\"], \"y\": [172, 147, 86, 83, 62, 56, 102, 166, 163, 121, 126, 174, 307, 323, 261, 280, 356, 442, 335, 274, 251, 293, 332, 253], \"type\": \"bar\", \"uid\": \"2e0ab992-9aaa-4179-b0ad-3f7cbbe2ae64\"}], {\"barmode\": \"stack\"}, {\"showLink\": false, \"linkText\": \"Export to plot.ly\", \"plotlyServerURL\": \"https://plot.ly\"}); \n",
       "}\n",
       "});</script><script type=\"text/javascript\">window.addEventListener(\"resize\", function(){if (document.getElementById(\"697c2249-3b43-44a3-8565-ae8b789583fd\")) {window._Plotly.Plots.resize(document.getElementById(\"697c2249-3b43-44a3-8565-ae8b789583fd\"));};})</script>"
      ],
      "text/vnd.plotly.v1+html": [
       "<div id=\"697c2249-3b43-44a3-8565-ae8b789583fd\" style=\"height: 525px; width: 100%;\" class=\"plotly-graph-div\"></div><script type=\"text/javascript\">require([\"plotly\"], function(Plotly) { window.PLOTLYENV=window.PLOTLYENV || {};window.PLOTLYENV.BASE_URL=\"https://plot.ly\";\n",
       "if (document.getElementById(\"697c2249-3b43-44a3-8565-ae8b789583fd\")) {\n",
       "    Plotly.newPlot(\"697c2249-3b43-44a3-8565-ae8b789583fd\", [{\"name\": \"Accidents by Hour on May 16, 2018\", \"x\": [\"0000\", \"0100\", \"0200\", \"0300\", \"0400\", \"0500\", \"0600\", \"0700\", \"0800\", \"0900\", \"1000\", \"1100\", \"1200\", \"1300\", \"1400\", \"1500\", \"1600\", \"1700\", \"1800\", \"1900\", \"2000\", \"2100\", \"2200\", \"2300\"], \"y\": [172, 147, 86, 83, 62, 56, 102, 166, 163, 121, 126, 174, 307, 323, 261, 280, 356, 442, 335, 274, 251, 293, 332, 253], \"type\": \"bar\", \"uid\": \"2e0ab992-9aaa-4179-b0ad-3f7cbbe2ae64\"}], {\"barmode\": \"stack\"}, {\"showLink\": false, \"linkText\": \"Export to plot.ly\", \"plotlyServerURL\": \"https://plot.ly\"}); \n",
       "}\n",
       "});</script><script type=\"text/javascript\">window.addEventListener(\"resize\", function(){if (document.getElementById(\"697c2249-3b43-44a3-8565-ae8b789583fd\")) {window._Plotly.Plots.resize(document.getElementById(\"697c2249-3b43-44a3-8565-ae8b789583fd\"));};})</script>"
      ]
     },
     "metadata": {},
     "output_type": "display_data"
    }
   ],
   "source": [
    "data = [trace10]\n",
    "layout = go.Layout(\n",
    "    barmode='stack'\n",
    ")\n",
    "\n",
    "fig = go.Figure(data=data, layout=layout)\n",
    "py.offline.iplot(fig)"
   ]
  },
  {
   "cell_type": "markdown",
   "metadata": {},
   "source": [
    "## Accidents by Day of the Week - October 2018"
   ]
  },
  {
   "cell_type": "code",
   "execution_count": 94,
   "metadata": {},
   "outputs": [],
   "source": [
    "oct_mon_df = (mon_all_df['Published Date'].dt.month == 10)\n",
    "oct_tue_df = (tue_all_df['Published Date'].dt.month == 10)\n",
    "oct_wed_df = (wed_all_df['Published Date'].dt.month == 10)\n",
    "oct_thu_df = (thu_all_df['Published Date'].dt.month == 10)\n",
    "oct_fri_df = (fri_all_df['Published Date'].dt.month == 10)\n",
    "oct_sat_df = (sat_all_df['Published Date'].dt.month == 10)\n",
    "oct_sun_df = (sun_all_df['Published Date'].dt.month == 10)\n",
    "oct_mon_count = oct_mon_df.count()\n",
    "oct_tue_count = oct_tue_df.count()\n",
    "oct_wed_count = oct_wed_df.count()\n",
    "oct_thu_count = oct_thu_df.count()\n",
    "oct_fri_count = oct_fri_df.count()\n",
    "oct_sat_count = oct_sat_df.count()\n",
    "oct_sun_count = oct_sun_df.count()\n",
    "# oct_mon_df.count()"
   ]
  },
  {
   "cell_type": "code",
   "execution_count": 95,
   "metadata": {},
   "outputs": [],
   "source": [
    "trace7 = go.Bar(\n",
    "    x=[\"MON\", \"TUE\", \"WED\", \"THU\", \"FRI\", \"SAT\", \"SUN\"],\n",
    "    y=[oct_mon_count, oct_tue_count, oct_wed_count, oct_thu_count, oct_fri_count, oct_sat_count, oct_sun_count],\n",
    "    name='Accidents by Day in October'\n",
    ")"
   ]
  },
  {
   "cell_type": "code",
   "execution_count": 96,
   "metadata": {},
   "outputs": [
    {
     "data": {
      "application/vnd.plotly.v1+json": {
       "config": {
        "linkText": "Export to plot.ly",
        "plotlyServerURL": "https://plot.ly",
        "showLink": false
       },
       "data": [
        {
         "name": "Accidents by Day in October",
         "type": "bar",
         "uid": "591566d8-cdb0-46d6-b6e3-fd15b74b87cf",
         "x": [
          "MON",
          "TUE",
          "WED",
          "THU",
          "FRI",
          "SAT",
          "SUN"
         ],
         "y": [
          5043,
          5148,
          5165,
          5202,
          5745,
          4483,
          3595
         ]
        }
       ],
       "layout": {
        "barmode": "stack"
       }
      },
      "text/html": [
       "<div id=\"3cdd44d4-ed4f-46d9-bc22-f06c6fb52ff6\" style=\"height: 525px; width: 100%;\" class=\"plotly-graph-div\"></div><script type=\"text/javascript\">require([\"plotly\"], function(Plotly) { window.PLOTLYENV=window.PLOTLYENV || {};window.PLOTLYENV.BASE_URL=\"https://plot.ly\";\n",
       "if (document.getElementById(\"3cdd44d4-ed4f-46d9-bc22-f06c6fb52ff6\")) {\n",
       "    Plotly.newPlot(\"3cdd44d4-ed4f-46d9-bc22-f06c6fb52ff6\", [{\"name\": \"Accidents by Day in October\", \"x\": [\"MON\", \"TUE\", \"WED\", \"THU\", \"FRI\", \"SAT\", \"SUN\"], \"y\": [5043, 5148, 5165, 5202, 5745, 4483, 3595], \"type\": \"bar\", \"uid\": \"591566d8-cdb0-46d6-b6e3-fd15b74b87cf\"}], {\"barmode\": \"stack\"}, {\"showLink\": false, \"linkText\": \"Export to plot.ly\", \"plotlyServerURL\": \"https://plot.ly\"}); \n",
       "}\n",
       "});</script><script type=\"text/javascript\">window.addEventListener(\"resize\", function(){if (document.getElementById(\"3cdd44d4-ed4f-46d9-bc22-f06c6fb52ff6\")) {window._Plotly.Plots.resize(document.getElementById(\"3cdd44d4-ed4f-46d9-bc22-f06c6fb52ff6\"));};})</script>"
      ],
      "text/vnd.plotly.v1+html": [
       "<div id=\"3cdd44d4-ed4f-46d9-bc22-f06c6fb52ff6\" style=\"height: 525px; width: 100%;\" class=\"plotly-graph-div\"></div><script type=\"text/javascript\">require([\"plotly\"], function(Plotly) { window.PLOTLYENV=window.PLOTLYENV || {};window.PLOTLYENV.BASE_URL=\"https://plot.ly\";\n",
       "if (document.getElementById(\"3cdd44d4-ed4f-46d9-bc22-f06c6fb52ff6\")) {\n",
       "    Plotly.newPlot(\"3cdd44d4-ed4f-46d9-bc22-f06c6fb52ff6\", [{\"name\": \"Accidents by Day in October\", \"x\": [\"MON\", \"TUE\", \"WED\", \"THU\", \"FRI\", \"SAT\", \"SUN\"], \"y\": [5043, 5148, 5165, 5202, 5745, 4483, 3595], \"type\": \"bar\", \"uid\": \"591566d8-cdb0-46d6-b6e3-fd15b74b87cf\"}], {\"barmode\": \"stack\"}, {\"showLink\": false, \"linkText\": \"Export to plot.ly\", \"plotlyServerURL\": \"https://plot.ly\"}); \n",
       "}\n",
       "});</script><script type=\"text/javascript\">window.addEventListener(\"resize\", function(){if (document.getElementById(\"3cdd44d4-ed4f-46d9-bc22-f06c6fb52ff6\")) {window._Plotly.Plots.resize(document.getElementById(\"3cdd44d4-ed4f-46d9-bc22-f06c6fb52ff6\"));};})</script>"
      ]
     },
     "metadata": {},
     "output_type": "display_data"
    }
   ],
   "source": [
    "data = [trace7]\n",
    "layout = go.Layout(\n",
    "    barmode='stack'\n",
    ")\n",
    "\n",
    "fig = go.Figure(data=data, layout=layout)\n",
    "py.offline.iplot(fig)"
   ]
  },
  {
   "cell_type": "code",
   "execution_count": null,
   "metadata": {},
   "outputs": [],
   "source": []
  },
  {
   "cell_type": "code",
   "execution_count": null,
   "metadata": {},
   "outputs": [],
   "source": []
  },
  {
   "cell_type": "code",
   "execution_count": 97,
   "metadata": {},
   "outputs": [],
   "source": [
    "# code to take the lat and long and make a list for gmap\n",
    "\n",
    "aus_lat = df_from_csv_clean[\"Latitude\"]    #series\n",
    "aus_long = df_from_csv_clean[\"Longitude\"]    #series\n",
    "\n",
    "aus_lat_subset = aus_lat.head(1000)   #make a subset to test\n",
    "aus_long_subset = aus_long.head(1000)  # make a subset to test\n",
    "\n",
    "#print(type(aus_lat_subset))     #its a series\n",
    "#print(aus_lat_subset[0])        #whats the value?\n",
    "#print(type(aus_lat_subset[0]))    #its a string\n",
    "\n",
    "#print(aus_lat_subset)   #show the whole lat subset\n",
    "\n",
    "#using zip function to zip the lat and long together to a list with each element being a tuple\n",
    "aus_lat_long_list_subset = list(zip(aus_lat_subset, aus_long_subset))\n",
    "aus_lat_long_list = list(zip(aus_lat, aus_long))\n",
    "\n",
    "#print(aus_lat_long_list_subset)\n",
    "#type(aus_lat_long_list_subset[0])    #each element is a tuple...yay!"
   ]
  },
  {
   "cell_type": "code",
   "execution_count": null,
   "metadata": {},
   "outputs": [],
   "source": []
  },
  {
   "cell_type": "code",
   "execution_count": 98,
   "metadata": {},
   "outputs": [],
   "source": [
    "# Customize the size of the figure      was   400 x 300\n",
    "figure_layout = {\n",
    "    'width': '800px',\n",
    "    'height': '600px',\n",
    "    'border': '1px solid black',\n",
    "    'padding': '1px',\n",
    "    'margin': '0 auto 0 auto'\n",
    "}\n",
    "fig = gmaps.figure(layout=figure_layout)"
   ]
  },
  {
   "cell_type": "code",
   "execution_count": 99,
   "metadata": {
    "scrolled": true
   },
   "outputs": [
    {
     "data": {
      "application/vnd.jupyter.widget-view+json": {
       "model_id": "7e5f298602c6417497fa673ce90b6179",
       "version_major": 2,
       "version_minor": 0
      },
      "text/plain": [
       "Figure(layout=FigureLayout(border='1px solid black', height='600px', margin='0 auto 0 auto', padding='1px', wi…"
      ]
     },
     "metadata": {},
     "output_type": "display_data"
    }
   ],
   "source": [
    "# Assign the marker layer to a variable  ..      DOING THE SUBSET HERE... TAKES ABOUT 10sec  \n",
    "\n",
    "#help(gmaps.marker_layer)\n",
    "\n",
    "markers = gmaps.marker_layer(aus_lat_long_list_subset)\n",
    "# Add the layer to the map\n",
    "fig.add_layer(markers)\n",
    "fig"
   ]
  },
  {
   "cell_type": "code",
   "execution_count": 100,
   "metadata": {},
   "outputs": [],
   "source": [
    "#help(gmaps.marker_layer)\n",
    "#extracting the marker image is a bit different than plt.savefig....basically\n",
    "#gmaps only lets you save the .html  OR  you can manually dload the fig \n",
    "#within the display frame\n",
    "#per https://jupyter-gmaps.readthedocs.io/en/latest/export.html\n",
    "#\n",
    "#to export:\n",
    "#from ipywidgets.embed import embed_minimal_html\n",
    "#embed_minimal_html('exported_filename_here.html', views=[fig])\n",
    "#\n",
    "#to open the file:\n",
    "#python -m http.server 8080\n",
    "#Navigate to http://0.0.0.0:8080/exported_filename.html and you should see the export!\n"
   ]
  },
  {
   "cell_type": "code",
   "execution_count": null,
   "metadata": {},
   "outputs": [],
   "source": []
  },
  {
   "cell_type": "code",
   "execution_count": null,
   "metadata": {},
   "outputs": [],
   "source": []
  },
  {
   "cell_type": "code",
   "execution_count": null,
   "metadata": {},
   "outputs": [],
   "source": []
  },
  {
   "cell_type": "code",
   "execution_count": null,
   "metadata": {},
   "outputs": [],
   "source": []
  },
  {
   "cell_type": "code",
   "execution_count": 102,
   "metadata": {},
   "outputs": [],
   "source": [
    "#saving the marker image is a bit different than plt.savefig....basically\n",
    "#gmaps only lets you save the .html  OR  you can manually dload the fig \n",
    "#within the display frame\n",
    "#per https://jupyter-gmaps.readthedocs.io/en/latest/export.html\n",
    "#\n",
    "#to export:\n",
    "#from ipywidgets.embed import embed_minimal_html\n",
    "#embed_minimal_html('exported_filename_here.html', views=[fig])\n",
    "#\n",
    "#to open the file:\n",
    "#python -m http.server 8080\n",
    "#Navigate to http://0.0.0.0:8080/exported_filename.html and you should see the export!"
   ]
  },
  {
   "cell_type": "code",
   "execution_count": null,
   "metadata": {},
   "outputs": [],
   "source": [
    "locations = \n",
    "fig = gmaps.figure(map_type='HYBRID')\n",
    "heatmap_layer = gmaps.heatmap_layer(locations)\n",
    "fig.add_layer(heatmap_layer)\n",
    "fig"
   ]
  },
  {
   "cell_type": "code",
   "execution_count": null,
   "metadata": {},
   "outputs": [],
   "source": []
  },
  {
   "cell_type": "code",
   "execution_count": 103,
   "metadata": {},
   "outputs": [
    {
     "data": {
      "application/vnd.jupyter.widget-view+json": {
       "model_id": "442a1abfb1a3458ab269ccf0610e33fd",
       "version_major": 2,
       "version_minor": 0
      },
      "text/plain": [
       "Figure(layout=FigureLayout(height='420px'))"
      ]
     },
     "metadata": {},
     "output_type": "display_data"
    }
   ],
   "source": [
    "fig = gmaps.figure(map_type='HYBRID')\n",
    "locations = non_rush_df[['Latitude', 'Longitude']]\n",
    "heatmap_layer = gmaps.heatmap_layer(locations)\n",
    "fig.add_layer(heatmap_layer)\n",
    "fig"
   ]
  },
  {
   "cell_type": "code",
   "execution_count": 104,
   "metadata": {},
   "outputs": [
    {
     "data": {
      "application/vnd.jupyter.widget-view+json": {
       "model_id": "0895309d7ccb4175829f77c55dbc8623",
       "version_major": 2,
       "version_minor": 0
      },
      "text/plain": [
       "Figure(layout=FigureLayout(height='420px'))"
      ]
     },
     "metadata": {},
     "output_type": "display_data"
    }
   ],
   "source": [
    "fig = gmaps.figure(map_type='HYBRID')\n",
    "locations = rush_hr_df[['Latitude', 'Longitude']]\n",
    "heatmap_layer = gmaps.heatmap_layer(locations)\n",
    "fig.add_layer(heatmap_layer)\n",
    "fig"
   ]
  },
  {
   "cell_type": "code",
   "execution_count": 106,
   "metadata": {},
   "outputs": [
    {
     "data": {
      "application/vnd.jupyter.widget-view+json": {
       "model_id": "e857ed084903452fb6e779913aad16be",
       "version_major": 2,
       "version_minor": 0
      },
      "text/plain": [
       "Figure(layout=FigureLayout(height='420px'))"
      ]
     },
     "metadata": {},
     "output_type": "display_data"
    }
   ],
   "source": [
    "fig = gmaps.figure(map_type='HYBRID')\n",
    "locations = mon_all_df[['Latitude', 'Longitude']]\n",
    "heatmap_layer = gmaps.heatmap_layer(locations)\n",
    "fig.add_layer(heatmap_layer)\n",
    "fig"
   ]
  },
  {
   "cell_type": "code",
   "execution_count": 107,
   "metadata": {},
   "outputs": [
    {
     "data": {
      "application/vnd.jupyter.widget-view+json": {
       "model_id": "dfaf4834f0fe42b284698bc353f90c67",
       "version_major": 2,
       "version_minor": 0
      },
      "text/plain": [
       "Figure(layout=FigureLayout(height='420px'))"
      ]
     },
     "metadata": {},
     "output_type": "display_data"
    }
   ],
   "source": [
    "fig = gmaps.figure(map_type='HYBRID')\n",
    "locations = tue_all_df[['Latitude', 'Longitude']]\n",
    "heatmap_layer = gmaps.heatmap_layer(locations)\n",
    "fig.add_layer(heatmap_layer)\n",
    "fig"
   ]
  },
  {
   "cell_type": "code",
   "execution_count": 108,
   "metadata": {},
   "outputs": [
    {
     "data": {
      "application/vnd.jupyter.widget-view+json": {
       "model_id": "f8c8ec4615e7440babb8226e874eb7c7",
       "version_major": 2,
       "version_minor": 0
      },
      "text/plain": [
       "Figure(layout=FigureLayout(height='420px'))"
      ]
     },
     "metadata": {},
     "output_type": "display_data"
    }
   ],
   "source": [
    "fig = gmaps.figure(map_type='HYBRID')\n",
    "locations = wed_all_df[['Latitude', 'Longitude']]\n",
    "heatmap_layer = gmaps.heatmap_layer(locations)\n",
    "fig.add_layer(heatmap_layer)\n",
    "fig"
   ]
  },
  {
   "cell_type": "code",
   "execution_count": 109,
   "metadata": {},
   "outputs": [
    {
     "data": {
      "application/vnd.jupyter.widget-view+json": {
       "model_id": "2c439b74274a44ab9716bbb13faab2f1",
       "version_major": 2,
       "version_minor": 0
      },
      "text/plain": [
       "Figure(layout=FigureLayout(height='420px'))"
      ]
     },
     "metadata": {},
     "output_type": "display_data"
    }
   ],
   "source": [
    "fig = gmaps.figure(map_type='HYBRID')\n",
    "locations = thu_all_df[['Latitude', 'Longitude']]\n",
    "heatmap_layer = gmaps.heatmap_layer(locations)\n",
    "fig.add_layer(heatmap_layer)\n",
    "fig"
   ]
  },
  {
   "cell_type": "code",
   "execution_count": 110,
   "metadata": {},
   "outputs": [
    {
     "data": {
      "application/vnd.jupyter.widget-view+json": {
       "model_id": "e5854370b60441ddae99b5f5e883cb5b",
       "version_major": 2,
       "version_minor": 0
      },
      "text/plain": [
       "Figure(layout=FigureLayout(height='420px'))"
      ]
     },
     "metadata": {},
     "output_type": "display_data"
    }
   ],
   "source": [
    "fig = gmaps.figure(map_type='HYBRID')\n",
    "locations = fri_all_df[['Latitude', 'Longitude']]\n",
    "heatmap_layer = gmaps.heatmap_layer(locations)\n",
    "fig.add_layer(heatmap_layer)\n",
    "fig"
   ]
  },
  {
   "cell_type": "code",
   "execution_count": 111,
   "metadata": {},
   "outputs": [
    {
     "data": {
      "application/vnd.jupyter.widget-view+json": {
       "model_id": "75454429b6ed4fcfaea651251bb14b7d",
       "version_major": 2,
       "version_minor": 0
      },
      "text/plain": [
       "Figure(layout=FigureLayout(height='420px'))"
      ]
     },
     "metadata": {},
     "output_type": "display_data"
    }
   ],
   "source": [
    "fig = gmaps.figure(map_type='HYBRID')\n",
    "locations = sat_all_df[['Latitude', 'Longitude']]\n",
    "heatmap_layer = gmaps.heatmap_layer(locations)\n",
    "fig.add_layer(heatmap_layer)\n",
    "fig"
   ]
  },
  {
   "cell_type": "code",
   "execution_count": 112,
   "metadata": {},
   "outputs": [
    {
     "data": {
      "application/vnd.jupyter.widget-view+json": {
       "model_id": "e8d1d0663e8a424d96360a6c6e835b4d",
       "version_major": 2,
       "version_minor": 0
      },
      "text/plain": [
       "Figure(layout=FigureLayout(height='420px'))"
      ]
     },
     "metadata": {},
     "output_type": "display_data"
    }
   ],
   "source": [
    "fig = gmaps.figure(map_type='HYBRID')\n",
    "locations = sun_all_df[['Latitude', 'Longitude']]\n",
    "heatmap_layer = gmaps.heatmap_layer(locations)\n",
    "fig.add_layer(heatmap_layer)\n",
    "fig"
   ]
  },
  {
   "cell_type": "code",
   "execution_count": 113,
   "metadata": {},
   "outputs": [
    {
     "data": {
      "application/vnd.jupyter.widget-view+json": {
       "model_id": "0414c073528044c6b36c6882b5b7396f",
       "version_major": 2,
       "version_minor": 0
      },
      "text/plain": [
       "Figure(layout=FigureLayout(height='420px'))"
      ]
     },
     "metadata": {},
     "output_type": "display_data"
    }
   ],
   "source": [
    "fig = gmaps.figure(map_type='HYBRID')\n",
    "locations = may_report_df[['Latitude', 'Longitude']]\n",
    "heatmap_layer = gmaps.heatmap_layer(locations)\n",
    "fig.add_layer(heatmap_layer)\n",
    "fig"
   ]
  },
  {
   "cell_type": "code",
   "execution_count": null,
   "metadata": {},
   "outputs": [],
   "source": [
    "may_fri_df"
   ]
  },
  {
   "cell_type": "code",
   "execution_count": 115,
   "metadata": {},
   "outputs": [
    {
     "data": {
      "application/vnd.jupyter.widget-view+json": {
       "model_id": "cf6e674dccc246b5b98652034c2223c1",
       "version_major": 2,
       "version_minor": 0
      },
      "text/plain": [
       "Figure(layout=FigureLayout(height='420px'))"
      ]
     },
     "metadata": {},
     "output_type": "display_data"
    }
   ],
   "source": [
    "fig = gmaps.figure(map_type='HYBRID')\n",
    "locations = may_report2_df[['Latitude', 'Longitude']]\n",
    "heatmap_layer = gmaps.heatmap_layer(locations)\n",
    "fig.add_layer(heatmap_layer)\n",
    "fig"
   ]
  },
  {
   "cell_type": "code",
   "execution_count": 116,
   "metadata": {},
   "outputs": [
    {
     "data": {
      "application/vnd.jupyter.widget-view+json": {
       "model_id": "539375fa8f9941748f321ac0a1bd48d4",
       "version_major": 2,
       "version_minor": 0
      },
      "text/plain": [
       "Figure(layout=FigureLayout(height='420px'))"
      ]
     },
     "metadata": {},
     "output_type": "display_data"
    }
   ],
   "source": [
    "fig = gmaps.figure(map_type='HYBRID')\n",
    "locations = may_report3_df[['Latitude', 'Longitude']]\n",
    "heatmap_layer = gmaps.heatmap_layer(locations)\n",
    "fig.add_layer(heatmap_layer)\n",
    "fig"
   ]
  },
  {
   "cell_type": "code",
   "execution_count": null,
   "metadata": {},
   "outputs": [],
   "source": [
    "fig = gmaps.figure(map_type='HYBRID')\n",
    "locations = may_report3_df[['Latitude', 'Longitude']]\n",
    "heatmap_layer = gmaps.heatmap_layer(locations)\n",
    "fig.add_layer(heatmap_layer)\n",
    "fig"
   ]
  },
  {
   "cell_type": "code",
   "execution_count": 117,
   "metadata": {},
   "outputs": [
    {
     "ename": "KeyError",
     "evalue": "'Crash Urgent'",
     "output_type": "error",
     "traceback": [
      "\u001b[0;31m---------------------------------------------------------------------------\u001b[0m",
      "\u001b[0;31mTypeError\u001b[0m                                 Traceback (most recent call last)",
      "\u001b[0;32m~/anaconda3/lib/python3.6/site-packages/pandas/core/indexes/base.py\u001b[0m in \u001b[0;36mget_value\u001b[0;34m(self, series, key)\u001b[0m\n\u001b[1;32m   3108\u001b[0m             \u001b[0;32mtry\u001b[0m\u001b[0;34m:\u001b[0m\u001b[0;34m\u001b[0m\u001b[0m\n\u001b[0;32m-> 3109\u001b[0;31m                 \u001b[0;32mreturn\u001b[0m \u001b[0mlibindex\u001b[0m\u001b[0;34m.\u001b[0m\u001b[0mget_value_box\u001b[0m\u001b[0;34m(\u001b[0m\u001b[0ms\u001b[0m\u001b[0;34m,\u001b[0m \u001b[0mkey\u001b[0m\u001b[0;34m)\u001b[0m\u001b[0;34m\u001b[0m\u001b[0m\n\u001b[0m\u001b[1;32m   3110\u001b[0m             \u001b[0;32mexcept\u001b[0m \u001b[0mIndexError\u001b[0m\u001b[0;34m:\u001b[0m\u001b[0;34m\u001b[0m\u001b[0m\n",
      "\u001b[0;32mpandas/_libs/index.pyx\u001b[0m in \u001b[0;36mpandas._libs.index.get_value_box\u001b[0;34m()\u001b[0m\n",
      "\u001b[0;32mpandas/_libs/index.pyx\u001b[0m in \u001b[0;36mpandas._libs.index.get_value_box\u001b[0;34m()\u001b[0m\n",
      "\u001b[0;31mTypeError\u001b[0m: 'str' object cannot be interpreted as an integer",
      "\nDuring handling of the above exception, another exception occurred:\n",
      "\u001b[0;31mKeyError\u001b[0m                                  Traceback (most recent call last)",
      "\u001b[0;32m<ipython-input-117-362b08b9bfc6>\u001b[0m in \u001b[0;36m<module>\u001b[0;34m()\u001b[0m\n\u001b[1;32m      7\u001b[0m \u001b[0;34m\u001b[0m\u001b[0m\n\u001b[1;32m      8\u001b[0m \u001b[0;31m#Total # of Sample\u001b[0m\u001b[0;34m\u001b[0m\u001b[0;34m\u001b[0m\u001b[0m\n\u001b[0;32m----> 9\u001b[0;31m \u001b[0mk\u001b[0m\u001b[0;34m=\u001b[0m\u001b[0mx\u001b[0m\u001b[0;34m[\u001b[0m\u001b[0;34m\"Crash Urgent\"\u001b[0m\u001b[0;34m]\u001b[0m\u001b[0;34m+\u001b[0m\u001b[0mx\u001b[0m\u001b[0;34m[\u001b[0m\u001b[0;34m\"Crash Service\"\u001b[0m\u001b[0;34m]\u001b[0m\u001b[0;34m+\u001b[0m\u001b[0mx\u001b[0m\u001b[0;34m[\u001b[0m\u001b[0;34m\"COLLISION\"\u001b[0m\u001b[0;34m]\u001b[0m\u001b[0;34m+\u001b[0m\u001b[0mx\u001b[0m\u001b[0;34m[\u001b[0m\u001b[0;34m\"COLLISION WITH INJURY\"\u001b[0m\u001b[0;34m]\u001b[0m\u001b[0;34m+\u001b[0m\u001b[0mx\u001b[0m\u001b[0;34m[\u001b[0m\u001b[0;34m\"COLLISN/ LVNG SCN\"\u001b[0m\u001b[0;34m]\u001b[0m\u001b[0;34m+\u001b[0m\u001b[0mx\u001b[0m\u001b[0;34m[\u001b[0m\u001b[0;34m\"COLLISION/PRIVATE PROPERTY\"\u001b[0m\u001b[0;34m]\u001b[0m\u001b[0;34m+\u001b[0m\u001b[0mx\u001b[0m\u001b[0;34m[\u001b[0m\u001b[0;34m\"TRAFFIC FATALITY\"\u001b[0m\u001b[0;34m]\u001b[0m\u001b[0;34m\u001b[0m\u001b[0m\n\u001b[0m\u001b[1;32m     10\u001b[0m \u001b[0;34m\u001b[0m\u001b[0m\n\u001b[1;32m     11\u001b[0m \u001b[0;31m#Total population\u001b[0m\u001b[0;34m\u001b[0m\u001b[0;34m\u001b[0m\u001b[0m\n",
      "\u001b[0;32m~/anaconda3/lib/python3.6/site-packages/pandas/core/series.py\u001b[0m in \u001b[0;36m__getitem__\u001b[0;34m(self, key)\u001b[0m\n\u001b[1;32m    764\u001b[0m         \u001b[0mkey\u001b[0m \u001b[0;34m=\u001b[0m \u001b[0mcom\u001b[0m\u001b[0;34m.\u001b[0m\u001b[0m_apply_if_callable\u001b[0m\u001b[0;34m(\u001b[0m\u001b[0mkey\u001b[0m\u001b[0;34m,\u001b[0m \u001b[0mself\u001b[0m\u001b[0;34m)\u001b[0m\u001b[0;34m\u001b[0m\u001b[0m\n\u001b[1;32m    765\u001b[0m         \u001b[0;32mtry\u001b[0m\u001b[0;34m:\u001b[0m\u001b[0;34m\u001b[0m\u001b[0m\n\u001b[0;32m--> 766\u001b[0;31m             \u001b[0mresult\u001b[0m \u001b[0;34m=\u001b[0m \u001b[0mself\u001b[0m\u001b[0;34m.\u001b[0m\u001b[0mindex\u001b[0m\u001b[0;34m.\u001b[0m\u001b[0mget_value\u001b[0m\u001b[0;34m(\u001b[0m\u001b[0mself\u001b[0m\u001b[0;34m,\u001b[0m \u001b[0mkey\u001b[0m\u001b[0;34m)\u001b[0m\u001b[0;34m\u001b[0m\u001b[0m\n\u001b[0m\u001b[1;32m    767\u001b[0m \u001b[0;34m\u001b[0m\u001b[0m\n\u001b[1;32m    768\u001b[0m             \u001b[0;32mif\u001b[0m \u001b[0;32mnot\u001b[0m \u001b[0mis_scalar\u001b[0m\u001b[0;34m(\u001b[0m\u001b[0mresult\u001b[0m\u001b[0;34m)\u001b[0m\u001b[0;34m:\u001b[0m\u001b[0;34m\u001b[0m\u001b[0m\n",
      "\u001b[0;32m~/anaconda3/lib/python3.6/site-packages/pandas/core/indexes/base.py\u001b[0m in \u001b[0;36mget_value\u001b[0;34m(self, series, key)\u001b[0m\n\u001b[1;32m   3115\u001b[0m                     \u001b[0;32mraise\u001b[0m \u001b[0mInvalidIndexError\u001b[0m\u001b[0;34m(\u001b[0m\u001b[0mkey\u001b[0m\u001b[0;34m)\u001b[0m\u001b[0;34m\u001b[0m\u001b[0m\n\u001b[1;32m   3116\u001b[0m                 \u001b[0;32melse\u001b[0m\u001b[0;34m:\u001b[0m\u001b[0;34m\u001b[0m\u001b[0m\n\u001b[0;32m-> 3117\u001b[0;31m                     \u001b[0;32mraise\u001b[0m \u001b[0me1\u001b[0m\u001b[0;34m\u001b[0m\u001b[0m\n\u001b[0m\u001b[1;32m   3118\u001b[0m             \u001b[0;32mexcept\u001b[0m \u001b[0mException\u001b[0m\u001b[0;34m:\u001b[0m  \u001b[0;31m# pragma: no cover\u001b[0m\u001b[0;34m\u001b[0m\u001b[0m\n\u001b[1;32m   3119\u001b[0m                 \u001b[0;32mraise\u001b[0m \u001b[0me1\u001b[0m\u001b[0;34m\u001b[0m\u001b[0m\n",
      "\u001b[0;32m~/anaconda3/lib/python3.6/site-packages/pandas/core/indexes/base.py\u001b[0m in \u001b[0;36mget_value\u001b[0;34m(self, series, key)\u001b[0m\n\u001b[1;32m   3101\u001b[0m         \u001b[0;32mtry\u001b[0m\u001b[0;34m:\u001b[0m\u001b[0;34m\u001b[0m\u001b[0m\n\u001b[1;32m   3102\u001b[0m             return self._engine.get_value(s, k,\n\u001b[0;32m-> 3103\u001b[0;31m                                           tz=getattr(series.dtype, 'tz', None))\n\u001b[0m\u001b[1;32m   3104\u001b[0m         \u001b[0;32mexcept\u001b[0m \u001b[0mKeyError\u001b[0m \u001b[0;32mas\u001b[0m \u001b[0me1\u001b[0m\u001b[0;34m:\u001b[0m\u001b[0;34m\u001b[0m\u001b[0m\n\u001b[1;32m   3105\u001b[0m             \u001b[0;32mif\u001b[0m \u001b[0mlen\u001b[0m\u001b[0;34m(\u001b[0m\u001b[0mself\u001b[0m\u001b[0;34m)\u001b[0m \u001b[0;34m>\u001b[0m \u001b[0;36m0\u001b[0m \u001b[0;32mand\u001b[0m \u001b[0mself\u001b[0m\u001b[0;34m.\u001b[0m\u001b[0minferred_type\u001b[0m \u001b[0;32min\u001b[0m \u001b[0;34m[\u001b[0m\u001b[0;34m'integer'\u001b[0m\u001b[0;34m,\u001b[0m \u001b[0;34m'boolean'\u001b[0m\u001b[0;34m]\u001b[0m\u001b[0;34m:\u001b[0m\u001b[0;34m\u001b[0m\u001b[0m\n",
      "\u001b[0;32mpandas/_libs/index.pyx\u001b[0m in \u001b[0;36mpandas._libs.index.IndexEngine.get_value\u001b[0;34m()\u001b[0m\n",
      "\u001b[0;32mpandas/_libs/index.pyx\u001b[0m in \u001b[0;36mpandas._libs.index.IndexEngine.get_value\u001b[0;34m()\u001b[0m\n",
      "\u001b[0;32mpandas/_libs/index.pyx\u001b[0m in \u001b[0;36mpandas._libs.index.IndexEngine.get_loc\u001b[0;34m()\u001b[0m\n",
      "\u001b[0;32mpandas/_libs/hashtable_class_helper.pxi\u001b[0m in \u001b[0;36mpandas._libs.hashtable.PyObjectHashTable.get_item\u001b[0;34m()\u001b[0m\n",
      "\u001b[0;32mpandas/_libs/hashtable_class_helper.pxi\u001b[0m in \u001b[0;36mpandas._libs.hashtable.PyObjectHashTable.get_item\u001b[0;34m()\u001b[0m\n",
      "\u001b[0;31mKeyError\u001b[0m: 'Crash Urgent'"
     ]
    }
   ],
   "source": [
    "import scipy.stats \n",
    "from scipy.stats import poisson\n",
    "import seaborn as sb\n",
    "from IPython.display import display, Math\n",
    "\n",
    "#mu= mean = L * t, where l = k/n, and t = # months\n",
    "\n",
    "#Total # of Sample\n",
    "k=x[\"Crash Urgent\"]+x[\"Crash Service\"]+x[\"COLLISION\"]+x[\"COLLISION WITH INJURY\"]+x[\"COLLISN/ LVNG SCN\"]+x[\"COLLISION/PRIVATE PROPERTY\"]+x[\"TRAFFIC FATALITY\"]\n",
    "\n",
    "#Total population\n",
    "n=int((len(filtered_df)))  #the len of filtered_df = aus_lat_long_list. These observables are independent events.\n",
    "\n",
    "#Defining the time in months\n",
    "t=(latest_date).to_period('M')-(earliest_date).to_period('M')\n",
    "\n",
    "#Computing the mean in Poisson\n",
    "mu=(k/n)*t\n",
    "\n",
    "#Running Poisson\n",
    "model = poisson.rvs(mu=mu, size=k)\n",
    "\n",
    "#Plotting\n",
    "ax = sb.distplot(model,\n",
    "                  kde=True,\n",
    "                  color='green',\n",
    "                  hist_kws={\"linewidth\": 25,'alpha':1})\n",
    "ax.set(xlabel='Poisson', ylabel='Frequency')\n",
    "\n",
    "\n",
    "display(Math(r'Poisson Distribution'))\n",
    "display(Math(r'P\\left( x \\right) = \\frac{{e^{ - \\mu } \\mu ^x }}{{x!}}'))\n",
    "display(Math(r'where:'))\n",
    "display(Math(r'mean: \\mu = \\lambda t'))\n",
    "display(Math(r'\\lambda = \\frac{{k}}{{n}}'))\n",
    "#display(Math(r'ii)t=18 months'))\n",
    "print(f\"mean: {mu}\")"
   ]
  },
  {
   "cell_type": "code",
   "execution_count": null,
   "metadata": {},
   "outputs": [],
   "source": []
  }
 ],
 "metadata": {
  "anaconda-cloud": {},
  "kernelspec": {
   "display_name": "Python 3",
   "language": "python",
   "name": "python3"
  },
  "language_info": {
   "codemirror_mode": {
    "name": "ipython",
    "version": 3
   },
   "file_extension": ".py",
   "mimetype": "text/x-python",
   "name": "python",
   "nbconvert_exporter": "python",
   "pygments_lexer": "ipython3",
   "version": "3.6.5"
  }
 },
 "nbformat": 4,
 "nbformat_minor": 2
}
